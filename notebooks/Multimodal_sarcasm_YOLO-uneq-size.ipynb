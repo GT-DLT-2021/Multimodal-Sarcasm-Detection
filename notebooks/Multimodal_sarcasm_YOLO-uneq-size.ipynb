{
  "nbformat": 4,
  "nbformat_minor": 5,
  "metadata": {
    "kernelspec": {
      "display_name": "Python 3 (ipykernel)",
      "language": "python",
      "name": "python3"
    },
    "language_info": {
      "codemirror_mode": {
        "name": "ipython",
        "version": 3
      },
      "file_extension": ".py",
      "mimetype": "text/x-python",
      "name": "python",
      "nbconvert_exporter": "python",
      "pygments_lexer": "ipython3",
      "version": "3.8.12"
    },
    "colab": {
      "name": "Kópia zápisníka Multimodal_sarcasm-YOLO.ipynb",
      "provenance": [],
      "collapsed_sections": []
    },
    "accelerator": "GPU",
    "widgets": {
      "application/vnd.jupyter.widget-state+json": {
        "7dcc157ca57d47ae9158b50c7d0ca8c7": {
          "model_module": "@jupyter-widgets/controls",
          "model_name": "HBoxModel",
          "model_module_version": "1.5.0",
          "state": {
            "_view_name": "HBoxView",
            "_dom_classes": [],
            "_model_name": "HBoxModel",
            "_view_module": "@jupyter-widgets/controls",
            "_model_module_version": "1.5.0",
            "_view_count": null,
            "_view_module_version": "1.5.0",
            "box_style": "",
            "layout": "IPY_MODEL_d8db9ac1a53a4b1f8834b7ded75c1154",
            "_model_module": "@jupyter-widgets/controls",
            "children": [
              "IPY_MODEL_fc192c9fe319414e86330c223fac813a",
              "IPY_MODEL_f74415388c8f4fc2a120d6a9f9e12104",
              "IPY_MODEL_0e366584ec5f42b0b36b3ddab1a0255c"
            ]
          }
        },
        "d8db9ac1a53a4b1f8834b7ded75c1154": {
          "model_module": "@jupyter-widgets/base",
          "model_name": "LayoutModel",
          "model_module_version": "1.2.0",
          "state": {
            "_view_name": "LayoutView",
            "grid_template_rows": null,
            "right": null,
            "justify_content": null,
            "_view_module": "@jupyter-widgets/base",
            "overflow": null,
            "_model_module_version": "1.2.0",
            "_view_count": null,
            "flex_flow": null,
            "width": null,
            "min_width": null,
            "border": null,
            "align_items": null,
            "bottom": null,
            "_model_module": "@jupyter-widgets/base",
            "top": null,
            "grid_column": null,
            "overflow_y": null,
            "overflow_x": null,
            "grid_auto_flow": null,
            "grid_area": null,
            "grid_template_columns": null,
            "flex": null,
            "_model_name": "LayoutModel",
            "justify_items": null,
            "grid_row": null,
            "max_height": null,
            "align_content": null,
            "visibility": null,
            "align_self": null,
            "height": null,
            "min_height": null,
            "padding": null,
            "grid_auto_rows": null,
            "grid_gap": null,
            "max_width": null,
            "order": null,
            "_view_module_version": "1.2.0",
            "grid_template_areas": null,
            "object_position": null,
            "object_fit": null,
            "grid_auto_columns": null,
            "margin": null,
            "display": null,
            "left": null
          }
        },
        "fc192c9fe319414e86330c223fac813a": {
          "model_module": "@jupyter-widgets/controls",
          "model_name": "HTMLModel",
          "model_module_version": "1.5.0",
          "state": {
            "_view_name": "HTMLView",
            "style": "IPY_MODEL_09ce4dccc69c42c7b25a041d432cdb1a",
            "_dom_classes": [],
            "description": "",
            "_model_name": "HTMLModel",
            "placeholder": "​",
            "_view_module": "@jupyter-widgets/controls",
            "_model_module_version": "1.5.0",
            "value": "Downloading: 100%",
            "_view_count": null,
            "_view_module_version": "1.5.0",
            "description_tooltip": null,
            "_model_module": "@jupyter-widgets/controls",
            "layout": "IPY_MODEL_4a345a09d0aa43ef99b144a3c1427ba7"
          }
        },
        "f74415388c8f4fc2a120d6a9f9e12104": {
          "model_module": "@jupyter-widgets/controls",
          "model_name": "FloatProgressModel",
          "model_module_version": "1.5.0",
          "state": {
            "_view_name": "ProgressView",
            "style": "IPY_MODEL_0cf00cd7f76f47cf95bfe687dc558f70",
            "_dom_classes": [],
            "description": "",
            "_model_name": "FloatProgressModel",
            "bar_style": "success",
            "max": 558,
            "_view_module": "@jupyter-widgets/controls",
            "_model_module_version": "1.5.0",
            "value": 558,
            "_view_count": null,
            "_view_module_version": "1.5.0",
            "orientation": "horizontal",
            "min": 0,
            "description_tooltip": null,
            "_model_module": "@jupyter-widgets/controls",
            "layout": "IPY_MODEL_64c1960ccbe24e3795eec32493790ae3"
          }
        },
        "0e366584ec5f42b0b36b3ddab1a0255c": {
          "model_module": "@jupyter-widgets/controls",
          "model_name": "HTMLModel",
          "model_module_version": "1.5.0",
          "state": {
            "_view_name": "HTMLView",
            "style": "IPY_MODEL_9af0d8d5c9e84b9b878c1727fb39ce10",
            "_dom_classes": [],
            "description": "",
            "_model_name": "HTMLModel",
            "placeholder": "​",
            "_view_module": "@jupyter-widgets/controls",
            "_model_module_version": "1.5.0",
            "value": " 558/558 [00:00&lt;00:00, 18.0kB/s]",
            "_view_count": null,
            "_view_module_version": "1.5.0",
            "description_tooltip": null,
            "_model_module": "@jupyter-widgets/controls",
            "layout": "IPY_MODEL_6ee9298a11884d13894b931e5585aa29"
          }
        },
        "09ce4dccc69c42c7b25a041d432cdb1a": {
          "model_module": "@jupyter-widgets/controls",
          "model_name": "DescriptionStyleModel",
          "model_module_version": "1.5.0",
          "state": {
            "_view_name": "StyleView",
            "_model_name": "DescriptionStyleModel",
            "description_width": "",
            "_view_module": "@jupyter-widgets/base",
            "_model_module_version": "1.5.0",
            "_view_count": null,
            "_view_module_version": "1.2.0",
            "_model_module": "@jupyter-widgets/controls"
          }
        },
        "4a345a09d0aa43ef99b144a3c1427ba7": {
          "model_module": "@jupyter-widgets/base",
          "model_name": "LayoutModel",
          "model_module_version": "1.2.0",
          "state": {
            "_view_name": "LayoutView",
            "grid_template_rows": null,
            "right": null,
            "justify_content": null,
            "_view_module": "@jupyter-widgets/base",
            "overflow": null,
            "_model_module_version": "1.2.0",
            "_view_count": null,
            "flex_flow": null,
            "width": null,
            "min_width": null,
            "border": null,
            "align_items": null,
            "bottom": null,
            "_model_module": "@jupyter-widgets/base",
            "top": null,
            "grid_column": null,
            "overflow_y": null,
            "overflow_x": null,
            "grid_auto_flow": null,
            "grid_area": null,
            "grid_template_columns": null,
            "flex": null,
            "_model_name": "LayoutModel",
            "justify_items": null,
            "grid_row": null,
            "max_height": null,
            "align_content": null,
            "visibility": null,
            "align_self": null,
            "height": null,
            "min_height": null,
            "padding": null,
            "grid_auto_rows": null,
            "grid_gap": null,
            "max_width": null,
            "order": null,
            "_view_module_version": "1.2.0",
            "grid_template_areas": null,
            "object_position": null,
            "object_fit": null,
            "grid_auto_columns": null,
            "margin": null,
            "display": null,
            "left": null
          }
        },
        "0cf00cd7f76f47cf95bfe687dc558f70": {
          "model_module": "@jupyter-widgets/controls",
          "model_name": "ProgressStyleModel",
          "model_module_version": "1.5.0",
          "state": {
            "_view_name": "StyleView",
            "_model_name": "ProgressStyleModel",
            "description_width": "",
            "_view_module": "@jupyter-widgets/base",
            "_model_module_version": "1.5.0",
            "_view_count": null,
            "_view_module_version": "1.2.0",
            "bar_color": null,
            "_model_module": "@jupyter-widgets/controls"
          }
        },
        "64c1960ccbe24e3795eec32493790ae3": {
          "model_module": "@jupyter-widgets/base",
          "model_name": "LayoutModel",
          "model_module_version": "1.2.0",
          "state": {
            "_view_name": "LayoutView",
            "grid_template_rows": null,
            "right": null,
            "justify_content": null,
            "_view_module": "@jupyter-widgets/base",
            "overflow": null,
            "_model_module_version": "1.2.0",
            "_view_count": null,
            "flex_flow": null,
            "width": null,
            "min_width": null,
            "border": null,
            "align_items": null,
            "bottom": null,
            "_model_module": "@jupyter-widgets/base",
            "top": null,
            "grid_column": null,
            "overflow_y": null,
            "overflow_x": null,
            "grid_auto_flow": null,
            "grid_area": null,
            "grid_template_columns": null,
            "flex": null,
            "_model_name": "LayoutModel",
            "justify_items": null,
            "grid_row": null,
            "max_height": null,
            "align_content": null,
            "visibility": null,
            "align_self": null,
            "height": null,
            "min_height": null,
            "padding": null,
            "grid_auto_rows": null,
            "grid_gap": null,
            "max_width": null,
            "order": null,
            "_view_module_version": "1.2.0",
            "grid_template_areas": null,
            "object_position": null,
            "object_fit": null,
            "grid_auto_columns": null,
            "margin": null,
            "display": null,
            "left": null
          }
        },
        "9af0d8d5c9e84b9b878c1727fb39ce10": {
          "model_module": "@jupyter-widgets/controls",
          "model_name": "DescriptionStyleModel",
          "model_module_version": "1.5.0",
          "state": {
            "_view_name": "StyleView",
            "_model_name": "DescriptionStyleModel",
            "description_width": "",
            "_view_module": "@jupyter-widgets/base",
            "_model_module_version": "1.5.0",
            "_view_count": null,
            "_view_module_version": "1.2.0",
            "_model_module": "@jupyter-widgets/controls"
          }
        },
        "6ee9298a11884d13894b931e5585aa29": {
          "model_module": "@jupyter-widgets/base",
          "model_name": "LayoutModel",
          "model_module_version": "1.2.0",
          "state": {
            "_view_name": "LayoutView",
            "grid_template_rows": null,
            "right": null,
            "justify_content": null,
            "_view_module": "@jupyter-widgets/base",
            "overflow": null,
            "_model_module_version": "1.2.0",
            "_view_count": null,
            "flex_flow": null,
            "width": null,
            "min_width": null,
            "border": null,
            "align_items": null,
            "bottom": null,
            "_model_module": "@jupyter-widgets/base",
            "top": null,
            "grid_column": null,
            "overflow_y": null,
            "overflow_x": null,
            "grid_auto_flow": null,
            "grid_area": null,
            "grid_template_columns": null,
            "flex": null,
            "_model_name": "LayoutModel",
            "justify_items": null,
            "grid_row": null,
            "max_height": null,
            "align_content": null,
            "visibility": null,
            "align_self": null,
            "height": null,
            "min_height": null,
            "padding": null,
            "grid_auto_rows": null,
            "grid_gap": null,
            "max_width": null,
            "order": null,
            "_view_module_version": "1.2.0",
            "grid_template_areas": null,
            "object_position": null,
            "object_fit": null,
            "grid_auto_columns": null,
            "margin": null,
            "display": null,
            "left": null
          }
        },
        "bed3f00ee8244ad199d0883fe7cd5af0": {
          "model_module": "@jupyter-widgets/controls",
          "model_name": "HBoxModel",
          "model_module_version": "1.5.0",
          "state": {
            "_view_name": "HBoxView",
            "_dom_classes": [],
            "_model_name": "HBoxModel",
            "_view_module": "@jupyter-widgets/controls",
            "_model_module_version": "1.5.0",
            "_view_count": null,
            "_view_module_version": "1.5.0",
            "box_style": "",
            "layout": "IPY_MODEL_a65d6ce017864489901187958387c08a",
            "_model_module": "@jupyter-widgets/controls",
            "children": [
              "IPY_MODEL_bcc474886c094aaf8fc7ef590551072f",
              "IPY_MODEL_55c522038d9e4bd682405992e0509e50",
              "IPY_MODEL_f9c3baa9c71e4290b42ea23814cdc858"
            ]
          }
        },
        "a65d6ce017864489901187958387c08a": {
          "model_module": "@jupyter-widgets/base",
          "model_name": "LayoutModel",
          "model_module_version": "1.2.0",
          "state": {
            "_view_name": "LayoutView",
            "grid_template_rows": null,
            "right": null,
            "justify_content": null,
            "_view_module": "@jupyter-widgets/base",
            "overflow": null,
            "_model_module_version": "1.2.0",
            "_view_count": null,
            "flex_flow": null,
            "width": null,
            "min_width": null,
            "border": null,
            "align_items": null,
            "bottom": null,
            "_model_module": "@jupyter-widgets/base",
            "top": null,
            "grid_column": null,
            "overflow_y": null,
            "overflow_x": null,
            "grid_auto_flow": null,
            "grid_area": null,
            "grid_template_columns": null,
            "flex": null,
            "_model_name": "LayoutModel",
            "justify_items": null,
            "grid_row": null,
            "max_height": null,
            "align_content": null,
            "visibility": null,
            "align_self": null,
            "height": null,
            "min_height": null,
            "padding": null,
            "grid_auto_rows": null,
            "grid_gap": null,
            "max_width": null,
            "order": null,
            "_view_module_version": "1.2.0",
            "grid_template_areas": null,
            "object_position": null,
            "object_fit": null,
            "grid_auto_columns": null,
            "margin": null,
            "display": null,
            "left": null
          }
        },
        "bcc474886c094aaf8fc7ef590551072f": {
          "model_module": "@jupyter-widgets/controls",
          "model_name": "HTMLModel",
          "model_module_version": "1.5.0",
          "state": {
            "_view_name": "HTMLView",
            "style": "IPY_MODEL_d902fe33248f44719d7c5207ea4b0d50",
            "_dom_classes": [],
            "description": "",
            "_model_name": "HTMLModel",
            "placeholder": "​",
            "_view_module": "@jupyter-widgets/controls",
            "_model_module_version": "1.5.0",
            "value": "Downloading: 100%",
            "_view_count": null,
            "_view_module_version": "1.5.0",
            "description_tooltip": null,
            "_model_module": "@jupyter-widgets/controls",
            "layout": "IPY_MODEL_34335c6783c54784acccc4aa8c94247e"
          }
        },
        "55c522038d9e4bd682405992e0509e50": {
          "model_module": "@jupyter-widgets/controls",
          "model_name": "FloatProgressModel",
          "model_module_version": "1.5.0",
          "state": {
            "_view_name": "ProgressView",
            "style": "IPY_MODEL_b1fcc1b78de84ce8a5b5f307deebd04b",
            "_dom_classes": [],
            "description": "",
            "_model_name": "FloatProgressModel",
            "bar_style": "success",
            "max": 542529064,
            "_view_module": "@jupyter-widgets/controls",
            "_model_module_version": "1.5.0",
            "value": 542529064,
            "_view_count": null,
            "_view_module_version": "1.5.0",
            "orientation": "horizontal",
            "min": 0,
            "description_tooltip": null,
            "_model_module": "@jupyter-widgets/controls",
            "layout": "IPY_MODEL_615d487e574645c294747a764ce74749"
          }
        },
        "f9c3baa9c71e4290b42ea23814cdc858": {
          "model_module": "@jupyter-widgets/controls",
          "model_name": "HTMLModel",
          "model_module_version": "1.5.0",
          "state": {
            "_view_name": "HTMLView",
            "style": "IPY_MODEL_938a569072a74eb4adb8151b7e025bf3",
            "_dom_classes": [],
            "description": "",
            "_model_name": "HTMLModel",
            "placeholder": "​",
            "_view_module": "@jupyter-widgets/controls",
            "_model_module_version": "1.5.0",
            "value": " 517M/517M [00:13&lt;00:00, 51.3MB/s]",
            "_view_count": null,
            "_view_module_version": "1.5.0",
            "description_tooltip": null,
            "_model_module": "@jupyter-widgets/controls",
            "layout": "IPY_MODEL_00167ebb4f1242efb928dd02b8df0e6b"
          }
        },
        "d902fe33248f44719d7c5207ea4b0d50": {
          "model_module": "@jupyter-widgets/controls",
          "model_name": "DescriptionStyleModel",
          "model_module_version": "1.5.0",
          "state": {
            "_view_name": "StyleView",
            "_model_name": "DescriptionStyleModel",
            "description_width": "",
            "_view_module": "@jupyter-widgets/base",
            "_model_module_version": "1.5.0",
            "_view_count": null,
            "_view_module_version": "1.2.0",
            "_model_module": "@jupyter-widgets/controls"
          }
        },
        "34335c6783c54784acccc4aa8c94247e": {
          "model_module": "@jupyter-widgets/base",
          "model_name": "LayoutModel",
          "model_module_version": "1.2.0",
          "state": {
            "_view_name": "LayoutView",
            "grid_template_rows": null,
            "right": null,
            "justify_content": null,
            "_view_module": "@jupyter-widgets/base",
            "overflow": null,
            "_model_module_version": "1.2.0",
            "_view_count": null,
            "flex_flow": null,
            "width": null,
            "min_width": null,
            "border": null,
            "align_items": null,
            "bottom": null,
            "_model_module": "@jupyter-widgets/base",
            "top": null,
            "grid_column": null,
            "overflow_y": null,
            "overflow_x": null,
            "grid_auto_flow": null,
            "grid_area": null,
            "grid_template_columns": null,
            "flex": null,
            "_model_name": "LayoutModel",
            "justify_items": null,
            "grid_row": null,
            "max_height": null,
            "align_content": null,
            "visibility": null,
            "align_self": null,
            "height": null,
            "min_height": null,
            "padding": null,
            "grid_auto_rows": null,
            "grid_gap": null,
            "max_width": null,
            "order": null,
            "_view_module_version": "1.2.0",
            "grid_template_areas": null,
            "object_position": null,
            "object_fit": null,
            "grid_auto_columns": null,
            "margin": null,
            "display": null,
            "left": null
          }
        },
        "b1fcc1b78de84ce8a5b5f307deebd04b": {
          "model_module": "@jupyter-widgets/controls",
          "model_name": "ProgressStyleModel",
          "model_module_version": "1.5.0",
          "state": {
            "_view_name": "StyleView",
            "_model_name": "ProgressStyleModel",
            "description_width": "",
            "_view_module": "@jupyter-widgets/base",
            "_model_module_version": "1.5.0",
            "_view_count": null,
            "_view_module_version": "1.2.0",
            "bar_color": null,
            "_model_module": "@jupyter-widgets/controls"
          }
        },
        "615d487e574645c294747a764ce74749": {
          "model_module": "@jupyter-widgets/base",
          "model_name": "LayoutModel",
          "model_module_version": "1.2.0",
          "state": {
            "_view_name": "LayoutView",
            "grid_template_rows": null,
            "right": null,
            "justify_content": null,
            "_view_module": "@jupyter-widgets/base",
            "overflow": null,
            "_model_module_version": "1.2.0",
            "_view_count": null,
            "flex_flow": null,
            "width": null,
            "min_width": null,
            "border": null,
            "align_items": null,
            "bottom": null,
            "_model_module": "@jupyter-widgets/base",
            "top": null,
            "grid_column": null,
            "overflow_y": null,
            "overflow_x": null,
            "grid_auto_flow": null,
            "grid_area": null,
            "grid_template_columns": null,
            "flex": null,
            "_model_name": "LayoutModel",
            "justify_items": null,
            "grid_row": null,
            "max_height": null,
            "align_content": null,
            "visibility": null,
            "align_self": null,
            "height": null,
            "min_height": null,
            "padding": null,
            "grid_auto_rows": null,
            "grid_gap": null,
            "max_width": null,
            "order": null,
            "_view_module_version": "1.2.0",
            "grid_template_areas": null,
            "object_position": null,
            "object_fit": null,
            "grid_auto_columns": null,
            "margin": null,
            "display": null,
            "left": null
          }
        },
        "938a569072a74eb4adb8151b7e025bf3": {
          "model_module": "@jupyter-widgets/controls",
          "model_name": "DescriptionStyleModel",
          "model_module_version": "1.5.0",
          "state": {
            "_view_name": "StyleView",
            "_model_name": "DescriptionStyleModel",
            "description_width": "",
            "_view_module": "@jupyter-widgets/base",
            "_model_module_version": "1.5.0",
            "_view_count": null,
            "_view_module_version": "1.2.0",
            "_model_module": "@jupyter-widgets/controls"
          }
        },
        "00167ebb4f1242efb928dd02b8df0e6b": {
          "model_module": "@jupyter-widgets/base",
          "model_name": "LayoutModel",
          "model_module_version": "1.2.0",
          "state": {
            "_view_name": "LayoutView",
            "grid_template_rows": null,
            "right": null,
            "justify_content": null,
            "_view_module": "@jupyter-widgets/base",
            "overflow": null,
            "_model_module_version": "1.2.0",
            "_view_count": null,
            "flex_flow": null,
            "width": null,
            "min_width": null,
            "border": null,
            "align_items": null,
            "bottom": null,
            "_model_module": "@jupyter-widgets/base",
            "top": null,
            "grid_column": null,
            "overflow_y": null,
            "overflow_x": null,
            "grid_auto_flow": null,
            "grid_area": null,
            "grid_template_columns": null,
            "flex": null,
            "_model_name": "LayoutModel",
            "justify_items": null,
            "grid_row": null,
            "max_height": null,
            "align_content": null,
            "visibility": null,
            "align_self": null,
            "height": null,
            "min_height": null,
            "padding": null,
            "grid_auto_rows": null,
            "grid_gap": null,
            "max_width": null,
            "order": null,
            "_view_module_version": "1.2.0",
            "grid_template_areas": null,
            "object_position": null,
            "object_fit": null,
            "grid_auto_columns": null,
            "margin": null,
            "display": null,
            "left": null
          }
        },
        "ada3aa4e4f0e460bb4ad87146d845d4d": {
          "model_module": "@jupyter-widgets/controls",
          "model_name": "HBoxModel",
          "model_module_version": "1.5.0",
          "state": {
            "_view_name": "HBoxView",
            "_dom_classes": [],
            "_model_name": "HBoxModel",
            "_view_module": "@jupyter-widgets/controls",
            "_model_module_version": "1.5.0",
            "_view_count": null,
            "_view_module_version": "1.5.0",
            "box_style": "",
            "layout": "IPY_MODEL_f3904c7b26e946899ff91a4da0d5fb23",
            "_model_module": "@jupyter-widgets/controls",
            "children": [
              "IPY_MODEL_b82d8214ff924837acb069200b16aa1a",
              "IPY_MODEL_db59832317fe4f619282d7eb260698b6",
              "IPY_MODEL_6a8b3837a850404987413a056b26340f"
            ]
          }
        },
        "f3904c7b26e946899ff91a4da0d5fb23": {
          "model_module": "@jupyter-widgets/base",
          "model_name": "LayoutModel",
          "model_module_version": "1.2.0",
          "state": {
            "_view_name": "LayoutView",
            "grid_template_rows": null,
            "right": null,
            "justify_content": null,
            "_view_module": "@jupyter-widgets/base",
            "overflow": null,
            "_model_module_version": "1.2.0",
            "_view_count": null,
            "flex_flow": null,
            "width": null,
            "min_width": null,
            "border": null,
            "align_items": null,
            "bottom": null,
            "_model_module": "@jupyter-widgets/base",
            "top": null,
            "grid_column": null,
            "overflow_y": null,
            "overflow_x": null,
            "grid_auto_flow": null,
            "grid_area": null,
            "grid_template_columns": null,
            "flex": null,
            "_model_name": "LayoutModel",
            "justify_items": null,
            "grid_row": null,
            "max_height": null,
            "align_content": null,
            "visibility": null,
            "align_self": null,
            "height": null,
            "min_height": null,
            "padding": null,
            "grid_auto_rows": null,
            "grid_gap": null,
            "max_width": null,
            "order": null,
            "_view_module_version": "1.2.0",
            "grid_template_areas": null,
            "object_position": null,
            "object_fit": null,
            "grid_auto_columns": null,
            "margin": null,
            "display": null,
            "left": null
          }
        },
        "b82d8214ff924837acb069200b16aa1a": {
          "model_module": "@jupyter-widgets/controls",
          "model_name": "HTMLModel",
          "model_module_version": "1.5.0",
          "state": {
            "_view_name": "HTMLView",
            "style": "IPY_MODEL_0a1cfe3a3d194180be9b6805af19f146",
            "_dom_classes": [],
            "description": "",
            "_model_name": "HTMLModel",
            "placeholder": "​",
            "_view_module": "@jupyter-widgets/controls",
            "_model_module_version": "1.5.0",
            "value": "Downloading: 100%",
            "_view_count": null,
            "_view_module_version": "1.5.0",
            "description_tooltip": null,
            "_model_module": "@jupyter-widgets/controls",
            "layout": "IPY_MODEL_a3a7ead990a34960ac043789d5b3f473"
          }
        },
        "db59832317fe4f619282d7eb260698b6": {
          "model_module": "@jupyter-widgets/controls",
          "model_name": "FloatProgressModel",
          "model_module_version": "1.5.0",
          "state": {
            "_view_name": "ProgressView",
            "style": "IPY_MODEL_60c2e478d8234e5a8dbca0bf1f0b8b42",
            "_dom_classes": [],
            "description": "",
            "_model_name": "FloatProgressModel",
            "bar_style": "success",
            "max": 843438,
            "_view_module": "@jupyter-widgets/controls",
            "_model_module_version": "1.5.0",
            "value": 843438,
            "_view_count": null,
            "_view_module_version": "1.5.0",
            "orientation": "horizontal",
            "min": 0,
            "description_tooltip": null,
            "_model_module": "@jupyter-widgets/controls",
            "layout": "IPY_MODEL_8a6fa9a7cd274d8abcbbec5f7fc69d63"
          }
        },
        "6a8b3837a850404987413a056b26340f": {
          "model_module": "@jupyter-widgets/controls",
          "model_name": "HTMLModel",
          "model_module_version": "1.5.0",
          "state": {
            "_view_name": "HTMLView",
            "style": "IPY_MODEL_81574d7387a548e48d55db0b25e16a2c",
            "_dom_classes": [],
            "description": "",
            "_model_name": "HTMLModel",
            "placeholder": "​",
            "_view_module": "@jupyter-widgets/controls",
            "_model_module_version": "1.5.0",
            "value": " 824k/824k [00:00&lt;00:00, 883kB/s]",
            "_view_count": null,
            "_view_module_version": "1.5.0",
            "description_tooltip": null,
            "_model_module": "@jupyter-widgets/controls",
            "layout": "IPY_MODEL_0de872f8083240e99ade243ba4bfcee4"
          }
        },
        "0a1cfe3a3d194180be9b6805af19f146": {
          "model_module": "@jupyter-widgets/controls",
          "model_name": "DescriptionStyleModel",
          "model_module_version": "1.5.0",
          "state": {
            "_view_name": "StyleView",
            "_model_name": "DescriptionStyleModel",
            "description_width": "",
            "_view_module": "@jupyter-widgets/base",
            "_model_module_version": "1.5.0",
            "_view_count": null,
            "_view_module_version": "1.2.0",
            "_model_module": "@jupyter-widgets/controls"
          }
        },
        "a3a7ead990a34960ac043789d5b3f473": {
          "model_module": "@jupyter-widgets/base",
          "model_name": "LayoutModel",
          "model_module_version": "1.2.0",
          "state": {
            "_view_name": "LayoutView",
            "grid_template_rows": null,
            "right": null,
            "justify_content": null,
            "_view_module": "@jupyter-widgets/base",
            "overflow": null,
            "_model_module_version": "1.2.0",
            "_view_count": null,
            "flex_flow": null,
            "width": null,
            "min_width": null,
            "border": null,
            "align_items": null,
            "bottom": null,
            "_model_module": "@jupyter-widgets/base",
            "top": null,
            "grid_column": null,
            "overflow_y": null,
            "overflow_x": null,
            "grid_auto_flow": null,
            "grid_area": null,
            "grid_template_columns": null,
            "flex": null,
            "_model_name": "LayoutModel",
            "justify_items": null,
            "grid_row": null,
            "max_height": null,
            "align_content": null,
            "visibility": null,
            "align_self": null,
            "height": null,
            "min_height": null,
            "padding": null,
            "grid_auto_rows": null,
            "grid_gap": null,
            "max_width": null,
            "order": null,
            "_view_module_version": "1.2.0",
            "grid_template_areas": null,
            "object_position": null,
            "object_fit": null,
            "grid_auto_columns": null,
            "margin": null,
            "display": null,
            "left": null
          }
        },
        "60c2e478d8234e5a8dbca0bf1f0b8b42": {
          "model_module": "@jupyter-widgets/controls",
          "model_name": "ProgressStyleModel",
          "model_module_version": "1.5.0",
          "state": {
            "_view_name": "StyleView",
            "_model_name": "ProgressStyleModel",
            "description_width": "",
            "_view_module": "@jupyter-widgets/base",
            "_model_module_version": "1.5.0",
            "_view_count": null,
            "_view_module_version": "1.2.0",
            "bar_color": null,
            "_model_module": "@jupyter-widgets/controls"
          }
        },
        "8a6fa9a7cd274d8abcbbec5f7fc69d63": {
          "model_module": "@jupyter-widgets/base",
          "model_name": "LayoutModel",
          "model_module_version": "1.2.0",
          "state": {
            "_view_name": "LayoutView",
            "grid_template_rows": null,
            "right": null,
            "justify_content": null,
            "_view_module": "@jupyter-widgets/base",
            "overflow": null,
            "_model_module_version": "1.2.0",
            "_view_count": null,
            "flex_flow": null,
            "width": null,
            "min_width": null,
            "border": null,
            "align_items": null,
            "bottom": null,
            "_model_module": "@jupyter-widgets/base",
            "top": null,
            "grid_column": null,
            "overflow_y": null,
            "overflow_x": null,
            "grid_auto_flow": null,
            "grid_area": null,
            "grid_template_columns": null,
            "flex": null,
            "_model_name": "LayoutModel",
            "justify_items": null,
            "grid_row": null,
            "max_height": null,
            "align_content": null,
            "visibility": null,
            "align_self": null,
            "height": null,
            "min_height": null,
            "padding": null,
            "grid_auto_rows": null,
            "grid_gap": null,
            "max_width": null,
            "order": null,
            "_view_module_version": "1.2.0",
            "grid_template_areas": null,
            "object_position": null,
            "object_fit": null,
            "grid_auto_columns": null,
            "margin": null,
            "display": null,
            "left": null
          }
        },
        "81574d7387a548e48d55db0b25e16a2c": {
          "model_module": "@jupyter-widgets/controls",
          "model_name": "DescriptionStyleModel",
          "model_module_version": "1.5.0",
          "state": {
            "_view_name": "StyleView",
            "_model_name": "DescriptionStyleModel",
            "description_width": "",
            "_view_module": "@jupyter-widgets/base",
            "_model_module_version": "1.5.0",
            "_view_count": null,
            "_view_module_version": "1.2.0",
            "_model_module": "@jupyter-widgets/controls"
          }
        },
        "0de872f8083240e99ade243ba4bfcee4": {
          "model_module": "@jupyter-widgets/base",
          "model_name": "LayoutModel",
          "model_module_version": "1.2.0",
          "state": {
            "_view_name": "LayoutView",
            "grid_template_rows": null,
            "right": null,
            "justify_content": null,
            "_view_module": "@jupyter-widgets/base",
            "overflow": null,
            "_model_module_version": "1.2.0",
            "_view_count": null,
            "flex_flow": null,
            "width": null,
            "min_width": null,
            "border": null,
            "align_items": null,
            "bottom": null,
            "_model_module": "@jupyter-widgets/base",
            "top": null,
            "grid_column": null,
            "overflow_y": null,
            "overflow_x": null,
            "grid_auto_flow": null,
            "grid_area": null,
            "grid_template_columns": null,
            "flex": null,
            "_model_name": "LayoutModel",
            "justify_items": null,
            "grid_row": null,
            "max_height": null,
            "align_content": null,
            "visibility": null,
            "align_self": null,
            "height": null,
            "min_height": null,
            "padding": null,
            "grid_auto_rows": null,
            "grid_gap": null,
            "max_width": null,
            "order": null,
            "_view_module_version": "1.2.0",
            "grid_template_areas": null,
            "object_position": null,
            "object_fit": null,
            "grid_auto_columns": null,
            "margin": null,
            "display": null,
            "left": null
          }
        },
        "c14d8658421041098fc7fe443b45278c": {
          "model_module": "@jupyter-widgets/controls",
          "model_name": "HBoxModel",
          "model_module_version": "1.5.0",
          "state": {
            "_view_name": "HBoxView",
            "_dom_classes": [],
            "_model_name": "HBoxModel",
            "_view_module": "@jupyter-widgets/controls",
            "_model_module_version": "1.5.0",
            "_view_count": null,
            "_view_module_version": "1.5.0",
            "box_style": "",
            "layout": "IPY_MODEL_c05dce2da14a40cea6f2775e36d1bfad",
            "_model_module": "@jupyter-widgets/controls",
            "children": [
              "IPY_MODEL_6fd9f363a90f49ffae75ba87a2ef6cfe",
              "IPY_MODEL_ce499622b98c4be0b9e25cbe55d1e4a9",
              "IPY_MODEL_709ba777b2714559b31220cb8c540d95"
            ]
          }
        },
        "c05dce2da14a40cea6f2775e36d1bfad": {
          "model_module": "@jupyter-widgets/base",
          "model_name": "LayoutModel",
          "model_module_version": "1.2.0",
          "state": {
            "_view_name": "LayoutView",
            "grid_template_rows": null,
            "right": null,
            "justify_content": null,
            "_view_module": "@jupyter-widgets/base",
            "overflow": null,
            "_model_module_version": "1.2.0",
            "_view_count": null,
            "flex_flow": null,
            "width": null,
            "min_width": null,
            "border": null,
            "align_items": null,
            "bottom": null,
            "_model_module": "@jupyter-widgets/base",
            "top": null,
            "grid_column": null,
            "overflow_y": null,
            "overflow_x": null,
            "grid_auto_flow": null,
            "grid_area": null,
            "grid_template_columns": null,
            "flex": null,
            "_model_name": "LayoutModel",
            "justify_items": null,
            "grid_row": null,
            "max_height": null,
            "align_content": null,
            "visibility": null,
            "align_self": null,
            "height": null,
            "min_height": null,
            "padding": null,
            "grid_auto_rows": null,
            "grid_gap": null,
            "max_width": null,
            "order": null,
            "_view_module_version": "1.2.0",
            "grid_template_areas": null,
            "object_position": null,
            "object_fit": null,
            "grid_auto_columns": null,
            "margin": null,
            "display": null,
            "left": null
          }
        },
        "6fd9f363a90f49ffae75ba87a2ef6cfe": {
          "model_module": "@jupyter-widgets/controls",
          "model_name": "HTMLModel",
          "model_module_version": "1.5.0",
          "state": {
            "_view_name": "HTMLView",
            "style": "IPY_MODEL_a6752ab02af04effb2c051621b4ad3fe",
            "_dom_classes": [],
            "description": "",
            "_model_name": "HTMLModel",
            "placeholder": "​",
            "_view_module": "@jupyter-widgets/controls",
            "_model_module_version": "1.5.0",
            "value": "Downloading: 100%",
            "_view_count": null,
            "_view_module_version": "1.5.0",
            "description_tooltip": null,
            "_model_module": "@jupyter-widgets/controls",
            "layout": "IPY_MODEL_45b0a8b8f5d4438cb8fc6d2a498660ca"
          }
        },
        "ce499622b98c4be0b9e25cbe55d1e4a9": {
          "model_module": "@jupyter-widgets/controls",
          "model_name": "FloatProgressModel",
          "model_module_version": "1.5.0",
          "state": {
            "_view_name": "ProgressView",
            "style": "IPY_MODEL_dcb30976e0324bf3a77589cb537f73f7",
            "_dom_classes": [],
            "description": "",
            "_model_name": "FloatProgressModel",
            "bar_style": "success",
            "max": 1078931,
            "_view_module": "@jupyter-widgets/controls",
            "_model_module_version": "1.5.0",
            "value": 1078931,
            "_view_count": null,
            "_view_module_version": "1.5.0",
            "orientation": "horizontal",
            "min": 0,
            "description_tooltip": null,
            "_model_module": "@jupyter-widgets/controls",
            "layout": "IPY_MODEL_447fed90370e450796f35c9a0b29e268"
          }
        },
        "709ba777b2714559b31220cb8c540d95": {
          "model_module": "@jupyter-widgets/controls",
          "model_name": "HTMLModel",
          "model_module_version": "1.5.0",
          "state": {
            "_view_name": "HTMLView",
            "style": "IPY_MODEL_30a368d6c59b448989b89dc3e3603f80",
            "_dom_classes": [],
            "description": "",
            "_model_name": "HTMLModel",
            "placeholder": "​",
            "_view_module": "@jupyter-widgets/controls",
            "_model_module_version": "1.5.0",
            "value": " 1.03M/1.03M [00:00&lt;00:00, 2.97MB/s]",
            "_view_count": null,
            "_view_module_version": "1.5.0",
            "description_tooltip": null,
            "_model_module": "@jupyter-widgets/controls",
            "layout": "IPY_MODEL_06c261483ab74342b48e8cecac4be39b"
          }
        },
        "a6752ab02af04effb2c051621b4ad3fe": {
          "model_module": "@jupyter-widgets/controls",
          "model_name": "DescriptionStyleModel",
          "model_module_version": "1.5.0",
          "state": {
            "_view_name": "StyleView",
            "_model_name": "DescriptionStyleModel",
            "description_width": "",
            "_view_module": "@jupyter-widgets/base",
            "_model_module_version": "1.5.0",
            "_view_count": null,
            "_view_module_version": "1.2.0",
            "_model_module": "@jupyter-widgets/controls"
          }
        },
        "45b0a8b8f5d4438cb8fc6d2a498660ca": {
          "model_module": "@jupyter-widgets/base",
          "model_name": "LayoutModel",
          "model_module_version": "1.2.0",
          "state": {
            "_view_name": "LayoutView",
            "grid_template_rows": null,
            "right": null,
            "justify_content": null,
            "_view_module": "@jupyter-widgets/base",
            "overflow": null,
            "_model_module_version": "1.2.0",
            "_view_count": null,
            "flex_flow": null,
            "width": null,
            "min_width": null,
            "border": null,
            "align_items": null,
            "bottom": null,
            "_model_module": "@jupyter-widgets/base",
            "top": null,
            "grid_column": null,
            "overflow_y": null,
            "overflow_x": null,
            "grid_auto_flow": null,
            "grid_area": null,
            "grid_template_columns": null,
            "flex": null,
            "_model_name": "LayoutModel",
            "justify_items": null,
            "grid_row": null,
            "max_height": null,
            "align_content": null,
            "visibility": null,
            "align_self": null,
            "height": null,
            "min_height": null,
            "padding": null,
            "grid_auto_rows": null,
            "grid_gap": null,
            "max_width": null,
            "order": null,
            "_view_module_version": "1.2.0",
            "grid_template_areas": null,
            "object_position": null,
            "object_fit": null,
            "grid_auto_columns": null,
            "margin": null,
            "display": null,
            "left": null
          }
        },
        "dcb30976e0324bf3a77589cb537f73f7": {
          "model_module": "@jupyter-widgets/controls",
          "model_name": "ProgressStyleModel",
          "model_module_version": "1.5.0",
          "state": {
            "_view_name": "StyleView",
            "_model_name": "ProgressStyleModel",
            "description_width": "",
            "_view_module": "@jupyter-widgets/base",
            "_model_module_version": "1.5.0",
            "_view_count": null,
            "_view_module_version": "1.2.0",
            "bar_color": null,
            "_model_module": "@jupyter-widgets/controls"
          }
        },
        "447fed90370e450796f35c9a0b29e268": {
          "model_module": "@jupyter-widgets/base",
          "model_name": "LayoutModel",
          "model_module_version": "1.2.0",
          "state": {
            "_view_name": "LayoutView",
            "grid_template_rows": null,
            "right": null,
            "justify_content": null,
            "_view_module": "@jupyter-widgets/base",
            "overflow": null,
            "_model_module_version": "1.2.0",
            "_view_count": null,
            "flex_flow": null,
            "width": null,
            "min_width": null,
            "border": null,
            "align_items": null,
            "bottom": null,
            "_model_module": "@jupyter-widgets/base",
            "top": null,
            "grid_column": null,
            "overflow_y": null,
            "overflow_x": null,
            "grid_auto_flow": null,
            "grid_area": null,
            "grid_template_columns": null,
            "flex": null,
            "_model_name": "LayoutModel",
            "justify_items": null,
            "grid_row": null,
            "max_height": null,
            "align_content": null,
            "visibility": null,
            "align_self": null,
            "height": null,
            "min_height": null,
            "padding": null,
            "grid_auto_rows": null,
            "grid_gap": null,
            "max_width": null,
            "order": null,
            "_view_module_version": "1.2.0",
            "grid_template_areas": null,
            "object_position": null,
            "object_fit": null,
            "grid_auto_columns": null,
            "margin": null,
            "display": null,
            "left": null
          }
        },
        "30a368d6c59b448989b89dc3e3603f80": {
          "model_module": "@jupyter-widgets/controls",
          "model_name": "DescriptionStyleModel",
          "model_module_version": "1.5.0",
          "state": {
            "_view_name": "StyleView",
            "_model_name": "DescriptionStyleModel",
            "description_width": "",
            "_view_module": "@jupyter-widgets/base",
            "_model_module_version": "1.5.0",
            "_view_count": null,
            "_view_module_version": "1.2.0",
            "_model_module": "@jupyter-widgets/controls"
          }
        },
        "06c261483ab74342b48e8cecac4be39b": {
          "model_module": "@jupyter-widgets/base",
          "model_name": "LayoutModel",
          "model_module_version": "1.2.0",
          "state": {
            "_view_name": "LayoutView",
            "grid_template_rows": null,
            "right": null,
            "justify_content": null,
            "_view_module": "@jupyter-widgets/base",
            "overflow": null,
            "_model_module_version": "1.2.0",
            "_view_count": null,
            "flex_flow": null,
            "width": null,
            "min_width": null,
            "border": null,
            "align_items": null,
            "bottom": null,
            "_model_module": "@jupyter-widgets/base",
            "top": null,
            "grid_column": null,
            "overflow_y": null,
            "overflow_x": null,
            "grid_auto_flow": null,
            "grid_area": null,
            "grid_template_columns": null,
            "flex": null,
            "_model_name": "LayoutModel",
            "justify_items": null,
            "grid_row": null,
            "max_height": null,
            "align_content": null,
            "visibility": null,
            "align_self": null,
            "height": null,
            "min_height": null,
            "padding": null,
            "grid_auto_rows": null,
            "grid_gap": null,
            "max_width": null,
            "order": null,
            "_view_module_version": "1.2.0",
            "grid_template_areas": null,
            "object_position": null,
            "object_fit": null,
            "grid_auto_columns": null,
            "margin": null,
            "display": null,
            "left": null
          }
        },
        "6d1a725dc14f42a3a7605082cb06426f": {
          "model_module": "@jupyter-widgets/controls",
          "model_name": "HBoxModel",
          "model_module_version": "1.5.0",
          "state": {
            "_view_name": "HBoxView",
            "_dom_classes": [],
            "_model_name": "HBoxModel",
            "_view_module": "@jupyter-widgets/controls",
            "_model_module_version": "1.5.0",
            "_view_count": null,
            "_view_module_version": "1.5.0",
            "box_style": "",
            "layout": "IPY_MODEL_3ee34d5e8d4e42df9ff7b82b8febfcd1",
            "_model_module": "@jupyter-widgets/controls",
            "children": [
              "IPY_MODEL_75fb4b3222ba490796d8f88a906ea4d0",
              "IPY_MODEL_37accddb83c14c199e488e1a87aab943",
              "IPY_MODEL_733bcdafced040f581c8fc08e1700136"
            ]
          }
        },
        "3ee34d5e8d4e42df9ff7b82b8febfcd1": {
          "model_module": "@jupyter-widgets/base",
          "model_name": "LayoutModel",
          "model_module_version": "1.2.0",
          "state": {
            "_view_name": "LayoutView",
            "grid_template_rows": null,
            "right": null,
            "justify_content": null,
            "_view_module": "@jupyter-widgets/base",
            "overflow": null,
            "_model_module_version": "1.2.0",
            "_view_count": null,
            "flex_flow": null,
            "width": null,
            "min_width": null,
            "border": null,
            "align_items": null,
            "bottom": null,
            "_model_module": "@jupyter-widgets/base",
            "top": null,
            "grid_column": null,
            "overflow_y": null,
            "overflow_x": null,
            "grid_auto_flow": null,
            "grid_area": null,
            "grid_template_columns": null,
            "flex": null,
            "_model_name": "LayoutModel",
            "justify_items": null,
            "grid_row": null,
            "max_height": null,
            "align_content": null,
            "visibility": null,
            "align_self": null,
            "height": null,
            "min_height": null,
            "padding": null,
            "grid_auto_rows": null,
            "grid_gap": null,
            "max_width": null,
            "order": null,
            "_view_module_version": "1.2.0",
            "grid_template_areas": null,
            "object_position": null,
            "object_fit": null,
            "grid_auto_columns": null,
            "margin": null,
            "display": null,
            "left": null
          }
        },
        "75fb4b3222ba490796d8f88a906ea4d0": {
          "model_module": "@jupyter-widgets/controls",
          "model_name": "HTMLModel",
          "model_module_version": "1.5.0",
          "state": {
            "_view_name": "HTMLView",
            "style": "IPY_MODEL_24ef62b6fdb54e8695b7af34164aa2b3",
            "_dom_classes": [],
            "description": "",
            "_model_name": "HTMLModel",
            "placeholder": "​",
            "_view_module": "@jupyter-widgets/controls",
            "_model_module_version": "1.5.0",
            "value": "100%",
            "_view_count": null,
            "_view_module_version": "1.5.0",
            "description_tooltip": null,
            "_model_module": "@jupyter-widgets/controls",
            "layout": "IPY_MODEL_16fef38c3d1b4b4a859c45b41cdd4e5b"
          }
        },
        "37accddb83c14c199e488e1a87aab943": {
          "model_module": "@jupyter-widgets/controls",
          "model_name": "FloatProgressModel",
          "model_module_version": "1.5.0",
          "state": {
            "_view_name": "ProgressView",
            "style": "IPY_MODEL_804c3791caec43208287c07bda704b91",
            "_dom_classes": [],
            "description": "",
            "_model_name": "FloatProgressModel",
            "bar_style": "success",
            "max": 102530333,
            "_view_module": "@jupyter-widgets/controls",
            "_model_module_version": "1.5.0",
            "value": 102530333,
            "_view_count": null,
            "_view_module_version": "1.5.0",
            "orientation": "horizontal",
            "min": 0,
            "description_tooltip": null,
            "_model_module": "@jupyter-widgets/controls",
            "layout": "IPY_MODEL_a717c246348e494ba06a20eee80d3028"
          }
        },
        "733bcdafced040f581c8fc08e1700136": {
          "model_module": "@jupyter-widgets/controls",
          "model_name": "HTMLModel",
          "model_module_version": "1.5.0",
          "state": {
            "_view_name": "HTMLView",
            "style": "IPY_MODEL_30197f7322484a0b86bf6e51626eb702",
            "_dom_classes": [],
            "description": "",
            "_model_name": "HTMLModel",
            "placeholder": "​",
            "_view_module": "@jupyter-widgets/controls",
            "_model_module_version": "1.5.0",
            "value": " 97.8M/97.8M [00:00&lt;00:00, 161MB/s]",
            "_view_count": null,
            "_view_module_version": "1.5.0",
            "description_tooltip": null,
            "_model_module": "@jupyter-widgets/controls",
            "layout": "IPY_MODEL_a922af6bb1364b12b87aac141c301195"
          }
        },
        "24ef62b6fdb54e8695b7af34164aa2b3": {
          "model_module": "@jupyter-widgets/controls",
          "model_name": "DescriptionStyleModel",
          "model_module_version": "1.5.0",
          "state": {
            "_view_name": "StyleView",
            "_model_name": "DescriptionStyleModel",
            "description_width": "",
            "_view_module": "@jupyter-widgets/base",
            "_model_module_version": "1.5.0",
            "_view_count": null,
            "_view_module_version": "1.2.0",
            "_model_module": "@jupyter-widgets/controls"
          }
        },
        "16fef38c3d1b4b4a859c45b41cdd4e5b": {
          "model_module": "@jupyter-widgets/base",
          "model_name": "LayoutModel",
          "model_module_version": "1.2.0",
          "state": {
            "_view_name": "LayoutView",
            "grid_template_rows": null,
            "right": null,
            "justify_content": null,
            "_view_module": "@jupyter-widgets/base",
            "overflow": null,
            "_model_module_version": "1.2.0",
            "_view_count": null,
            "flex_flow": null,
            "width": null,
            "min_width": null,
            "border": null,
            "align_items": null,
            "bottom": null,
            "_model_module": "@jupyter-widgets/base",
            "top": null,
            "grid_column": null,
            "overflow_y": null,
            "overflow_x": null,
            "grid_auto_flow": null,
            "grid_area": null,
            "grid_template_columns": null,
            "flex": null,
            "_model_name": "LayoutModel",
            "justify_items": null,
            "grid_row": null,
            "max_height": null,
            "align_content": null,
            "visibility": null,
            "align_self": null,
            "height": null,
            "min_height": null,
            "padding": null,
            "grid_auto_rows": null,
            "grid_gap": null,
            "max_width": null,
            "order": null,
            "_view_module_version": "1.2.0",
            "grid_template_areas": null,
            "object_position": null,
            "object_fit": null,
            "grid_auto_columns": null,
            "margin": null,
            "display": null,
            "left": null
          }
        },
        "804c3791caec43208287c07bda704b91": {
          "model_module": "@jupyter-widgets/controls",
          "model_name": "ProgressStyleModel",
          "model_module_version": "1.5.0",
          "state": {
            "_view_name": "StyleView",
            "_model_name": "ProgressStyleModel",
            "description_width": "",
            "_view_module": "@jupyter-widgets/base",
            "_model_module_version": "1.5.0",
            "_view_count": null,
            "_view_module_version": "1.2.0",
            "bar_color": null,
            "_model_module": "@jupyter-widgets/controls"
          }
        },
        "a717c246348e494ba06a20eee80d3028": {
          "model_module": "@jupyter-widgets/base",
          "model_name": "LayoutModel",
          "model_module_version": "1.2.0",
          "state": {
            "_view_name": "LayoutView",
            "grid_template_rows": null,
            "right": null,
            "justify_content": null,
            "_view_module": "@jupyter-widgets/base",
            "overflow": null,
            "_model_module_version": "1.2.0",
            "_view_count": null,
            "flex_flow": null,
            "width": null,
            "min_width": null,
            "border": null,
            "align_items": null,
            "bottom": null,
            "_model_module": "@jupyter-widgets/base",
            "top": null,
            "grid_column": null,
            "overflow_y": null,
            "overflow_x": null,
            "grid_auto_flow": null,
            "grid_area": null,
            "grid_template_columns": null,
            "flex": null,
            "_model_name": "LayoutModel",
            "justify_items": null,
            "grid_row": null,
            "max_height": null,
            "align_content": null,
            "visibility": null,
            "align_self": null,
            "height": null,
            "min_height": null,
            "padding": null,
            "grid_auto_rows": null,
            "grid_gap": null,
            "max_width": null,
            "order": null,
            "_view_module_version": "1.2.0",
            "grid_template_areas": null,
            "object_position": null,
            "object_fit": null,
            "grid_auto_columns": null,
            "margin": null,
            "display": null,
            "left": null
          }
        },
        "30197f7322484a0b86bf6e51626eb702": {
          "model_module": "@jupyter-widgets/controls",
          "model_name": "DescriptionStyleModel",
          "model_module_version": "1.5.0",
          "state": {
            "_view_name": "StyleView",
            "_model_name": "DescriptionStyleModel",
            "description_width": "",
            "_view_module": "@jupyter-widgets/base",
            "_model_module_version": "1.5.0",
            "_view_count": null,
            "_view_module_version": "1.2.0",
            "_model_module": "@jupyter-widgets/controls"
          }
        },
        "a922af6bb1364b12b87aac141c301195": {
          "model_module": "@jupyter-widgets/base",
          "model_name": "LayoutModel",
          "model_module_version": "1.2.0",
          "state": {
            "_view_name": "LayoutView",
            "grid_template_rows": null,
            "right": null,
            "justify_content": null,
            "_view_module": "@jupyter-widgets/base",
            "overflow": null,
            "_model_module_version": "1.2.0",
            "_view_count": null,
            "flex_flow": null,
            "width": null,
            "min_width": null,
            "border": null,
            "align_items": null,
            "bottom": null,
            "_model_module": "@jupyter-widgets/base",
            "top": null,
            "grid_column": null,
            "overflow_y": null,
            "overflow_x": null,
            "grid_auto_flow": null,
            "grid_area": null,
            "grid_template_columns": null,
            "flex": null,
            "_model_name": "LayoutModel",
            "justify_items": null,
            "grid_row": null,
            "max_height": null,
            "align_content": null,
            "visibility": null,
            "align_self": null,
            "height": null,
            "min_height": null,
            "padding": null,
            "grid_auto_rows": null,
            "grid_gap": null,
            "max_width": null,
            "order": null,
            "_view_module_version": "1.2.0",
            "grid_template_areas": null,
            "object_position": null,
            "object_fit": null,
            "grid_auto_columns": null,
            "margin": null,
            "display": null,
            "left": null
          }
        }
      }
    }
  },
  "cells": [
    {
      "cell_type": "code",
      "metadata": {
        "id": "b4074d1c"
      },
      "source": [
        "%%capture\n",
        "!pip install pytorch_lightning #torch==1.3.1\n",
        "!pip install transformers\n",
        "!pip3 -q install emoji\n"
      ],
      "id": "b4074d1c",
      "execution_count": null,
      "outputs": []
    },
    {
      "cell_type": "code",
      "metadata": {
        "id": "117b4b8d"
      },
      "source": [
        "%matplotlib inline\n",
        "\n",
        "import json\n",
        "import logging\n",
        "from pathlib import Path\n",
        "import random\n",
        "import tarfile\n",
        "import tempfile\n",
        "import warnings\n",
        "\n",
        "import matplotlib.pyplot as plt\n",
        "import numpy as np\n",
        "import pandas as pd\n",
        "# import pandas_path  # Path style access for pandas\n",
        "from tqdm import tqdm\n",
        "\n",
        "import torch                    \n",
        "import torchvision\n",
        "# import fasttext\n",
        "from torchvision import datasets, models, transforms\n",
        "import torch.nn as nn\n",
        "from torch.nn import functional as F\n",
        "import torch.optim as optim"
      ],
      "id": "117b4b8d",
      "execution_count": null,
      "outputs": []
    },
    {
      "cell_type": "code",
      "metadata": {
        "id": "22f227d7"
      },
      "source": [
        "import ast\n",
        "import pandas as pd\n",
        "\n",
        "def load_data_lists(path):\n",
        "    data_points_lists = []\n",
        "    with open(path, encoding='utf-8') as f:\n",
        "        lines = f.readlines()\n",
        "\n",
        "        for line in lines:\n",
        "            try:\n",
        "                data_points_lists.append(ast.literal_eval(line))\n",
        "            except:\n",
        "                # Ignore lines with errors\n",
        "                pass\n",
        "\n",
        "    print('Found {} lines in \"{}\".'.format(len(lines), path))\n",
        "    print('Successfully loaded {} data points from \"{}\".'.format(len(data_points_lists), path))\n",
        "    \n",
        "    return data_points_lists\n",
        "\n",
        "COLUMN_NAMES = ['ID', 'Text', 'Sarcastic']\n",
        "\n",
        "def construct_df(data_points_lists, column_names=COLUMN_NAMES):\n",
        "    df = pd.DataFrame(data_points_lists, columns=column_names)\n",
        "    df['ID'] = pd.to_numeric(df['ID'])\n",
        "    df['Sarcastic'] = df['Sarcastic'].astype('bool')\n",
        "    \n",
        "    return df"
      ],
      "id": "22f227d7",
      "execution_count": null,
      "outputs": []
    },
    {
      "cell_type": "code",
      "metadata": {
        "colab": {
          "base_uri": "https://localhost:8080/",
          "height": 449
        },
        "id": "b1572ee0",
        "outputId": "46a178f7-7aa6-42cc-ec4b-5a5a5ce82fed"
      },
      "source": [
        "df_train = construct_df(load_data_lists('train.txt'))\n",
        "\n",
        "print(df_train.shape)\n",
        "print(df_train.info())\n",
        "\n",
        "display(df_train.head())"
      ],
      "id": "b1572ee0",
      "execution_count": null,
      "outputs": [
        {
          "output_type": "stream",
          "name": "stdout",
          "text": [
            "Found 29040 lines in \"train.txt\".\n",
            "Successfully loaded 29040 data points from \"train.txt\".\n",
            "(29040, 3)\n",
            "<class 'pandas.core.frame.DataFrame'>\n",
            "RangeIndex: 29040 entries, 0 to 29039\n",
            "Data columns (total 3 columns):\n",
            " #   Column     Non-Null Count  Dtype \n",
            "---  ------     --------------  ----- \n",
            " 0   ID         29040 non-null  int64 \n",
            " 1   Text       29040 non-null  object\n",
            " 2   Sarcastic  29040 non-null  bool  \n",
            "dtypes: bool(1), int64(1), object(1)\n",
            "memory usage: 482.2+ KB\n",
            "None\n"
          ]
        },
        {
          "output_type": "display_data",
          "data": {
            "text/html": [
              "<div>\n",
              "<style scoped>\n",
              "    .dataframe tbody tr th:only-of-type {\n",
              "        vertical-align: middle;\n",
              "    }\n",
              "\n",
              "    .dataframe tbody tr th {\n",
              "        vertical-align: top;\n",
              "    }\n",
              "\n",
              "    .dataframe thead th {\n",
              "        text-align: right;\n",
              "    }\n",
              "</style>\n",
              "<table border=\"1\" class=\"dataframe\">\n",
              "  <thead>\n",
              "    <tr style=\"text-align: right;\">\n",
              "      <th></th>\n",
              "      <th>ID</th>\n",
              "      <th>Text</th>\n",
              "      <th>Sarcastic</th>\n",
              "    </tr>\n",
              "  </thead>\n",
              "  <tbody>\n",
              "    <tr>\n",
              "      <th>0</th>\n",
              "      <td>910308516510011393</td>\n",
              "      <td>most # funny quotes : 21 snarky and # funny qu...</td>\n",
              "      <td>True</td>\n",
              "    </tr>\n",
              "    <tr>\n",
              "      <th>1</th>\n",
              "      <td>725333760762363905</td>\n",
              "      <td>spurs # creativethinking ! &lt;url&gt;</td>\n",
              "      <td>True</td>\n",
              "    </tr>\n",
              "    <tr>\n",
              "      <th>2</th>\n",
              "      <td>840006160660983809</td>\n",
              "      <td>&lt;user&gt; thanks for showing up for our appointme...</td>\n",
              "      <td>True</td>\n",
              "    </tr>\n",
              "    <tr>\n",
              "      <th>3</th>\n",
              "      <td>854334602516733952</td>\n",
              "      <td>only a hardcore fan of sir jonny sins will get...</td>\n",
              "      <td>True</td>\n",
              "    </tr>\n",
              "    <tr>\n",
              "      <th>4</th>\n",
              "      <td>908913372199915520</td>\n",
              "      <td>haha .  # lol</td>\n",
              "      <td>True</td>\n",
              "    </tr>\n",
              "  </tbody>\n",
              "</table>\n",
              "</div>"
            ],
            "text/plain": [
              "                   ID  ... Sarcastic\n",
              "0  910308516510011393  ...      True\n",
              "1  725333760762363905  ...      True\n",
              "2  840006160660983809  ...      True\n",
              "3  854334602516733952  ...      True\n",
              "4  908913372199915520  ...      True\n",
              "\n",
              "[5 rows x 3 columns]"
            ]
          },
          "metadata": {}
        }
      ]
    },
    {
      "cell_type": "code",
      "metadata": {
        "colab": {
          "base_uri": "https://localhost:8080/",
          "height": 466
        },
        "id": "0248226d",
        "outputId": "15128804-ec69-4149-efdd-88a2bc6e4d63"
      },
      "source": [
        "df_val = construct_df(load_data_lists('valid.txt'), COLUMN_NAMES + ['Sarcastic_human'])\n",
        "print(df_val.shape)\n",
        "print(df_val.info())\n",
        "\n",
        "display(df_val.head())"
      ],
      "id": "0248226d",
      "execution_count": null,
      "outputs": [
        {
          "output_type": "stream",
          "name": "stdout",
          "text": [
            "Found 2410 lines in \"valid.txt\".\n",
            "Successfully loaded 2410 data points from \"valid.txt\".\n",
            "(2410, 4)\n",
            "<class 'pandas.core.frame.DataFrame'>\n",
            "RangeIndex: 2410 entries, 0 to 2409\n",
            "Data columns (total 4 columns):\n",
            " #   Column           Non-Null Count  Dtype \n",
            "---  ------           --------------  ----- \n",
            " 0   ID               2410 non-null   int64 \n",
            " 1   Text             2410 non-null   object\n",
            " 2   Sarcastic        2410 non-null   bool  \n",
            " 3   Sarcastic_human  2410 non-null   int64 \n",
            "dtypes: bool(1), int64(2), object(1)\n",
            "memory usage: 59.0+ KB\n",
            "None\n"
          ]
        },
        {
          "output_type": "display_data",
          "data": {
            "text/html": [
              "<div>\n",
              "<style scoped>\n",
              "    .dataframe tbody tr th:only-of-type {\n",
              "        vertical-align: middle;\n",
              "    }\n",
              "\n",
              "    .dataframe tbody tr th {\n",
              "        vertical-align: top;\n",
              "    }\n",
              "\n",
              "    .dataframe thead th {\n",
              "        text-align: right;\n",
              "    }\n",
              "</style>\n",
              "<table border=\"1\" class=\"dataframe\">\n",
              "  <thead>\n",
              "    <tr style=\"text-align: right;\">\n",
              "      <th></th>\n",
              "      <th>ID</th>\n",
              "      <th>Text</th>\n",
              "      <th>Sarcastic</th>\n",
              "      <th>Sarcastic_human</th>\n",
              "    </tr>\n",
              "  </thead>\n",
              "  <tbody>\n",
              "    <tr>\n",
              "      <th>0</th>\n",
              "      <td>915657464401580032</td>\n",
              "      <td>whew ... that extra &lt;num&gt; miles today to the g...</td>\n",
              "      <td>True</td>\n",
              "      <td>1</td>\n",
              "    </tr>\n",
              "    <tr>\n",
              "      <th>1</th>\n",
              "      <td>854678856724340736</td>\n",
              "      <td>\" oh , good . now no one will know we 're here...</td>\n",
              "      <td>True</td>\n",
              "      <td>1</td>\n",
              "    </tr>\n",
              "    <tr>\n",
              "      <th>2</th>\n",
              "      <td>904892917277274112</td>\n",
              "      <td>how much of it you think is true ? has this be...</td>\n",
              "      <td>True</td>\n",
              "      <td>1</td>\n",
              "    </tr>\n",
              "    <tr>\n",
              "      <th>3</th>\n",
              "      <td>855466461296504832</td>\n",
              "      <td>&lt;user&gt; finally found proof that the earth is f...</td>\n",
              "      <td>True</td>\n",
              "      <td>1</td>\n",
              "    </tr>\n",
              "    <tr>\n",
              "      <th>4</th>\n",
              "      <td>927373534652805120</td>\n",
              "      <td>many ways to overcome tension &amp; fear but nothi...</td>\n",
              "      <td>True</td>\n",
              "      <td>1</td>\n",
              "    </tr>\n",
              "  </tbody>\n",
              "</table>\n",
              "</div>"
            ],
            "text/plain": [
              "                   ID  ... Sarcastic_human\n",
              "0  915657464401580032  ...               1\n",
              "1  854678856724340736  ...               1\n",
              "2  904892917277274112  ...               1\n",
              "3  855466461296504832  ...               1\n",
              "4  927373534652805120  ...               1\n",
              "\n",
              "[5 rows x 4 columns]"
            ]
          },
          "metadata": {}
        }
      ]
    },
    {
      "cell_type": "code",
      "metadata": {
        "colab": {
          "base_uri": "https://localhost:8080/",
          "height": 466
        },
        "id": "4ac1aad0",
        "outputId": "8194b70e-2c5a-4782-c384-a0ad7586d7e4"
      },
      "source": [
        "df_test = construct_df(load_data_lists('test.txt'), COLUMN_NAMES + ['Sarcastic_human'])\n",
        "print(df_test.shape)\n",
        "print(df_test.info())\n",
        "\n",
        "display(df_test.head())"
      ],
      "id": "4ac1aad0",
      "execution_count": null,
      "outputs": [
        {
          "output_type": "stream",
          "name": "stdout",
          "text": [
            "Found 2409 lines in \"test.txt\".\n",
            "Successfully loaded 2409 data points from \"test.txt\".\n",
            "(2409, 4)\n",
            "<class 'pandas.core.frame.DataFrame'>\n",
            "RangeIndex: 2409 entries, 0 to 2408\n",
            "Data columns (total 4 columns):\n",
            " #   Column           Non-Null Count  Dtype \n",
            "---  ------           --------------  ----- \n",
            " 0   ID               2409 non-null   int64 \n",
            " 1   Text             2409 non-null   object\n",
            " 2   Sarcastic        2409 non-null   bool  \n",
            " 3   Sarcastic_human  2409 non-null   int64 \n",
            "dtypes: bool(1), int64(2), object(1)\n",
            "memory usage: 58.9+ KB\n",
            "None\n"
          ]
        },
        {
          "output_type": "display_data",
          "data": {
            "text/html": [
              "<div>\n",
              "<style scoped>\n",
              "    .dataframe tbody tr th:only-of-type {\n",
              "        vertical-align: middle;\n",
              "    }\n",
              "\n",
              "    .dataframe tbody tr th {\n",
              "        vertical-align: top;\n",
              "    }\n",
              "\n",
              "    .dataframe thead th {\n",
              "        text-align: right;\n",
              "    }\n",
              "</style>\n",
              "<table border=\"1\" class=\"dataframe\">\n",
              "  <thead>\n",
              "    <tr style=\"text-align: right;\">\n",
              "      <th></th>\n",
              "      <th>ID</th>\n",
              "      <th>Text</th>\n",
              "      <th>Sarcastic</th>\n",
              "      <th>Sarcastic_human</th>\n",
              "    </tr>\n",
              "  </thead>\n",
              "  <tbody>\n",
              "    <tr>\n",
              "      <th>0</th>\n",
              "      <td>862902619928506372</td>\n",
              "      <td>i am guessing # netflix no longer lets you gra...</td>\n",
              "      <td>True</td>\n",
              "      <td>1</td>\n",
              "    </tr>\n",
              "    <tr>\n",
              "      <th>1</th>\n",
              "      <td>892551658487631873</td>\n",
              "      <td>it 's the insensitive strikeouts at suntrust p...</td>\n",
              "      <td>True</td>\n",
              "      <td>1</td>\n",
              "    </tr>\n",
              "    <tr>\n",
              "      <th>2</th>\n",
              "      <td>853143461360480256</td>\n",
              "      <td>following the path of the river calder , so .....</td>\n",
              "      <td>True</td>\n",
              "      <td>1</td>\n",
              "    </tr>\n",
              "    <tr>\n",
              "      <th>3</th>\n",
              "      <td>918423568823840768</td>\n",
              "      <td># westernsahara # authority has no lessons 2ge...</td>\n",
              "      <td>True</td>\n",
              "      <td>1</td>\n",
              "    </tr>\n",
              "    <tr>\n",
              "      <th>4</th>\n",
              "      <td>731617467718610944</td>\n",
              "      <td>hey &lt;user&gt; great sale !</td>\n",
              "      <td>True</td>\n",
              "      <td>1</td>\n",
              "    </tr>\n",
              "  </tbody>\n",
              "</table>\n",
              "</div>"
            ],
            "text/plain": [
              "                   ID  ... Sarcastic_human\n",
              "0  862902619928506372  ...               1\n",
              "1  892551658487631873  ...               1\n",
              "2  853143461360480256  ...               1\n",
              "3  918423568823840768  ...               1\n",
              "4  731617467718610944  ...               1\n",
              "\n",
              "[5 rows x 4 columns]"
            ]
          },
          "metadata": {}
        }
      ]
    },
    {
      "cell_type": "code",
      "metadata": {
        "colab": {
          "base_uri": "https://localhost:8080/"
        },
        "id": "bcb72150",
        "outputId": "537d5869-0b4c-4be3-8766-6d6647e95767"
      },
      "source": [
        "!gdown --id 1dJERrVlp7DlNSXk-uvbbG6Rv7uvqTOKd\n"
      ],
      "id": "bcb72150",
      "execution_count": null,
      "outputs": [
        {
          "output_type": "stream",
          "name": "stdout",
          "text": [
            "Downloading...\n",
            "From: https://drive.google.com/uc?id=1dJERrVlp7DlNSXk-uvbbG6Rv7uvqTOKd\n",
            "To: /content/dataset_image.z01\n",
            "100% 734M/734M [00:02<00:00, 249MB/s]\n"
          ]
        }
      ]
    },
    {
      "cell_type": "code",
      "metadata": {
        "colab": {
          "base_uri": "https://localhost:8080/"
        },
        "id": "9b76ea76",
        "outputId": "7f271730-17dd-4f92-d047-5a02f443f2f7"
      },
      "source": [
        "!gdown --id 1pODuKC4gP6-QDQonG8XTqI8w8ds68mE3\n"
      ],
      "id": "9b76ea76",
      "execution_count": null,
      "outputs": [
        {
          "output_type": "stream",
          "name": "stdout",
          "text": [
            "Downloading...\n",
            "From: https://drive.google.com/uc?id=1pODuKC4gP6-QDQonG8XTqI8w8ds68mE3\n",
            "To: /content/dataset_image.z02\n",
            "100% 734M/734M [00:03<00:00, 207MB/s]\n"
          ]
        }
      ]
    },
    {
      "cell_type": "code",
      "metadata": {
        "colab": {
          "base_uri": "https://localhost:8080/"
        },
        "id": "bc266e44",
        "outputId": "cc797164-a44a-45b5-93b8-e67de09148c7"
      },
      "source": [
        "!gdown --id 1mK0Nf-jv_h2bgHUCRM4_EsdTiiitZ_Uj\n"
      ],
      "id": "bc266e44",
      "execution_count": null,
      "outputs": [
        {
          "output_type": "stream",
          "name": "stdout",
          "text": [
            "Downloading...\n",
            "From: https://drive.google.com/uc?id=1mK0Nf-jv_h2bgHUCRM4_EsdTiiitZ_Uj\n",
            "To: /content/dataset_image.z03\n",
            "100% 734M/734M [00:06<00:00, 114MB/s] \n"
          ]
        }
      ]
    },
    {
      "cell_type": "code",
      "metadata": {
        "colab": {
          "base_uri": "https://localhost:8080/"
        },
        "id": "f0ee9967",
        "outputId": "2b0d19f3-ee2b-46dc-d112-3d2b4bf38cc3"
      },
      "source": [
        "!gdown --id 1AOWzlOz5hmdO39dEmzhQ4z_nabgzi7Tu\n"
      ],
      "id": "f0ee9967",
      "execution_count": null,
      "outputs": [
        {
          "output_type": "stream",
          "name": "stdout",
          "text": [
            "Downloading...\n",
            "From: https://drive.google.com/uc?id=1AOWzlOz5hmdO39dEmzhQ4z_nabgzi7Tu\n",
            "To: /content/dataset_image.zip\n",
            "100% 460M/460M [00:04<00:00, 114MB/s]\n"
          ]
        }
      ]
    },
    {
      "cell_type": "code",
      "metadata": {
        "id": "20d6afb2"
      },
      "source": [
        "%%capture\n",
        "!zip -FF dataset_image.zip --out dataset_image_full.zip\n",
        "!unzip -FF dataset_image_full.zip -d /content"
      ],
      "id": "20d6afb2",
      "execution_count": null,
      "outputs": []
    },
    {
      "cell_type": "code",
      "metadata": {
        "id": "0079d285"
      },
      "source": [
        "# Create subdirectories\n",
        "import os\n",
        "import shutil\n",
        "\n",
        "train_dir = 'dataset_image/train/'\n",
        "val_dir = 'dataset_image/val/'\n",
        "test_dir = 'dataset_image/test/'\n",
        "\n",
        "os.mkdir(train_dir)\n",
        "os.mkdir(val_dir)\n",
        "os.mkdir(test_dir)"
      ],
      "id": "0079d285",
      "execution_count": null,
      "outputs": []
    },
    {
      "cell_type": "code",
      "metadata": {
        "id": "545777f7"
      },
      "source": [
        "missing_ids = []\n",
        "\n",
        "for id in df_train['ID']:\n",
        "    img_path = 'dataset_image/{}.jpg'.format(id)\n",
        "    if os.path.isfile(img_path):\n",
        "      shutil.move(img_path, 'dataset_image/train/{}.jpg'.format(id))\n",
        "    else:\n",
        "        missing_ids.append(id)"
      ],
      "id": "545777f7",
      "execution_count": null,
      "outputs": []
    },
    {
      "cell_type": "code",
      "metadata": {
        "colab": {
          "base_uri": "https://localhost:8080/"
        },
        "id": "964b156c",
        "outputId": "5fcd7ffc-7678-46f0-e063-7e0d379c037b"
      },
      "source": [
        "len(missing_ids)\n"
      ],
      "id": "964b156c",
      "execution_count": null,
      "outputs": [
        {
          "output_type": "execute_result",
          "data": {
            "text/plain": [
              "9224"
            ]
          },
          "metadata": {},
          "execution_count": 14
        }
      ]
    },
    {
      "cell_type": "code",
      "metadata": {
        "colab": {
          "base_uri": "https://localhost:8080/"
        },
        "id": "b3d6eea6",
        "outputId": "bc921b14-edce-4ac1-c707-15028e588051"
      },
      "source": [
        "df_train = df_train[~df_train['ID'].isin(missing_ids)]\n",
        "df_train.shape"
      ],
      "id": "b3d6eea6",
      "execution_count": null,
      "outputs": [
        {
          "output_type": "execute_result",
          "data": {
            "text/plain": [
              "(19816, 3)"
            ]
          },
          "metadata": {},
          "execution_count": 15
        }
      ]
    },
    {
      "cell_type": "code",
      "metadata": {
        "id": "243a0b43"
      },
      "source": [
        "for id in df_val['ID']:\n",
        "    img_path = 'dataset_image/{}.jpg'.format(id)\n",
        "    if os.path.isfile(img_path):\n",
        "      shutil.move(img_path, 'dataset_image/val/{}.jpg'.format(id))"
      ],
      "id": "243a0b43",
      "execution_count": null,
      "outputs": []
    },
    {
      "cell_type": "code",
      "metadata": {
        "id": "d0a17319"
      },
      "source": [
        "for id in df_test['ID']:\n",
        "    img_path = 'dataset_image/{}.jpg'.format(id)\n",
        "    if os.path.isfile(img_path):\n",
        "      shutil.move(img_path, 'dataset_image/test/{}.jpg'.format(id))"
      ],
      "id": "d0a17319",
      "execution_count": null,
      "outputs": []
    },
    {
      "cell_type": "code",
      "metadata": {
        "id": "88d9e933"
      },
      "source": [
        "os.mkdir('dataset_image/train/sarc/')\n",
        "os.mkdir('dataset_image/train/non-sarc/')\n",
        "os.mkdir('dataset_image/val/sarc/')\n",
        "os.mkdir('dataset_image/val/non-sarc/')\n",
        "os.mkdir('dataset_image/test/sarc/')\n",
        "os.mkdir('dataset_image/test/non-sarc/')"
      ],
      "id": "88d9e933",
      "execution_count": null,
      "outputs": []
    },
    {
      "cell_type": "code",
      "metadata": {
        "id": "a5272b4e"
      },
      "source": [
        "class_foldername = {\n",
        "    True: 'sarc',\n",
        "    False: 'non-sarc'\n",
        "}"
      ],
      "id": "a5272b4e",
      "execution_count": null,
      "outputs": []
    },
    {
      "cell_type": "code",
      "metadata": {
        "id": "4669d1b4"
      },
      "source": [
        "# Move images to subfolders\n",
        "for id,label in zip(df_train['ID'], df_train['Sarcastic']):\n",
        "    shutil.move('dataset_image/train/{}.jpg'.format(id), 'dataset_image/train/{}/{}.jpg'.format(class_foldername[label], id))"
      ],
      "id": "4669d1b4",
      "execution_count": null,
      "outputs": []
    },
    {
      "cell_type": "code",
      "metadata": {
        "id": "2c4bb97a"
      },
      "source": [
        "# Move images to subfolders\n",
        "for id,label in zip(df_val['ID'], df_val['Sarcastic']):\n",
        "    shutil.move('dataset_image/val/{}.jpg'.format(id), 'dataset_image/val/{}/{}.jpg'.format(class_foldername[label], id))\n"
      ],
      "id": "2c4bb97a",
      "execution_count": null,
      "outputs": []
    },
    {
      "cell_type": "code",
      "metadata": {
        "id": "aeffa38c"
      },
      "source": [
        "normalize = transforms.Normalize(mean=[0.485, 0.456, 0.406],\n",
        "                                 std=[0.229, 0.224, 0.225])\n",
        "\n",
        "data_transforms = {\n",
        "    'train':\n",
        "    transforms.Compose([\n",
        "        transforms.Resize((224,224)),\n",
        "        transforms.RandomAffine(0, shear=10, scale=(0.8,1.2)),\n",
        "        transforms.RandomHorizontalFlip(),\n",
        "        transforms.ToTensor(),\n",
        "        normalize\n",
        "    ]),\n",
        "    'validation':\n",
        "    transforms.Compose([\n",
        "        transforms.Resize((224,224)),\n",
        "        transforms.ToTensor(),\n",
        "        normalize\n",
        "    ]),\n",
        "}\n",
        "\n",
        "image_datasets = {\n",
        "    'train': \n",
        "    datasets.ImageFolder('dataset_image/train', data_transforms['train']),\n",
        "    'validation': \n",
        "    datasets.ImageFolder('dataset_image/val', data_transforms['validation'])\n",
        "}\n",
        "\n",
        "image_dataloaders = {\n",
        "    'train':\n",
        "    torch.utils.data.DataLoader(image_datasets['train'],\n",
        "                                batch_size=64,\n",
        "                                shuffle=True),\n",
        "    'validation':\n",
        "    torch.utils.data.DataLoader(image_datasets['validation'],\n",
        "                                batch_size=64,\n",
        "                                shuffle=False)\n",
        "}"
      ],
      "id": "aeffa38c",
      "execution_count": null,
      "outputs": []
    },
    {
      "cell_type": "code",
      "metadata": {
        "id": "d82f739d"
      },
      "source": [
        "# dataloader for txt data\n",
        "from transformers import AutoModel, AutoTokenizer\n",
        "\n",
        "from sklearn.utils import shuffle\n",
        "from transformers import (get_linear_schedule_with_warmup,AdamW,AutoModel, AutoTokenizer,\n",
        "                            AutoModelForSequenceClassification)\n",
        "from torch.utils.data import (TensorDataset,DataLoader,\n",
        "                             RandomSampler, SequentialSampler, Dataset)\n",
        "\n",
        "\n",
        "train_df = shuffle(df_train, random_state=42)\n",
        "valid_df = shuffle(df_val, random_state=42)\n",
        "test_df = shuffle(df_test, random_state=42)"
      ],
      "id": "d82f739d",
      "execution_count": null,
      "outputs": []
    },
    {
      "cell_type": "code",
      "metadata": {
        "colab": {
          "base_uri": "https://localhost:8080/",
          "height": 321,
          "referenced_widgets": [
            "7dcc157ca57d47ae9158b50c7d0ca8c7",
            "d8db9ac1a53a4b1f8834b7ded75c1154",
            "fc192c9fe319414e86330c223fac813a",
            "f74415388c8f4fc2a120d6a9f9e12104",
            "0e366584ec5f42b0b36b3ddab1a0255c",
            "09ce4dccc69c42c7b25a041d432cdb1a",
            "4a345a09d0aa43ef99b144a3c1427ba7",
            "0cf00cd7f76f47cf95bfe687dc558f70",
            "64c1960ccbe24e3795eec32493790ae3",
            "9af0d8d5c9e84b9b878c1727fb39ce10",
            "6ee9298a11884d13894b931e5585aa29",
            "bed3f00ee8244ad199d0883fe7cd5af0",
            "a65d6ce017864489901187958387c08a",
            "bcc474886c094aaf8fc7ef590551072f",
            "55c522038d9e4bd682405992e0509e50",
            "f9c3baa9c71e4290b42ea23814cdc858",
            "d902fe33248f44719d7c5207ea4b0d50",
            "34335c6783c54784acccc4aa8c94247e",
            "b1fcc1b78de84ce8a5b5f307deebd04b",
            "615d487e574645c294747a764ce74749",
            "938a569072a74eb4adb8151b7e025bf3",
            "00167ebb4f1242efb928dd02b8df0e6b",
            "ada3aa4e4f0e460bb4ad87146d845d4d",
            "f3904c7b26e946899ff91a4da0d5fb23",
            "b82d8214ff924837acb069200b16aa1a",
            "db59832317fe4f619282d7eb260698b6",
            "6a8b3837a850404987413a056b26340f",
            "0a1cfe3a3d194180be9b6805af19f146",
            "a3a7ead990a34960ac043789d5b3f473",
            "60c2e478d8234e5a8dbca0bf1f0b8b42",
            "8a6fa9a7cd274d8abcbbec5f7fc69d63",
            "81574d7387a548e48d55db0b25e16a2c",
            "0de872f8083240e99ade243ba4bfcee4",
            "c14d8658421041098fc7fe443b45278c",
            "c05dce2da14a40cea6f2775e36d1bfad",
            "6fd9f363a90f49ffae75ba87a2ef6cfe",
            "ce499622b98c4be0b9e25cbe55d1e4a9",
            "709ba777b2714559b31220cb8c540d95",
            "a6752ab02af04effb2c051621b4ad3fe",
            "45b0a8b8f5d4438cb8fc6d2a498660ca",
            "dcb30976e0324bf3a77589cb537f73f7",
            "447fed90370e450796f35c9a0b29e268",
            "30a368d6c59b448989b89dc3e3603f80",
            "06c261483ab74342b48e8cecac4be39b"
          ]
        },
        "id": "d69b2124",
        "outputId": "0517bb6a-efbb-48d6-ee5f-04b20b9508de"
      },
      "source": [
        "bertweet = AutoModel.from_pretrained(\"vinai/bertweet-base\")\n",
        "tokenizer = AutoTokenizer.from_pretrained(\"vinai/bertweet-base\", use_fast=False)\n",
        "\n",
        "text_model = AutoModelForSequenceClassification.from_pretrained(\n",
        "    \"vinai/bertweet-base\",\n",
        "        num_labels = 2,  \n",
        "        output_attentions = False, \n",
        "        output_hidden_states = True,\n",
        "    )"
      ],
      "id": "d69b2124",
      "execution_count": null,
      "outputs": [
        {
          "output_type": "display_data",
          "data": {
            "application/vnd.jupyter.widget-view+json": {
              "model_id": "7dcc157ca57d47ae9158b50c7d0ca8c7",
              "version_minor": 0,
              "version_major": 2
            },
            "text/plain": [
              "Downloading:   0%|          | 0.00/558 [00:00<?, ?B/s]"
            ]
          },
          "metadata": {}
        },
        {
          "output_type": "display_data",
          "data": {
            "application/vnd.jupyter.widget-view+json": {
              "model_id": "bed3f00ee8244ad199d0883fe7cd5af0",
              "version_minor": 0,
              "version_major": 2
            },
            "text/plain": [
              "Downloading:   0%|          | 0.00/517M [00:00<?, ?B/s]"
            ]
          },
          "metadata": {}
        },
        {
          "output_type": "stream",
          "name": "stderr",
          "text": [
            "Some weights of the model checkpoint at vinai/bertweet-base were not used when initializing RobertaModel: ['lm_head.layer_norm.bias', 'lm_head.bias', 'lm_head.dense.weight', 'lm_head.layer_norm.weight', 'lm_head.decoder.weight', 'lm_head.decoder.bias', 'lm_head.dense.bias']\n",
            "- This IS expected if you are initializing RobertaModel from the checkpoint of a model trained on another task or with another architecture (e.g. initializing a BertForSequenceClassification model from a BertForPreTraining model).\n",
            "- This IS NOT expected if you are initializing RobertaModel from the checkpoint of a model that you expect to be exactly identical (initializing a BertForSequenceClassification model from a BertForSequenceClassification model).\n"
          ]
        },
        {
          "output_type": "display_data",
          "data": {
            "application/vnd.jupyter.widget-view+json": {
              "model_id": "ada3aa4e4f0e460bb4ad87146d845d4d",
              "version_minor": 0,
              "version_major": 2
            },
            "text/plain": [
              "Downloading:   0%|          | 0.00/824k [00:00<?, ?B/s]"
            ]
          },
          "metadata": {}
        },
        {
          "output_type": "display_data",
          "data": {
            "application/vnd.jupyter.widget-view+json": {
              "model_id": "c14d8658421041098fc7fe443b45278c",
              "version_minor": 0,
              "version_major": 2
            },
            "text/plain": [
              "Downloading:   0%|          | 0.00/1.03M [00:00<?, ?B/s]"
            ]
          },
          "metadata": {}
        },
        {
          "output_type": "stream",
          "name": "stderr",
          "text": [
            "Special tokens have been added in the vocabulary, make sure the associated word embeddings are fine-tuned or trained.\n",
            "Some weights of the model checkpoint at vinai/bertweet-base were not used when initializing RobertaForSequenceClassification: ['roberta.pooler.dense.bias', 'lm_head.layer_norm.bias', 'lm_head.bias', 'roberta.pooler.dense.weight', 'lm_head.dense.weight', 'lm_head.layer_norm.weight', 'lm_head.decoder.weight', 'lm_head.decoder.bias', 'lm_head.dense.bias']\n",
            "- This IS expected if you are initializing RobertaForSequenceClassification from the checkpoint of a model trained on another task or with another architecture (e.g. initializing a BertForSequenceClassification model from a BertForPreTraining model).\n",
            "- This IS NOT expected if you are initializing RobertaForSequenceClassification from the checkpoint of a model that you expect to be exactly identical (initializing a BertForSequenceClassification model from a BertForSequenceClassification model).\n",
            "Some weights of RobertaForSequenceClassification were not initialized from the model checkpoint at vinai/bertweet-base and are newly initialized: ['classifier.dense.bias', 'classifier.dense.weight', 'classifier.out_proj.weight', 'classifier.out_proj.bias']\n",
            "You should probably TRAIN this model on a down-stream task to be able to use it for predictions and inference.\n"
          ]
        }
      ]
    },
    {
      "cell_type": "code",
      "metadata": {
        "id": "86d8cd9a"
      },
      "source": [
        "def bert_encode(df, tokenizer):\n",
        "    input_ids = []\n",
        "    attention_masks = []\n",
        "    # print(df)\n",
        "    for sent,obj in zip(df[['Text']].values,df[\"object\"].values):\n",
        "        sent = sent.item()\n",
        "        #print(\"sent\")\n",
        "        #print(sent)\n",
        "        #obj = obj.item()\n",
        "        #print(obj)\n",
        "        sent = obj+sent\n",
        "        # print(\"combined\")\n",
        "        # print(sent)\n",
        "        encoded_dict = tokenizer.encode_plus(\n",
        "                            sent,                      \n",
        "                            add_special_tokens = True, \n",
        "                            max_length = 128,           \n",
        "                            pad_to_max_length = True,\n",
        "                            truncation = True,\n",
        "                            return_attention_mask = True,   \n",
        "                            return_tensors = 'pt',    \n",
        "                    )\n",
        "           \n",
        "        input_ids.append(encoded_dict['input_ids'])\n",
        "        attention_masks.append(encoded_dict['attention_mask'])\n",
        "    input_ids = torch.cat(input_ids, dim=0)\n",
        "    attention_masks = torch.cat(attention_masks, dim=0)\n",
        "\n",
        "    inputs = {\n",
        "    'input_word_ids': input_ids,\n",
        "    'input_mask': attention_masks}\n",
        "\n",
        "    return inputs"
      ],
      "id": "86d8cd9a",
      "execution_count": null,
      "outputs": []
    },
    {
      "cell_type": "code",
      "metadata": {
        "id": "25b6d6c4"
      },
      "source": [
        "from torch.utils.data import (TensorDataset,DataLoader,\n",
        "                             RandomSampler, SequentialSampler, Dataset)\n",
        "\n",
        "def prepare_dataloaders(train_df,test_df,batch_size=64):\n",
        "    # Load the AutoTokenizer with a normalization mode if the input Tweet is raw\n",
        "    \n",
        "    tokenizer = AutoTokenizer.from_pretrained(\"vinai/bertweet-base\", use_fast=False, normalization=True)\n",
        "    \n",
        "    tweet_train = bert_encode(train_df, tokenizer)\n",
        "    tweet_train_labels = train_df['Sarcastic'].astype(int)\n",
        "    \n",
        "    tweet_test = bert_encode(test_df, tokenizer)\n",
        "\n",
        "    input_ids, attention_masks = tweet_train.values()\n",
        "    labels = torch.tensor(tweet_train_labels.values)\n",
        "    train_dataset = TensorDataset(input_ids, attention_masks, labels)\n",
        "\n",
        "    \n",
        "    input_ids, attention_masks = tweet_test.values()\n",
        "    test_dataset = TensorDataset(input_ids, attention_masks)\n",
        "\n",
        "    \n",
        "    train_dataloader = DataLoader(\n",
        "                train_dataset,\n",
        "                sampler = RandomSampler(train_dataset), \n",
        "                batch_size = batch_size \n",
        "            )\n",
        "\n",
        "\n",
        "    test_dataloader = DataLoader(\n",
        "                test_dataset, \n",
        "                sampler = SequentialSampler(test_dataset), \n",
        "                batch_size = batch_size\n",
        "            )\n",
        "    return train_dataloader, test_dataloader"
      ],
      "id": "25b6d6c4",
      "execution_count": null,
      "outputs": []
    },
    {
      "cell_type": "code",
      "metadata": {
        "id": "9d89a5e5"
      },
      "source": [
        "#text_train_dataloader,text_test_dataloader = prepare_dataloaders(train_df, test_df)\n",
        "#_,text_val_dataloader = prepare_dataloaders(train_df, valid_df)\n"
      ],
      "id": "9d89a5e5",
      "execution_count": null,
      "outputs": []
    },
    {
      "cell_type": "code",
      "metadata": {
        "colab": {
          "base_uri": "https://localhost:8080/"
        },
        "id": "39749b5a",
        "outputId": "8a03c561-c587-4414-bc76-ab374739e7a1"
      },
      "source": [
        "device = torch.device(\"cuda\" if torch.cuda.is_available() else \"cpu\")\n",
        "device"
      ],
      "id": "39749b5a",
      "execution_count": null,
      "outputs": [
        {
          "output_type": "execute_result",
          "data": {
            "text/plain": [
              "device(type='cuda')"
            ]
          },
          "metadata": {},
          "execution_count": 28
        }
      ]
    },
    {
      "cell_type": "code",
      "metadata": {
        "colab": {
          "base_uri": "https://localhost:8080/",
          "height": 362
        },
        "id": "TcXuzo_4wAIL",
        "outputId": "1dd58ae0-c9c0-42f5-db5e-80b1ea29f79c"
      },
      "source": [
        "import pandas as pd\n",
        "\n",
        "train_objects = pd.read_csv('object_image2.csv', header=None, names=['ID', 'objects'])\n",
        "\n",
        "train_objects.info()\n",
        "train_objects.head()"
      ],
      "id": "TcXuzo_4wAIL",
      "execution_count": null,
      "outputs": [
        {
          "output_type": "stream",
          "name": "stdout",
          "text": [
            "<class 'pandas.core.frame.DataFrame'>\n",
            "RangeIndex: 19816 entries, 0 to 19815\n",
            "Data columns (total 2 columns):\n",
            " #   Column   Non-Null Count  Dtype \n",
            "---  ------   --------------  ----- \n",
            " 0   ID       19816 non-null  int64 \n",
            " 1   objects  19816 non-null  object\n",
            "dtypes: int64(1), object(1)\n",
            "memory usage: 309.8+ KB\n"
          ]
        },
        {
          "output_type": "execute_result",
          "data": {
            "text/html": [
              "<div>\n",
              "<style scoped>\n",
              "    .dataframe tbody tr th:only-of-type {\n",
              "        vertical-align: middle;\n",
              "    }\n",
              "\n",
              "    .dataframe tbody tr th {\n",
              "        vertical-align: top;\n",
              "    }\n",
              "\n",
              "    .dataframe thead th {\n",
              "        text-align: right;\n",
              "    }\n",
              "</style>\n",
              "<table border=\"1\" class=\"dataframe\">\n",
              "  <thead>\n",
              "    <tr style=\"text-align: right;\">\n",
              "      <th></th>\n",
              "      <th>ID</th>\n",
              "      <th>objects</th>\n",
              "    </tr>\n",
              "  </thead>\n",
              "  <tbody>\n",
              "    <tr>\n",
              "      <th>0</th>\n",
              "      <td>840006160660983809</td>\n",
              "      <td>['tvmonitor']</td>\n",
              "    </tr>\n",
              "    <tr>\n",
              "      <th>1</th>\n",
              "      <td>908913372199915520</td>\n",
              "      <td>['zebra', 'cow']</td>\n",
              "    </tr>\n",
              "    <tr>\n",
              "      <th>2</th>\n",
              "      <td>916496521406726145</td>\n",
              "      <td>['train']</td>\n",
              "    </tr>\n",
              "    <tr>\n",
              "      <th>3</th>\n",
              "      <td>916364004129304576</td>\n",
              "      <td>[]</td>\n",
              "    </tr>\n",
              "    <tr>\n",
              "      <th>4</th>\n",
              "      <td>853866052589154304</td>\n",
              "      <td>[]</td>\n",
              "    </tr>\n",
              "  </tbody>\n",
              "</table>\n",
              "</div>"
            ],
            "text/plain": [
              "                   ID           objects\n",
              "0  840006160660983809     ['tvmonitor']\n",
              "1  908913372199915520  ['zebra', 'cow']\n",
              "2  916496521406726145         ['train']\n",
              "3  916364004129304576                []\n",
              "4  853866052589154304                []"
            ]
          },
          "metadata": {},
          "execution_count": 29
        }
      ]
    },
    {
      "cell_type": "code",
      "metadata": {
        "colab": {
          "base_uri": "https://localhost:8080/",
          "height": 206
        },
        "id": "Kf91pwGfpot3",
        "outputId": "77efd082-84b7-43b6-efb7-69acb38fa858"
      },
      "source": [
        "for _, row in train_objects.iterrows():\n",
        "    train_df.loc[train_df[\"ID\"] == int(row['ID']),'object'] = row['objects']  \n",
        "\n",
        "train_df.head()"
      ],
      "id": "Kf91pwGfpot3",
      "execution_count": null,
      "outputs": [
        {
          "output_type": "execute_result",
          "data": {
            "text/html": [
              "<div>\n",
              "<style scoped>\n",
              "    .dataframe tbody tr th:only-of-type {\n",
              "        vertical-align: middle;\n",
              "    }\n",
              "\n",
              "    .dataframe tbody tr th {\n",
              "        vertical-align: top;\n",
              "    }\n",
              "\n",
              "    .dataframe thead th {\n",
              "        text-align: right;\n",
              "    }\n",
              "</style>\n",
              "<table border=\"1\" class=\"dataframe\">\n",
              "  <thead>\n",
              "    <tr style=\"text-align: right;\">\n",
              "      <th></th>\n",
              "      <th>ID</th>\n",
              "      <th>Text</th>\n",
              "      <th>Sarcastic</th>\n",
              "      <th>object</th>\n",
              "    </tr>\n",
              "  </thead>\n",
              "  <tbody>\n",
              "    <tr>\n",
              "      <th>2456</th>\n",
              "      <td>818244815624302594</td>\n",
              "      <td>2 win a free pair of tickets to the rockets vs...</td>\n",
              "      <td>False</td>\n",
              "      <td>['bus']</td>\n",
              "    </tr>\n",
              "    <tr>\n",
              "      <th>847</th>\n",
              "      <td>709583015987445760</td>\n",
              "      <td>thanks &lt;user&gt; for all the pepper . i really en...</td>\n",
              "      <td>True</td>\n",
              "      <td>['sandwich']</td>\n",
              "    </tr>\n",
              "    <tr>\n",
              "      <th>26717</th>\n",
              "      <td>684979497074991104</td>\n",
              "      <td>these things go well together</td>\n",
              "      <td>True</td>\n",
              "      <td>[]</td>\n",
              "    </tr>\n",
              "    <tr>\n",
              "      <th>14159</th>\n",
              "      <td>820051629370052608</td>\n",
              "      <td>appreciate this evolution</td>\n",
              "      <td>False</td>\n",
              "      <td>['person']</td>\n",
              "    </tr>\n",
              "    <tr>\n",
              "      <th>16161</th>\n",
              "      <td>871151361047445504</td>\n",
              "      <td>this is what lambie is like ? i would never ha...</td>\n",
              "      <td>True</td>\n",
              "      <td>['refrigerator']</td>\n",
              "    </tr>\n",
              "  </tbody>\n",
              "</table>\n",
              "</div>"
            ],
            "text/plain": [
              "                       ID  ...            object\n",
              "2456   818244815624302594  ...           ['bus']\n",
              "847    709583015987445760  ...      ['sandwich']\n",
              "26717  684979497074991104  ...                []\n",
              "14159  820051629370052608  ...        ['person']\n",
              "16161  871151361047445504  ...  ['refrigerator']\n",
              "\n",
              "[5 rows x 4 columns]"
            ]
          },
          "metadata": {},
          "execution_count": 30
        }
      ]
    },
    {
      "cell_type": "code",
      "metadata": {
        "colab": {
          "base_uri": "https://localhost:8080/",
          "height": 206
        },
        "id": "ylWQ21Lfr2eA",
        "outputId": "476b1af3-ff03-42f4-e96e-f43541a5f747"
      },
      "source": [
        "train_df['object'] = train_df['object'].apply(lambda x: x[1:-1])\n",
        "train_df.head()"
      ],
      "id": "ylWQ21Lfr2eA",
      "execution_count": null,
      "outputs": [
        {
          "output_type": "execute_result",
          "data": {
            "text/html": [
              "<div>\n",
              "<style scoped>\n",
              "    .dataframe tbody tr th:only-of-type {\n",
              "        vertical-align: middle;\n",
              "    }\n",
              "\n",
              "    .dataframe tbody tr th {\n",
              "        vertical-align: top;\n",
              "    }\n",
              "\n",
              "    .dataframe thead th {\n",
              "        text-align: right;\n",
              "    }\n",
              "</style>\n",
              "<table border=\"1\" class=\"dataframe\">\n",
              "  <thead>\n",
              "    <tr style=\"text-align: right;\">\n",
              "      <th></th>\n",
              "      <th>ID</th>\n",
              "      <th>Text</th>\n",
              "      <th>Sarcastic</th>\n",
              "      <th>object</th>\n",
              "    </tr>\n",
              "  </thead>\n",
              "  <tbody>\n",
              "    <tr>\n",
              "      <th>2456</th>\n",
              "      <td>818244815624302594</td>\n",
              "      <td>2 win a free pair of tickets to the rockets vs...</td>\n",
              "      <td>False</td>\n",
              "      <td>'bus'</td>\n",
              "    </tr>\n",
              "    <tr>\n",
              "      <th>847</th>\n",
              "      <td>709583015987445760</td>\n",
              "      <td>thanks &lt;user&gt; for all the pepper . i really en...</td>\n",
              "      <td>True</td>\n",
              "      <td>'sandwich'</td>\n",
              "    </tr>\n",
              "    <tr>\n",
              "      <th>26717</th>\n",
              "      <td>684979497074991104</td>\n",
              "      <td>these things go well together</td>\n",
              "      <td>True</td>\n",
              "      <td></td>\n",
              "    </tr>\n",
              "    <tr>\n",
              "      <th>14159</th>\n",
              "      <td>820051629370052608</td>\n",
              "      <td>appreciate this evolution</td>\n",
              "      <td>False</td>\n",
              "      <td>'person'</td>\n",
              "    </tr>\n",
              "    <tr>\n",
              "      <th>16161</th>\n",
              "      <td>871151361047445504</td>\n",
              "      <td>this is what lambie is like ? i would never ha...</td>\n",
              "      <td>True</td>\n",
              "      <td>'refrigerator'</td>\n",
              "    </tr>\n",
              "  </tbody>\n",
              "</table>\n",
              "</div>"
            ],
            "text/plain": [
              "                       ID  ...          object\n",
              "2456   818244815624302594  ...           'bus'\n",
              "847    709583015987445760  ...      'sandwich'\n",
              "26717  684979497074991104  ...                \n",
              "14159  820051629370052608  ...        'person'\n",
              "16161  871151361047445504  ...  'refrigerator'\n",
              "\n",
              "[5 rows x 4 columns]"
            ]
          },
          "metadata": {},
          "execution_count": 31
        }
      ]
    },
    {
      "cell_type": "code",
      "metadata": {
        "colab": {
          "base_uri": "https://localhost:8080/",
          "height": 362
        },
        "id": "lDPrcv_gpKCk",
        "outputId": "aa15491f-e474-4037-cde2-903677acdd24"
      },
      "source": [
        "val_objects = pd.read_csv('object_image_val.csv', header=None, names=['ID', 'objects'])\n",
        "\n",
        "val_objects.info()\n",
        "val_objects.head()"
      ],
      "id": "lDPrcv_gpKCk",
      "execution_count": null,
      "outputs": [
        {
          "output_type": "stream",
          "name": "stdout",
          "text": [
            "<class 'pandas.core.frame.DataFrame'>\n",
            "RangeIndex: 2410 entries, 0 to 2409\n",
            "Data columns (total 2 columns):\n",
            " #   Column   Non-Null Count  Dtype \n",
            "---  ------   --------------  ----- \n",
            " 0   ID       2410 non-null   int64 \n",
            " 1   objects  2410 non-null   object\n",
            "dtypes: int64(1), object(1)\n",
            "memory usage: 37.8+ KB\n"
          ]
        },
        {
          "output_type": "execute_result",
          "data": {
            "text/html": [
              "<div>\n",
              "<style scoped>\n",
              "    .dataframe tbody tr th:only-of-type {\n",
              "        vertical-align: middle;\n",
              "    }\n",
              "\n",
              "    .dataframe tbody tr th {\n",
              "        vertical-align: top;\n",
              "    }\n",
              "\n",
              "    .dataframe thead th {\n",
              "        text-align: right;\n",
              "    }\n",
              "</style>\n",
              "<table border=\"1\" class=\"dataframe\">\n",
              "  <thead>\n",
              "    <tr style=\"text-align: right;\">\n",
              "      <th></th>\n",
              "      <th>ID</th>\n",
              "      <th>objects</th>\n",
              "    </tr>\n",
              "  </thead>\n",
              "  <tbody>\n",
              "    <tr>\n",
              "      <th>0</th>\n",
              "      <td>915657464401580032</td>\n",
              "      <td>['bicycle', 'backpack']</td>\n",
              "    </tr>\n",
              "    <tr>\n",
              "      <th>1</th>\n",
              "      <td>854678856724340736</td>\n",
              "      <td>['person', 'handbag']</td>\n",
              "    </tr>\n",
              "    <tr>\n",
              "      <th>2</th>\n",
              "      <td>904892917277274112</td>\n",
              "      <td>['laptop', 'book', 'person']</td>\n",
              "    </tr>\n",
              "    <tr>\n",
              "      <th>3</th>\n",
              "      <td>855466461296504832</td>\n",
              "      <td>['chair']</td>\n",
              "    </tr>\n",
              "    <tr>\n",
              "      <th>4</th>\n",
              "      <td>927373534652805120</td>\n",
              "      <td>['book', 'pottedplant']</td>\n",
              "    </tr>\n",
              "  </tbody>\n",
              "</table>\n",
              "</div>"
            ],
            "text/plain": [
              "                   ID                       objects\n",
              "0  915657464401580032       ['bicycle', 'backpack']\n",
              "1  854678856724340736         ['person', 'handbag']\n",
              "2  904892917277274112  ['laptop', 'book', 'person']\n",
              "3  855466461296504832                     ['chair']\n",
              "4  927373534652805120       ['book', 'pottedplant']"
            ]
          },
          "metadata": {},
          "execution_count": 32
        }
      ]
    },
    {
      "cell_type": "code",
      "metadata": {
        "colab": {
          "base_uri": "https://localhost:8080/",
          "height": 206
        },
        "id": "Dt5HJt3Ep9bf",
        "outputId": "8a9e5407-ddf4-4890-9f53-e15571fb29da"
      },
      "source": [
        "for _, row in val_objects.iterrows():\n",
        "    valid_df.loc[valid_df[\"ID\"] == int(row['ID']),'object'] = row['objects']  \n",
        "\n",
        "valid_df.head()"
      ],
      "id": "Dt5HJt3Ep9bf",
      "execution_count": null,
      "outputs": [
        {
          "output_type": "execute_result",
          "data": {
            "text/html": [
              "<div>\n",
              "<style scoped>\n",
              "    .dataframe tbody tr th:only-of-type {\n",
              "        vertical-align: middle;\n",
              "    }\n",
              "\n",
              "    .dataframe tbody tr th {\n",
              "        vertical-align: top;\n",
              "    }\n",
              "\n",
              "    .dataframe thead th {\n",
              "        text-align: right;\n",
              "    }\n",
              "</style>\n",
              "<table border=\"1\" class=\"dataframe\">\n",
              "  <thead>\n",
              "    <tr style=\"text-align: right;\">\n",
              "      <th></th>\n",
              "      <th>ID</th>\n",
              "      <th>Text</th>\n",
              "      <th>Sarcastic</th>\n",
              "      <th>Sarcastic_human</th>\n",
              "      <th>object</th>\n",
              "    </tr>\n",
              "  </thead>\n",
              "  <tbody>\n",
              "    <tr>\n",
              "      <th>2009</th>\n",
              "      <td>819329815048241152</td>\n",
              "      <td>welcome to the the vitale 's , whose 2 daughte...</td>\n",
              "      <td>False</td>\n",
              "      <td>0</td>\n",
              "      <td>['person', 'pottedplant', 'bench']</td>\n",
              "    </tr>\n",
              "    <tr>\n",
              "      <th>2082</th>\n",
              "      <td>819692523094470656</td>\n",
              "      <td>im cryif i love you mkre than anything in the ...</td>\n",
              "      <td>False</td>\n",
              "      <td>0</td>\n",
              "      <td>['person']</td>\n",
              "    </tr>\n",
              "    <tr>\n",
              "      <th>1684</th>\n",
              "      <td>820054764733931520</td>\n",
              "      <td>the beauty of nature</td>\n",
              "      <td>False</td>\n",
              "      <td>0</td>\n",
              "      <td>[]</td>\n",
              "    </tr>\n",
              "    <tr>\n",
              "      <th>2301</th>\n",
              "      <td>820052946788515845</td>\n",
              "      <td>i just choked</td>\n",
              "      <td>False</td>\n",
              "      <td>0</td>\n",
              "      <td>['book']</td>\n",
              "    </tr>\n",
              "    <tr>\n",
              "      <th>792</th>\n",
              "      <td>794312091402436608</td>\n",
              "      <td>yup . nearly an hour later . moved about &lt;num&gt;...</td>\n",
              "      <td>True</td>\n",
              "      <td>1</td>\n",
              "      <td>['laptop', 'person']</td>\n",
              "    </tr>\n",
              "  </tbody>\n",
              "</table>\n",
              "</div>"
            ],
            "text/plain": [
              "                      ID  ...                              object\n",
              "2009  819329815048241152  ...  ['person', 'pottedplant', 'bench']\n",
              "2082  819692523094470656  ...                          ['person']\n",
              "1684  820054764733931520  ...                                  []\n",
              "2301  820052946788515845  ...                            ['book']\n",
              "792   794312091402436608  ...                ['laptop', 'person']\n",
              "\n",
              "[5 rows x 5 columns]"
            ]
          },
          "metadata": {},
          "execution_count": 33
        }
      ]
    },
    {
      "cell_type": "code",
      "metadata": {
        "colab": {
          "base_uri": "https://localhost:8080/",
          "height": 206
        },
        "id": "zNl0IHTisxNh",
        "outputId": "2d9a2452-53e3-4501-c30b-5a6f1640bf67"
      },
      "source": [
        "valid_df['object'] = valid_df['object'].apply(lambda x: x[1:-1])\n",
        "valid_df.head()"
      ],
      "id": "zNl0IHTisxNh",
      "execution_count": null,
      "outputs": [
        {
          "output_type": "execute_result",
          "data": {
            "text/html": [
              "<div>\n",
              "<style scoped>\n",
              "    .dataframe tbody tr th:only-of-type {\n",
              "        vertical-align: middle;\n",
              "    }\n",
              "\n",
              "    .dataframe tbody tr th {\n",
              "        vertical-align: top;\n",
              "    }\n",
              "\n",
              "    .dataframe thead th {\n",
              "        text-align: right;\n",
              "    }\n",
              "</style>\n",
              "<table border=\"1\" class=\"dataframe\">\n",
              "  <thead>\n",
              "    <tr style=\"text-align: right;\">\n",
              "      <th></th>\n",
              "      <th>ID</th>\n",
              "      <th>Text</th>\n",
              "      <th>Sarcastic</th>\n",
              "      <th>Sarcastic_human</th>\n",
              "      <th>object</th>\n",
              "    </tr>\n",
              "  </thead>\n",
              "  <tbody>\n",
              "    <tr>\n",
              "      <th>2009</th>\n",
              "      <td>819329815048241152</td>\n",
              "      <td>welcome to the the vitale 's , whose 2 daughte...</td>\n",
              "      <td>False</td>\n",
              "      <td>0</td>\n",
              "      <td>'person', 'pottedplant', 'bench'</td>\n",
              "    </tr>\n",
              "    <tr>\n",
              "      <th>2082</th>\n",
              "      <td>819692523094470656</td>\n",
              "      <td>im cryif i love you mkre than anything in the ...</td>\n",
              "      <td>False</td>\n",
              "      <td>0</td>\n",
              "      <td>'person'</td>\n",
              "    </tr>\n",
              "    <tr>\n",
              "      <th>1684</th>\n",
              "      <td>820054764733931520</td>\n",
              "      <td>the beauty of nature</td>\n",
              "      <td>False</td>\n",
              "      <td>0</td>\n",
              "      <td></td>\n",
              "    </tr>\n",
              "    <tr>\n",
              "      <th>2301</th>\n",
              "      <td>820052946788515845</td>\n",
              "      <td>i just choked</td>\n",
              "      <td>False</td>\n",
              "      <td>0</td>\n",
              "      <td>'book'</td>\n",
              "    </tr>\n",
              "    <tr>\n",
              "      <th>792</th>\n",
              "      <td>794312091402436608</td>\n",
              "      <td>yup . nearly an hour later . moved about &lt;num&gt;...</td>\n",
              "      <td>True</td>\n",
              "      <td>1</td>\n",
              "      <td>'laptop', 'person'</td>\n",
              "    </tr>\n",
              "  </tbody>\n",
              "</table>\n",
              "</div>"
            ],
            "text/plain": [
              "                      ID  ...                            object\n",
              "2009  819329815048241152  ...  'person', 'pottedplant', 'bench'\n",
              "2082  819692523094470656  ...                          'person'\n",
              "1684  820054764733931520  ...                                  \n",
              "2301  820052946788515845  ...                            'book'\n",
              "792   794312091402436608  ...                'laptop', 'person'\n",
              "\n",
              "[5 rows x 5 columns]"
            ]
          },
          "metadata": {},
          "execution_count": 34
        }
      ]
    },
    {
      "cell_type": "code",
      "metadata": {
        "colab": {
          "base_uri": "https://localhost:8080/",
          "height": 362
        },
        "id": "BX5VGsK4pOvS",
        "outputId": "5b75332c-deb5-4869-834c-32a7638eb6c7"
      },
      "source": [
        "test_objects = pd.read_csv('object_image_test.csv', header=None, names=['ID', 'objects'])\n",
        "\n",
        "test_objects.info()\n",
        "test_objects.head()"
      ],
      "id": "BX5VGsK4pOvS",
      "execution_count": null,
      "outputs": [
        {
          "output_type": "stream",
          "name": "stdout",
          "text": [
            "<class 'pandas.core.frame.DataFrame'>\n",
            "RangeIndex: 2409 entries, 0 to 2408\n",
            "Data columns (total 2 columns):\n",
            " #   Column   Non-Null Count  Dtype \n",
            "---  ------   --------------  ----- \n",
            " 0   ID       2409 non-null   int64 \n",
            " 1   objects  2409 non-null   object\n",
            "dtypes: int64(1), object(1)\n",
            "memory usage: 37.8+ KB\n"
          ]
        },
        {
          "output_type": "execute_result",
          "data": {
            "text/html": [
              "<div>\n",
              "<style scoped>\n",
              "    .dataframe tbody tr th:only-of-type {\n",
              "        vertical-align: middle;\n",
              "    }\n",
              "\n",
              "    .dataframe tbody tr th {\n",
              "        vertical-align: top;\n",
              "    }\n",
              "\n",
              "    .dataframe thead th {\n",
              "        text-align: right;\n",
              "    }\n",
              "</style>\n",
              "<table border=\"1\" class=\"dataframe\">\n",
              "  <thead>\n",
              "    <tr style=\"text-align: right;\">\n",
              "      <th></th>\n",
              "      <th>ID</th>\n",
              "      <th>objects</th>\n",
              "    </tr>\n",
              "  </thead>\n",
              "  <tbody>\n",
              "    <tr>\n",
              "      <th>0</th>\n",
              "      <td>862902619928506372</td>\n",
              "      <td>[]</td>\n",
              "    </tr>\n",
              "    <tr>\n",
              "      <th>1</th>\n",
              "      <td>892551658487631873</td>\n",
              "      <td>['person']</td>\n",
              "    </tr>\n",
              "    <tr>\n",
              "      <th>2</th>\n",
              "      <td>853143461360480256</td>\n",
              "      <td>['cat']</td>\n",
              "    </tr>\n",
              "    <tr>\n",
              "      <th>3</th>\n",
              "      <td>918423568823840768</td>\n",
              "      <td>['traffic light', 'book']</td>\n",
              "    </tr>\n",
              "    <tr>\n",
              "      <th>4</th>\n",
              "      <td>731617467718610944</td>\n",
              "      <td>['laptop', 'person', 'bottle']</td>\n",
              "    </tr>\n",
              "  </tbody>\n",
              "</table>\n",
              "</div>"
            ],
            "text/plain": [
              "                   ID                         objects\n",
              "0  862902619928506372                              []\n",
              "1  892551658487631873                      ['person']\n",
              "2  853143461360480256                         ['cat']\n",
              "3  918423568823840768       ['traffic light', 'book']\n",
              "4  731617467718610944  ['laptop', 'person', 'bottle']"
            ]
          },
          "metadata": {},
          "execution_count": 35
        }
      ]
    },
    {
      "cell_type": "code",
      "metadata": {
        "colab": {
          "base_uri": "https://localhost:8080/",
          "height": 206
        },
        "id": "AX4NTiyxqA_w",
        "outputId": "99358566-6153-40c0-a8e4-2f3d7e8fed66"
      },
      "source": [
        "for _, row in test_objects.iterrows():\n",
        "    test_df.loc[test_df[\"ID\"] == int(row['ID']),'object'] = row['objects']  \n",
        "\n",
        "test_df.head()"
      ],
      "id": "AX4NTiyxqA_w",
      "execution_count": null,
      "outputs": [
        {
          "output_type": "execute_result",
          "data": {
            "text/html": [
              "<div>\n",
              "<style scoped>\n",
              "    .dataframe tbody tr th:only-of-type {\n",
              "        vertical-align: middle;\n",
              "    }\n",
              "\n",
              "    .dataframe tbody tr th {\n",
              "        vertical-align: top;\n",
              "    }\n",
              "\n",
              "    .dataframe thead th {\n",
              "        text-align: right;\n",
              "    }\n",
              "</style>\n",
              "<table border=\"1\" class=\"dataframe\">\n",
              "  <thead>\n",
              "    <tr style=\"text-align: right;\">\n",
              "      <th></th>\n",
              "      <th>ID</th>\n",
              "      <th>Text</th>\n",
              "      <th>Sarcastic</th>\n",
              "      <th>Sarcastic_human</th>\n",
              "      <th>object</th>\n",
              "    </tr>\n",
              "  </thead>\n",
              "  <tbody>\n",
              "    <tr>\n",
              "      <th>2009</th>\n",
              "      <td>822947223528869888</td>\n",
              "      <td>our signs in action at # womensmarchsanjose .</td>\n",
              "      <td>False</td>\n",
              "      <td>0</td>\n",
              "      <td>['person', 'backpack']</td>\n",
              "    </tr>\n",
              "    <tr>\n",
              "      <th>2082</th>\n",
              "      <td>822223962511843328</td>\n",
              "      <td>makeup i did on snap today , details will be l...</td>\n",
              "      <td>False</td>\n",
              "      <td>0</td>\n",
              "      <td>['person']</td>\n",
              "    </tr>\n",
              "    <tr>\n",
              "      <th>1684</th>\n",
              "      <td>822589093301391363</td>\n",
              "      <td>while in the workshop cleaning found the oppos...</td>\n",
              "      <td>False</td>\n",
              "      <td>0</td>\n",
              "      <td>['knife']</td>\n",
              "    </tr>\n",
              "    <tr>\n",
              "      <th>2301</th>\n",
              "      <td>819323165662965762</td>\n",
              "      <td>best 10 minutes of my day , god is good</td>\n",
              "      <td>False</td>\n",
              "      <td>0</td>\n",
              "      <td>[]</td>\n",
              "    </tr>\n",
              "    <tr>\n",
              "      <th>792</th>\n",
              "      <td>875868378698797056</td>\n",
              "      <td>it was nice enjoying this cooler weather for a...</td>\n",
              "      <td>True</td>\n",
              "      <td>1</td>\n",
              "      <td>[]</td>\n",
              "    </tr>\n",
              "  </tbody>\n",
              "</table>\n",
              "</div>"
            ],
            "text/plain": [
              "                      ID  ...                  object\n",
              "2009  822947223528869888  ...  ['person', 'backpack']\n",
              "2082  822223962511843328  ...              ['person']\n",
              "1684  822589093301391363  ...               ['knife']\n",
              "2301  819323165662965762  ...                      []\n",
              "792   875868378698797056  ...                      []\n",
              "\n",
              "[5 rows x 5 columns]"
            ]
          },
          "metadata": {},
          "execution_count": 36
        }
      ]
    },
    {
      "cell_type": "code",
      "metadata": {
        "colab": {
          "base_uri": "https://localhost:8080/",
          "height": 206
        },
        "id": "dwWA7zU1s1JW",
        "outputId": "bd9444f5-9d85-4cfd-e239-cf6f36c97dde"
      },
      "source": [
        "test_df['object'] = test_df['object'].apply(lambda x: x[1:-1])\n",
        "test_df.head()"
      ],
      "id": "dwWA7zU1s1JW",
      "execution_count": null,
      "outputs": [
        {
          "output_type": "execute_result",
          "data": {
            "text/html": [
              "<div>\n",
              "<style scoped>\n",
              "    .dataframe tbody tr th:only-of-type {\n",
              "        vertical-align: middle;\n",
              "    }\n",
              "\n",
              "    .dataframe tbody tr th {\n",
              "        vertical-align: top;\n",
              "    }\n",
              "\n",
              "    .dataframe thead th {\n",
              "        text-align: right;\n",
              "    }\n",
              "</style>\n",
              "<table border=\"1\" class=\"dataframe\">\n",
              "  <thead>\n",
              "    <tr style=\"text-align: right;\">\n",
              "      <th></th>\n",
              "      <th>ID</th>\n",
              "      <th>Text</th>\n",
              "      <th>Sarcastic</th>\n",
              "      <th>Sarcastic_human</th>\n",
              "      <th>object</th>\n",
              "    </tr>\n",
              "  </thead>\n",
              "  <tbody>\n",
              "    <tr>\n",
              "      <th>2009</th>\n",
              "      <td>822947223528869888</td>\n",
              "      <td>our signs in action at # womensmarchsanjose .</td>\n",
              "      <td>False</td>\n",
              "      <td>0</td>\n",
              "      <td>'person', 'backpack'</td>\n",
              "    </tr>\n",
              "    <tr>\n",
              "      <th>2082</th>\n",
              "      <td>822223962511843328</td>\n",
              "      <td>makeup i did on snap today , details will be l...</td>\n",
              "      <td>False</td>\n",
              "      <td>0</td>\n",
              "      <td>'person'</td>\n",
              "    </tr>\n",
              "    <tr>\n",
              "      <th>1684</th>\n",
              "      <td>822589093301391363</td>\n",
              "      <td>while in the workshop cleaning found the oppos...</td>\n",
              "      <td>False</td>\n",
              "      <td>0</td>\n",
              "      <td>'knife'</td>\n",
              "    </tr>\n",
              "    <tr>\n",
              "      <th>2301</th>\n",
              "      <td>819323165662965762</td>\n",
              "      <td>best 10 minutes of my day , god is good</td>\n",
              "      <td>False</td>\n",
              "      <td>0</td>\n",
              "      <td></td>\n",
              "    </tr>\n",
              "    <tr>\n",
              "      <th>792</th>\n",
              "      <td>875868378698797056</td>\n",
              "      <td>it was nice enjoying this cooler weather for a...</td>\n",
              "      <td>True</td>\n",
              "      <td>1</td>\n",
              "      <td></td>\n",
              "    </tr>\n",
              "  </tbody>\n",
              "</table>\n",
              "</div>"
            ],
            "text/plain": [
              "                      ID  ...                object\n",
              "2009  822947223528869888  ...  'person', 'backpack'\n",
              "2082  822223962511843328  ...              'person'\n",
              "1684  822589093301391363  ...               'knife'\n",
              "2301  819323165662965762  ...                      \n",
              "792   875868378698797056  ...                      \n",
              "\n",
              "[5 rows x 5 columns]"
            ]
          },
          "metadata": {},
          "execution_count": 37
        }
      ]
    },
    {
      "cell_type": "code",
      "metadata": {
        "id": "a4a0f5d4"
      },
      "source": [
        "# import csv\n",
        "\n",
        "# with open('object_image2.csv') as csv_file:\n",
        "#     csv_reader = csv.reader(csv_file, delimiter=',')\n",
        "#     for row in csv_reader:\n",
        "#         ID = row[0]\n",
        "#         obj = row[1]\n",
        "        \n",
        "#         str_obj = obj.replace(\"[\",\"\")\n",
        "#         str_obj = str_obj.replace(\"]\",\"\")\n",
        "#         train_df.loc[train_df[\"ID\"] == int(row[0]),\"object\"] = str_obj        "
      ],
      "id": "a4a0f5d4",
      "execution_count": null,
      "outputs": []
    },
    {
      "cell_type": "code",
      "metadata": {
        "id": "62adb17b",
        "colab": {
          "base_uri": "https://localhost:8080/"
        },
        "outputId": "efb613ee-2caf-47f6-c171-b365db0d8eae"
      },
      "source": [
        "\n",
        "#print(df_train[\"object\"])\n",
        "print(train_df.isna().sum())\n",
        "print(valid_df.isna().sum())\n",
        "print(test_df.isna().sum())\n",
        "# train_df = train_df.fillna(' ')\n",
        "# print(train_df[\"object\"])"
      ],
      "id": "62adb17b",
      "execution_count": null,
      "outputs": [
        {
          "output_type": "stream",
          "name": "stdout",
          "text": [
            "ID           0\n",
            "Text         0\n",
            "Sarcastic    0\n",
            "object       0\n",
            "dtype: int64\n",
            "ID                 0\n",
            "Text               0\n",
            "Sarcastic          0\n",
            "Sarcastic_human    0\n",
            "object             0\n",
            "dtype: int64\n",
            "ID                 0\n",
            "Text               0\n",
            "Sarcastic          0\n",
            "Sarcastic_human    0\n",
            "object             0\n",
            "dtype: int64\n"
          ]
        }
      ]
    },
    {
      "cell_type": "code",
      "metadata": {
        "colab": {
          "base_uri": "https://localhost:8080/"
        },
        "id": "a53bc76d",
        "outputId": "d4edd2b2-3d49-47a1-e672-8d413eb680eb"
      },
      "source": [
        "text_train_dataloader,text_test_dataloader = prepare_dataloaders(train_df, test_df)\n",
        "_,text_val_dataloader = prepare_dataloaders(train_df, valid_df)"
      ],
      "id": "a53bc76d",
      "execution_count": null,
      "outputs": [
        {
          "output_type": "stream",
          "name": "stderr",
          "text": [
            "Special tokens have been added in the vocabulary, make sure the associated word embeddings are fine-tuned or trained.\n",
            "/usr/local/lib/python3.7/dist-packages/transformers/tokenization_utils_base.py:2218: FutureWarning: The `pad_to_max_length` argument is deprecated and will be removed in a future version, use `padding=True` or `padding='longest'` to pad to the longest sequence in the batch, or use `padding='max_length'` to pad to a max length. In this case, you can give a specific length with `max_length` (e.g. `max_length=45`) or leave max_length to None to pad to the maximal input size of the model (e.g. 512 for Bert).\n",
            "  FutureWarning,\n",
            "Special tokens have been added in the vocabulary, make sure the associated word embeddings are fine-tuned or trained.\n"
          ]
        }
      ]
    },
    {
      "cell_type": "code",
      "metadata": {
        "id": "f3e123e4"
      },
      "source": [
        "def prepare_model(model_class=\"vinai/bertweet-base\",num_classes=2,model_to_load=None,total_steps=-1):\n",
        "    \n",
        "    #model = AutoModel.from_pretrained(model_class)\n",
        "\n",
        "    model = AutoModelForSequenceClassification.from_pretrained(\n",
        "        model_class,\n",
        "        num_labels = num_classes,  \n",
        "        output_attentions = False, \n",
        "        output_hidden_states = True,\n",
        "    )\n",
        "\n",
        "    optimizer = AdamW(model.parameters(),\n",
        "                    lr = 5e-5,\n",
        "                    eps = 1e-8\n",
        "                    )\n",
        "    scheduler = get_linear_schedule_with_warmup(optimizer, \n",
        "                                                num_warmup_steps = 0, \n",
        "                                                num_training_steps = total_steps)\n",
        "\n",
        "    if model_to_load is not None:\n",
        "        try:\n",
        "            model.roberta.load_state_dict(torch.load(model_to_load))\n",
        "            print(\"LOADED MODEL\")\n",
        "        except:\n",
        "            pass\n",
        "    return model, optimizer, scheduler"
      ],
      "id": "f3e123e4",
      "execution_count": null,
      "outputs": []
    },
    {
      "cell_type": "code",
      "metadata": {
        "id": "4c0b5570"
      },
      "source": [
        "# count = 0\n",
        "# for batch in text_train_dataloader:\n",
        "#     count+=1\n",
        "#     print(batch[0])\n",
        "#     if count==5:\n",
        "#         break"
      ],
      "id": "4c0b5570",
      "execution_count": null,
      "outputs": []
    },
    {
      "cell_type": "code",
      "metadata": {
        "id": "e4e8ddd3"
      },
      "source": [
        "class MultiModel(nn.Module):\n",
        "    def __init__(self):\n",
        "        super(MultiModel, self).__init__()\n",
        "        #Resnet50 for image\n",
        "        self.text_model, _, _ = prepare_model(\"vinai/bertweet-base\" ,num_classes=2, model_to_load=None, total_steps = total_steps)\n",
        "        self.linear_1 = nn.Linear(768,300)\n",
        "        #self.text_model = AutoModelForSequenceClassification.from_pretrained(\n",
        "        #model_class = \"vinai/bertweet-base\",\n",
        "        #num_labels = 2,  \n",
        "        #output_attentions = False, \n",
        "        #output_hidden_states = False,)\n",
        "        \n",
        "        self.image_model = torchvision.models.resnet50(\n",
        "            pretrained=True\n",
        "        )\n",
        "        #resnet_output_feature_dim = 300\n",
        "        #bert_output_feature_dim = 300\n",
        "        #fusion_input_feature = 300+300 = 600\n",
        "        self.image_model.fc = nn.Sequential(\n",
        "               nn.Linear(2048, 128),\n",
        "               nn.ReLU(inplace=True),\n",
        "               nn.Linear(128, 300))\n",
        "        \n",
        "        \n",
        "        # Combined\n",
        "        \n",
        "        #fusion_input_feature = 300+300 = 600\n",
        "        #fusion_output_size = 128\n",
        "        self.combined_fc1 = nn.Linear(600, 256)\n",
        "        self.combined_fc2 = nn.Linear(256, 128)\n",
        "        \n",
        "        self.output_fc = nn.Linear(128, 2)\n",
        "       \n",
        "        #self.text_train_dataset = image_dataloaders[\"train\"]\n",
        "        #self.text_dev_dataset = image_dataloaders[\"validation\"]\n",
        "        #self.image_train_dataset = text_train_dataloader\n",
        "        #self.image_dev_dataset = text_val_dataloader\n",
        "\n",
        "    \n",
        "    def forward(self, text,text_mask,image):\n",
        "        text = text\n",
        "        bert_out = self.text_model(text)\n",
        "        #last_layer = bert_out.last_hidden_state[:,0,:]\n",
        "        #last_layer = self.linear_1(last_layer)\n",
        "        #print(len(bert_out))\n",
        "        \n",
        "        last_layer = bert_out.hidden_states[-1][:, 0, :]\n",
        "        #print(last_layer.shape)\n",
        "        image = image\n",
        "        resnet_out = self.image_model(image)\n",
        "        # print(\"resnet output\")\n",
        "        # print(resnet_out.shape)\n",
        "        last_layer= self.linear_1(last_layer)\n",
        "        combined_emb = torch.cat((resnet_out, last_layer), 1)\n",
        "        # print(\"combined_emb\")\n",
        "        # print(combined_emb.shape)\n",
        "        x_comb = F.relu(self.combined_fc1(combined_emb))\n",
        "        x_comb = F.relu(self.combined_fc2(x_comb))\n",
        "        out = torch.sigmoid(self.output_fc(x_comb))\n",
        "        #logits = self.output_fc(x_comb)\n",
        "        #pred = torch.nn.functional.softmax(logits)\n",
        "        return out\n"
      ],
      "id": "e4e8ddd3",
      "execution_count": null,
      "outputs": []
    },
    {
      "cell_type": "code",
      "metadata": {
        "id": "0e1e3974"
      },
      "source": [
        "import gc\n",
        "\n",
        "def train_model(model, dataloaders, criterion, optimizer, num_epochs):\n",
        "    for epoch in range(num_epochs):\n",
        "        print('Epoch {}/{}'.format(epoch+1, num_epochs))\n",
        "        print('-' * 10)\n",
        "\n",
        "        for phase in ['train', 'validation']:\n",
        "            if phase == 'train':\n",
        "                model.train()\n",
        "            else:\n",
        "                model.eval()\n",
        "\n",
        "            running_loss = 0.0\n",
        "            running_corrects = 0\n",
        "\n",
        "            for image_inputs,text_inputs,text_masks,labels in dataloaders[phase]:\n",
        "                if phase != 'train':\n",
        "                    with torch.no_grad():\n",
        "                        text_inputs = text_inputs.to(device)\n",
        "                        image_inputs = image_inputs.to(device)\n",
        "                        labels = labels.to(device)\n",
        "\n",
        "                        outputs = model(text_inputs,text_masks,image_inputs)\n",
        "                        \n",
        "                        loss = criterion(outputs, labels)\n",
        "                        if phase == 'train':\n",
        "                            optimizer.zero_grad()\n",
        "                            loss.backward()\n",
        "                            optimizer.step()\n",
        "\n",
        "                        _, preds = torch.max(outputs.detach(), 1)\n",
        "                        running_loss += loss.detach().item() * image_inputs.size(0)\n",
        "                        running_corrects += torch.sum(preds == labels.data)\n",
        "                else:\n",
        "                    text_inputs = text_inputs.to(device)\n",
        "                    image_inputs = image_inputs.to(device)\n",
        "                    labels = labels.to(device)\n",
        "\n",
        "                    outputs = model(text_inputs,text_masks,image_inputs)\n",
        "                    \n",
        "                    loss = criterion(outputs, labels)\n",
        "                    if phase == 'train':\n",
        "                        optimizer.zero_grad()\n",
        "                        loss.backward()\n",
        "                        optimizer.step()\n",
        "\n",
        "                    _, preds = torch.max(outputs.detach(), 1)\n",
        "                    running_loss += loss.detach().item() * image_inputs.size(0)\n",
        "                    running_corrects += torch.sum(preds == labels.data)\n",
        "\n",
        "            epoch_loss = running_loss / len(image_datasets[phase])\n",
        "            epoch_acc = running_corrects.double() / len(image_datasets[phase])\n",
        "\n",
        "            print('{} loss: {:.4f}, acc: {:.4f}'.format(phase,\n",
        "                                                        epoch_loss,\n",
        "                                                        epoch_acc))\n",
        "            # print('Memory cached: {}'.format(torch.cuda.memory_cached()))\n",
        "            # print('-' * 10)\n",
        "            torch.cuda.empty_cache()\n",
        "            gc.collect()\n",
        "\n",
        "    return model"
      ],
      "id": "0e1e3974",
      "execution_count": null,
      "outputs": []
    },
    {
      "cell_type": "code",
      "metadata": {
        "colab": {
          "base_uri": "https://localhost:8080/"
        },
        "id": "9xoroZbA_WCK",
        "outputId": "4c9be1b6-fea9-4ffa-f00f-affffcda660c"
      },
      "source": [
        "torch.cuda.empty_cache()\n",
        "gc.collect()"
      ],
      "id": "9xoroZbA_WCK",
      "execution_count": null,
      "outputs": [
        {
          "output_type": "execute_result",
          "data": {
            "text/plain": [
              "50"
            ]
          },
          "metadata": {},
          "execution_count": 46
        }
      ]
    },
    {
      "cell_type": "code",
      "metadata": {
        "colab": {
          "base_uri": "https://localhost:8080/"
        },
        "id": "Mt78lAbZ-yEq",
        "outputId": "6e74895e-cd24-4bbe-9d62-600dfb60d77e"
      },
      "source": [
        "from transformers import AutoModel, AutoTokenizer\n",
        "tokenizer = AutoTokenizer.from_pretrained(\"vinai/bertweet-base\", use_fast=False, normalization=True)\n",
        "\n",
        "tweet_train = bert_encode(train_df, tokenizer)\n",
        "\n",
        "input_ids, attention_masks = tweet_train.values()\n",
        "input_ids = list(input_ids)\n",
        "attention_masks = list(attention_masks)\n",
        "\n",
        "tweet_train_dict = {\n",
        "    id: (ids, masks) for id, ids, masks in zip(train_df['ID'], input_ids, attention_masks)\n",
        "}"
      ],
      "id": "Mt78lAbZ-yEq",
      "execution_count": null,
      "outputs": [
        {
          "output_type": "stream",
          "name": "stderr",
          "text": [
            "Special tokens have been added in the vocabulary, make sure the associated word embeddings are fine-tuned or trained.\n",
            "/usr/local/lib/python3.7/dist-packages/transformers/tokenization_utils_base.py:2218: FutureWarning: The `pad_to_max_length` argument is deprecated and will be removed in a future version, use `padding=True` or `padding='longest'` to pad to the longest sequence in the batch, or use `padding='max_length'` to pad to a max length. In this case, you can give a specific length with `max_length` (e.g. `max_length=45`) or leave max_length to None to pad to the maximal input size of the model (e.g. 512 for Bert).\n",
            "  FutureWarning,\n"
          ]
        }
      ]
    },
    {
      "cell_type": "code",
      "metadata": {
        "colab": {
          "base_uri": "https://localhost:8080/"
        },
        "id": "4GwdmeHR-ztx",
        "outputId": "84ba7c11-48aa-4924-a4fe-5bbef3788235"
      },
      "source": [
        "tweet_valid = bert_encode(valid_df, tokenizer)\n",
        "\n",
        "input_ids, attention_masks = tweet_valid.values()\n",
        "\n",
        "input_ids = list(input_ids)\n",
        "attention_masks = list(attention_masks)\n",
        "\n",
        "tweet_valid_dict = {\n",
        "    id: (ids, masks) for id, ids, masks in zip(valid_df['ID'], input_ids, attention_masks)\n",
        "}"
      ],
      "id": "4GwdmeHR-ztx",
      "execution_count": null,
      "outputs": [
        {
          "output_type": "stream",
          "name": "stderr",
          "text": [
            "/usr/local/lib/python3.7/dist-packages/transformers/tokenization_utils_base.py:2218: FutureWarning: The `pad_to_max_length` argument is deprecated and will be removed in a future version, use `padding=True` or `padding='longest'` to pad to the longest sequence in the batch, or use `padding='max_length'` to pad to a max length. In this case, you can give a specific length with `max_length` (e.g. `max_length=45`) or leave max_length to None to pad to the maximal input size of the model (e.g. 512 for Bert).\n",
            "  FutureWarning,\n"
          ]
        }
      ]
    },
    {
      "cell_type": "code",
      "metadata": {
        "id": "3lDFgHGG-2wR"
      },
      "source": [
        "class ImageTextDataset(datasets.ImageFolder):\n",
        "    def __init__(self, img_path, data_transforms, text_data):\n",
        "        super().__init__(img_path, data_transforms)\n",
        "        self.text_data = text_data\n",
        "\n",
        "    def __getitem__(self, index):\n",
        "        # Image data\n",
        "        img, label = super(ImageTextDataset, self).__getitem__(index)\n",
        "        \n",
        "        # Image ID\n",
        "        id = int(os.path.basename(self.imgs[index][0]).split('.')[0])\n",
        "\n",
        "        # Text data\n",
        "        text_data_tuple = self.text_data[id]\n",
        "        \n",
        "        return ((img,)  + text_data_tuple + (label,))"
      ],
      "id": "3lDFgHGG-2wR",
      "execution_count": null,
      "outputs": []
    },
    {
      "cell_type": "code",
      "metadata": {
        "id": "aIZfWo7e-9Hw"
      },
      "source": [
        "normalize = transforms.Normalize(mean=[0.485, 0.456, 0.406],\n",
        "                                 std=[0.229, 0.224, 0.225])\n",
        "\n",
        "data_transforms = {\n",
        "    'train':\n",
        "    transforms.Compose([\n",
        "        transforms.Resize((224,224)),\n",
        "        transforms.RandomAffine(0, shear=10, scale=(0.8,1.2)),\n",
        "        transforms.RandomHorizontalFlip(),\n",
        "        transforms.ToTensor(),\n",
        "        normalize\n",
        "    ]),\n",
        "    'validation':\n",
        "    transforms.Compose([\n",
        "        transforms.Resize((224,224)),\n",
        "        transforms.ToTensor(),\n",
        "        normalize\n",
        "    ]),\n",
        "}\n",
        "\n",
        "image_datasets = {\n",
        "    'train': \n",
        "    ImageTextDataset('dataset_image/train', data_transforms['train'], tweet_train_dict),\n",
        "    'validation': \n",
        "    ImageTextDataset('dataset_image/val', data_transforms['validation'], tweet_valid_dict)\n",
        "}\n",
        "\n",
        "\n",
        "BATCH_SIZE = 64\n",
        "dataloaders = {\n",
        "    'train':\n",
        "    torch.utils.data.DataLoader(image_datasets['train'],\n",
        "                                batch_size=BATCH_SIZE,\n",
        "                                shuffle=True),\n",
        "    'validation':\n",
        "    torch.utils.data.DataLoader(image_datasets['validation'],\n",
        "                                batch_size=BATCH_SIZE,\n",
        "                                shuffle=False)\n",
        "}"
      ],
      "id": "aIZfWo7e-9Hw",
      "execution_count": null,
      "outputs": []
    },
    {
      "cell_type": "code",
      "metadata": {
        "id": "9fcfda52",
        "colab": {
          "base_uri": "https://localhost:8080/",
          "height": 173,
          "referenced_widgets": [
            "6d1a725dc14f42a3a7605082cb06426f",
            "3ee34d5e8d4e42df9ff7b82b8febfcd1",
            "75fb4b3222ba490796d8f88a906ea4d0",
            "37accddb83c14c199e488e1a87aab943",
            "733bcdafced040f581c8fc08e1700136",
            "24ef62b6fdb54e8695b7af34164aa2b3",
            "16fef38c3d1b4b4a859c45b41cdd4e5b",
            "804c3791caec43208287c07bda704b91",
            "a717c246348e494ba06a20eee80d3028",
            "30197f7322484a0b86bf6e51626eb702",
            "a922af6bb1364b12b87aac141c301195"
          ]
        },
        "outputId": "5506e91e-071f-4a80-f06d-fd5cbd9a2ec4"
      },
      "source": [
        "epochs = 10\n",
        "total_steps = len(train_df) * epochs\n",
        "model = MultiModel().to(device)\n",
        "\n",
        "criterion = nn.CrossEntropyLoss()\n",
        "optimizer = AdamW(model.parameters(),\n",
        "                    lr = 5e-5,\n",
        "                    eps = 1e-8\n",
        "                    )\n",
        "\n",
        "#loss_func = nn.MSELoss()\n",
        "#optimizer = torch.optim.Adam(model.parameters(), lr=learning_rate)"
      ],
      "id": "9fcfda52",
      "execution_count": null,
      "outputs": [
        {
          "output_type": "stream",
          "name": "stderr",
          "text": [
            "Some weights of the model checkpoint at vinai/bertweet-base were not used when initializing RobertaForSequenceClassification: ['roberta.pooler.dense.bias', 'lm_head.layer_norm.bias', 'lm_head.bias', 'roberta.pooler.dense.weight', 'lm_head.dense.weight', 'lm_head.layer_norm.weight', 'lm_head.decoder.weight', 'lm_head.decoder.bias', 'lm_head.dense.bias']\n",
            "- This IS expected if you are initializing RobertaForSequenceClassification from the checkpoint of a model trained on another task or with another architecture (e.g. initializing a BertForSequenceClassification model from a BertForPreTraining model).\n",
            "- This IS NOT expected if you are initializing RobertaForSequenceClassification from the checkpoint of a model that you expect to be exactly identical (initializing a BertForSequenceClassification model from a BertForSequenceClassification model).\n",
            "Some weights of RobertaForSequenceClassification were not initialized from the model checkpoint at vinai/bertweet-base and are newly initialized: ['classifier.dense.bias', 'classifier.dense.weight', 'classifier.out_proj.weight', 'classifier.out_proj.bias']\n",
            "You should probably TRAIN this model on a down-stream task to be able to use it for predictions and inference.\n",
            "Downloading: \"https://download.pytorch.org/models/resnet50-0676ba61.pth\" to /root/.cache/torch/hub/checkpoints/resnet50-0676ba61.pth\n"
          ]
        },
        {
          "output_type": "display_data",
          "data": {
            "application/vnd.jupyter.widget-view+json": {
              "model_id": "6d1a725dc14f42a3a7605082cb06426f",
              "version_minor": 0,
              "version_major": 2
            },
            "text/plain": [
              "  0%|          | 0.00/97.8M [00:00<?, ?B/s]"
            ]
          },
          "metadata": {}
        }
      ]
    },
    {
      "cell_type": "code",
      "metadata": {
        "id": "59b1f85d",
        "colab": {
          "base_uri": "https://localhost:8080/"
        },
        "outputId": "65826f7a-ec44-4aa2-f768-2d7edcca684d"
      },
      "source": [
        "model_trained = train_model(model,dataloaders, criterion, optimizer, num_epochs=10)"
      ],
      "id": "59b1f85d",
      "execution_count": null,
      "outputs": [
        {
          "output_type": "stream",
          "name": "stdout",
          "text": [
            "Epoch 1/10\n",
            "----------\n",
            "train loss: 0.5868, acc: 0.7104\n",
            "validation loss: 0.5766, acc: 0.7224\n",
            "Epoch 2/10\n",
            "----------\n",
            "train loss: 0.5473, acc: 0.7537\n",
            "validation loss: 0.5663, acc: 0.7307\n",
            "Epoch 3/10\n",
            "----------\n",
            "train loss: 0.5252, acc: 0.7771\n",
            "validation loss: 0.5712, acc: 0.7286\n",
            "Epoch 4/10\n",
            "----------\n",
            "train loss: 0.5125, acc: 0.7930\n",
            "validation loss: 0.5720, acc: 0.7286\n",
            "Epoch 5/10\n",
            "----------\n",
            "train loss: 0.4997, acc: 0.8064\n",
            "validation loss: 0.5672, acc: 0.7349\n",
            "Epoch 6/10\n",
            "----------\n",
            "train loss: 0.4844, acc: 0.8206\n",
            "validation loss: 0.5780, acc: 0.7212\n",
            "Epoch 7/10\n",
            "----------\n",
            "train loss: 0.4702, acc: 0.8366\n",
            "validation loss: 0.5759, acc: 0.7266\n",
            "Epoch 8/10\n",
            "----------\n",
            "train loss: 0.4648, acc: 0.8430\n",
            "validation loss: 0.5772, acc: 0.7270\n",
            "Epoch 9/10\n",
            "----------\n"
          ]
        }
      ]
    },
    {
      "cell_type": "code",
      "metadata": {
        "id": "37228d18"
      },
      "source": [
        "from google.colab import drive\n",
        "drive.mount('/content/drive', force_remount=True)"
      ],
      "id": "37228d18",
      "execution_count": null,
      "outputs": []
    },
    {
      "cell_type": "code",
      "metadata": {
        "id": "83622d59"
      },
      "source": [
        "torch.save(model, '/content/drive/MyDrive/Sarcasm-Detection-hierarchical_fusion_model/multimodal_10epoch.pt')\n"
      ],
      "id": "83622d59",
      "execution_count": null,
      "outputs": []
    }
  ]
}