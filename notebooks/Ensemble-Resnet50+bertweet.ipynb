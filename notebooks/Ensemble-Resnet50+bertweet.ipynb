{
  "nbformat": 4,
  "nbformat_minor": 0,
  "metadata": {
    "colab": {
      "name": "Resnet50+bertweet.ipynb",
      "provenance": [],
      "collapsed_sections": []
    },
    "kernelspec": {
      "display_name": "Python 3",
      "name": "python3"
    },
    "language_info": {
      "name": "python"
    },
    "accelerator": "GPU",
    "widgets": {
      "application/vnd.jupyter.widget-state+json": {
        "66cc536c69094153b9af97d3d12fae25": {
          "model_module": "@jupyter-widgets/controls",
          "model_name": "HBoxModel",
          "model_module_version": "1.5.0",
          "state": {
            "_view_name": "HBoxView",
            "_dom_classes": [],
            "_model_name": "HBoxModel",
            "_view_module": "@jupyter-widgets/controls",
            "_model_module_version": "1.5.0",
            "_view_count": null,
            "_view_module_version": "1.5.0",
            "box_style": "",
            "layout": "IPY_MODEL_c1683bdc5a434d4f865e571d2d54ad48",
            "_model_module": "@jupyter-widgets/controls",
            "children": [
              "IPY_MODEL_6d51566b7ecf4a58bdc6d653851c40c1",
              "IPY_MODEL_c35259646daa476b8b4aa581ae25cfb8",
              "IPY_MODEL_986609203b8f4380adfa6ab1024e2159"
            ]
          }
        },
        "c1683bdc5a434d4f865e571d2d54ad48": {
          "model_module": "@jupyter-widgets/base",
          "model_name": "LayoutModel",
          "model_module_version": "1.2.0",
          "state": {
            "_view_name": "LayoutView",
            "grid_template_rows": null,
            "right": null,
            "justify_content": null,
            "_view_module": "@jupyter-widgets/base",
            "overflow": null,
            "_model_module_version": "1.2.0",
            "_view_count": null,
            "flex_flow": null,
            "width": null,
            "min_width": null,
            "border": null,
            "align_items": null,
            "bottom": null,
            "_model_module": "@jupyter-widgets/base",
            "top": null,
            "grid_column": null,
            "overflow_y": null,
            "overflow_x": null,
            "grid_auto_flow": null,
            "grid_area": null,
            "grid_template_columns": null,
            "flex": null,
            "_model_name": "LayoutModel",
            "justify_items": null,
            "grid_row": null,
            "max_height": null,
            "align_content": null,
            "visibility": null,
            "align_self": null,
            "height": null,
            "min_height": null,
            "padding": null,
            "grid_auto_rows": null,
            "grid_gap": null,
            "max_width": null,
            "order": null,
            "_view_module_version": "1.2.0",
            "grid_template_areas": null,
            "object_position": null,
            "object_fit": null,
            "grid_auto_columns": null,
            "margin": null,
            "display": null,
            "left": null
          }
        },
        "6d51566b7ecf4a58bdc6d653851c40c1": {
          "model_module": "@jupyter-widgets/controls",
          "model_name": "HTMLModel",
          "model_module_version": "1.5.0",
          "state": {
            "_view_name": "HTMLView",
            "style": "IPY_MODEL_896b62bc05bb4fe8993e248a08fe0a2f",
            "_dom_classes": [],
            "description": "",
            "_model_name": "HTMLModel",
            "placeholder": "​",
            "_view_module": "@jupyter-widgets/controls",
            "_model_module_version": "1.5.0",
            "value": "Downloading: 100%",
            "_view_count": null,
            "_view_module_version": "1.5.0",
            "description_tooltip": null,
            "_model_module": "@jupyter-widgets/controls",
            "layout": "IPY_MODEL_d0a55912fe9847bfbd2ea0a6c70536fd"
          }
        },
        "c35259646daa476b8b4aa581ae25cfb8": {
          "model_module": "@jupyter-widgets/controls",
          "model_name": "FloatProgressModel",
          "model_module_version": "1.5.0",
          "state": {
            "_view_name": "ProgressView",
            "style": "IPY_MODEL_dffccd4c149c465393acf0f37acc4408",
            "_dom_classes": [],
            "description": "",
            "_model_name": "FloatProgressModel",
            "bar_style": "success",
            "max": 558,
            "_view_module": "@jupyter-widgets/controls",
            "_model_module_version": "1.5.0",
            "value": 558,
            "_view_count": null,
            "_view_module_version": "1.5.0",
            "orientation": "horizontal",
            "min": 0,
            "description_tooltip": null,
            "_model_module": "@jupyter-widgets/controls",
            "layout": "IPY_MODEL_ae55eb7f66934fe8a5f241b47ef59fb4"
          }
        },
        "986609203b8f4380adfa6ab1024e2159": {
          "model_module": "@jupyter-widgets/controls",
          "model_name": "HTMLModel",
          "model_module_version": "1.5.0",
          "state": {
            "_view_name": "HTMLView",
            "style": "IPY_MODEL_5bc49085be53439bb98f60b3bd0f13f4",
            "_dom_classes": [],
            "description": "",
            "_model_name": "HTMLModel",
            "placeholder": "​",
            "_view_module": "@jupyter-widgets/controls",
            "_model_module_version": "1.5.0",
            "value": " 558/558 [00:00&lt;00:00, 16.0kB/s]",
            "_view_count": null,
            "_view_module_version": "1.5.0",
            "description_tooltip": null,
            "_model_module": "@jupyter-widgets/controls",
            "layout": "IPY_MODEL_13ff0c5705664c38bf8b95b70a49885e"
          }
        },
        "896b62bc05bb4fe8993e248a08fe0a2f": {
          "model_module": "@jupyter-widgets/controls",
          "model_name": "DescriptionStyleModel",
          "model_module_version": "1.5.0",
          "state": {
            "_view_name": "StyleView",
            "_model_name": "DescriptionStyleModel",
            "description_width": "",
            "_view_module": "@jupyter-widgets/base",
            "_model_module_version": "1.5.0",
            "_view_count": null,
            "_view_module_version": "1.2.0",
            "_model_module": "@jupyter-widgets/controls"
          }
        },
        "d0a55912fe9847bfbd2ea0a6c70536fd": {
          "model_module": "@jupyter-widgets/base",
          "model_name": "LayoutModel",
          "model_module_version": "1.2.0",
          "state": {
            "_view_name": "LayoutView",
            "grid_template_rows": null,
            "right": null,
            "justify_content": null,
            "_view_module": "@jupyter-widgets/base",
            "overflow": null,
            "_model_module_version": "1.2.0",
            "_view_count": null,
            "flex_flow": null,
            "width": null,
            "min_width": null,
            "border": null,
            "align_items": null,
            "bottom": null,
            "_model_module": "@jupyter-widgets/base",
            "top": null,
            "grid_column": null,
            "overflow_y": null,
            "overflow_x": null,
            "grid_auto_flow": null,
            "grid_area": null,
            "grid_template_columns": null,
            "flex": null,
            "_model_name": "LayoutModel",
            "justify_items": null,
            "grid_row": null,
            "max_height": null,
            "align_content": null,
            "visibility": null,
            "align_self": null,
            "height": null,
            "min_height": null,
            "padding": null,
            "grid_auto_rows": null,
            "grid_gap": null,
            "max_width": null,
            "order": null,
            "_view_module_version": "1.2.0",
            "grid_template_areas": null,
            "object_position": null,
            "object_fit": null,
            "grid_auto_columns": null,
            "margin": null,
            "display": null,
            "left": null
          }
        },
        "dffccd4c149c465393acf0f37acc4408": {
          "model_module": "@jupyter-widgets/controls",
          "model_name": "ProgressStyleModel",
          "model_module_version": "1.5.0",
          "state": {
            "_view_name": "StyleView",
            "_model_name": "ProgressStyleModel",
            "description_width": "",
            "_view_module": "@jupyter-widgets/base",
            "_model_module_version": "1.5.0",
            "_view_count": null,
            "_view_module_version": "1.2.0",
            "bar_color": null,
            "_model_module": "@jupyter-widgets/controls"
          }
        },
        "ae55eb7f66934fe8a5f241b47ef59fb4": {
          "model_module": "@jupyter-widgets/base",
          "model_name": "LayoutModel",
          "model_module_version": "1.2.0",
          "state": {
            "_view_name": "LayoutView",
            "grid_template_rows": null,
            "right": null,
            "justify_content": null,
            "_view_module": "@jupyter-widgets/base",
            "overflow": null,
            "_model_module_version": "1.2.0",
            "_view_count": null,
            "flex_flow": null,
            "width": null,
            "min_width": null,
            "border": null,
            "align_items": null,
            "bottom": null,
            "_model_module": "@jupyter-widgets/base",
            "top": null,
            "grid_column": null,
            "overflow_y": null,
            "overflow_x": null,
            "grid_auto_flow": null,
            "grid_area": null,
            "grid_template_columns": null,
            "flex": null,
            "_model_name": "LayoutModel",
            "justify_items": null,
            "grid_row": null,
            "max_height": null,
            "align_content": null,
            "visibility": null,
            "align_self": null,
            "height": null,
            "min_height": null,
            "padding": null,
            "grid_auto_rows": null,
            "grid_gap": null,
            "max_width": null,
            "order": null,
            "_view_module_version": "1.2.0",
            "grid_template_areas": null,
            "object_position": null,
            "object_fit": null,
            "grid_auto_columns": null,
            "margin": null,
            "display": null,
            "left": null
          }
        },
        "5bc49085be53439bb98f60b3bd0f13f4": {
          "model_module": "@jupyter-widgets/controls",
          "model_name": "DescriptionStyleModel",
          "model_module_version": "1.5.0",
          "state": {
            "_view_name": "StyleView",
            "_model_name": "DescriptionStyleModel",
            "description_width": "",
            "_view_module": "@jupyter-widgets/base",
            "_model_module_version": "1.5.0",
            "_view_count": null,
            "_view_module_version": "1.2.0",
            "_model_module": "@jupyter-widgets/controls"
          }
        },
        "13ff0c5705664c38bf8b95b70a49885e": {
          "model_module": "@jupyter-widgets/base",
          "model_name": "LayoutModel",
          "model_module_version": "1.2.0",
          "state": {
            "_view_name": "LayoutView",
            "grid_template_rows": null,
            "right": null,
            "justify_content": null,
            "_view_module": "@jupyter-widgets/base",
            "overflow": null,
            "_model_module_version": "1.2.0",
            "_view_count": null,
            "flex_flow": null,
            "width": null,
            "min_width": null,
            "border": null,
            "align_items": null,
            "bottom": null,
            "_model_module": "@jupyter-widgets/base",
            "top": null,
            "grid_column": null,
            "overflow_y": null,
            "overflow_x": null,
            "grid_auto_flow": null,
            "grid_area": null,
            "grid_template_columns": null,
            "flex": null,
            "_model_name": "LayoutModel",
            "justify_items": null,
            "grid_row": null,
            "max_height": null,
            "align_content": null,
            "visibility": null,
            "align_self": null,
            "height": null,
            "min_height": null,
            "padding": null,
            "grid_auto_rows": null,
            "grid_gap": null,
            "max_width": null,
            "order": null,
            "_view_module_version": "1.2.0",
            "grid_template_areas": null,
            "object_position": null,
            "object_fit": null,
            "grid_auto_columns": null,
            "margin": null,
            "display": null,
            "left": null
          }
        },
        "17456598a4e447899abe580ce04dab19": {
          "model_module": "@jupyter-widgets/controls",
          "model_name": "HBoxModel",
          "model_module_version": "1.5.0",
          "state": {
            "_view_name": "HBoxView",
            "_dom_classes": [],
            "_model_name": "HBoxModel",
            "_view_module": "@jupyter-widgets/controls",
            "_model_module_version": "1.5.0",
            "_view_count": null,
            "_view_module_version": "1.5.0",
            "box_style": "",
            "layout": "IPY_MODEL_6d153f971eb644bbb070e4218b93b752",
            "_model_module": "@jupyter-widgets/controls",
            "children": [
              "IPY_MODEL_ce5d268360734c8c8ba353c3237d1163",
              "IPY_MODEL_28afa540c46c4ce7b8ba85f6963e3961",
              "IPY_MODEL_d5d81af8254049b0aa0f4a1cca446f61"
            ]
          }
        },
        "6d153f971eb644bbb070e4218b93b752": {
          "model_module": "@jupyter-widgets/base",
          "model_name": "LayoutModel",
          "model_module_version": "1.2.0",
          "state": {
            "_view_name": "LayoutView",
            "grid_template_rows": null,
            "right": null,
            "justify_content": null,
            "_view_module": "@jupyter-widgets/base",
            "overflow": null,
            "_model_module_version": "1.2.0",
            "_view_count": null,
            "flex_flow": null,
            "width": null,
            "min_width": null,
            "border": null,
            "align_items": null,
            "bottom": null,
            "_model_module": "@jupyter-widgets/base",
            "top": null,
            "grid_column": null,
            "overflow_y": null,
            "overflow_x": null,
            "grid_auto_flow": null,
            "grid_area": null,
            "grid_template_columns": null,
            "flex": null,
            "_model_name": "LayoutModel",
            "justify_items": null,
            "grid_row": null,
            "max_height": null,
            "align_content": null,
            "visibility": null,
            "align_self": null,
            "height": null,
            "min_height": null,
            "padding": null,
            "grid_auto_rows": null,
            "grid_gap": null,
            "max_width": null,
            "order": null,
            "_view_module_version": "1.2.0",
            "grid_template_areas": null,
            "object_position": null,
            "object_fit": null,
            "grid_auto_columns": null,
            "margin": null,
            "display": null,
            "left": null
          }
        },
        "ce5d268360734c8c8ba353c3237d1163": {
          "model_module": "@jupyter-widgets/controls",
          "model_name": "HTMLModel",
          "model_module_version": "1.5.0",
          "state": {
            "_view_name": "HTMLView",
            "style": "IPY_MODEL_77013315a5ed4bdd916c867b056b0a6d",
            "_dom_classes": [],
            "description": "",
            "_model_name": "HTMLModel",
            "placeholder": "​",
            "_view_module": "@jupyter-widgets/controls",
            "_model_module_version": "1.5.0",
            "value": "Downloading: 100%",
            "_view_count": null,
            "_view_module_version": "1.5.0",
            "description_tooltip": null,
            "_model_module": "@jupyter-widgets/controls",
            "layout": "IPY_MODEL_4e24070c4d73408187cef4572c10ed09"
          }
        },
        "28afa540c46c4ce7b8ba85f6963e3961": {
          "model_module": "@jupyter-widgets/controls",
          "model_name": "FloatProgressModel",
          "model_module_version": "1.5.0",
          "state": {
            "_view_name": "ProgressView",
            "style": "IPY_MODEL_696ec522e6684a48a66892a8a3121946",
            "_dom_classes": [],
            "description": "",
            "_model_name": "FloatProgressModel",
            "bar_style": "success",
            "max": 843438,
            "_view_module": "@jupyter-widgets/controls",
            "_model_module_version": "1.5.0",
            "value": 843438,
            "_view_count": null,
            "_view_module_version": "1.5.0",
            "orientation": "horizontal",
            "min": 0,
            "description_tooltip": null,
            "_model_module": "@jupyter-widgets/controls",
            "layout": "IPY_MODEL_f039b534c3a640be9b010c6aaaf9cbcc"
          }
        },
        "d5d81af8254049b0aa0f4a1cca446f61": {
          "model_module": "@jupyter-widgets/controls",
          "model_name": "HTMLModel",
          "model_module_version": "1.5.0",
          "state": {
            "_view_name": "HTMLView",
            "style": "IPY_MODEL_c0b6636331ad4bc99328123b45fd7d99",
            "_dom_classes": [],
            "description": "",
            "_model_name": "HTMLModel",
            "placeholder": "​",
            "_view_module": "@jupyter-widgets/controls",
            "_model_module_version": "1.5.0",
            "value": " 824k/824k [00:00&lt;00:00, 886kB/s]",
            "_view_count": null,
            "_view_module_version": "1.5.0",
            "description_tooltip": null,
            "_model_module": "@jupyter-widgets/controls",
            "layout": "IPY_MODEL_b2c5f05e7fde4a4bb7f500eab413cb9e"
          }
        },
        "77013315a5ed4bdd916c867b056b0a6d": {
          "model_module": "@jupyter-widgets/controls",
          "model_name": "DescriptionStyleModel",
          "model_module_version": "1.5.0",
          "state": {
            "_view_name": "StyleView",
            "_model_name": "DescriptionStyleModel",
            "description_width": "",
            "_view_module": "@jupyter-widgets/base",
            "_model_module_version": "1.5.0",
            "_view_count": null,
            "_view_module_version": "1.2.0",
            "_model_module": "@jupyter-widgets/controls"
          }
        },
        "4e24070c4d73408187cef4572c10ed09": {
          "model_module": "@jupyter-widgets/base",
          "model_name": "LayoutModel",
          "model_module_version": "1.2.0",
          "state": {
            "_view_name": "LayoutView",
            "grid_template_rows": null,
            "right": null,
            "justify_content": null,
            "_view_module": "@jupyter-widgets/base",
            "overflow": null,
            "_model_module_version": "1.2.0",
            "_view_count": null,
            "flex_flow": null,
            "width": null,
            "min_width": null,
            "border": null,
            "align_items": null,
            "bottom": null,
            "_model_module": "@jupyter-widgets/base",
            "top": null,
            "grid_column": null,
            "overflow_y": null,
            "overflow_x": null,
            "grid_auto_flow": null,
            "grid_area": null,
            "grid_template_columns": null,
            "flex": null,
            "_model_name": "LayoutModel",
            "justify_items": null,
            "grid_row": null,
            "max_height": null,
            "align_content": null,
            "visibility": null,
            "align_self": null,
            "height": null,
            "min_height": null,
            "padding": null,
            "grid_auto_rows": null,
            "grid_gap": null,
            "max_width": null,
            "order": null,
            "_view_module_version": "1.2.0",
            "grid_template_areas": null,
            "object_position": null,
            "object_fit": null,
            "grid_auto_columns": null,
            "margin": null,
            "display": null,
            "left": null
          }
        },
        "696ec522e6684a48a66892a8a3121946": {
          "model_module": "@jupyter-widgets/controls",
          "model_name": "ProgressStyleModel",
          "model_module_version": "1.5.0",
          "state": {
            "_view_name": "StyleView",
            "_model_name": "ProgressStyleModel",
            "description_width": "",
            "_view_module": "@jupyter-widgets/base",
            "_model_module_version": "1.5.0",
            "_view_count": null,
            "_view_module_version": "1.2.0",
            "bar_color": null,
            "_model_module": "@jupyter-widgets/controls"
          }
        },
        "f039b534c3a640be9b010c6aaaf9cbcc": {
          "model_module": "@jupyter-widgets/base",
          "model_name": "LayoutModel",
          "model_module_version": "1.2.0",
          "state": {
            "_view_name": "LayoutView",
            "grid_template_rows": null,
            "right": null,
            "justify_content": null,
            "_view_module": "@jupyter-widgets/base",
            "overflow": null,
            "_model_module_version": "1.2.0",
            "_view_count": null,
            "flex_flow": null,
            "width": null,
            "min_width": null,
            "border": null,
            "align_items": null,
            "bottom": null,
            "_model_module": "@jupyter-widgets/base",
            "top": null,
            "grid_column": null,
            "overflow_y": null,
            "overflow_x": null,
            "grid_auto_flow": null,
            "grid_area": null,
            "grid_template_columns": null,
            "flex": null,
            "_model_name": "LayoutModel",
            "justify_items": null,
            "grid_row": null,
            "max_height": null,
            "align_content": null,
            "visibility": null,
            "align_self": null,
            "height": null,
            "min_height": null,
            "padding": null,
            "grid_auto_rows": null,
            "grid_gap": null,
            "max_width": null,
            "order": null,
            "_view_module_version": "1.2.0",
            "grid_template_areas": null,
            "object_position": null,
            "object_fit": null,
            "grid_auto_columns": null,
            "margin": null,
            "display": null,
            "left": null
          }
        },
        "c0b6636331ad4bc99328123b45fd7d99": {
          "model_module": "@jupyter-widgets/controls",
          "model_name": "DescriptionStyleModel",
          "model_module_version": "1.5.0",
          "state": {
            "_view_name": "StyleView",
            "_model_name": "DescriptionStyleModel",
            "description_width": "",
            "_view_module": "@jupyter-widgets/base",
            "_model_module_version": "1.5.0",
            "_view_count": null,
            "_view_module_version": "1.2.0",
            "_model_module": "@jupyter-widgets/controls"
          }
        },
        "b2c5f05e7fde4a4bb7f500eab413cb9e": {
          "model_module": "@jupyter-widgets/base",
          "model_name": "LayoutModel",
          "model_module_version": "1.2.0",
          "state": {
            "_view_name": "LayoutView",
            "grid_template_rows": null,
            "right": null,
            "justify_content": null,
            "_view_module": "@jupyter-widgets/base",
            "overflow": null,
            "_model_module_version": "1.2.0",
            "_view_count": null,
            "flex_flow": null,
            "width": null,
            "min_width": null,
            "border": null,
            "align_items": null,
            "bottom": null,
            "_model_module": "@jupyter-widgets/base",
            "top": null,
            "grid_column": null,
            "overflow_y": null,
            "overflow_x": null,
            "grid_auto_flow": null,
            "grid_area": null,
            "grid_template_columns": null,
            "flex": null,
            "_model_name": "LayoutModel",
            "justify_items": null,
            "grid_row": null,
            "max_height": null,
            "align_content": null,
            "visibility": null,
            "align_self": null,
            "height": null,
            "min_height": null,
            "padding": null,
            "grid_auto_rows": null,
            "grid_gap": null,
            "max_width": null,
            "order": null,
            "_view_module_version": "1.2.0",
            "grid_template_areas": null,
            "object_position": null,
            "object_fit": null,
            "grid_auto_columns": null,
            "margin": null,
            "display": null,
            "left": null
          }
        },
        "7f75508c40ae4c8eb08e7d606548aeee": {
          "model_module": "@jupyter-widgets/controls",
          "model_name": "HBoxModel",
          "model_module_version": "1.5.0",
          "state": {
            "_view_name": "HBoxView",
            "_dom_classes": [],
            "_model_name": "HBoxModel",
            "_view_module": "@jupyter-widgets/controls",
            "_model_module_version": "1.5.0",
            "_view_count": null,
            "_view_module_version": "1.5.0",
            "box_style": "",
            "layout": "IPY_MODEL_05375ef2e5fe463e88714eb4e9f0acf4",
            "_model_module": "@jupyter-widgets/controls",
            "children": [
              "IPY_MODEL_cf79c3babba84d9ea78b8fe9e48f0c52",
              "IPY_MODEL_28ce3cdd270d4d7d8cdb4ae08bfb9419",
              "IPY_MODEL_79cccc25b7b74e1691212a3438170f5c"
            ]
          }
        },
        "05375ef2e5fe463e88714eb4e9f0acf4": {
          "model_module": "@jupyter-widgets/base",
          "model_name": "LayoutModel",
          "model_module_version": "1.2.0",
          "state": {
            "_view_name": "LayoutView",
            "grid_template_rows": null,
            "right": null,
            "justify_content": null,
            "_view_module": "@jupyter-widgets/base",
            "overflow": null,
            "_model_module_version": "1.2.0",
            "_view_count": null,
            "flex_flow": null,
            "width": null,
            "min_width": null,
            "border": null,
            "align_items": null,
            "bottom": null,
            "_model_module": "@jupyter-widgets/base",
            "top": null,
            "grid_column": null,
            "overflow_y": null,
            "overflow_x": null,
            "grid_auto_flow": null,
            "grid_area": null,
            "grid_template_columns": null,
            "flex": null,
            "_model_name": "LayoutModel",
            "justify_items": null,
            "grid_row": null,
            "max_height": null,
            "align_content": null,
            "visibility": null,
            "align_self": null,
            "height": null,
            "min_height": null,
            "padding": null,
            "grid_auto_rows": null,
            "grid_gap": null,
            "max_width": null,
            "order": null,
            "_view_module_version": "1.2.0",
            "grid_template_areas": null,
            "object_position": null,
            "object_fit": null,
            "grid_auto_columns": null,
            "margin": null,
            "display": null,
            "left": null
          }
        },
        "cf79c3babba84d9ea78b8fe9e48f0c52": {
          "model_module": "@jupyter-widgets/controls",
          "model_name": "HTMLModel",
          "model_module_version": "1.5.0",
          "state": {
            "_view_name": "HTMLView",
            "style": "IPY_MODEL_f2db7c3eb24e46b39e30e2ff5058d3d0",
            "_dom_classes": [],
            "description": "",
            "_model_name": "HTMLModel",
            "placeholder": "​",
            "_view_module": "@jupyter-widgets/controls",
            "_model_module_version": "1.5.0",
            "value": "Downloading: 100%",
            "_view_count": null,
            "_view_module_version": "1.5.0",
            "description_tooltip": null,
            "_model_module": "@jupyter-widgets/controls",
            "layout": "IPY_MODEL_da4e107727e44318bc66a8e460706f13"
          }
        },
        "28ce3cdd270d4d7d8cdb4ae08bfb9419": {
          "model_module": "@jupyter-widgets/controls",
          "model_name": "FloatProgressModel",
          "model_module_version": "1.5.0",
          "state": {
            "_view_name": "ProgressView",
            "style": "IPY_MODEL_91c76243a3d8489faf1c39343114c9c2",
            "_dom_classes": [],
            "description": "",
            "_model_name": "FloatProgressModel",
            "bar_style": "success",
            "max": 1078931,
            "_view_module": "@jupyter-widgets/controls",
            "_model_module_version": "1.5.0",
            "value": 1078931,
            "_view_count": null,
            "_view_module_version": "1.5.0",
            "orientation": "horizontal",
            "min": 0,
            "description_tooltip": null,
            "_model_module": "@jupyter-widgets/controls",
            "layout": "IPY_MODEL_8b0315c106734c2aac56aef5290688f8"
          }
        },
        "79cccc25b7b74e1691212a3438170f5c": {
          "model_module": "@jupyter-widgets/controls",
          "model_name": "HTMLModel",
          "model_module_version": "1.5.0",
          "state": {
            "_view_name": "HTMLView",
            "style": "IPY_MODEL_eaa3a924ded448bcb7afdb380fd52301",
            "_dom_classes": [],
            "description": "",
            "_model_name": "HTMLModel",
            "placeholder": "​",
            "_view_module": "@jupyter-widgets/controls",
            "_model_module_version": "1.5.0",
            "value": " 1.03M/1.03M [00:00&lt;00:00, 3.04MB/s]",
            "_view_count": null,
            "_view_module_version": "1.5.0",
            "description_tooltip": null,
            "_model_module": "@jupyter-widgets/controls",
            "layout": "IPY_MODEL_b204cb7e13584fb7bd03126c647b2787"
          }
        },
        "f2db7c3eb24e46b39e30e2ff5058d3d0": {
          "model_module": "@jupyter-widgets/controls",
          "model_name": "DescriptionStyleModel",
          "model_module_version": "1.5.0",
          "state": {
            "_view_name": "StyleView",
            "_model_name": "DescriptionStyleModel",
            "description_width": "",
            "_view_module": "@jupyter-widgets/base",
            "_model_module_version": "1.5.0",
            "_view_count": null,
            "_view_module_version": "1.2.0",
            "_model_module": "@jupyter-widgets/controls"
          }
        },
        "da4e107727e44318bc66a8e460706f13": {
          "model_module": "@jupyter-widgets/base",
          "model_name": "LayoutModel",
          "model_module_version": "1.2.0",
          "state": {
            "_view_name": "LayoutView",
            "grid_template_rows": null,
            "right": null,
            "justify_content": null,
            "_view_module": "@jupyter-widgets/base",
            "overflow": null,
            "_model_module_version": "1.2.0",
            "_view_count": null,
            "flex_flow": null,
            "width": null,
            "min_width": null,
            "border": null,
            "align_items": null,
            "bottom": null,
            "_model_module": "@jupyter-widgets/base",
            "top": null,
            "grid_column": null,
            "overflow_y": null,
            "overflow_x": null,
            "grid_auto_flow": null,
            "grid_area": null,
            "grid_template_columns": null,
            "flex": null,
            "_model_name": "LayoutModel",
            "justify_items": null,
            "grid_row": null,
            "max_height": null,
            "align_content": null,
            "visibility": null,
            "align_self": null,
            "height": null,
            "min_height": null,
            "padding": null,
            "grid_auto_rows": null,
            "grid_gap": null,
            "max_width": null,
            "order": null,
            "_view_module_version": "1.2.0",
            "grid_template_areas": null,
            "object_position": null,
            "object_fit": null,
            "grid_auto_columns": null,
            "margin": null,
            "display": null,
            "left": null
          }
        },
        "91c76243a3d8489faf1c39343114c9c2": {
          "model_module": "@jupyter-widgets/controls",
          "model_name": "ProgressStyleModel",
          "model_module_version": "1.5.0",
          "state": {
            "_view_name": "StyleView",
            "_model_name": "ProgressStyleModel",
            "description_width": "",
            "_view_module": "@jupyter-widgets/base",
            "_model_module_version": "1.5.0",
            "_view_count": null,
            "_view_module_version": "1.2.0",
            "bar_color": null,
            "_model_module": "@jupyter-widgets/controls"
          }
        },
        "8b0315c106734c2aac56aef5290688f8": {
          "model_module": "@jupyter-widgets/base",
          "model_name": "LayoutModel",
          "model_module_version": "1.2.0",
          "state": {
            "_view_name": "LayoutView",
            "grid_template_rows": null,
            "right": null,
            "justify_content": null,
            "_view_module": "@jupyter-widgets/base",
            "overflow": null,
            "_model_module_version": "1.2.0",
            "_view_count": null,
            "flex_flow": null,
            "width": null,
            "min_width": null,
            "border": null,
            "align_items": null,
            "bottom": null,
            "_model_module": "@jupyter-widgets/base",
            "top": null,
            "grid_column": null,
            "overflow_y": null,
            "overflow_x": null,
            "grid_auto_flow": null,
            "grid_area": null,
            "grid_template_columns": null,
            "flex": null,
            "_model_name": "LayoutModel",
            "justify_items": null,
            "grid_row": null,
            "max_height": null,
            "align_content": null,
            "visibility": null,
            "align_self": null,
            "height": null,
            "min_height": null,
            "padding": null,
            "grid_auto_rows": null,
            "grid_gap": null,
            "max_width": null,
            "order": null,
            "_view_module_version": "1.2.0",
            "grid_template_areas": null,
            "object_position": null,
            "object_fit": null,
            "grid_auto_columns": null,
            "margin": null,
            "display": null,
            "left": null
          }
        },
        "eaa3a924ded448bcb7afdb380fd52301": {
          "model_module": "@jupyter-widgets/controls",
          "model_name": "DescriptionStyleModel",
          "model_module_version": "1.5.0",
          "state": {
            "_view_name": "StyleView",
            "_model_name": "DescriptionStyleModel",
            "description_width": "",
            "_view_module": "@jupyter-widgets/base",
            "_model_module_version": "1.5.0",
            "_view_count": null,
            "_view_module_version": "1.2.0",
            "_model_module": "@jupyter-widgets/controls"
          }
        },
        "b204cb7e13584fb7bd03126c647b2787": {
          "model_module": "@jupyter-widgets/base",
          "model_name": "LayoutModel",
          "model_module_version": "1.2.0",
          "state": {
            "_view_name": "LayoutView",
            "grid_template_rows": null,
            "right": null,
            "justify_content": null,
            "_view_module": "@jupyter-widgets/base",
            "overflow": null,
            "_model_module_version": "1.2.0",
            "_view_count": null,
            "flex_flow": null,
            "width": null,
            "min_width": null,
            "border": null,
            "align_items": null,
            "bottom": null,
            "_model_module": "@jupyter-widgets/base",
            "top": null,
            "grid_column": null,
            "overflow_y": null,
            "overflow_x": null,
            "grid_auto_flow": null,
            "grid_area": null,
            "grid_template_columns": null,
            "flex": null,
            "_model_name": "LayoutModel",
            "justify_items": null,
            "grid_row": null,
            "max_height": null,
            "align_content": null,
            "visibility": null,
            "align_self": null,
            "height": null,
            "min_height": null,
            "padding": null,
            "grid_auto_rows": null,
            "grid_gap": null,
            "max_width": null,
            "order": null,
            "_view_module_version": "1.2.0",
            "grid_template_areas": null,
            "object_position": null,
            "object_fit": null,
            "grid_auto_columns": null,
            "margin": null,
            "display": null,
            "left": null
          }
        }
      }
    }
  },
  "cells": [
    {
      "cell_type": "code",
      "metadata": {
        "colab": {
          "base_uri": "https://localhost:8080/"
        },
        "id": "FdTB2740-4Qy",
        "outputId": "afb1f162-6470-46fd-ba29-8074cf5753d9"
      },
      "source": [
        "from google.colab import drive\n",
        "drive.mount('/content/drive', force_remount=True)"
      ],
      "execution_count": null,
      "outputs": [
        {
          "output_type": "stream",
          "name": "stdout",
          "text": [
            "Mounted at /content/drive\n"
          ]
        }
      ]
    },
    {
      "cell_type": "code",
      "metadata": {
        "colab": {
          "base_uri": "https://localhost:8080/"
        },
        "id": "ZrlI2yIq-i0T",
        "outputId": "98e96403-4706-4ecf-c586-85708575809a"
      },
      "source": [
        "import torch\n",
        "\n",
        "resnet_model = torch.load('/content/drive/MyDrive/CSE8803_DLT/Resnet50_10epoch.pt')\n",
        "resnet_model"
      ],
      "execution_count": null,
      "outputs": [
        {
          "output_type": "execute_result",
          "data": {
            "text/plain": [
              "ResNet(\n",
              "  (conv1): Conv2d(3, 64, kernel_size=(7, 7), stride=(2, 2), padding=(3, 3), bias=False)\n",
              "  (bn1): BatchNorm2d(64, eps=1e-05, momentum=0.1, affine=True, track_running_stats=True)\n",
              "  (relu): ReLU(inplace=True)\n",
              "  (maxpool): MaxPool2d(kernel_size=3, stride=2, padding=1, dilation=1, ceil_mode=False)\n",
              "  (layer1): Sequential(\n",
              "    (0): Bottleneck(\n",
              "      (conv1): Conv2d(64, 64, kernel_size=(1, 1), stride=(1, 1), bias=False)\n",
              "      (bn1): BatchNorm2d(64, eps=1e-05, momentum=0.1, affine=True, track_running_stats=True)\n",
              "      (conv2): Conv2d(64, 64, kernel_size=(3, 3), stride=(1, 1), padding=(1, 1), bias=False)\n",
              "      (bn2): BatchNorm2d(64, eps=1e-05, momentum=0.1, affine=True, track_running_stats=True)\n",
              "      (conv3): Conv2d(64, 256, kernel_size=(1, 1), stride=(1, 1), bias=False)\n",
              "      (bn3): BatchNorm2d(256, eps=1e-05, momentum=0.1, affine=True, track_running_stats=True)\n",
              "      (relu): ReLU(inplace=True)\n",
              "      (downsample): Sequential(\n",
              "        (0): Conv2d(64, 256, kernel_size=(1, 1), stride=(1, 1), bias=False)\n",
              "        (1): BatchNorm2d(256, eps=1e-05, momentum=0.1, affine=True, track_running_stats=True)\n",
              "      )\n",
              "    )\n",
              "    (1): Bottleneck(\n",
              "      (conv1): Conv2d(256, 64, kernel_size=(1, 1), stride=(1, 1), bias=False)\n",
              "      (bn1): BatchNorm2d(64, eps=1e-05, momentum=0.1, affine=True, track_running_stats=True)\n",
              "      (conv2): Conv2d(64, 64, kernel_size=(3, 3), stride=(1, 1), padding=(1, 1), bias=False)\n",
              "      (bn2): BatchNorm2d(64, eps=1e-05, momentum=0.1, affine=True, track_running_stats=True)\n",
              "      (conv3): Conv2d(64, 256, kernel_size=(1, 1), stride=(1, 1), bias=False)\n",
              "      (bn3): BatchNorm2d(256, eps=1e-05, momentum=0.1, affine=True, track_running_stats=True)\n",
              "      (relu): ReLU(inplace=True)\n",
              "    )\n",
              "    (2): Bottleneck(\n",
              "      (conv1): Conv2d(256, 64, kernel_size=(1, 1), stride=(1, 1), bias=False)\n",
              "      (bn1): BatchNorm2d(64, eps=1e-05, momentum=0.1, affine=True, track_running_stats=True)\n",
              "      (conv2): Conv2d(64, 64, kernel_size=(3, 3), stride=(1, 1), padding=(1, 1), bias=False)\n",
              "      (bn2): BatchNorm2d(64, eps=1e-05, momentum=0.1, affine=True, track_running_stats=True)\n",
              "      (conv3): Conv2d(64, 256, kernel_size=(1, 1), stride=(1, 1), bias=False)\n",
              "      (bn3): BatchNorm2d(256, eps=1e-05, momentum=0.1, affine=True, track_running_stats=True)\n",
              "      (relu): ReLU(inplace=True)\n",
              "    )\n",
              "  )\n",
              "  (layer2): Sequential(\n",
              "    (0): Bottleneck(\n",
              "      (conv1): Conv2d(256, 128, kernel_size=(1, 1), stride=(1, 1), bias=False)\n",
              "      (bn1): BatchNorm2d(128, eps=1e-05, momentum=0.1, affine=True, track_running_stats=True)\n",
              "      (conv2): Conv2d(128, 128, kernel_size=(3, 3), stride=(2, 2), padding=(1, 1), bias=False)\n",
              "      (bn2): BatchNorm2d(128, eps=1e-05, momentum=0.1, affine=True, track_running_stats=True)\n",
              "      (conv3): Conv2d(128, 512, kernel_size=(1, 1), stride=(1, 1), bias=False)\n",
              "      (bn3): BatchNorm2d(512, eps=1e-05, momentum=0.1, affine=True, track_running_stats=True)\n",
              "      (relu): ReLU(inplace=True)\n",
              "      (downsample): Sequential(\n",
              "        (0): Conv2d(256, 512, kernel_size=(1, 1), stride=(2, 2), bias=False)\n",
              "        (1): BatchNorm2d(512, eps=1e-05, momentum=0.1, affine=True, track_running_stats=True)\n",
              "      )\n",
              "    )\n",
              "    (1): Bottleneck(\n",
              "      (conv1): Conv2d(512, 128, kernel_size=(1, 1), stride=(1, 1), bias=False)\n",
              "      (bn1): BatchNorm2d(128, eps=1e-05, momentum=0.1, affine=True, track_running_stats=True)\n",
              "      (conv2): Conv2d(128, 128, kernel_size=(3, 3), stride=(1, 1), padding=(1, 1), bias=False)\n",
              "      (bn2): BatchNorm2d(128, eps=1e-05, momentum=0.1, affine=True, track_running_stats=True)\n",
              "      (conv3): Conv2d(128, 512, kernel_size=(1, 1), stride=(1, 1), bias=False)\n",
              "      (bn3): BatchNorm2d(512, eps=1e-05, momentum=0.1, affine=True, track_running_stats=True)\n",
              "      (relu): ReLU(inplace=True)\n",
              "    )\n",
              "    (2): Bottleneck(\n",
              "      (conv1): Conv2d(512, 128, kernel_size=(1, 1), stride=(1, 1), bias=False)\n",
              "      (bn1): BatchNorm2d(128, eps=1e-05, momentum=0.1, affine=True, track_running_stats=True)\n",
              "      (conv2): Conv2d(128, 128, kernel_size=(3, 3), stride=(1, 1), padding=(1, 1), bias=False)\n",
              "      (bn2): BatchNorm2d(128, eps=1e-05, momentum=0.1, affine=True, track_running_stats=True)\n",
              "      (conv3): Conv2d(128, 512, kernel_size=(1, 1), stride=(1, 1), bias=False)\n",
              "      (bn3): BatchNorm2d(512, eps=1e-05, momentum=0.1, affine=True, track_running_stats=True)\n",
              "      (relu): ReLU(inplace=True)\n",
              "    )\n",
              "    (3): Bottleneck(\n",
              "      (conv1): Conv2d(512, 128, kernel_size=(1, 1), stride=(1, 1), bias=False)\n",
              "      (bn1): BatchNorm2d(128, eps=1e-05, momentum=0.1, affine=True, track_running_stats=True)\n",
              "      (conv2): Conv2d(128, 128, kernel_size=(3, 3), stride=(1, 1), padding=(1, 1), bias=False)\n",
              "      (bn2): BatchNorm2d(128, eps=1e-05, momentum=0.1, affine=True, track_running_stats=True)\n",
              "      (conv3): Conv2d(128, 512, kernel_size=(1, 1), stride=(1, 1), bias=False)\n",
              "      (bn3): BatchNorm2d(512, eps=1e-05, momentum=0.1, affine=True, track_running_stats=True)\n",
              "      (relu): ReLU(inplace=True)\n",
              "    )\n",
              "  )\n",
              "  (layer3): Sequential(\n",
              "    (0): Bottleneck(\n",
              "      (conv1): Conv2d(512, 256, kernel_size=(1, 1), stride=(1, 1), bias=False)\n",
              "      (bn1): BatchNorm2d(256, eps=1e-05, momentum=0.1, affine=True, track_running_stats=True)\n",
              "      (conv2): Conv2d(256, 256, kernel_size=(3, 3), stride=(2, 2), padding=(1, 1), bias=False)\n",
              "      (bn2): BatchNorm2d(256, eps=1e-05, momentum=0.1, affine=True, track_running_stats=True)\n",
              "      (conv3): Conv2d(256, 1024, kernel_size=(1, 1), stride=(1, 1), bias=False)\n",
              "      (bn3): BatchNorm2d(1024, eps=1e-05, momentum=0.1, affine=True, track_running_stats=True)\n",
              "      (relu): ReLU(inplace=True)\n",
              "      (downsample): Sequential(\n",
              "        (0): Conv2d(512, 1024, kernel_size=(1, 1), stride=(2, 2), bias=False)\n",
              "        (1): BatchNorm2d(1024, eps=1e-05, momentum=0.1, affine=True, track_running_stats=True)\n",
              "      )\n",
              "    )\n",
              "    (1): Bottleneck(\n",
              "      (conv1): Conv2d(1024, 256, kernel_size=(1, 1), stride=(1, 1), bias=False)\n",
              "      (bn1): BatchNorm2d(256, eps=1e-05, momentum=0.1, affine=True, track_running_stats=True)\n",
              "      (conv2): Conv2d(256, 256, kernel_size=(3, 3), stride=(1, 1), padding=(1, 1), bias=False)\n",
              "      (bn2): BatchNorm2d(256, eps=1e-05, momentum=0.1, affine=True, track_running_stats=True)\n",
              "      (conv3): Conv2d(256, 1024, kernel_size=(1, 1), stride=(1, 1), bias=False)\n",
              "      (bn3): BatchNorm2d(1024, eps=1e-05, momentum=0.1, affine=True, track_running_stats=True)\n",
              "      (relu): ReLU(inplace=True)\n",
              "    )\n",
              "    (2): Bottleneck(\n",
              "      (conv1): Conv2d(1024, 256, kernel_size=(1, 1), stride=(1, 1), bias=False)\n",
              "      (bn1): BatchNorm2d(256, eps=1e-05, momentum=0.1, affine=True, track_running_stats=True)\n",
              "      (conv2): Conv2d(256, 256, kernel_size=(3, 3), stride=(1, 1), padding=(1, 1), bias=False)\n",
              "      (bn2): BatchNorm2d(256, eps=1e-05, momentum=0.1, affine=True, track_running_stats=True)\n",
              "      (conv3): Conv2d(256, 1024, kernel_size=(1, 1), stride=(1, 1), bias=False)\n",
              "      (bn3): BatchNorm2d(1024, eps=1e-05, momentum=0.1, affine=True, track_running_stats=True)\n",
              "      (relu): ReLU(inplace=True)\n",
              "    )\n",
              "    (3): Bottleneck(\n",
              "      (conv1): Conv2d(1024, 256, kernel_size=(1, 1), stride=(1, 1), bias=False)\n",
              "      (bn1): BatchNorm2d(256, eps=1e-05, momentum=0.1, affine=True, track_running_stats=True)\n",
              "      (conv2): Conv2d(256, 256, kernel_size=(3, 3), stride=(1, 1), padding=(1, 1), bias=False)\n",
              "      (bn2): BatchNorm2d(256, eps=1e-05, momentum=0.1, affine=True, track_running_stats=True)\n",
              "      (conv3): Conv2d(256, 1024, kernel_size=(1, 1), stride=(1, 1), bias=False)\n",
              "      (bn3): BatchNorm2d(1024, eps=1e-05, momentum=0.1, affine=True, track_running_stats=True)\n",
              "      (relu): ReLU(inplace=True)\n",
              "    )\n",
              "    (4): Bottleneck(\n",
              "      (conv1): Conv2d(1024, 256, kernel_size=(1, 1), stride=(1, 1), bias=False)\n",
              "      (bn1): BatchNorm2d(256, eps=1e-05, momentum=0.1, affine=True, track_running_stats=True)\n",
              "      (conv2): Conv2d(256, 256, kernel_size=(3, 3), stride=(1, 1), padding=(1, 1), bias=False)\n",
              "      (bn2): BatchNorm2d(256, eps=1e-05, momentum=0.1, affine=True, track_running_stats=True)\n",
              "      (conv3): Conv2d(256, 1024, kernel_size=(1, 1), stride=(1, 1), bias=False)\n",
              "      (bn3): BatchNorm2d(1024, eps=1e-05, momentum=0.1, affine=True, track_running_stats=True)\n",
              "      (relu): ReLU(inplace=True)\n",
              "    )\n",
              "    (5): Bottleneck(\n",
              "      (conv1): Conv2d(1024, 256, kernel_size=(1, 1), stride=(1, 1), bias=False)\n",
              "      (bn1): BatchNorm2d(256, eps=1e-05, momentum=0.1, affine=True, track_running_stats=True)\n",
              "      (conv2): Conv2d(256, 256, kernel_size=(3, 3), stride=(1, 1), padding=(1, 1), bias=False)\n",
              "      (bn2): BatchNorm2d(256, eps=1e-05, momentum=0.1, affine=True, track_running_stats=True)\n",
              "      (conv3): Conv2d(256, 1024, kernel_size=(1, 1), stride=(1, 1), bias=False)\n",
              "      (bn3): BatchNorm2d(1024, eps=1e-05, momentum=0.1, affine=True, track_running_stats=True)\n",
              "      (relu): ReLU(inplace=True)\n",
              "    )\n",
              "  )\n",
              "  (layer4): Sequential(\n",
              "    (0): Bottleneck(\n",
              "      (conv1): Conv2d(1024, 512, kernel_size=(1, 1), stride=(1, 1), bias=False)\n",
              "      (bn1): BatchNorm2d(512, eps=1e-05, momentum=0.1, affine=True, track_running_stats=True)\n",
              "      (conv2): Conv2d(512, 512, kernel_size=(3, 3), stride=(2, 2), padding=(1, 1), bias=False)\n",
              "      (bn2): BatchNorm2d(512, eps=1e-05, momentum=0.1, affine=True, track_running_stats=True)\n",
              "      (conv3): Conv2d(512, 2048, kernel_size=(1, 1), stride=(1, 1), bias=False)\n",
              "      (bn3): BatchNorm2d(2048, eps=1e-05, momentum=0.1, affine=True, track_running_stats=True)\n",
              "      (relu): ReLU(inplace=True)\n",
              "      (downsample): Sequential(\n",
              "        (0): Conv2d(1024, 2048, kernel_size=(1, 1), stride=(2, 2), bias=False)\n",
              "        (1): BatchNorm2d(2048, eps=1e-05, momentum=0.1, affine=True, track_running_stats=True)\n",
              "      )\n",
              "    )\n",
              "    (1): Bottleneck(\n",
              "      (conv1): Conv2d(2048, 512, kernel_size=(1, 1), stride=(1, 1), bias=False)\n",
              "      (bn1): BatchNorm2d(512, eps=1e-05, momentum=0.1, affine=True, track_running_stats=True)\n",
              "      (conv2): Conv2d(512, 512, kernel_size=(3, 3), stride=(1, 1), padding=(1, 1), bias=False)\n",
              "      (bn2): BatchNorm2d(512, eps=1e-05, momentum=0.1, affine=True, track_running_stats=True)\n",
              "      (conv3): Conv2d(512, 2048, kernel_size=(1, 1), stride=(1, 1), bias=False)\n",
              "      (bn3): BatchNorm2d(2048, eps=1e-05, momentum=0.1, affine=True, track_running_stats=True)\n",
              "      (relu): ReLU(inplace=True)\n",
              "    )\n",
              "    (2): Bottleneck(\n",
              "      (conv1): Conv2d(2048, 512, kernel_size=(1, 1), stride=(1, 1), bias=False)\n",
              "      (bn1): BatchNorm2d(512, eps=1e-05, momentum=0.1, affine=True, track_running_stats=True)\n",
              "      (conv2): Conv2d(512, 512, kernel_size=(3, 3), stride=(1, 1), padding=(1, 1), bias=False)\n",
              "      (bn2): BatchNorm2d(512, eps=1e-05, momentum=0.1, affine=True, track_running_stats=True)\n",
              "      (conv3): Conv2d(512, 2048, kernel_size=(1, 1), stride=(1, 1), bias=False)\n",
              "      (bn3): BatchNorm2d(2048, eps=1e-05, momentum=0.1, affine=True, track_running_stats=True)\n",
              "      (relu): ReLU(inplace=True)\n",
              "    )\n",
              "  )\n",
              "  (avgpool): AdaptiveAvgPool2d(output_size=(1, 1))\n",
              "  (fc): Sequential(\n",
              "    (0): Linear(in_features=2048, out_features=128, bias=True)\n",
              "    (1): ReLU(inplace=True)\n",
              "    (2): Linear(in_features=128, out_features=2, bias=True)\n",
              "  )\n",
              ")"
            ]
          },
          "metadata": {},
          "execution_count": 10
        }
      ]
    },
    {
      "cell_type": "code",
      "metadata": {
        "id": "LPefRNPpSnll"
      },
      "source": [
        "!pip -q install transformers"
      ],
      "execution_count": null,
      "outputs": []
    },
    {
      "cell_type": "code",
      "metadata": {
        "colab": {
          "base_uri": "https://localhost:8080/"
        },
        "id": "n8foJftR-x3O",
        "outputId": "2ca08444-38fc-4a61-c50c-3bb12bbf1f02"
      },
      "source": [
        "import transformers\n",
        "\n",
        "bert_model = torch.load('/content/drive/MyDrive/CSE8803_DLT/berttweet_2epoch.pt')\n",
        "bert_model"
      ],
      "execution_count": null,
      "outputs": [
        {
          "output_type": "execute_result",
          "data": {
            "text/plain": [
              "RobertaForSequenceClassification(\n",
              "  (roberta): RobertaModel(\n",
              "    (embeddings): RobertaEmbeddings(\n",
              "      (word_embeddings): Embedding(64001, 768, padding_idx=1)\n",
              "      (position_embeddings): Embedding(130, 768, padding_idx=1)\n",
              "      (token_type_embeddings): Embedding(1, 768)\n",
              "      (LayerNorm): LayerNorm((768,), eps=1e-05, elementwise_affine=True)\n",
              "      (dropout): Dropout(p=0.1, inplace=False)\n",
              "    )\n",
              "    (encoder): RobertaEncoder(\n",
              "      (layer): ModuleList(\n",
              "        (0): RobertaLayer(\n",
              "          (attention): RobertaAttention(\n",
              "            (self): RobertaSelfAttention(\n",
              "              (query): Linear(in_features=768, out_features=768, bias=True)\n",
              "              (key): Linear(in_features=768, out_features=768, bias=True)\n",
              "              (value): Linear(in_features=768, out_features=768, bias=True)\n",
              "              (dropout): Dropout(p=0.1, inplace=False)\n",
              "            )\n",
              "            (output): RobertaSelfOutput(\n",
              "              (dense): Linear(in_features=768, out_features=768, bias=True)\n",
              "              (LayerNorm): LayerNorm((768,), eps=1e-05, elementwise_affine=True)\n",
              "              (dropout): Dropout(p=0.1, inplace=False)\n",
              "            )\n",
              "          )\n",
              "          (intermediate): RobertaIntermediate(\n",
              "            (dense): Linear(in_features=768, out_features=3072, bias=True)\n",
              "          )\n",
              "          (output): RobertaOutput(\n",
              "            (dense): Linear(in_features=3072, out_features=768, bias=True)\n",
              "            (LayerNorm): LayerNorm((768,), eps=1e-05, elementwise_affine=True)\n",
              "            (dropout): Dropout(p=0.1, inplace=False)\n",
              "          )\n",
              "        )\n",
              "        (1): RobertaLayer(\n",
              "          (attention): RobertaAttention(\n",
              "            (self): RobertaSelfAttention(\n",
              "              (query): Linear(in_features=768, out_features=768, bias=True)\n",
              "              (key): Linear(in_features=768, out_features=768, bias=True)\n",
              "              (value): Linear(in_features=768, out_features=768, bias=True)\n",
              "              (dropout): Dropout(p=0.1, inplace=False)\n",
              "            )\n",
              "            (output): RobertaSelfOutput(\n",
              "              (dense): Linear(in_features=768, out_features=768, bias=True)\n",
              "              (LayerNorm): LayerNorm((768,), eps=1e-05, elementwise_affine=True)\n",
              "              (dropout): Dropout(p=0.1, inplace=False)\n",
              "            )\n",
              "          )\n",
              "          (intermediate): RobertaIntermediate(\n",
              "            (dense): Linear(in_features=768, out_features=3072, bias=True)\n",
              "          )\n",
              "          (output): RobertaOutput(\n",
              "            (dense): Linear(in_features=3072, out_features=768, bias=True)\n",
              "            (LayerNorm): LayerNorm((768,), eps=1e-05, elementwise_affine=True)\n",
              "            (dropout): Dropout(p=0.1, inplace=False)\n",
              "          )\n",
              "        )\n",
              "        (2): RobertaLayer(\n",
              "          (attention): RobertaAttention(\n",
              "            (self): RobertaSelfAttention(\n",
              "              (query): Linear(in_features=768, out_features=768, bias=True)\n",
              "              (key): Linear(in_features=768, out_features=768, bias=True)\n",
              "              (value): Linear(in_features=768, out_features=768, bias=True)\n",
              "              (dropout): Dropout(p=0.1, inplace=False)\n",
              "            )\n",
              "            (output): RobertaSelfOutput(\n",
              "              (dense): Linear(in_features=768, out_features=768, bias=True)\n",
              "              (LayerNorm): LayerNorm((768,), eps=1e-05, elementwise_affine=True)\n",
              "              (dropout): Dropout(p=0.1, inplace=False)\n",
              "            )\n",
              "          )\n",
              "          (intermediate): RobertaIntermediate(\n",
              "            (dense): Linear(in_features=768, out_features=3072, bias=True)\n",
              "          )\n",
              "          (output): RobertaOutput(\n",
              "            (dense): Linear(in_features=3072, out_features=768, bias=True)\n",
              "            (LayerNorm): LayerNorm((768,), eps=1e-05, elementwise_affine=True)\n",
              "            (dropout): Dropout(p=0.1, inplace=False)\n",
              "          )\n",
              "        )\n",
              "        (3): RobertaLayer(\n",
              "          (attention): RobertaAttention(\n",
              "            (self): RobertaSelfAttention(\n",
              "              (query): Linear(in_features=768, out_features=768, bias=True)\n",
              "              (key): Linear(in_features=768, out_features=768, bias=True)\n",
              "              (value): Linear(in_features=768, out_features=768, bias=True)\n",
              "              (dropout): Dropout(p=0.1, inplace=False)\n",
              "            )\n",
              "            (output): RobertaSelfOutput(\n",
              "              (dense): Linear(in_features=768, out_features=768, bias=True)\n",
              "              (LayerNorm): LayerNorm((768,), eps=1e-05, elementwise_affine=True)\n",
              "              (dropout): Dropout(p=0.1, inplace=False)\n",
              "            )\n",
              "          )\n",
              "          (intermediate): RobertaIntermediate(\n",
              "            (dense): Linear(in_features=768, out_features=3072, bias=True)\n",
              "          )\n",
              "          (output): RobertaOutput(\n",
              "            (dense): Linear(in_features=3072, out_features=768, bias=True)\n",
              "            (LayerNorm): LayerNorm((768,), eps=1e-05, elementwise_affine=True)\n",
              "            (dropout): Dropout(p=0.1, inplace=False)\n",
              "          )\n",
              "        )\n",
              "        (4): RobertaLayer(\n",
              "          (attention): RobertaAttention(\n",
              "            (self): RobertaSelfAttention(\n",
              "              (query): Linear(in_features=768, out_features=768, bias=True)\n",
              "              (key): Linear(in_features=768, out_features=768, bias=True)\n",
              "              (value): Linear(in_features=768, out_features=768, bias=True)\n",
              "              (dropout): Dropout(p=0.1, inplace=False)\n",
              "            )\n",
              "            (output): RobertaSelfOutput(\n",
              "              (dense): Linear(in_features=768, out_features=768, bias=True)\n",
              "              (LayerNorm): LayerNorm((768,), eps=1e-05, elementwise_affine=True)\n",
              "              (dropout): Dropout(p=0.1, inplace=False)\n",
              "            )\n",
              "          )\n",
              "          (intermediate): RobertaIntermediate(\n",
              "            (dense): Linear(in_features=768, out_features=3072, bias=True)\n",
              "          )\n",
              "          (output): RobertaOutput(\n",
              "            (dense): Linear(in_features=3072, out_features=768, bias=True)\n",
              "            (LayerNorm): LayerNorm((768,), eps=1e-05, elementwise_affine=True)\n",
              "            (dropout): Dropout(p=0.1, inplace=False)\n",
              "          )\n",
              "        )\n",
              "        (5): RobertaLayer(\n",
              "          (attention): RobertaAttention(\n",
              "            (self): RobertaSelfAttention(\n",
              "              (query): Linear(in_features=768, out_features=768, bias=True)\n",
              "              (key): Linear(in_features=768, out_features=768, bias=True)\n",
              "              (value): Linear(in_features=768, out_features=768, bias=True)\n",
              "              (dropout): Dropout(p=0.1, inplace=False)\n",
              "            )\n",
              "            (output): RobertaSelfOutput(\n",
              "              (dense): Linear(in_features=768, out_features=768, bias=True)\n",
              "              (LayerNorm): LayerNorm((768,), eps=1e-05, elementwise_affine=True)\n",
              "              (dropout): Dropout(p=0.1, inplace=False)\n",
              "            )\n",
              "          )\n",
              "          (intermediate): RobertaIntermediate(\n",
              "            (dense): Linear(in_features=768, out_features=3072, bias=True)\n",
              "          )\n",
              "          (output): RobertaOutput(\n",
              "            (dense): Linear(in_features=3072, out_features=768, bias=True)\n",
              "            (LayerNorm): LayerNorm((768,), eps=1e-05, elementwise_affine=True)\n",
              "            (dropout): Dropout(p=0.1, inplace=False)\n",
              "          )\n",
              "        )\n",
              "        (6): RobertaLayer(\n",
              "          (attention): RobertaAttention(\n",
              "            (self): RobertaSelfAttention(\n",
              "              (query): Linear(in_features=768, out_features=768, bias=True)\n",
              "              (key): Linear(in_features=768, out_features=768, bias=True)\n",
              "              (value): Linear(in_features=768, out_features=768, bias=True)\n",
              "              (dropout): Dropout(p=0.1, inplace=False)\n",
              "            )\n",
              "            (output): RobertaSelfOutput(\n",
              "              (dense): Linear(in_features=768, out_features=768, bias=True)\n",
              "              (LayerNorm): LayerNorm((768,), eps=1e-05, elementwise_affine=True)\n",
              "              (dropout): Dropout(p=0.1, inplace=False)\n",
              "            )\n",
              "          )\n",
              "          (intermediate): RobertaIntermediate(\n",
              "            (dense): Linear(in_features=768, out_features=3072, bias=True)\n",
              "          )\n",
              "          (output): RobertaOutput(\n",
              "            (dense): Linear(in_features=3072, out_features=768, bias=True)\n",
              "            (LayerNorm): LayerNorm((768,), eps=1e-05, elementwise_affine=True)\n",
              "            (dropout): Dropout(p=0.1, inplace=False)\n",
              "          )\n",
              "        )\n",
              "        (7): RobertaLayer(\n",
              "          (attention): RobertaAttention(\n",
              "            (self): RobertaSelfAttention(\n",
              "              (query): Linear(in_features=768, out_features=768, bias=True)\n",
              "              (key): Linear(in_features=768, out_features=768, bias=True)\n",
              "              (value): Linear(in_features=768, out_features=768, bias=True)\n",
              "              (dropout): Dropout(p=0.1, inplace=False)\n",
              "            )\n",
              "            (output): RobertaSelfOutput(\n",
              "              (dense): Linear(in_features=768, out_features=768, bias=True)\n",
              "              (LayerNorm): LayerNorm((768,), eps=1e-05, elementwise_affine=True)\n",
              "              (dropout): Dropout(p=0.1, inplace=False)\n",
              "            )\n",
              "          )\n",
              "          (intermediate): RobertaIntermediate(\n",
              "            (dense): Linear(in_features=768, out_features=3072, bias=True)\n",
              "          )\n",
              "          (output): RobertaOutput(\n",
              "            (dense): Linear(in_features=3072, out_features=768, bias=True)\n",
              "            (LayerNorm): LayerNorm((768,), eps=1e-05, elementwise_affine=True)\n",
              "            (dropout): Dropout(p=0.1, inplace=False)\n",
              "          )\n",
              "        )\n",
              "        (8): RobertaLayer(\n",
              "          (attention): RobertaAttention(\n",
              "            (self): RobertaSelfAttention(\n",
              "              (query): Linear(in_features=768, out_features=768, bias=True)\n",
              "              (key): Linear(in_features=768, out_features=768, bias=True)\n",
              "              (value): Linear(in_features=768, out_features=768, bias=True)\n",
              "              (dropout): Dropout(p=0.1, inplace=False)\n",
              "            )\n",
              "            (output): RobertaSelfOutput(\n",
              "              (dense): Linear(in_features=768, out_features=768, bias=True)\n",
              "              (LayerNorm): LayerNorm((768,), eps=1e-05, elementwise_affine=True)\n",
              "              (dropout): Dropout(p=0.1, inplace=False)\n",
              "            )\n",
              "          )\n",
              "          (intermediate): RobertaIntermediate(\n",
              "            (dense): Linear(in_features=768, out_features=3072, bias=True)\n",
              "          )\n",
              "          (output): RobertaOutput(\n",
              "            (dense): Linear(in_features=3072, out_features=768, bias=True)\n",
              "            (LayerNorm): LayerNorm((768,), eps=1e-05, elementwise_affine=True)\n",
              "            (dropout): Dropout(p=0.1, inplace=False)\n",
              "          )\n",
              "        )\n",
              "        (9): RobertaLayer(\n",
              "          (attention): RobertaAttention(\n",
              "            (self): RobertaSelfAttention(\n",
              "              (query): Linear(in_features=768, out_features=768, bias=True)\n",
              "              (key): Linear(in_features=768, out_features=768, bias=True)\n",
              "              (value): Linear(in_features=768, out_features=768, bias=True)\n",
              "              (dropout): Dropout(p=0.1, inplace=False)\n",
              "            )\n",
              "            (output): RobertaSelfOutput(\n",
              "              (dense): Linear(in_features=768, out_features=768, bias=True)\n",
              "              (LayerNorm): LayerNorm((768,), eps=1e-05, elementwise_affine=True)\n",
              "              (dropout): Dropout(p=0.1, inplace=False)\n",
              "            )\n",
              "          )\n",
              "          (intermediate): RobertaIntermediate(\n",
              "            (dense): Linear(in_features=768, out_features=3072, bias=True)\n",
              "          )\n",
              "          (output): RobertaOutput(\n",
              "            (dense): Linear(in_features=3072, out_features=768, bias=True)\n",
              "            (LayerNorm): LayerNorm((768,), eps=1e-05, elementwise_affine=True)\n",
              "            (dropout): Dropout(p=0.1, inplace=False)\n",
              "          )\n",
              "        )\n",
              "        (10): RobertaLayer(\n",
              "          (attention): RobertaAttention(\n",
              "            (self): RobertaSelfAttention(\n",
              "              (query): Linear(in_features=768, out_features=768, bias=True)\n",
              "              (key): Linear(in_features=768, out_features=768, bias=True)\n",
              "              (value): Linear(in_features=768, out_features=768, bias=True)\n",
              "              (dropout): Dropout(p=0.1, inplace=False)\n",
              "            )\n",
              "            (output): RobertaSelfOutput(\n",
              "              (dense): Linear(in_features=768, out_features=768, bias=True)\n",
              "              (LayerNorm): LayerNorm((768,), eps=1e-05, elementwise_affine=True)\n",
              "              (dropout): Dropout(p=0.1, inplace=False)\n",
              "            )\n",
              "          )\n",
              "          (intermediate): RobertaIntermediate(\n",
              "            (dense): Linear(in_features=768, out_features=3072, bias=True)\n",
              "          )\n",
              "          (output): RobertaOutput(\n",
              "            (dense): Linear(in_features=3072, out_features=768, bias=True)\n",
              "            (LayerNorm): LayerNorm((768,), eps=1e-05, elementwise_affine=True)\n",
              "            (dropout): Dropout(p=0.1, inplace=False)\n",
              "          )\n",
              "        )\n",
              "        (11): RobertaLayer(\n",
              "          (attention): RobertaAttention(\n",
              "            (self): RobertaSelfAttention(\n",
              "              (query): Linear(in_features=768, out_features=768, bias=True)\n",
              "              (key): Linear(in_features=768, out_features=768, bias=True)\n",
              "              (value): Linear(in_features=768, out_features=768, bias=True)\n",
              "              (dropout): Dropout(p=0.1, inplace=False)\n",
              "            )\n",
              "            (output): RobertaSelfOutput(\n",
              "              (dense): Linear(in_features=768, out_features=768, bias=True)\n",
              "              (LayerNorm): LayerNorm((768,), eps=1e-05, elementwise_affine=True)\n",
              "              (dropout): Dropout(p=0.1, inplace=False)\n",
              "            )\n",
              "          )\n",
              "          (intermediate): RobertaIntermediate(\n",
              "            (dense): Linear(in_features=768, out_features=3072, bias=True)\n",
              "          )\n",
              "          (output): RobertaOutput(\n",
              "            (dense): Linear(in_features=3072, out_features=768, bias=True)\n",
              "            (LayerNorm): LayerNorm((768,), eps=1e-05, elementwise_affine=True)\n",
              "            (dropout): Dropout(p=0.1, inplace=False)\n",
              "          )\n",
              "        )\n",
              "      )\n",
              "    )\n",
              "  )\n",
              "  (classifier): RobertaClassificationHead(\n",
              "    (dense): Linear(in_features=768, out_features=768, bias=True)\n",
              "    (dropout): Dropout(p=0.1, inplace=False)\n",
              "    (out_proj): Linear(in_features=768, out_features=2, bias=True)\n",
              "  )\n",
              ")"
            ]
          },
          "metadata": {},
          "execution_count": 12
        }
      ]
    },
    {
      "cell_type": "code",
      "metadata": {
        "id": "A99f_BJYTiSi"
      },
      "source": [
        "from torch.utils.data import (TensorDataset,DataLoader,\n",
        "                             RandomSampler, SequentialSampler, Dataset)\n",
        "\n",
        "def prepare_dataloaders(train_df,test_df,batch_size=64):\n",
        "    # Load the AutoTokenizer with a normalization mode if the input Tweet is raw\n",
        "    \n",
        "    tokenizer = AutoTokenizer.from_pretrained(\"vinai/bertweet-base\", use_fast=False, normalization=True)\n",
        "    \n",
        "    tweet_train = bert_encode(train_df, tokenizer)\n",
        "    tweet_train_labels = train_df['Sarcastic'].astype(int)\n",
        "    \n",
        "    tweet_test = bert_encode(test_df, tokenizer)\n",
        "\n",
        "    input_ids, attention_masks = tweet_train.values()\n",
        "    labels = torch.tensor(tweet_train_labels.values)\n",
        "    train_dataset = TensorDataset(input_ids, attention_masks, labels)\n",
        "\n",
        "    \n",
        "    input_ids, attention_masks = tweet_test.values()\n",
        "    test_dataset = TensorDataset(input_ids, attention_masks)\n",
        "\n",
        "    \n",
        "    train_dataloader = DataLoader(\n",
        "                train_dataset,\n",
        "                sampler = RandomSampler(train_dataset), \n",
        "                batch_size = batch_size \n",
        "            )\n",
        "\n",
        "\n",
        "    test_dataloader = DataLoader(\n",
        "                test_dataset, \n",
        "                sampler = SequentialSampler(test_dataset), \n",
        "                batch_size = batch_size\n",
        "            )\n",
        "    return train_dataloader, test_dataloader"
      ],
      "execution_count": null,
      "outputs": []
    },
    {
      "cell_type": "code",
      "metadata": {
        "id": "7hYrLQZYTaCX"
      },
      "source": [
        "def predict(model,test_dataloader):\n",
        "    model.eval()\n",
        "    device = 'cuda' if torch.cuda.is_available() else 'cpu'\n",
        "    model.to(device)\n",
        "    preds = []\n",
        "\n",
        "    for batch in test_dataloader:\n",
        "        \n",
        "        b_input_ids = batch[0].to(device)\n",
        "        b_input_mask = batch[1].to(device)\n",
        "        with torch.no_grad():        \n",
        "            outputs = model(b_input_ids, \n",
        "                                   token_type_ids=None, \n",
        "                                   attention_mask=b_input_mask)\n",
        "            logits = outputs.logits\n",
        "\n",
        "        logits = logits.detach().cpu().numpy()\n",
        "        for logit in logits:\n",
        "            preds.append(logit)\n",
        "\n",
        "    return np.array(preds)"
      ],
      "execution_count": null,
      "outputs": []
    },
    {
      "cell_type": "code",
      "metadata": {
        "id": "3l5aReGaT1fv"
      },
      "source": [
        "# Load data\n",
        "\n",
        "import ast\n",
        "import pandas as pd\n",
        "\n",
        "def load_data_lists(path):\n",
        "    data_points_lists = []\n",
        "    with open(path, encoding='utf-8') as f:\n",
        "        lines = f.readlines()\n",
        "\n",
        "        for line in lines:\n",
        "            try:\n",
        "                data_points_lists.append(ast.literal_eval(line))\n",
        "            except:\n",
        "                # Ignore lines with errors\n",
        "                pass\n",
        "\n",
        "    print('Found {} lines in \"{}\".'.format(len(lines), path))\n",
        "    print('Successfully loaded {} data points from \"{}\".'.format(len(data_points_lists), path))\n",
        "    \n",
        "    return data_points_lists\n",
        "\n",
        "COLUMN_NAMES = ['ID', 'Text', 'Sarcastic']\n",
        "\n",
        "def construct_df(data_points_lists, column_names=COLUMN_NAMES):\n",
        "    df = pd.DataFrame(data_points_lists, columns=column_names)\n",
        "    df['ID'] = pd.to_numeric(df['ID'])\n",
        "    df['Sarcastic'] = df['Sarcastic'].astype('bool')\n",
        "    \n",
        "    return df"
      ],
      "execution_count": null,
      "outputs": []
    },
    {
      "cell_type": "code",
      "metadata": {
        "colab": {
          "base_uri": "https://localhost:8080/",
          "height": 414
        },
        "id": "Nb1vSzIvTzaK",
        "outputId": "1e33122d-db6d-4c80-dfe8-b348c8b826be"
      },
      "source": [
        "train_df = construct_df(load_data_lists('train.txt'))\n",
        "\n",
        "train_df.info()\n",
        "train_df.head()"
      ],
      "execution_count": null,
      "outputs": [
        {
          "output_type": "stream",
          "name": "stdout",
          "text": [
            "Found 29040 lines in \"train.txt\".\n",
            "Successfully loaded 29040 data points from \"train.txt\".\n",
            "<class 'pandas.core.frame.DataFrame'>\n",
            "RangeIndex: 29040 entries, 0 to 29039\n",
            "Data columns (total 3 columns):\n",
            " #   Column     Non-Null Count  Dtype \n",
            "---  ------     --------------  ----- \n",
            " 0   ID         29040 non-null  int64 \n",
            " 1   Text       29040 non-null  object\n",
            " 2   Sarcastic  29040 non-null  bool  \n",
            "dtypes: bool(1), int64(1), object(1)\n",
            "memory usage: 482.2+ KB\n"
          ]
        },
        {
          "output_type": "execute_result",
          "data": {
            "text/html": [
              "<div>\n",
              "<style scoped>\n",
              "    .dataframe tbody tr th:only-of-type {\n",
              "        vertical-align: middle;\n",
              "    }\n",
              "\n",
              "    .dataframe tbody tr th {\n",
              "        vertical-align: top;\n",
              "    }\n",
              "\n",
              "    .dataframe thead th {\n",
              "        text-align: right;\n",
              "    }\n",
              "</style>\n",
              "<table border=\"1\" class=\"dataframe\">\n",
              "  <thead>\n",
              "    <tr style=\"text-align: right;\">\n",
              "      <th></th>\n",
              "      <th>ID</th>\n",
              "      <th>Text</th>\n",
              "      <th>Sarcastic</th>\n",
              "    </tr>\n",
              "  </thead>\n",
              "  <tbody>\n",
              "    <tr>\n",
              "      <th>0</th>\n",
              "      <td>910308516510011393</td>\n",
              "      <td>most # funny quotes : 21 snarky and # funny qu...</td>\n",
              "      <td>True</td>\n",
              "    </tr>\n",
              "    <tr>\n",
              "      <th>1</th>\n",
              "      <td>725333760762363905</td>\n",
              "      <td>spurs # creativethinking ! &lt;url&gt;</td>\n",
              "      <td>True</td>\n",
              "    </tr>\n",
              "    <tr>\n",
              "      <th>2</th>\n",
              "      <td>840006160660983809</td>\n",
              "      <td>&lt;user&gt; thanks for showing up for our appointme...</td>\n",
              "      <td>True</td>\n",
              "    </tr>\n",
              "    <tr>\n",
              "      <th>3</th>\n",
              "      <td>854334602516733952</td>\n",
              "      <td>only a hardcore fan of sir jonny sins will get...</td>\n",
              "      <td>True</td>\n",
              "    </tr>\n",
              "    <tr>\n",
              "      <th>4</th>\n",
              "      <td>908913372199915520</td>\n",
              "      <td>haha .  # lol</td>\n",
              "      <td>True</td>\n",
              "    </tr>\n",
              "  </tbody>\n",
              "</table>\n",
              "</div>"
            ],
            "text/plain": [
              "                   ID  ... Sarcastic\n",
              "0  910308516510011393  ...      True\n",
              "1  725333760762363905  ...      True\n",
              "2  840006160660983809  ...      True\n",
              "3  854334602516733952  ...      True\n",
              "4  908913372199915520  ...      True\n",
              "\n",
              "[5 rows x 3 columns]"
            ]
          },
          "metadata": {},
          "execution_count": 16
        }
      ]
    },
    {
      "cell_type": "code",
      "metadata": {
        "colab": {
          "base_uri": "https://localhost:8080/",
          "height": 431
        },
        "id": "kwu7AeZSEbWG",
        "outputId": "5e4b79ef-b52e-47b6-e3d7-14914654dd19"
      },
      "source": [
        "valid_df = construct_df(load_data_lists('valid.txt'), column_names=COLUMN_NAMES + ['Sarc_2'])\n",
        "\n",
        "valid_df.info()\n",
        "valid_df.head()"
      ],
      "execution_count": null,
      "outputs": [
        {
          "output_type": "stream",
          "name": "stdout",
          "text": [
            "Found 2410 lines in \"valid.txt\".\n",
            "Successfully loaded 2410 data points from \"valid.txt\".\n",
            "<class 'pandas.core.frame.DataFrame'>\n",
            "RangeIndex: 2410 entries, 0 to 2409\n",
            "Data columns (total 4 columns):\n",
            " #   Column     Non-Null Count  Dtype \n",
            "---  ------     --------------  ----- \n",
            " 0   ID         2410 non-null   int64 \n",
            " 1   Text       2410 non-null   object\n",
            " 2   Sarcastic  2410 non-null   bool  \n",
            " 3   Sarc_2     2410 non-null   int64 \n",
            "dtypes: bool(1), int64(2), object(1)\n",
            "memory usage: 59.0+ KB\n"
          ]
        },
        {
          "output_type": "execute_result",
          "data": {
            "text/html": [
              "<div>\n",
              "<style scoped>\n",
              "    .dataframe tbody tr th:only-of-type {\n",
              "        vertical-align: middle;\n",
              "    }\n",
              "\n",
              "    .dataframe tbody tr th {\n",
              "        vertical-align: top;\n",
              "    }\n",
              "\n",
              "    .dataframe thead th {\n",
              "        text-align: right;\n",
              "    }\n",
              "</style>\n",
              "<table border=\"1\" class=\"dataframe\">\n",
              "  <thead>\n",
              "    <tr style=\"text-align: right;\">\n",
              "      <th></th>\n",
              "      <th>ID</th>\n",
              "      <th>Text</th>\n",
              "      <th>Sarcastic</th>\n",
              "      <th>Sarc_2</th>\n",
              "    </tr>\n",
              "  </thead>\n",
              "  <tbody>\n",
              "    <tr>\n",
              "      <th>0</th>\n",
              "      <td>915657464401580032</td>\n",
              "      <td>whew ... that extra &lt;num&gt; miles today to the g...</td>\n",
              "      <td>True</td>\n",
              "      <td>1</td>\n",
              "    </tr>\n",
              "    <tr>\n",
              "      <th>1</th>\n",
              "      <td>854678856724340736</td>\n",
              "      <td>\" oh , good . now no one will know we 're here...</td>\n",
              "      <td>True</td>\n",
              "      <td>1</td>\n",
              "    </tr>\n",
              "    <tr>\n",
              "      <th>2</th>\n",
              "      <td>904892917277274112</td>\n",
              "      <td>how much of it you think is true ? has this be...</td>\n",
              "      <td>True</td>\n",
              "      <td>1</td>\n",
              "    </tr>\n",
              "    <tr>\n",
              "      <th>3</th>\n",
              "      <td>855466461296504832</td>\n",
              "      <td>&lt;user&gt; finally found proof that the earth is f...</td>\n",
              "      <td>True</td>\n",
              "      <td>1</td>\n",
              "    </tr>\n",
              "    <tr>\n",
              "      <th>4</th>\n",
              "      <td>927373534652805120</td>\n",
              "      <td>many ways to overcome tension &amp; fear but nothi...</td>\n",
              "      <td>True</td>\n",
              "      <td>1</td>\n",
              "    </tr>\n",
              "  </tbody>\n",
              "</table>\n",
              "</div>"
            ],
            "text/plain": [
              "                   ID  ... Sarc_2\n",
              "0  915657464401580032  ...      1\n",
              "1  854678856724340736  ...      1\n",
              "2  904892917277274112  ...      1\n",
              "3  855466461296504832  ...      1\n",
              "4  927373534652805120  ...      1\n",
              "\n",
              "[5 rows x 4 columns]"
            ]
          },
          "metadata": {},
          "execution_count": 17
        }
      ]
    },
    {
      "cell_type": "code",
      "metadata": {
        "colab": {
          "base_uri": "https://localhost:8080/",
          "height": 431
        },
        "id": "N0XC3CIST-ZB",
        "outputId": "6a6bd1e9-6bba-444a-8c1e-a758475fc2ad"
      },
      "source": [
        "test_df = construct_df(load_data_lists('test.txt'), column_names=COLUMN_NAMES + ['Sarc_2'])\n",
        "\n",
        "test_df.info()\n",
        "test_df.head()"
      ],
      "execution_count": null,
      "outputs": [
        {
          "output_type": "stream",
          "name": "stdout",
          "text": [
            "Found 2409 lines in \"test.txt\".\n",
            "Successfully loaded 2409 data points from \"test.txt\".\n",
            "<class 'pandas.core.frame.DataFrame'>\n",
            "RangeIndex: 2409 entries, 0 to 2408\n",
            "Data columns (total 4 columns):\n",
            " #   Column     Non-Null Count  Dtype \n",
            "---  ------     --------------  ----- \n",
            " 0   ID         2409 non-null   int64 \n",
            " 1   Text       2409 non-null   object\n",
            " 2   Sarcastic  2409 non-null   bool  \n",
            " 3   Sarc_2     2409 non-null   int64 \n",
            "dtypes: bool(1), int64(2), object(1)\n",
            "memory usage: 58.9+ KB\n"
          ]
        },
        {
          "output_type": "execute_result",
          "data": {
            "text/html": [
              "<div>\n",
              "<style scoped>\n",
              "    .dataframe tbody tr th:only-of-type {\n",
              "        vertical-align: middle;\n",
              "    }\n",
              "\n",
              "    .dataframe tbody tr th {\n",
              "        vertical-align: top;\n",
              "    }\n",
              "\n",
              "    .dataframe thead th {\n",
              "        text-align: right;\n",
              "    }\n",
              "</style>\n",
              "<table border=\"1\" class=\"dataframe\">\n",
              "  <thead>\n",
              "    <tr style=\"text-align: right;\">\n",
              "      <th></th>\n",
              "      <th>ID</th>\n",
              "      <th>Text</th>\n",
              "      <th>Sarcastic</th>\n",
              "      <th>Sarc_2</th>\n",
              "    </tr>\n",
              "  </thead>\n",
              "  <tbody>\n",
              "    <tr>\n",
              "      <th>0</th>\n",
              "      <td>862902619928506372</td>\n",
              "      <td>i am guessing # netflix no longer lets you gra...</td>\n",
              "      <td>True</td>\n",
              "      <td>1</td>\n",
              "    </tr>\n",
              "    <tr>\n",
              "      <th>1</th>\n",
              "      <td>892551658487631873</td>\n",
              "      <td>it 's the insensitive strikeouts at suntrust p...</td>\n",
              "      <td>True</td>\n",
              "      <td>1</td>\n",
              "    </tr>\n",
              "    <tr>\n",
              "      <th>2</th>\n",
              "      <td>853143461360480256</td>\n",
              "      <td>following the path of the river calder , so .....</td>\n",
              "      <td>True</td>\n",
              "      <td>1</td>\n",
              "    </tr>\n",
              "    <tr>\n",
              "      <th>3</th>\n",
              "      <td>918423568823840768</td>\n",
              "      <td># westernsahara # authority has no lessons 2ge...</td>\n",
              "      <td>True</td>\n",
              "      <td>1</td>\n",
              "    </tr>\n",
              "    <tr>\n",
              "      <th>4</th>\n",
              "      <td>731617467718610944</td>\n",
              "      <td>hey &lt;user&gt; great sale !</td>\n",
              "      <td>True</td>\n",
              "      <td>1</td>\n",
              "    </tr>\n",
              "  </tbody>\n",
              "</table>\n",
              "</div>"
            ],
            "text/plain": [
              "                   ID  ... Sarc_2\n",
              "0  862902619928506372  ...      1\n",
              "1  892551658487631873  ...      1\n",
              "2  853143461360480256  ...      1\n",
              "3  918423568823840768  ...      1\n",
              "4  731617467718610944  ...      1\n",
              "\n",
              "[5 rows x 4 columns]"
            ]
          },
          "metadata": {},
          "execution_count": 18
        }
      ]
    },
    {
      "cell_type": "code",
      "metadata": {
        "id": "8Jx2YTuqUFFw"
      },
      "source": [
        "import os\n",
        "import random\n",
        "import time\n",
        "import datetime\n",
        "import torch\n",
        "import argparse\n",
        "import numpy as np\n",
        "import pandas as pd\n",
        "from torch.nn import functional as F\n",
        "from transformers import (get_linear_schedule_with_warmup,AdamW,AutoModel, AutoTokenizer,\n",
        "                            AutoModelForSequenceClassification)\n",
        "from torch.utils.data import (TensorDataset,DataLoader,\n",
        "                             RandomSampler, SequentialSampler, Dataset)"
      ],
      "execution_count": null,
      "outputs": []
    },
    {
      "cell_type": "code",
      "metadata": {
        "id": "nzEYL9MIZY3Q"
      },
      "source": [
        "def bert_encode(df, tokenizer):\n",
        "    input_ids = []\n",
        "    attention_masks = []\n",
        "    # print(df)\n",
        "    for sent in df[['Text']].values:\n",
        "        sent = sent.item()\n",
        "        encoded_dict = tokenizer.encode_plus(\n",
        "                            sent,                      \n",
        "                            add_special_tokens = True, \n",
        "                            max_length = 128,           \n",
        "                            pad_to_max_length = True,\n",
        "                            truncation = True,\n",
        "                            return_attention_mask = True,   \n",
        "                            return_tensors = 'pt',    \n",
        "                    )\n",
        "           \n",
        "        input_ids.append(encoded_dict['input_ids'])\n",
        "        attention_masks.append(encoded_dict['attention_mask'])\n",
        "    input_ids = torch.cat(input_ids, dim=0)\n",
        "    attention_masks = torch.cat(attention_masks, dim=0)\n",
        "\n",
        "    inputs = {\n",
        "    'input_word_ids': input_ids,\n",
        "    'input_mask': attention_masks}\n",
        "\n",
        "    return inputs"
      ],
      "execution_count": null,
      "outputs": []
    },
    {
      "cell_type": "code",
      "metadata": {
        "colab": {
          "base_uri": "https://localhost:8080/",
          "height": 202,
          "referenced_widgets": [
            "66cc536c69094153b9af97d3d12fae25",
            "c1683bdc5a434d4f865e571d2d54ad48",
            "6d51566b7ecf4a58bdc6d653851c40c1",
            "c35259646daa476b8b4aa581ae25cfb8",
            "986609203b8f4380adfa6ab1024e2159",
            "896b62bc05bb4fe8993e248a08fe0a2f",
            "d0a55912fe9847bfbd2ea0a6c70536fd",
            "dffccd4c149c465393acf0f37acc4408",
            "ae55eb7f66934fe8a5f241b47ef59fb4",
            "5bc49085be53439bb98f60b3bd0f13f4",
            "13ff0c5705664c38bf8b95b70a49885e",
            "17456598a4e447899abe580ce04dab19",
            "6d153f971eb644bbb070e4218b93b752",
            "ce5d268360734c8c8ba353c3237d1163",
            "28afa540c46c4ce7b8ba85f6963e3961",
            "d5d81af8254049b0aa0f4a1cca446f61",
            "77013315a5ed4bdd916c867b056b0a6d",
            "4e24070c4d73408187cef4572c10ed09",
            "696ec522e6684a48a66892a8a3121946",
            "f039b534c3a640be9b010c6aaaf9cbcc",
            "c0b6636331ad4bc99328123b45fd7d99",
            "b2c5f05e7fde4a4bb7f500eab413cb9e",
            "7f75508c40ae4c8eb08e7d606548aeee",
            "05375ef2e5fe463e88714eb4e9f0acf4",
            "cf79c3babba84d9ea78b8fe9e48f0c52",
            "28ce3cdd270d4d7d8cdb4ae08bfb9419",
            "79cccc25b7b74e1691212a3438170f5c",
            "f2db7c3eb24e46b39e30e2ff5058d3d0",
            "da4e107727e44318bc66a8e460706f13",
            "91c76243a3d8489faf1c39343114c9c2",
            "8b0315c106734c2aac56aef5290688f8",
            "eaa3a924ded448bcb7afdb380fd52301",
            "b204cb7e13584fb7bd03126c647b2787"
          ]
        },
        "id": "bGttaW1KJ9Fj",
        "outputId": "9296ed7c-86e1-4e54-a924-2c7bf7902df1"
      },
      "source": [
        "_,valid_dataloader = prepare_dataloaders(train_df, valid_df)"
      ],
      "execution_count": null,
      "outputs": [
        {
          "output_type": "display_data",
          "data": {
            "application/vnd.jupyter.widget-view+json": {
              "model_id": "66cc536c69094153b9af97d3d12fae25",
              "version_minor": 0,
              "version_major": 2
            },
            "text/plain": [
              "Downloading:   0%|          | 0.00/558 [00:00<?, ?B/s]"
            ]
          },
          "metadata": {}
        },
        {
          "output_type": "display_data",
          "data": {
            "application/vnd.jupyter.widget-view+json": {
              "model_id": "17456598a4e447899abe580ce04dab19",
              "version_minor": 0,
              "version_major": 2
            },
            "text/plain": [
              "Downloading:   0%|          | 0.00/824k [00:00<?, ?B/s]"
            ]
          },
          "metadata": {}
        },
        {
          "output_type": "display_data",
          "data": {
            "application/vnd.jupyter.widget-view+json": {
              "model_id": "7f75508c40ae4c8eb08e7d606548aeee",
              "version_minor": 0,
              "version_major": 2
            },
            "text/plain": [
              "Downloading:   0%|          | 0.00/1.03M [00:00<?, ?B/s]"
            ]
          },
          "metadata": {}
        },
        {
          "output_type": "stream",
          "name": "stderr",
          "text": [
            "emoji is not installed, thus not converting emoticons or emojis into text. Please install emoji: pip3 install emoji\n",
            "Special tokens have been added in the vocabulary, make sure the associated word embeddings are fine-tuned or trained.\n",
            "/usr/local/lib/python3.7/dist-packages/transformers/tokenization_utils_base.py:2227: FutureWarning: The `pad_to_max_length` argument is deprecated and will be removed in a future version, use `padding=True` or `padding='longest'` to pad to the longest sequence in the batch, or use `padding='max_length'` to pad to a max length. In this case, you can give a specific length with `max_length` (e.g. `max_length=45`) or leave max_length to None to pad to the maximal input size of the model (e.g. 512 for Bert).\n",
            "  FutureWarning,\n"
          ]
        }
      ]
    },
    {
      "cell_type": "code",
      "metadata": {
        "colab": {
          "base_uri": "https://localhost:8080/"
        },
        "id": "jxGTwYBaTqE4",
        "outputId": "b626fb66-b40e-4a7d-8898-65ec51cffea5"
      },
      "source": [
        "_,test_dataloader = prepare_dataloaders(train_df, test_df)"
      ],
      "execution_count": null,
      "outputs": [
        {
          "output_type": "stream",
          "name": "stderr",
          "text": [
            "emoji is not installed, thus not converting emoticons or emojis into text. Please install emoji: pip3 install emoji\n",
            "Special tokens have been added in the vocabulary, make sure the associated word embeddings are fine-tuned or trained.\n",
            "/usr/local/lib/python3.7/dist-packages/transformers/tokenization_utils_base.py:2227: FutureWarning: The `pad_to_max_length` argument is deprecated and will be removed in a future version, use `padding=True` or `padding='longest'` to pad to the longest sequence in the batch, or use `padding='max_length'` to pad to a max length. In this case, you can give a specific length with `max_length` (e.g. `max_length=45`) or leave max_length to None to pad to the maximal input size of the model (e.g. 512 for Bert).\n",
            "  FutureWarning,\n"
          ]
        }
      ]
    },
    {
      "cell_type": "code",
      "metadata": {
        "colab": {
          "base_uri": "https://localhost:8080/"
        },
        "id": "Uyq0rLCbSNqh",
        "outputId": "2179603e-b25d-48ec-f9f7-39f90f93c902"
      },
      "source": [
        "preds_bert = predict(bert_model,valid_dataloader)\n",
        "preds_bert.shape"
      ],
      "execution_count": null,
      "outputs": [
        {
          "output_type": "execute_result",
          "data": {
            "text/plain": [
              "(2410, 2)"
            ]
          },
          "metadata": {},
          "execution_count": 23
        }
      ]
    },
    {
      "cell_type": "markdown",
      "metadata": {
        "id": "Ig2LRHniUYzo"
      },
      "source": [
        "# Load image data"
      ]
    },
    {
      "cell_type": "code",
      "metadata": {
        "id": "j0xrRfgaKKEW"
      },
      "source": [
        "!gdown -q --id 1dJERrVlp7DlNSXk-uvbbG6Rv7uvqTOKd"
      ],
      "execution_count": null,
      "outputs": []
    },
    {
      "cell_type": "code",
      "metadata": {
        "id": "jJ207DEmKWmu"
      },
      "source": [
        "!gdown -q --id 1pODuKC4gP6-QDQonG8XTqI8w8ds68mE3"
      ],
      "execution_count": null,
      "outputs": []
    },
    {
      "cell_type": "code",
      "metadata": {
        "id": "p4Zn364YKXyK"
      },
      "source": [
        "!gdown -q --id 1mK0Nf-jv_h2bgHUCRM4_EsdTiiitZ_Uj"
      ],
      "execution_count": null,
      "outputs": []
    },
    {
      "cell_type": "code",
      "metadata": {
        "id": "I3KuoRNFKZF4"
      },
      "source": [
        "!gdown -q --id 1AOWzlOz5hmdO39dEmzhQ4z_nabgzi7Tu"
      ],
      "execution_count": null,
      "outputs": []
    },
    {
      "cell_type": "code",
      "metadata": {
        "collapsed": true,
        "id": "vVyGEr5RKaZc"
      },
      "source": [
        "# Expects dataset_image.zip (and partial .z0x files) in the working folder\n",
        "%%capture\n",
        "!zip -FF dataset_image.zip --out dataset_image_full.zip\n",
        "!unzip -FF dataset_image_full.zip -d /content"
      ],
      "execution_count": null,
      "outputs": []
    },
    {
      "cell_type": "code",
      "metadata": {
        "id": "L6YUqPruZULJ"
      },
      "source": [
        "import torch\n",
        "from torchvision import datasets, models, transforms\n",
        "import torch.nn as nn\n",
        "from torch.nn import functional as F\n",
        "import torch.optim as optim\n",
        "\n",
        "normalize = transforms.Normalize(mean=[0.485, 0.456, 0.406],\n",
        "                                 std=[0.229, 0.224, 0.225])\n",
        "\n",
        "data_transforms = {\n",
        "    'train':\n",
        "    transforms.Compose([\n",
        "        transforms.Resize((224,224)),\n",
        "        transforms.RandomAffine(0, shear=10, scale=(0.8,1.2)),\n",
        "        transforms.RandomHorizontalFlip(),\n",
        "        transforms.ToTensor(),\n",
        "        normalize\n",
        "    ]),\n",
        "    'validation':\n",
        "    transforms.Compose([\n",
        "        transforms.Resize((224,224)),\n",
        "        transforms.ToTensor(),\n",
        "        normalize\n",
        "    ]),\n",
        "}"
      ],
      "execution_count": null,
      "outputs": []
    },
    {
      "cell_type": "code",
      "metadata": {
        "id": "PgonQ_Hc_dFB"
      },
      "source": [
        "os.mkdir('dataset_image/test/')\n",
        "os.mkdir('dataset_image/valid/')"
      ],
      "execution_count": null,
      "outputs": []
    },
    {
      "cell_type": "code",
      "metadata": {
        "id": "NophW1XWbuoU"
      },
      "source": [
        "import os\n",
        "import shutil\n",
        "\n",
        "for id in test_df['ID']:\n",
        "    img_path = 'dataset_image/{}.jpg'.format(id)\n",
        "    if os.path.isfile(img_path):\n",
        "      shutil.move(img_path, 'dataset_image/test/{}.jpg'.format(id))"
      ],
      "execution_count": null,
      "outputs": []
    },
    {
      "cell_type": "code",
      "metadata": {
        "id": "AEEbJu7mKGOa"
      },
      "source": [
        "for id in valid_df['ID']:\n",
        "    img_path = 'dataset_image/{}.jpg'.format(id)\n",
        "    if os.path.isfile(img_path):\n",
        "      shutil.move(img_path, 'dataset_image/valid/{}.jpg'.format(id))"
      ],
      "execution_count": null,
      "outputs": []
    },
    {
      "cell_type": "code",
      "metadata": {
        "id": "Gz-jecVFb-Wh"
      },
      "source": [
        "os.mkdir('dataset_image/test/sarc/')\n",
        "os.mkdir('dataset_image/test/non-sarc/')\n",
        "os.mkdir('dataset_image/valid/sarc/')\n",
        "os.mkdir('dataset_image/valid/non-sarc/')"
      ],
      "execution_count": null,
      "outputs": []
    },
    {
      "cell_type": "code",
      "metadata": {
        "id": "U3fvLzyQa6Bl"
      },
      "source": [
        "import shutil\n",
        "\n",
        "class_foldername = {\n",
        "    True: 'sarc',\n",
        "    False: 'non-sarc'\n",
        "}\n",
        "\n",
        "# Move images to subfolders\n",
        "for id,label in zip(test_df['ID'], test_df['Sarcastic']):\n",
        "    shutil.move('dataset_image/test/{}.jpg'.format(id), 'dataset_image/test/{}/{}.jpg'.format(class_foldername[label], id))\n",
        "\n",
        "for id,label in zip(valid_df['ID'], valid_df['Sarcastic']):\n",
        "    shutil.move('dataset_image/valid/{}.jpg'.format(id), 'dataset_image/valid/{}/{}.jpg'.format(class_foldername[label], id))"
      ],
      "execution_count": null,
      "outputs": []
    },
    {
      "cell_type": "code",
      "metadata": {
        "colab": {
          "base_uri": "https://localhost:8080/",
          "height": 81
        },
        "id": "VYZJe_44cAXX",
        "outputId": "aa6323fa-7f84-47df-fa4e-b1404435093b"
      },
      "source": [
        "test_df[test_df['ID'] == 735819270106419201]"
      ],
      "execution_count": null,
      "outputs": [
        {
          "output_type": "execute_result",
          "data": {
            "text/html": [
              "<div>\n",
              "<style scoped>\n",
              "    .dataframe tbody tr th:only-of-type {\n",
              "        vertical-align: middle;\n",
              "    }\n",
              "\n",
              "    .dataframe tbody tr th {\n",
              "        vertical-align: top;\n",
              "    }\n",
              "\n",
              "    .dataframe thead th {\n",
              "        text-align: right;\n",
              "    }\n",
              "</style>\n",
              "<table border=\"1\" class=\"dataframe\">\n",
              "  <thead>\n",
              "    <tr style=\"text-align: right;\">\n",
              "      <th></th>\n",
              "      <th>ID</th>\n",
              "      <th>Text</th>\n",
              "      <th>Sarcastic</th>\n",
              "      <th>Sarc_2</th>\n",
              "    </tr>\n",
              "  </thead>\n",
              "  <tbody>\n",
              "    <tr>\n",
              "      <th>567</th>\n",
              "      <td>735819270106419201</td>\n",
              "      <td># funny ! and a male friend sends this over lm...</td>\n",
              "      <td>True</td>\n",
              "      <td>1</td>\n",
              "    </tr>\n",
              "  </tbody>\n",
              "</table>\n",
              "</div>"
            ],
            "text/plain": [
              "                     ID  ... Sarc_2\n",
              "567  735819270106419201  ...      1\n",
              "\n",
              "[1 rows x 4 columns]"
            ]
          },
          "metadata": {},
          "execution_count": 35
        }
      ]
    },
    {
      "cell_type": "code",
      "metadata": {
        "id": "pHzmg8I_cN0W"
      },
      "source": [
        "class ImageFolderWithPaths(datasets.ImageFolder):\n",
        "    \"\"\"Custom dataset that includes image file paths. Extends\n",
        "    torchvision.datasets.ImageFolder\n",
        "    \"\"\"\n",
        "\n",
        "    # override the __getitem__ method. this is the method that dataloader calls\n",
        "    def __getitem__(self, index):\n",
        "        # this is what ImageFolder normally returns \n",
        "        original_tuple = super(ImageFolderWithPaths, self).__getitem__(index)\n",
        "        # the image file path\n",
        "        path = self.imgs[index][0]\n",
        "        # make a new tuple that includes original and the path\n",
        "        tuple_with_path = (original_tuple + (path,))\n",
        "        return tuple_with_path"
      ],
      "execution_count": null,
      "outputs": []
    },
    {
      "cell_type": "code",
      "metadata": {
        "id": "KBcFOujHa6tR"
      },
      "source": [
        "test_dataloader =torch.utils.data.DataLoader(ImageFolderWithPaths('dataset_image/test', data_transforms['validation']),\n",
        "                                            batch_size=256,\n",
        "                                            shuffle=False)\n",
        "valid_dataloader =torch.utils.data.DataLoader(ImageFolderWithPaths('dataset_image/valid', data_transforms['validation']),\n",
        "                                            batch_size=256,\n",
        "                                            shuffle=False)"
      ],
      "execution_count": null,
      "outputs": []
    },
    {
      "cell_type": "code",
      "metadata": {
        "colab": {
          "base_uri": "https://localhost:8080/"
        },
        "id": "6BQil3WNdXgM",
        "outputId": "334f2b46-a984-40cc-c511-cd512e21672b"
      },
      "source": [
        "device = torch.device(\"cuda\" if torch.cuda.is_available() else \"cpu\")\n",
        "device"
      ],
      "execution_count": null,
      "outputs": [
        {
          "output_type": "execute_result",
          "data": {
            "text/plain": [
              "device(type='cuda')"
            ]
          },
          "metadata": {},
          "execution_count": 38
        }
      ]
    },
    {
      "cell_type": "code",
      "metadata": {
        "id": "W0GKpxADclyL"
      },
      "source": [
        "preds = []\n",
        "true_labels = []\n",
        "ids = []\n",
        "\n",
        "for inputs, labels, batch_paths in valid_dataloader:\n",
        "  inputs = inputs.to(device)\n",
        "  labels = labels.to(device)\n",
        "\n",
        "  batch_preds = resnet_model(inputs)\n",
        "  \n",
        "  # print(batch_preds.shape)\n",
        "\n",
        "  preds.append(batch_preds)\n",
        "  true_labels.append(labels)\n",
        "  ids.append([int(os.path.basename(p).split('.')[0]) for p in batch_paths])"
      ],
      "execution_count": null,
      "outputs": []
    },
    {
      "cell_type": "code",
      "metadata": {
        "colab": {
          "base_uri": "https://localhost:8080/"
        },
        "id": "jgcmI7AwYkrC",
        "outputId": "6dc63f5c-1e6e-4e14-d892-14190d114516"
      },
      "source": [
        "import torch.nn.functional as F\n",
        "\n",
        "# Softmax\n",
        "preds_bert = np.array(F.softmax(torch.Tensor(preds_bert)))\n",
        "preds_bert"
      ],
      "execution_count": null,
      "outputs": [
        {
          "output_type": "stream",
          "name": "stderr",
          "text": [
            "/usr/local/lib/python3.7/dist-packages/ipykernel_launcher.py:4: UserWarning: Implicit dimension choice for softmax has been deprecated. Change the call to include dim=X as an argument.\n",
            "  after removing the cwd from sys.path.\n"
          ]
        },
        {
          "output_type": "execute_result",
          "data": {
            "text/plain": [
              "array([[0.00174612, 0.9982539 ],\n",
              "       [0.2274344 , 0.77256554],\n",
              "       [0.00638869, 0.9936113 ],\n",
              "       ...,\n",
              "       [0.00691157, 0.9930884 ],\n",
              "       [0.00435958, 0.9956404 ],\n",
              "       [0.00547979, 0.99452025]], dtype=float32)"
            ]
          },
          "metadata": {},
          "execution_count": 40
        }
      ]
    },
    {
      "cell_type": "code",
      "metadata": {
        "colab": {
          "base_uri": "https://localhost:8080/",
          "height": 394
        },
        "id": "OjbgwamYdHVG",
        "outputId": "9d6bb4d4-8b14-4da5-ea69-d53e1ad35213"
      },
      "source": [
        "bert_test_preds_df = pd.DataFrame(list(zip(preds_bert, valid_df['Sarcastic'])), index=valid_df['ID'])\n",
        "bert_test_preds_df.columns = ['Pred_bert', 'Sarc_bert']\n",
        "bert_test_preds_df.info()\n",
        "bert_test_preds_df.head()"
      ],
      "execution_count": null,
      "outputs": [
        {
          "output_type": "stream",
          "name": "stdout",
          "text": [
            "<class 'pandas.core.frame.DataFrame'>\n",
            "Int64Index: 2410 entries, 915657464401580032 to 845036766235123712\n",
            "Data columns (total 2 columns):\n",
            " #   Column     Non-Null Count  Dtype \n",
            "---  ------     --------------  ----- \n",
            " 0   Pred_bert  2410 non-null   object\n",
            " 1   Sarc_bert  2410 non-null   bool  \n",
            "dtypes: bool(1), object(1)\n",
            "memory usage: 40.0+ KB\n"
          ]
        },
        {
          "output_type": "execute_result",
          "data": {
            "text/html": [
              "<div>\n",
              "<style scoped>\n",
              "    .dataframe tbody tr th:only-of-type {\n",
              "        vertical-align: middle;\n",
              "    }\n",
              "\n",
              "    .dataframe tbody tr th {\n",
              "        vertical-align: top;\n",
              "    }\n",
              "\n",
              "    .dataframe thead th {\n",
              "        text-align: right;\n",
              "    }\n",
              "</style>\n",
              "<table border=\"1\" class=\"dataframe\">\n",
              "  <thead>\n",
              "    <tr style=\"text-align: right;\">\n",
              "      <th></th>\n",
              "      <th>Pred_bert</th>\n",
              "      <th>Sarc_bert</th>\n",
              "    </tr>\n",
              "    <tr>\n",
              "      <th>ID</th>\n",
              "      <th></th>\n",
              "      <th></th>\n",
              "    </tr>\n",
              "  </thead>\n",
              "  <tbody>\n",
              "    <tr>\n",
              "      <th>915657464401580032</th>\n",
              "      <td>[0.0017461218, 0.9982539]</td>\n",
              "      <td>True</td>\n",
              "    </tr>\n",
              "    <tr>\n",
              "      <th>854678856724340736</th>\n",
              "      <td>[0.2274344, 0.77256554]</td>\n",
              "      <td>True</td>\n",
              "    </tr>\n",
              "    <tr>\n",
              "      <th>904892917277274112</th>\n",
              "      <td>[0.006388687, 0.9936113]</td>\n",
              "      <td>True</td>\n",
              "    </tr>\n",
              "    <tr>\n",
              "      <th>855466461296504832</th>\n",
              "      <td>[0.041027248, 0.9589727]</td>\n",
              "      <td>True</td>\n",
              "    </tr>\n",
              "    <tr>\n",
              "      <th>927373534652805120</th>\n",
              "      <td>[0.0013844516, 0.9986155]</td>\n",
              "      <td>True</td>\n",
              "    </tr>\n",
              "  </tbody>\n",
              "</table>\n",
              "</div>"
            ],
            "text/plain": [
              "                                    Pred_bert  Sarc_bert\n",
              "ID                                                      \n",
              "915657464401580032  [0.0017461218, 0.9982539]       True\n",
              "854678856724340736    [0.2274344, 0.77256554]       True\n",
              "904892917277274112   [0.006388687, 0.9936113]       True\n",
              "855466461296504832   [0.041027248, 0.9589727]       True\n",
              "927373534652805120  [0.0013844516, 0.9986155]       True"
            ]
          },
          "metadata": {},
          "execution_count": 41
        }
      ]
    },
    {
      "cell_type": "code",
      "metadata": {
        "colab": {
          "base_uri": "https://localhost:8080/"
        },
        "id": "Yrv-O4SmhMdC",
        "outputId": "85686700-ae98-4763-e68a-51e978de5bd5"
      },
      "source": [
        "ids = [item for sublist in ids for item in sublist]\n",
        "len(ids)"
      ],
      "execution_count": null,
      "outputs": [
        {
          "output_type": "execute_result",
          "data": {
            "text/plain": [
              "2410"
            ]
          },
          "metadata": {},
          "execution_count": 42
        }
      ]
    },
    {
      "cell_type": "code",
      "metadata": {
        "colab": {
          "base_uri": "https://localhost:8080/"
        },
        "id": "hHx-vn7Jb822",
        "outputId": "afdaf329-d364-42bc-ee00-84479cbf1a79"
      },
      "source": [
        "# Softmax\n",
        "preds_resnet = np.array(F.softmax(torch.cat(preds, 0).cpu().detach()))\n",
        "preds_resnet"
      ],
      "execution_count": null,
      "outputs": [
        {
          "output_type": "stream",
          "name": "stderr",
          "text": [
            "/usr/local/lib/python3.7/dist-packages/ipykernel_launcher.py:2: UserWarning: Implicit dimension choice for softmax has been deprecated. Change the call to include dim=X as an argument.\n",
            "  \n"
          ]
        },
        {
          "output_type": "execute_result",
          "data": {
            "text/plain": [
              "array([[0.5417203 , 0.4582797 ],\n",
              "       [0.32212538, 0.6778746 ],\n",
              "       [0.2152416 , 0.7847584 ],\n",
              "       ...,\n",
              "       [0.28831676, 0.7116833 ],\n",
              "       [0.23916431, 0.7608357 ],\n",
              "       [0.7816489 , 0.21835116]], dtype=float32)"
            ]
          },
          "metadata": {},
          "execution_count": 43
        }
      ]
    },
    {
      "cell_type": "code",
      "metadata": {
        "colab": {
          "base_uri": "https://localhost:8080/",
          "height": 362
        },
        "id": "zDYCDpIpe7Wn",
        "outputId": "a06d3053-e5a1-4169-e23b-9382da688af4"
      },
      "source": [
        "resnet_test_preds_df = pd.DataFrame(list(zip(preds_resnet,\n",
        "                                             torch.cat(true_labels, 0).cpu().detach().numpy())), \n",
        "                                    index=ids)\n",
        "resnet_test_preds_df.columns = ['Pred_resnet', 'Sarc_resnet']\n",
        "resnet_test_preds_df.info()\n",
        "resnet_test_preds_df.head()"
      ],
      "execution_count": null,
      "outputs": [
        {
          "output_type": "stream",
          "name": "stdout",
          "text": [
            "<class 'pandas.core.frame.DataFrame'>\n",
            "Int64Index: 2410 entries, 815708717375164416 to 945434649479622656\n",
            "Data columns (total 2 columns):\n",
            " #   Column       Non-Null Count  Dtype \n",
            "---  ------       --------------  ----- \n",
            " 0   Pred_resnet  2410 non-null   object\n",
            " 1   Sarc_resnet  2410 non-null   int64 \n",
            "dtypes: int64(1), object(1)\n",
            "memory usage: 56.5+ KB\n"
          ]
        },
        {
          "output_type": "execute_result",
          "data": {
            "text/html": [
              "<div>\n",
              "<style scoped>\n",
              "    .dataframe tbody tr th:only-of-type {\n",
              "        vertical-align: middle;\n",
              "    }\n",
              "\n",
              "    .dataframe tbody tr th {\n",
              "        vertical-align: top;\n",
              "    }\n",
              "\n",
              "    .dataframe thead th {\n",
              "        text-align: right;\n",
              "    }\n",
              "</style>\n",
              "<table border=\"1\" class=\"dataframe\">\n",
              "  <thead>\n",
              "    <tr style=\"text-align: right;\">\n",
              "      <th></th>\n",
              "      <th>Pred_resnet</th>\n",
              "      <th>Sarc_resnet</th>\n",
              "    </tr>\n",
              "  </thead>\n",
              "  <tbody>\n",
              "    <tr>\n",
              "      <th>815708717375164416</th>\n",
              "      <td>[0.5417203, 0.4582797]</td>\n",
              "      <td>0</td>\n",
              "    </tr>\n",
              "    <tr>\n",
              "      <th>815708830466240513</th>\n",
              "      <td>[0.32212538, 0.6778746]</td>\n",
              "      <td>0</td>\n",
              "    </tr>\n",
              "    <tr>\n",
              "      <th>815708832227803136</th>\n",
              "      <td>[0.2152416, 0.7847584]</td>\n",
              "      <td>0</td>\n",
              "    </tr>\n",
              "    <tr>\n",
              "      <th>815709074218065921</th>\n",
              "      <td>[0.6215534, 0.37844658]</td>\n",
              "      <td>0</td>\n",
              "    </tr>\n",
              "    <tr>\n",
              "      <th>815709081029804033</th>\n",
              "      <td>[0.6840989, 0.31590116]</td>\n",
              "      <td>0</td>\n",
              "    </tr>\n",
              "  </tbody>\n",
              "</table>\n",
              "</div>"
            ],
            "text/plain": [
              "                                Pred_resnet  Sarc_resnet\n",
              "815708717375164416   [0.5417203, 0.4582797]            0\n",
              "815708830466240513  [0.32212538, 0.6778746]            0\n",
              "815708832227803136   [0.2152416, 0.7847584]            0\n",
              "815709074218065921  [0.6215534, 0.37844658]            0\n",
              "815709081029804033  [0.6840989, 0.31590116]            0"
            ]
          },
          "metadata": {},
          "execution_count": 44
        }
      ]
    },
    {
      "cell_type": "code",
      "metadata": {
        "colab": {
          "base_uri": "https://localhost:8080/",
          "height": 237
        },
        "id": "3IsXM3Aufzuy",
        "outputId": "43c3522c-5537-4c5d-ded4-78aa9d759904"
      },
      "source": [
        "bert_preds_df_sorted = bert_test_preds_df.sort_index()\n",
        "bert_preds_df_sorted.head()"
      ],
      "execution_count": null,
      "outputs": [
        {
          "output_type": "execute_result",
          "data": {
            "text/html": [
              "<div>\n",
              "<style scoped>\n",
              "    .dataframe tbody tr th:only-of-type {\n",
              "        vertical-align: middle;\n",
              "    }\n",
              "\n",
              "    .dataframe tbody tr th {\n",
              "        vertical-align: top;\n",
              "    }\n",
              "\n",
              "    .dataframe thead th {\n",
              "        text-align: right;\n",
              "    }\n",
              "</style>\n",
              "<table border=\"1\" class=\"dataframe\">\n",
              "  <thead>\n",
              "    <tr style=\"text-align: right;\">\n",
              "      <th></th>\n",
              "      <th>Pred_bert</th>\n",
              "      <th>Sarc_bert</th>\n",
              "    </tr>\n",
              "    <tr>\n",
              "      <th>ID</th>\n",
              "      <th></th>\n",
              "      <th></th>\n",
              "    </tr>\n",
              "  </thead>\n",
              "  <tbody>\n",
              "    <tr>\n",
              "      <th>682783114343518208</th>\n",
              "      <td>[0.004236139, 0.9957639]</td>\n",
              "      <td>True</td>\n",
              "    </tr>\n",
              "    <tr>\n",
              "      <th>683293152787214336</th>\n",
              "      <td>[0.6382236, 0.36177635]</td>\n",
              "      <td>True</td>\n",
              "    </tr>\n",
              "    <tr>\n",
              "      <th>683313760342249472</th>\n",
              "      <td>[0.0016759798, 0.998324]</td>\n",
              "      <td>True</td>\n",
              "    </tr>\n",
              "    <tr>\n",
              "      <th>683405203328991232</th>\n",
              "      <td>[0.0014418146, 0.9985582]</td>\n",
              "      <td>True</td>\n",
              "    </tr>\n",
              "    <tr>\n",
              "      <th>684018093459390464</th>\n",
              "      <td>[0.0048399447, 0.99516004]</td>\n",
              "      <td>True</td>\n",
              "    </tr>\n",
              "  </tbody>\n",
              "</table>\n",
              "</div>"
            ],
            "text/plain": [
              "                                     Pred_bert  Sarc_bert\n",
              "ID                                                       \n",
              "682783114343518208    [0.004236139, 0.9957639]       True\n",
              "683293152787214336     [0.6382236, 0.36177635]       True\n",
              "683313760342249472    [0.0016759798, 0.998324]       True\n",
              "683405203328991232   [0.0014418146, 0.9985582]       True\n",
              "684018093459390464  [0.0048399447, 0.99516004]       True"
            ]
          },
          "metadata": {},
          "execution_count": 45
        }
      ]
    },
    {
      "cell_type": "code",
      "metadata": {
        "colab": {
          "base_uri": "https://localhost:8080/",
          "height": 206
        },
        "id": "R3DjWMMyiUEi",
        "outputId": "60841b26-6acd-4ffd-c5b5-65e210b7dc09"
      },
      "source": [
        "resnet_preds_df_sorted = resnet_test_preds_df.sort_index()\n",
        "resnet_preds_df_sorted.head()"
      ],
      "execution_count": null,
      "outputs": [
        {
          "output_type": "execute_result",
          "data": {
            "text/html": [
              "<div>\n",
              "<style scoped>\n",
              "    .dataframe tbody tr th:only-of-type {\n",
              "        vertical-align: middle;\n",
              "    }\n",
              "\n",
              "    .dataframe tbody tr th {\n",
              "        vertical-align: top;\n",
              "    }\n",
              "\n",
              "    .dataframe thead th {\n",
              "        text-align: right;\n",
              "    }\n",
              "</style>\n",
              "<table border=\"1\" class=\"dataframe\">\n",
              "  <thead>\n",
              "    <tr style=\"text-align: right;\">\n",
              "      <th></th>\n",
              "      <th>Pred_resnet</th>\n",
              "      <th>Sarc_resnet</th>\n",
              "    </tr>\n",
              "  </thead>\n",
              "  <tbody>\n",
              "    <tr>\n",
              "      <th>682783114343518208</th>\n",
              "      <td>[0.42184174, 0.57815826]</td>\n",
              "      <td>1</td>\n",
              "    </tr>\n",
              "    <tr>\n",
              "      <th>683293152787214336</th>\n",
              "      <td>[0.68545103, 0.31454897]</td>\n",
              "      <td>1</td>\n",
              "    </tr>\n",
              "    <tr>\n",
              "      <th>683313760342249472</th>\n",
              "      <td>[0.05239423, 0.9476058]</td>\n",
              "      <td>1</td>\n",
              "    </tr>\n",
              "    <tr>\n",
              "      <th>683405203328991232</th>\n",
              "      <td>[0.5544459, 0.4455541]</td>\n",
              "      <td>1</td>\n",
              "    </tr>\n",
              "    <tr>\n",
              "      <th>684018093459390464</th>\n",
              "      <td>[0.076432236, 0.9235678]</td>\n",
              "      <td>1</td>\n",
              "    </tr>\n",
              "  </tbody>\n",
              "</table>\n",
              "</div>"
            ],
            "text/plain": [
              "                                 Pred_resnet  Sarc_resnet\n",
              "682783114343518208  [0.42184174, 0.57815826]            1\n",
              "683293152787214336  [0.68545103, 0.31454897]            1\n",
              "683313760342249472   [0.05239423, 0.9476058]            1\n",
              "683405203328991232    [0.5544459, 0.4455541]            1\n",
              "684018093459390464  [0.076432236, 0.9235678]            1"
            ]
          },
          "metadata": {},
          "execution_count": 46
        }
      ]
    },
    {
      "cell_type": "code",
      "metadata": {
        "colab": {
          "base_uri": "https://localhost:8080/"
        },
        "id": "KlD_Kbo0iZAk",
        "outputId": "af12fc6a-dc87-43b1-970d-b609870fafa0"
      },
      "source": [
        "(bert_preds_df_sorted['Sarc_bert'] == resnet_preds_df_sorted['Sarc_resnet']).all()"
      ],
      "execution_count": null,
      "outputs": [
        {
          "output_type": "execute_result",
          "data": {
            "text/plain": [
              "True"
            ]
          },
          "metadata": {},
          "execution_count": 47
        }
      ]
    },
    {
      "cell_type": "code",
      "metadata": {
        "colab": {
          "base_uri": "https://localhost:8080/"
        },
        "id": "vjZCDr-2ieLt",
        "outputId": "99a5b2cb-fd18-48fd-87fb-d2f41aadc001"
      },
      "source": [
        "combined_preds_df = (bert_preds_df_sorted['Pred_bert'] + resnet_preds_df_sorted['Pred_resnet']) / 2\n",
        "combined_preds_df.head()"
      ],
      "execution_count": null,
      "outputs": [
        {
          "output_type": "execute_result",
          "data": {
            "text/plain": [
              "ID\n",
              "682783114343518208     [0.21303894, 0.7869611]\n",
              "683293152787214336    [0.66183734, 0.33816266]\n",
              "683313760342249472    [0.027035104, 0.9729649]\n",
              "683405203328991232    [0.27794388, 0.72205615]\n",
              "684018093459390464    [0.04063609, 0.95936394]\n",
              "dtype: object"
            ]
          },
          "metadata": {},
          "execution_count": 48
        }
      ]
    },
    {
      "cell_type": "code",
      "metadata": {
        "colab": {
          "base_uri": "https://localhost:8080/"
        },
        "id": "FL1mTBBoirAX",
        "outputId": "eabae967-405a-48d5-cefc-820646e3be44"
      },
      "source": [
        "combined_preds = combined_preds_df.apply(np.argmax)\n",
        "combined_preds[:5]"
      ],
      "execution_count": null,
      "outputs": [
        {
          "output_type": "execute_result",
          "data": {
            "text/plain": [
              "ID\n",
              "682783114343518208    1\n",
              "683293152787214336    0\n",
              "683313760342249472    1\n",
              "683405203328991232    1\n",
              "684018093459390464    1\n",
              "dtype: int64"
            ]
          },
          "metadata": {},
          "execution_count": 49
        }
      ]
    },
    {
      "cell_type": "code",
      "metadata": {
        "colab": {
          "base_uri": "https://localhost:8080/"
        },
        "id": "IZEwvyybi4Rn",
        "outputId": "c9239c4f-1457-421c-f25a-ee61a2a25b8c"
      },
      "source": [
        "from sklearn.metrics import accuracy_score, balanced_accuracy_score, f1_score, precision_score, recall_score\n",
        "        \n",
        "print('Valid data - Accuracy: {:.3f}, Balanced accuracy: {:.3f}, F1: {:.3f}, Precision: {:.3f}, Recall: {:.3f}'\n",
        "              .format(accuracy_score(bert_preds_df_sorted['Sarc_bert'], combined_preds),\n",
        "                      balanced_accuracy_score(bert_preds_df_sorted['Sarc_bert'], combined_preds),\n",
        "                      f1_score(bert_preds_df_sorted['Sarc_bert'], combined_preds),\n",
        "                      precision_score(bert_preds_df_sorted['Sarc_bert'], combined_preds),\n",
        "                      recall_score(bert_preds_df_sorted['Sarc_bert'], combined_preds)))"
      ],
      "execution_count": null,
      "outputs": [
        {
          "output_type": "stream",
          "name": "stdout",
          "text": [
            "Valid data - Accuracy: 0.905, Balanced accuracy: 0.903, F1: 0.886, Precision: 0.884, Recall: 0.889\n"
          ]
        }
      ]
    },
    {
      "cell_type": "markdown",
      "metadata": {
        "id": "8yL9lTNMjG8U"
      },
      "source": [
        "## Add hashtag information"
      ]
    },
    {
      "cell_type": "code",
      "metadata": {
        "id": "l7cnPCXz_K2w"
      },
      "source": [
        "import re\n",
        "\n",
        "def extract_regex_matches(regex_pattern, data):\n",
        "    extracted_data = data['Text'].apply(lambda txt: re.findall(regex_pattern, txt))\n",
        "    return extracted_data"
      ],
      "execution_count": null,
      "outputs": []
    },
    {
      "cell_type": "code",
      "metadata": {
        "id": "iacq3Da9At7Y"
      },
      "source": [
        "valid_df_with_index = valid_df.set_index('ID')\n",
        "valid_df_with_index.head()"
      ],
      "execution_count": null,
      "outputs": []
    },
    {
      "cell_type": "code",
      "metadata": {
        "id": "EKtZqN5vAJck"
      },
      "source": [
        "HASHTAG_REGEX_PATTERN = r'# (\\w+)'\n",
        "\n",
        "hashtags = extract_regex_matches(HASHTAG_REGEX_PATTERN, valid_df_with_index)\n",
        "hashtags.head()"
      ],
      "execution_count": null,
      "outputs": []
    },
    {
      "cell_type": "code",
      "metadata": {
        "id": "KGLgytFIAMg-"
      },
      "source": [
        "print(accuracy_score((hashtags.apply(len) > 0), valid_df['Sarcastic']))"
      ],
      "execution_count": null,
      "outputs": []
    },
    {
      "cell_type": "code",
      "metadata": {
        "id": "WRXpvOoCAeQQ"
      },
      "source": [
        "softmax_hashtags_pred = hashtags.apply(lambda hashtag_list: np.array([0,1]) if len(hashtag_list) > 0 else np.array([1,0]))\n",
        "softmax_hashtags_pred"
      ],
      "execution_count": null,
      "outputs": []
    },
    {
      "cell_type": "code",
      "metadata": {
        "id": "NAvqFGTUBbzD"
      },
      "source": [
        "softmax_hashtags_pred_sorted = softmax_hashtags_pred.sort_index()\n",
        "softmax_hashtags_pred_sorted.head()"
      ],
      "execution_count": null,
      "outputs": []
    },
    {
      "cell_type": "code",
      "metadata": {
        "id": "tSlm6Da6Bu1P"
      },
      "source": [
        "(softmax_hashtags_pred_sorted.index == bert_preds_df_sorted.index).all()"
      ],
      "execution_count": null,
      "outputs": []
    },
    {
      "cell_type": "code",
      "metadata": {
        "id": "tIRuAeu3B8Iz"
      },
      "source": [
        "(softmax_hashtags_pred_sorted.index == resnet_preds_df_sorted.index).all()"
      ],
      "execution_count": null,
      "outputs": []
    },
    {
      "cell_type": "code",
      "metadata": {
        "id": "65_ggw-5CCuw"
      },
      "source": [
        "combined_preds_df2 = (softmax_hashtags_pred_sorted + bert_preds_df_sorted['Pred_bert'] + resnet_preds_df_sorted['Pred_resnet']) / 3\n",
        "combined_preds_df2.head()"
      ],
      "execution_count": null,
      "outputs": []
    },
    {
      "cell_type": "code",
      "metadata": {
        "id": "zjx-Xdm4CMSO"
      },
      "source": [
        "combined_preds2 = combined_preds_df2.apply(np.argmax)\n",
        "combined_preds2[:5]"
      ],
      "execution_count": null,
      "outputs": []
    },
    {
      "cell_type": "code",
      "metadata": {
        "id": "6u8YpwOMCQs2"
      },
      "source": [
        "print('Valid data - Accuracy: {:.3f}, Balanced accuracy: {:.3f}, F1: {:.3f}, Precision: {:.3f}, Recall: {:.3f}'\n",
        "              .format(accuracy_score(bert_preds_df_sorted['Sarc_bert'], combined_preds2),\n",
        "                      balanced_accuracy_score(bert_preds_df_sorted['Sarc_bert'], combined_preds2),\n",
        "                      f1_score(bert_preds_df_sorted['Sarc_bert'], combined_preds2),\n",
        "                      precision_score(bert_preds_df_sorted['Sarc_bert'], combined_preds2),\n",
        "                      recall_score(bert_preds_df_sorted['Sarc_bert'], combined_preds2)))"
      ],
      "execution_count": null,
      "outputs": []
    },
    {
      "cell_type": "markdown",
      "metadata": {
        "id": "xTPByVsBCXxv"
      },
      "source": [
        "## Weighted average"
      ]
    },
    {
      "cell_type": "code",
      "metadata": {
        "id": "BSdoSnGDCehn"
      },
      "source": [
        "from functools import reduce\n",
        "\n",
        "def tune_softmax_average_weights(weights_lst, softmax_preds, true_labels, model_names):\n",
        "    models_cnt = len(model_names)\n",
        "\n",
        "    for weights in weights_lst:\n",
        "        print('-' * 20)\n",
        "        print(('{}: {:.2f}, ' * len(weights)).format(*sum(zip(model_names, weights), ()))[:-2])\n",
        "        weighted_softmax_preds = [single_softmax_pred * weight for single_softmax_pred, weight in zip(softmax_preds, weights)]\n",
        "        avg_softmax_preds = reduce(lambda x, y: x + y, weighted_softmax_preds) / models_cnt\n",
        "        preds = avg_softmax_preds.apply(np.argmax)\n",
        "\n",
        "        print('Accuracy: {:.3f}, Balanced accuracy: {:.3f}, F1: {:.3f}, Precision: {:.3f}, Recall: {:.3f}'\n",
        "              .format(accuracy_score(true_labels, preds),\n",
        "                      balanced_accuracy_score(true_labels, preds),\n",
        "                      f1_score(true_labels, preds),\n",
        "                      precision_score(true_labels, preds),\n",
        "                      recall_score(true_labels, preds)))"
      ],
      "execution_count": null,
      "outputs": []
    },
    {
      "cell_type": "code",
      "metadata": {
        "colab": {
          "base_uri": "https://localhost:8080/"
        },
        "id": "AtINttPQGv22",
        "outputId": "535d3e08-be6c-4707-c752-aad7bef9cea9"
      },
      "source": [
        "STEP_SIZE_2_MODELS = 0.05\n",
        "\n",
        "weights_m1 = [x * STEP_SIZE_2_MODELS for x in range(0, 21)]\n",
        "\n",
        "WEIGHTS_LIST_2_MODELS = [(w, 1 - w) for w in weights_m1] \n",
        "WEIGHTS_LIST_2_MODELS"
      ],
      "execution_count": null,
      "outputs": [
        {
          "output_type": "execute_result",
          "data": {
            "text/plain": [
              "[(0.0, 1.0),\n",
              " (0.05, 0.95),\n",
              " (0.1, 0.9),\n",
              " (0.15000000000000002, 0.85),\n",
              " (0.2, 0.8),\n",
              " (0.25, 0.75),\n",
              " (0.30000000000000004, 0.7),\n",
              " (0.35000000000000003, 0.6499999999999999),\n",
              " (0.4, 0.6),\n",
              " (0.45, 0.55),\n",
              " (0.5, 0.5),\n",
              " (0.55, 0.44999999999999996),\n",
              " (0.6000000000000001, 0.3999999999999999),\n",
              " (0.65, 0.35),\n",
              " (0.7000000000000001, 0.29999999999999993),\n",
              " (0.75, 0.25),\n",
              " (0.8, 0.19999999999999996),\n",
              " (0.8500000000000001, 0.1499999999999999),\n",
              " (0.9, 0.09999999999999998),\n",
              " (0.9500000000000001, 0.04999999999999993),\n",
              " (1.0, 0.0)]"
            ]
          },
          "metadata": {},
          "execution_count": 45
        }
      ]
    },
    {
      "cell_type": "code",
      "metadata": {
        "colab": {
          "base_uri": "https://localhost:8080/"
        },
        "id": "hF2_IXCbG7hl",
        "outputId": "909241d5-3f9b-4c57-9cc5-c4f1441e1bc6"
      },
      "source": [
        "tune_softmax_average_weights(WEIGHTS_LIST_2_MODELS,\n",
        "                             [bert_preds_df_sorted['Pred_bert'], resnet_preds_df_sorted['Pred_resnet']],\n",
        "                              bert_preds_df_sorted['Sarc_bert'],\n",
        "                             ['Bert', 'Resnet'])"
      ],
      "execution_count": null,
      "outputs": [
        {
          "output_type": "stream",
          "name": "stdout",
          "text": [
            "--------------------\n",
            "Bert: 0.00, Resnet: 1.00\n",
            "Accuracy: 0.702, Balanced accuracy: 0.709, F1: 0.676, Precision: 0.616, Recall: 0.749\n",
            "--------------------\n",
            "Bert: 0.05, Resnet: 0.95\n",
            "Accuracy: 0.722, Balanced accuracy: 0.728, F1: 0.695, Precision: 0.638, Recall: 0.763\n",
            "--------------------\n",
            "Bert: 0.10, Resnet: 0.90\n",
            "Accuracy: 0.740, Balanced accuracy: 0.745, F1: 0.713, Precision: 0.658, Recall: 0.777\n",
            "--------------------\n",
            "Bert: 0.15, Resnet: 0.85\n",
            "Accuracy: 0.761, Balanced accuracy: 0.766, F1: 0.734, Precision: 0.683, Recall: 0.792\n",
            "--------------------\n",
            "Bert: 0.20, Resnet: 0.80\n",
            "Accuracy: 0.782, Balanced accuracy: 0.785, F1: 0.754, Precision: 0.709, Recall: 0.805\n",
            "--------------------\n",
            "Bert: 0.25, Resnet: 0.75\n",
            "Accuracy: 0.805, Balanced accuracy: 0.808, F1: 0.778, Precision: 0.737, Recall: 0.825\n",
            "--------------------\n",
            "Bert: 0.30, Resnet: 0.70\n",
            "Accuracy: 0.832, Balanced accuracy: 0.833, F1: 0.806, Precision: 0.772, Recall: 0.842\n",
            "--------------------\n",
            "Bert: 0.35, Resnet: 0.65\n",
            "Accuracy: 0.858, Balanced accuracy: 0.857, F1: 0.833, Precision: 0.813, Recall: 0.854\n",
            "--------------------\n",
            "Bert: 0.40, Resnet: 0.60\n",
            "Accuracy: 0.880, Balanced accuracy: 0.879, F1: 0.858, Precision: 0.844, Recall: 0.873\n",
            "--------------------\n",
            "Bert: 0.45, Resnet: 0.55\n",
            "Accuracy: 0.898, Balanced accuracy: 0.896, F1: 0.877, Precision: 0.871, Recall: 0.884\n",
            "--------------------\n",
            "Bert: 0.50, Resnet: 0.50\n",
            "Accuracy: 0.905, Balanced accuracy: 0.903, F1: 0.886, Precision: 0.884, Recall: 0.889\n",
            "--------------------\n",
            "Bert: 0.55, Resnet: 0.45\n",
            "Accuracy: 0.901, Balanced accuracy: 0.898, F1: 0.881, Precision: 0.883, Recall: 0.879\n",
            "--------------------\n",
            "Bert: 0.60, Resnet: 0.40\n",
            "Accuracy: 0.901, Balanced accuracy: 0.897, F1: 0.880, Precision: 0.885, Recall: 0.875\n",
            "--------------------\n",
            "Bert: 0.65, Resnet: 0.35\n",
            "Accuracy: 0.898, Balanced accuracy: 0.893, F1: 0.875, Precision: 0.884, Recall: 0.867\n",
            "--------------------\n",
            "Bert: 0.70, Resnet: 0.30\n",
            "Accuracy: 0.898, Balanced accuracy: 0.893, F1: 0.876, Precision: 0.886, Recall: 0.865\n",
            "--------------------\n",
            "Bert: 0.75, Resnet: 0.25\n",
            "Accuracy: 0.896, Balanced accuracy: 0.891, F1: 0.873, Precision: 0.884, Recall: 0.862\n",
            "--------------------\n",
            "Bert: 0.80, Resnet: 0.20\n",
            "Accuracy: 0.895, Balanced accuracy: 0.890, F1: 0.872, Precision: 0.884, Recall: 0.860\n",
            "--------------------\n",
            "Bert: 0.85, Resnet: 0.15\n",
            "Accuracy: 0.894, Balanced accuracy: 0.889, F1: 0.871, Precision: 0.883, Recall: 0.859\n",
            "--------------------\n",
            "Bert: 0.90, Resnet: 0.10\n",
            "Accuracy: 0.893, Balanced accuracy: 0.888, F1: 0.870, Precision: 0.883, Recall: 0.857\n",
            "--------------------\n",
            "Bert: 0.95, Resnet: 0.05\n",
            "Accuracy: 0.893, Balanced accuracy: 0.887, F1: 0.868, Precision: 0.883, Recall: 0.854\n",
            "--------------------\n",
            "Bert: 1.00, Resnet: 0.00\n",
            "Accuracy: 0.890, Balanced accuracy: 0.884, F1: 0.865, Precision: 0.882, Recall: 0.849\n"
          ]
        }
      ]
    },
    {
      "cell_type": "code",
      "metadata": {
        "colab": {
          "base_uri": "https://localhost:8080/"
        },
        "id": "jsRo4yRRM7hp",
        "outputId": "23381858-1a40-4460-b4d8-8ee5b29aad1d"
      },
      "source": [
        "STEP_SIZE_3_MODELS = 0.05\n",
        "\n",
        "WEIGHTS_LIST_3_MODELS = []\n",
        "\n",
        "weights_m1 = [x * STEP_SIZE_3_MODELS for x in range(0, 21)]\n",
        "\n",
        "for w1 in weights_m1:\n",
        "    for w2 in weights_m1:\n",
        "        for w3 in weights_m1:\n",
        "            if w1 + w2 + w3 == 1:\n",
        "                WEIGHTS_LIST_3_MODELS.append((w1, w2, w3))\n",
        "\n",
        "len(WEIGHTS_LIST_3_MODELS)"
      ],
      "execution_count": null,
      "outputs": [
        {
          "output_type": "execute_result",
          "data": {
            "text/plain": [
              "217"
            ]
          },
          "metadata": {},
          "execution_count": 59
        }
      ]
    },
    {
      "cell_type": "code",
      "metadata": {
        "colab": {
          "base_uri": "https://localhost:8080/"
        },
        "id": "g_K0a03nIaqx",
        "outputId": "c9b6688b-7b46-410a-984e-080358ab1c76"
      },
      "source": [
        "tune_softmax_average_weights(WEIGHTS_LIST_3_MODELS,\n",
        "                             [bert_preds_df_sorted['Pred_bert'], resnet_preds_df_sorted['Pred_resnet'], softmax_hashtags_pred_sorted],\n",
        "                              bert_preds_df_sorted['Sarc_bert'],\n",
        "                             ['Bert', 'Resnet', 'Hashtag'])"
      ],
      "execution_count": null,
      "outputs": [
        {
          "output_type": "stream",
          "name": "stdout",
          "text": [
            "--------------------\n",
            "Bert: 0.00, Resnet: 0.00, Hashtag: 1.00\n",
            "Accuracy: 0.648, Balanced accuracy: 0.648, F1: 0.604, Precision: 0.567, Recall: 0.647\n",
            "--------------------\n",
            "Bert: 0.00, Resnet: 0.05, Hashtag: 0.95\n",
            "Accuracy: 0.648, Balanced accuracy: 0.648, F1: 0.604, Precision: 0.567, Recall: 0.647\n",
            "--------------------\n",
            "Bert: 0.00, Resnet: 0.10, Hashtag: 0.90\n",
            "Accuracy: 0.648, Balanced accuracy: 0.648, F1: 0.604, Precision: 0.567, Recall: 0.647\n",
            "--------------------\n",
            "Bert: 0.00, Resnet: 0.15, Hashtag: 0.85\n",
            "Accuracy: 0.648, Balanced accuracy: 0.648, F1: 0.604, Precision: 0.567, Recall: 0.647\n",
            "--------------------\n",
            "Bert: 0.00, Resnet: 0.20, Hashtag: 0.80\n",
            "Accuracy: 0.648, Balanced accuracy: 0.648, F1: 0.604, Precision: 0.567, Recall: 0.647\n",
            "--------------------\n",
            "Bert: 0.00, Resnet: 0.25, Hashtag: 0.75\n",
            "Accuracy: 0.648, Balanced accuracy: 0.648, F1: 0.604, Precision: 0.567, Recall: 0.647\n",
            "--------------------\n",
            "Bert: 0.00, Resnet: 0.30, Hashtag: 0.70\n",
            "Accuracy: 0.648, Balanced accuracy: 0.648, F1: 0.604, Precision: 0.567, Recall: 0.647\n",
            "--------------------\n",
            "Bert: 0.00, Resnet: 0.35, Hashtag: 0.65\n",
            "Accuracy: 0.648, Balanced accuracy: 0.648, F1: 0.604, Precision: 0.567, Recall: 0.647\n",
            "--------------------\n",
            "Bert: 0.00, Resnet: 0.40, Hashtag: 0.60\n",
            "Accuracy: 0.648, Balanced accuracy: 0.648, F1: 0.604, Precision: 0.567, Recall: 0.647\n",
            "--------------------\n",
            "Bert: 0.00, Resnet: 0.45, Hashtag: 0.55\n",
            "Accuracy: 0.648, Balanced accuracy: 0.648, F1: 0.604, Precision: 0.567, Recall: 0.647\n",
            "--------------------\n",
            "Bert: 0.00, Resnet: 0.50, Hashtag: 0.50\n",
            "Accuracy: 0.648, Balanced accuracy: 0.648, F1: 0.604, Precision: 0.567, Recall: 0.647\n",
            "--------------------\n",
            "Bert: 0.00, Resnet: 0.55, Hashtag: 0.45\n",
            "Accuracy: 0.670, Balanced accuracy: 0.669, F1: 0.625, Precision: 0.591, Recall: 0.664\n",
            "--------------------\n",
            "Bert: 0.00, Resnet: 0.60, Hashtag: 0.40\n",
            "Accuracy: 0.697, Balanced accuracy: 0.697, F1: 0.658, Precision: 0.619, Recall: 0.702\n",
            "--------------------\n",
            "Bert: 0.00, Resnet: 0.65, Hashtag: 0.35\n",
            "Accuracy: 0.715, Balanced accuracy: 0.717, F1: 0.680, Precision: 0.637, Recall: 0.729\n",
            "--------------------\n",
            "Bert: 0.00, Resnet: 0.70, Hashtag: 0.30\n",
            "Accuracy: 0.729, Balanced accuracy: 0.733, F1: 0.699, Precision: 0.648, Recall: 0.758\n",
            "--------------------\n",
            "Bert: 0.00, Resnet: 0.75, Hashtag: 0.25\n",
            "Accuracy: 0.724, Balanced accuracy: 0.731, F1: 0.698, Precision: 0.638, Recall: 0.771\n",
            "--------------------\n",
            "Bert: 0.00, Resnet: 0.80, Hashtag: 0.20\n",
            "Accuracy: 0.727, Balanced accuracy: 0.732, F1: 0.699, Precision: 0.644, Recall: 0.763\n",
            "--------------------\n",
            "Bert: 0.00, Resnet: 0.85, Hashtag: 0.15\n",
            "Accuracy: 0.720, Balanced accuracy: 0.727, F1: 0.694, Precision: 0.635, Recall: 0.766\n",
            "--------------------\n",
            "Bert: 0.00, Resnet: 0.90, Hashtag: 0.10\n",
            "Accuracy: 0.715, Balanced accuracy: 0.723, F1: 0.691, Precision: 0.628, Recall: 0.769\n",
            "--------------------\n",
            "Bert: 0.00, Resnet: 0.95, Hashtag: 0.05\n",
            "Accuracy: 0.710, Balanced accuracy: 0.716, F1: 0.684, Precision: 0.624, Recall: 0.757\n",
            "--------------------\n",
            "Bert: 0.00, Resnet: 1.00, Hashtag: 0.00\n",
            "Accuracy: 0.702, Balanced accuracy: 0.709, F1: 0.676, Precision: 0.616, Recall: 0.749\n",
            "--------------------\n",
            "Bert: 0.05, Resnet: 0.00, Hashtag: 0.95\n",
            "Accuracy: 0.648, Balanced accuracy: 0.648, F1: 0.604, Precision: 0.567, Recall: 0.647\n",
            "--------------------\n",
            "Bert: 0.05, Resnet: 0.05, Hashtag: 0.90\n",
            "Accuracy: 0.648, Balanced accuracy: 0.648, F1: 0.604, Precision: 0.567, Recall: 0.647\n",
            "--------------------\n",
            "Bert: 0.05, Resnet: 0.10, Hashtag: 0.85\n",
            "Accuracy: 0.648, Balanced accuracy: 0.648, F1: 0.604, Precision: 0.567, Recall: 0.647\n",
            "--------------------\n",
            "Bert: 0.05, Resnet: 0.15, Hashtag: 0.80\n",
            "Accuracy: 0.648, Balanced accuracy: 0.648, F1: 0.604, Precision: 0.567, Recall: 0.647\n",
            "--------------------\n",
            "Bert: 0.05, Resnet: 0.20, Hashtag: 0.75\n",
            "Accuracy: 0.648, Balanced accuracy: 0.648, F1: 0.604, Precision: 0.567, Recall: 0.647\n",
            "--------------------\n",
            "Bert: 0.05, Resnet: 0.25, Hashtag: 0.70\n",
            "Accuracy: 0.648, Balanced accuracy: 0.648, F1: 0.604, Precision: 0.567, Recall: 0.647\n",
            "--------------------\n",
            "Bert: 0.05, Resnet: 0.30, Hashtag: 0.65\n",
            "Accuracy: 0.648, Balanced accuracy: 0.648, F1: 0.604, Precision: 0.567, Recall: 0.647\n",
            "--------------------\n",
            "Bert: 0.05, Resnet: 0.35, Hashtag: 0.60\n",
            "Accuracy: 0.648, Balanced accuracy: 0.648, F1: 0.604, Precision: 0.567, Recall: 0.647\n",
            "--------------------\n",
            "Bert: 0.05, Resnet: 0.40, Hashtag: 0.55\n",
            "Accuracy: 0.648, Balanced accuracy: 0.648, F1: 0.604, Precision: 0.567, Recall: 0.647\n",
            "--------------------\n",
            "Bert: 0.05, Resnet: 0.45, Hashtag: 0.50\n",
            "Accuracy: 0.648, Balanced accuracy: 0.648, F1: 0.604, Precision: 0.567, Recall: 0.647\n",
            "--------------------\n",
            "Bert: 0.05, Resnet: 0.50, Hashtag: 0.45\n",
            "Accuracy: 0.673, Balanced accuracy: 0.671, F1: 0.627, Precision: 0.595, Recall: 0.663\n",
            "--------------------\n",
            "Bert: 0.05, Resnet: 0.55, Hashtag: 0.40\n",
            "Accuracy: 0.712, Balanced accuracy: 0.712, F1: 0.671, Precision: 0.639, Recall: 0.707\n",
            "--------------------\n",
            "Bert: 0.05, Resnet: 0.65, Hashtag: 0.30\n",
            "Accuracy: 0.751, Balanced accuracy: 0.754, F1: 0.721, Precision: 0.673, Recall: 0.777\n",
            "--------------------\n",
            "Bert: 0.05, Resnet: 0.70, Hashtag: 0.25\n",
            "Accuracy: 0.756, Balanced accuracy: 0.760, F1: 0.727, Precision: 0.677, Recall: 0.786\n",
            "--------------------\n",
            "Bert: 0.05, Resnet: 0.75, Hashtag: 0.20\n",
            "Accuracy: 0.746, Balanced accuracy: 0.752, F1: 0.720, Precision: 0.664, Recall: 0.785\n",
            "--------------------\n",
            "Bert: 0.05, Resnet: 0.80, Hashtag: 0.15\n",
            "Accuracy: 0.744, Balanced accuracy: 0.749, F1: 0.717, Precision: 0.662, Recall: 0.782\n",
            "--------------------\n",
            "Bert: 0.05, Resnet: 0.90, Hashtag: 0.05\n",
            "Accuracy: 0.728, Balanced accuracy: 0.734, F1: 0.702, Precision: 0.643, Recall: 0.773\n",
            "--------------------\n",
            "Bert: 0.05, Resnet: 0.95, Hashtag: 0.00\n",
            "Accuracy: 0.722, Balanced accuracy: 0.728, F1: 0.695, Precision: 0.638, Recall: 0.763\n",
            "--------------------\n",
            "Bert: 0.10, Resnet: 0.00, Hashtag: 0.90\n",
            "Accuracy: 0.648, Balanced accuracy: 0.648, F1: 0.604, Precision: 0.567, Recall: 0.647\n",
            "--------------------\n",
            "Bert: 0.10, Resnet: 0.05, Hashtag: 0.85\n",
            "Accuracy: 0.648, Balanced accuracy: 0.648, F1: 0.604, Precision: 0.567, Recall: 0.647\n",
            "--------------------\n",
            "Bert: 0.10, Resnet: 0.10, Hashtag: 0.80\n",
            "Accuracy: 0.648, Balanced accuracy: 0.648, F1: 0.604, Precision: 0.567, Recall: 0.647\n",
            "--------------------\n",
            "Bert: 0.10, Resnet: 0.15, Hashtag: 0.75\n",
            "Accuracy: 0.648, Balanced accuracy: 0.648, F1: 0.604, Precision: 0.567, Recall: 0.647\n",
            "--------------------\n",
            "Bert: 0.10, Resnet: 0.20, Hashtag: 0.70\n",
            "Accuracy: 0.648, Balanced accuracy: 0.648, F1: 0.604, Precision: 0.567, Recall: 0.647\n",
            "--------------------\n",
            "Bert: 0.10, Resnet: 0.25, Hashtag: 0.65\n",
            "Accuracy: 0.648, Balanced accuracy: 0.648, F1: 0.604, Precision: 0.567, Recall: 0.647\n",
            "--------------------\n",
            "Bert: 0.10, Resnet: 0.30, Hashtag: 0.60\n",
            "Accuracy: 0.648, Balanced accuracy: 0.648, F1: 0.604, Precision: 0.567, Recall: 0.647\n",
            "--------------------\n",
            "Bert: 0.10, Resnet: 0.35, Hashtag: 0.55\n",
            "Accuracy: 0.648, Balanced accuracy: 0.648, F1: 0.604, Precision: 0.567, Recall: 0.647\n",
            "--------------------\n",
            "Bert: 0.10, Resnet: 0.40, Hashtag: 0.50\n",
            "Accuracy: 0.648, Balanced accuracy: 0.648, F1: 0.604, Precision: 0.567, Recall: 0.647\n",
            "--------------------\n",
            "Bert: 0.10, Resnet: 0.45, Hashtag: 0.45\n",
            "Accuracy: 0.674, Balanced accuracy: 0.673, F1: 0.628, Precision: 0.597, Recall: 0.663\n",
            "--------------------\n",
            "Bert: 0.10, Resnet: 0.50, Hashtag: 0.40\n",
            "Accuracy: 0.726, Balanced accuracy: 0.725, F1: 0.684, Precision: 0.656, Recall: 0.715\n",
            "--------------------\n",
            "Bert: 0.10, Resnet: 0.55, Hashtag: 0.35\n",
            "Accuracy: 0.762, Balanced accuracy: 0.762, F1: 0.727, Precision: 0.695, Recall: 0.762\n",
            "--------------------\n",
            "Bert: 0.10, Resnet: 0.60, Hashtag: 0.30\n",
            "Accuracy: 0.780, Balanced accuracy: 0.782, F1: 0.750, Precision: 0.709, Recall: 0.796\n",
            "--------------------\n",
            "Bert: 0.10, Resnet: 0.65, Hashtag: 0.25\n",
            "Accuracy: 0.785, Balanced accuracy: 0.787, F1: 0.756, Precision: 0.714, Recall: 0.803\n",
            "--------------------\n",
            "Bert: 0.10, Resnet: 0.70, Hashtag: 0.20\n",
            "Accuracy: 0.778, Balanced accuracy: 0.782, F1: 0.750, Precision: 0.705, Recall: 0.801\n",
            "--------------------\n",
            "Bert: 0.10, Resnet: 0.75, Hashtag: 0.15\n",
            "Accuracy: 0.764, Balanced accuracy: 0.770, F1: 0.738, Precision: 0.685, Recall: 0.800\n",
            "--------------------\n",
            "Bert: 0.10, Resnet: 0.80, Hashtag: 0.10\n",
            "Accuracy: 0.759, Balanced accuracy: 0.764, F1: 0.731, Precision: 0.681, Recall: 0.789\n",
            "--------------------\n",
            "Bert: 0.10, Resnet: 0.85, Hashtag: 0.05\n",
            "Accuracy: 0.751, Balanced accuracy: 0.756, F1: 0.724, Precision: 0.670, Recall: 0.788\n",
            "--------------------\n",
            "Bert: 0.10, Resnet: 0.90, Hashtag: 0.00\n",
            "Accuracy: 0.740, Balanced accuracy: 0.745, F1: 0.713, Precision: 0.658, Recall: 0.777\n",
            "--------------------\n",
            "Bert: 0.15, Resnet: 0.00, Hashtag: 0.85\n",
            "Accuracy: 0.648, Balanced accuracy: 0.648, F1: 0.604, Precision: 0.567, Recall: 0.647\n",
            "--------------------\n",
            "Bert: 0.15, Resnet: 0.05, Hashtag: 0.80\n",
            "Accuracy: 0.648, Balanced accuracy: 0.648, F1: 0.604, Precision: 0.567, Recall: 0.647\n",
            "--------------------\n",
            "Bert: 0.15, Resnet: 0.10, Hashtag: 0.75\n",
            "Accuracy: 0.648, Balanced accuracy: 0.648, F1: 0.604, Precision: 0.567, Recall: 0.647\n",
            "--------------------\n",
            "Bert: 0.15, Resnet: 0.15, Hashtag: 0.70\n",
            "Accuracy: 0.648, Balanced accuracy: 0.648, F1: 0.604, Precision: 0.567, Recall: 0.647\n",
            "--------------------\n",
            "Bert: 0.15, Resnet: 0.20, Hashtag: 0.65\n",
            "Accuracy: 0.648, Balanced accuracy: 0.648, F1: 0.604, Precision: 0.567, Recall: 0.647\n",
            "--------------------\n",
            "Bert: 0.15, Resnet: 0.25, Hashtag: 0.60\n",
            "Accuracy: 0.648, Balanced accuracy: 0.648, F1: 0.604, Precision: 0.567, Recall: 0.647\n",
            "--------------------\n",
            "Bert: 0.15, Resnet: 0.30, Hashtag: 0.55\n",
            "Accuracy: 0.648, Balanced accuracy: 0.648, F1: 0.604, Precision: 0.567, Recall: 0.647\n",
            "--------------------\n",
            "Bert: 0.15, Resnet: 0.35, Hashtag: 0.50\n",
            "Accuracy: 0.648, Balanced accuracy: 0.648, F1: 0.604, Precision: 0.567, Recall: 0.647\n",
            "--------------------\n",
            "Bert: 0.15, Resnet: 0.40, Hashtag: 0.45\n",
            "Accuracy: 0.679, Balanced accuracy: 0.678, F1: 0.634, Precision: 0.601, Recall: 0.671\n",
            "--------------------\n",
            "Bert: 0.15, Resnet: 0.45, Hashtag: 0.40\n",
            "Accuracy: 0.732, Balanced accuracy: 0.729, F1: 0.688, Precision: 0.664, Recall: 0.714\n",
            "--------------------\n",
            "Bert: 0.15, Resnet: 0.50, Hashtag: 0.35\n",
            "Accuracy: 0.771, Balanced accuracy: 0.770, F1: 0.736, Precision: 0.704, Recall: 0.770\n",
            "--------------------\n",
            "Bert: 0.15, Resnet: 0.55, Hashtag: 0.30\n",
            "Accuracy: 0.799, Balanced accuracy: 0.799, F1: 0.768, Precision: 0.737, Recall: 0.801\n",
            "--------------------\n",
            "Bert: 0.15, Resnet: 0.60, Hashtag: 0.25\n",
            "Accuracy: 0.810, Balanced accuracy: 0.811, F1: 0.781, Precision: 0.747, Recall: 0.819\n",
            "--------------------\n",
            "Bert: 0.15, Resnet: 0.65, Hashtag: 0.20\n",
            "Accuracy: 0.805, Balanced accuracy: 0.807, F1: 0.777, Precision: 0.738, Recall: 0.821\n",
            "--------------------\n",
            "Bert: 0.15, Resnet: 0.70, Hashtag: 0.15\n",
            "Accuracy: 0.795, Balanced accuracy: 0.797, F1: 0.767, Precision: 0.725, Recall: 0.813\n",
            "--------------------\n",
            "Bert: 0.15, Resnet: 0.75, Hashtag: 0.10\n",
            "Accuracy: 0.783, Balanced accuracy: 0.788, F1: 0.757, Precision: 0.708, Recall: 0.813\n",
            "--------------------\n",
            "Bert: 0.15, Resnet: 0.80, Hashtag: 0.05\n",
            "Accuracy: 0.772, Balanced accuracy: 0.775, F1: 0.743, Precision: 0.697, Recall: 0.796\n",
            "--------------------\n",
            "Bert: 0.15, Resnet: 0.85, Hashtag: 0.00\n",
            "Accuracy: 0.761, Balanced accuracy: 0.766, F1: 0.734, Precision: 0.683, Recall: 0.792\n",
            "--------------------\n",
            "Bert: 0.20, Resnet: 0.00, Hashtag: 0.80\n",
            "Accuracy: 0.648, Balanced accuracy: 0.648, F1: 0.604, Precision: 0.567, Recall: 0.647\n",
            "--------------------\n",
            "Bert: 0.20, Resnet: 0.05, Hashtag: 0.75\n",
            "Accuracy: 0.648, Balanced accuracy: 0.648, F1: 0.604, Precision: 0.567, Recall: 0.647\n",
            "--------------------\n",
            "Bert: 0.20, Resnet: 0.10, Hashtag: 0.70\n",
            "Accuracy: 0.648, Balanced accuracy: 0.648, F1: 0.604, Precision: 0.567, Recall: 0.647\n",
            "--------------------\n",
            "Bert: 0.20, Resnet: 0.15, Hashtag: 0.65\n",
            "Accuracy: 0.648, Balanced accuracy: 0.648, F1: 0.604, Precision: 0.567, Recall: 0.647\n",
            "--------------------\n",
            "Bert: 0.20, Resnet: 0.20, Hashtag: 0.60\n",
            "Accuracy: 0.648, Balanced accuracy: 0.648, F1: 0.604, Precision: 0.567, Recall: 0.647\n",
            "--------------------\n",
            "Bert: 0.20, Resnet: 0.25, Hashtag: 0.55\n",
            "Accuracy: 0.648, Balanced accuracy: 0.648, F1: 0.604, Precision: 0.567, Recall: 0.647\n",
            "--------------------\n",
            "Bert: 0.20, Resnet: 0.30, Hashtag: 0.50\n",
            "Accuracy: 0.648, Balanced accuracy: 0.648, F1: 0.604, Precision: 0.567, Recall: 0.647\n",
            "--------------------\n",
            "Bert: 0.20, Resnet: 0.35, Hashtag: 0.45\n",
            "Accuracy: 0.685, Balanced accuracy: 0.684, F1: 0.640, Precision: 0.609, Recall: 0.674\n",
            "--------------------\n",
            "Bert: 0.20, Resnet: 0.40, Hashtag: 0.40\n",
            "Accuracy: 0.742, Balanced accuracy: 0.740, F1: 0.700, Precision: 0.678, Recall: 0.723\n",
            "--------------------\n",
            "Bert: 0.20, Resnet: 0.45, Hashtag: 0.35\n",
            "Accuracy: 0.784, Balanced accuracy: 0.783, F1: 0.750, Precision: 0.723, Recall: 0.778\n",
            "--------------------\n",
            "Bert: 0.20, Resnet: 0.50, Hashtag: 0.30\n",
            "Accuracy: 0.815, Balanced accuracy: 0.814, F1: 0.784, Precision: 0.761, Recall: 0.809\n",
            "--------------------\n",
            "Bert: 0.20, Resnet: 0.55, Hashtag: 0.25\n",
            "Accuracy: 0.831, Balanced accuracy: 0.831, F1: 0.803, Precision: 0.778, Recall: 0.829\n",
            "--------------------\n",
            "Bert: 0.20, Resnet: 0.60, Hashtag: 0.20\n",
            "Accuracy: 0.830, Balanced accuracy: 0.830, F1: 0.803, Precision: 0.774, Recall: 0.834\n",
            "--------------------\n",
            "Bert: 0.20, Resnet: 0.65, Hashtag: 0.15\n",
            "Accuracy: 0.818, Balanced accuracy: 0.819, F1: 0.790, Precision: 0.756, Recall: 0.828\n",
            "--------------------\n",
            "Bert: 0.20, Resnet: 0.75, Hashtag: 0.05\n",
            "Accuracy: 0.795, Balanced accuracy: 0.799, F1: 0.769, Precision: 0.724, Recall: 0.820\n",
            "--------------------\n",
            "Bert: 0.20, Resnet: 0.80, Hashtag: 0.00\n",
            "Accuracy: 0.782, Balanced accuracy: 0.785, F1: 0.754, Precision: 0.709, Recall: 0.805\n",
            "--------------------\n",
            "Bert: 0.25, Resnet: 0.00, Hashtag: 0.75\n",
            "Accuracy: 0.648, Balanced accuracy: 0.648, F1: 0.604, Precision: 0.567, Recall: 0.647\n",
            "--------------------\n",
            "Bert: 0.25, Resnet: 0.05, Hashtag: 0.70\n",
            "Accuracy: 0.648, Balanced accuracy: 0.648, F1: 0.604, Precision: 0.567, Recall: 0.647\n",
            "--------------------\n",
            "Bert: 0.25, Resnet: 0.10, Hashtag: 0.65\n",
            "Accuracy: 0.648, Balanced accuracy: 0.648, F1: 0.604, Precision: 0.567, Recall: 0.647\n",
            "--------------------\n",
            "Bert: 0.25, Resnet: 0.15, Hashtag: 0.60\n",
            "Accuracy: 0.648, Balanced accuracy: 0.648, F1: 0.604, Precision: 0.567, Recall: 0.647\n",
            "--------------------\n",
            "Bert: 0.25, Resnet: 0.20, Hashtag: 0.55\n",
            "Accuracy: 0.648, Balanced accuracy: 0.648, F1: 0.604, Precision: 0.567, Recall: 0.647\n",
            "--------------------\n",
            "Bert: 0.25, Resnet: 0.25, Hashtag: 0.50\n",
            "Accuracy: 0.648, Balanced accuracy: 0.648, F1: 0.604, Precision: 0.567, Recall: 0.647\n",
            "--------------------\n",
            "Bert: 0.25, Resnet: 0.30, Hashtag: 0.45\n",
            "Accuracy: 0.695, Balanced accuracy: 0.693, F1: 0.649, Precision: 0.622, Recall: 0.680\n",
            "--------------------\n",
            "Bert: 0.25, Resnet: 0.35, Hashtag: 0.40\n",
            "Accuracy: 0.759, Balanced accuracy: 0.756, F1: 0.718, Precision: 0.697, Recall: 0.740\n",
            "--------------------\n",
            "Bert: 0.25, Resnet: 0.40, Hashtag: 0.35\n",
            "Accuracy: 0.802, Balanced accuracy: 0.800, F1: 0.768, Precision: 0.747, Recall: 0.790\n",
            "--------------------\n",
            "Bert: 0.25, Resnet: 0.45, Hashtag: 0.30\n",
            "Accuracy: 0.825, Balanced accuracy: 0.823, F1: 0.794, Precision: 0.777, Recall: 0.811\n",
            "--------------------\n",
            "Bert: 0.25, Resnet: 0.50, Hashtag: 0.25\n",
            "Accuracy: 0.848, Balanced accuracy: 0.846, F1: 0.820, Precision: 0.805, Recall: 0.836\n",
            "--------------------\n",
            "Bert: 0.25, Resnet: 0.55, Hashtag: 0.20\n",
            "Accuracy: 0.852, Balanced accuracy: 0.851, F1: 0.826, Precision: 0.806, Recall: 0.846\n",
            "--------------------\n",
            "Bert: 0.25, Resnet: 0.60, Hashtag: 0.15\n",
            "Accuracy: 0.847, Balanced accuracy: 0.846, F1: 0.821, Precision: 0.798, Recall: 0.844\n",
            "--------------------\n",
            "Bert: 0.25, Resnet: 0.65, Hashtag: 0.10\n",
            "Accuracy: 0.834, Balanced accuracy: 0.835, F1: 0.807, Precision: 0.779, Recall: 0.838\n",
            "--------------------\n",
            "Bert: 0.25, Resnet: 0.70, Hashtag: 0.05\n",
            "Accuracy: 0.823, Balanced accuracy: 0.824, F1: 0.796, Precision: 0.762, Recall: 0.833\n",
            "--------------------\n",
            "Bert: 0.25, Resnet: 0.75, Hashtag: 0.00\n",
            "Accuracy: 0.805, Balanced accuracy: 0.808, F1: 0.778, Precision: 0.737, Recall: 0.825\n",
            "--------------------\n",
            "Bert: 0.30, Resnet: 0.00, Hashtag: 0.70\n",
            "Accuracy: 0.648, Balanced accuracy: 0.648, F1: 0.604, Precision: 0.567, Recall: 0.647\n",
            "--------------------\n",
            "Bert: 0.30, Resnet: 0.05, Hashtag: 0.65\n",
            "Accuracy: 0.648, Balanced accuracy: 0.648, F1: 0.604, Precision: 0.567, Recall: 0.647\n",
            "--------------------\n",
            "Bert: 0.30, Resnet: 0.10, Hashtag: 0.60\n",
            "Accuracy: 0.648, Balanced accuracy: 0.648, F1: 0.604, Precision: 0.567, Recall: 0.647\n",
            "--------------------\n",
            "Bert: 0.30, Resnet: 0.15, Hashtag: 0.55\n",
            "Accuracy: 0.648, Balanced accuracy: 0.648, F1: 0.604, Precision: 0.567, Recall: 0.647\n",
            "--------------------\n",
            "Bert: 0.30, Resnet: 0.20, Hashtag: 0.50\n",
            "Accuracy: 0.648, Balanced accuracy: 0.648, F1: 0.604, Precision: 0.567, Recall: 0.647\n",
            "--------------------\n",
            "Bert: 0.30, Resnet: 0.25, Hashtag: 0.45\n",
            "Accuracy: 0.714, Balanced accuracy: 0.711, F1: 0.668, Precision: 0.644, Recall: 0.694\n",
            "--------------------\n",
            "Bert: 0.30, Resnet: 0.30, Hashtag: 0.40\n",
            "Accuracy: 0.777, Balanced accuracy: 0.775, F1: 0.739, Precision: 0.718, Recall: 0.762\n",
            "--------------------\n",
            "Bert: 0.30, Resnet: 0.40, Hashtag: 0.30\n",
            "Accuracy: 0.843, Balanced accuracy: 0.840, F1: 0.813, Precision: 0.805, Recall: 0.821\n",
            "--------------------\n",
            "Bert: 0.30, Resnet: 0.45, Hashtag: 0.25\n",
            "Accuracy: 0.861, Balanced accuracy: 0.858, F1: 0.834, Precision: 0.829, Recall: 0.839\n",
            "--------------------\n",
            "Bert: 0.30, Resnet: 0.50, Hashtag: 0.20\n",
            "Accuracy: 0.869, Balanced accuracy: 0.866, F1: 0.844, Precision: 0.837, Recall: 0.850\n",
            "--------------------\n",
            "Bert: 0.30, Resnet: 0.55, Hashtag: 0.15\n",
            "Accuracy: 0.871, Balanced accuracy: 0.870, F1: 0.847, Precision: 0.836, Recall: 0.859\n",
            "--------------------\n",
            "Bert: 0.30, Resnet: 0.65, Hashtag: 0.05\n",
            "Accuracy: 0.844, Balanced accuracy: 0.845, F1: 0.819, Precision: 0.791, Recall: 0.848\n",
            "--------------------\n",
            "Bert: 0.30, Resnet: 0.70, Hashtag: 0.00\n",
            "Accuracy: 0.832, Balanced accuracy: 0.833, F1: 0.806, Precision: 0.772, Recall: 0.842\n",
            "--------------------\n",
            "Bert: 0.35, Resnet: 0.00, Hashtag: 0.65\n",
            "Accuracy: 0.648, Balanced accuracy: 0.648, F1: 0.604, Precision: 0.567, Recall: 0.647\n",
            "--------------------\n",
            "Bert: 0.35, Resnet: 0.05, Hashtag: 0.60\n",
            "Accuracy: 0.648, Balanced accuracy: 0.648, F1: 0.604, Precision: 0.567, Recall: 0.647\n",
            "--------------------\n",
            "Bert: 0.35, Resnet: 0.10, Hashtag: 0.55\n",
            "Accuracy: 0.648, Balanced accuracy: 0.648, F1: 0.604, Precision: 0.567, Recall: 0.647\n",
            "--------------------\n",
            "Bert: 0.35, Resnet: 0.15, Hashtag: 0.50\n",
            "Accuracy: 0.648, Balanced accuracy: 0.648, F1: 0.604, Precision: 0.567, Recall: 0.647\n",
            "--------------------\n",
            "Bert: 0.35, Resnet: 0.20, Hashtag: 0.45\n",
            "Accuracy: 0.732, Balanced accuracy: 0.728, F1: 0.686, Precision: 0.667, Recall: 0.706\n",
            "--------------------\n",
            "Bert: 0.35, Resnet: 0.25, Hashtag: 0.40\n",
            "Accuracy: 0.800, Balanced accuracy: 0.797, F1: 0.764, Precision: 0.751, Recall: 0.777\n",
            "--------------------\n",
            "Bert: 0.35, Resnet: 0.35, Hashtag: 0.30\n",
            "Accuracy: 0.861, Balanced accuracy: 0.857, F1: 0.832, Precision: 0.834, Recall: 0.831\n",
            "--------------------\n",
            "Bert: 0.35, Resnet: 0.40, Hashtag: 0.25\n",
            "Accuracy: 0.870, Balanced accuracy: 0.866, F1: 0.843, Precision: 0.845, Recall: 0.841\n",
            "--------------------\n",
            "Bert: 0.35, Resnet: 0.45, Hashtag: 0.20\n",
            "Accuracy: 0.878, Balanced accuracy: 0.874, F1: 0.853, Precision: 0.854, Recall: 0.852\n",
            "--------------------\n",
            "Bert: 0.35, Resnet: 0.50, Hashtag: 0.15\n",
            "Accuracy: 0.884, Balanced accuracy: 0.882, F1: 0.861, Precision: 0.857, Recall: 0.866\n",
            "--------------------\n",
            "Bert: 0.35, Resnet: 0.65, Hashtag: 0.00\n",
            "Accuracy: 0.858, Balanced accuracy: 0.857, F1: 0.833, Precision: 0.813, Recall: 0.854\n",
            "--------------------\n",
            "Bert: 0.40, Resnet: 0.00, Hashtag: 0.60\n",
            "Accuracy: 0.648, Balanced accuracy: 0.648, F1: 0.604, Precision: 0.567, Recall: 0.647\n",
            "--------------------\n",
            "Bert: 0.40, Resnet: 0.05, Hashtag: 0.55\n",
            "Accuracy: 0.648, Balanced accuracy: 0.648, F1: 0.604, Precision: 0.567, Recall: 0.647\n",
            "--------------------\n",
            "Bert: 0.40, Resnet: 0.10, Hashtag: 0.50\n",
            "Accuracy: 0.648, Balanced accuracy: 0.648, F1: 0.604, Precision: 0.567, Recall: 0.647\n",
            "--------------------\n",
            "Bert: 0.40, Resnet: 0.15, Hashtag: 0.45\n",
            "Accuracy: 0.760, Balanced accuracy: 0.756, F1: 0.717, Precision: 0.701, Recall: 0.734\n",
            "--------------------\n",
            "Bert: 0.40, Resnet: 0.20, Hashtag: 0.40\n",
            "Accuracy: 0.827, Balanced accuracy: 0.822, F1: 0.792, Precision: 0.790, Recall: 0.794\n",
            "--------------------\n",
            "Bert: 0.40, Resnet: 0.25, Hashtag: 0.35\n",
            "Accuracy: 0.859, Balanced accuracy: 0.853, F1: 0.828, Precision: 0.836, Recall: 0.820\n",
            "--------------------\n",
            "Bert: 0.40, Resnet: 0.30, Hashtag: 0.30\n",
            "Accuracy: 0.873, Balanced accuracy: 0.868, F1: 0.846, Precision: 0.856, Recall: 0.836\n",
            "--------------------\n",
            "Bert: 0.40, Resnet: 0.35, Hashtag: 0.25\n",
            "Accuracy: 0.883, Balanced accuracy: 0.878, F1: 0.858, Precision: 0.867, Recall: 0.849\n",
            "--------------------\n",
            "Bert: 0.40, Resnet: 0.40, Hashtag: 0.20\n",
            "Accuracy: 0.890, Balanced accuracy: 0.885, F1: 0.866, Precision: 0.874, Recall: 0.858\n",
            "--------------------\n",
            "Bert: 0.40, Resnet: 0.45, Hashtag: 0.15\n",
            "Accuracy: 0.898, Balanced accuracy: 0.894, F1: 0.876, Precision: 0.885, Recall: 0.868\n",
            "--------------------\n",
            "Bert: 0.40, Resnet: 0.50, Hashtag: 0.10\n",
            "Accuracy: 0.898, Balanced accuracy: 0.895, F1: 0.878, Precision: 0.877, Recall: 0.878\n",
            "--------------------\n",
            "Bert: 0.40, Resnet: 0.55, Hashtag: 0.05\n",
            "Accuracy: 0.895, Balanced accuracy: 0.893, F1: 0.874, Precision: 0.869, Recall: 0.880\n",
            "--------------------\n",
            "Bert: 0.40, Resnet: 0.60, Hashtag: 0.00\n",
            "Accuracy: 0.880, Balanced accuracy: 0.879, F1: 0.858, Precision: 0.844, Recall: 0.873\n",
            "--------------------\n",
            "Bert: 0.45, Resnet: 0.00, Hashtag: 0.55\n",
            "Accuracy: 0.648, Balanced accuracy: 0.648, F1: 0.604, Precision: 0.567, Recall: 0.647\n",
            "--------------------\n",
            "Bert: 0.45, Resnet: 0.05, Hashtag: 0.50\n",
            "Accuracy: 0.648, Balanced accuracy: 0.648, F1: 0.604, Precision: 0.567, Recall: 0.647\n",
            "--------------------\n",
            "Bert: 0.45, Resnet: 0.10, Hashtag: 0.45\n",
            "Accuracy: 0.811, Balanced accuracy: 0.805, F1: 0.772, Precision: 0.771, Recall: 0.774\n",
            "--------------------\n",
            "Bert: 0.45, Resnet: 0.15, Hashtag: 0.40\n",
            "Accuracy: 0.859, Balanced accuracy: 0.852, F1: 0.827, Precision: 0.844, Recall: 0.811\n",
            "--------------------\n",
            "Bert: 0.45, Resnet: 0.20, Hashtag: 0.35\n",
            "Accuracy: 0.880, Balanced accuracy: 0.873, F1: 0.852, Precision: 0.872, Recall: 0.833\n",
            "--------------------\n",
            "Bert: 0.45, Resnet: 0.25, Hashtag: 0.30\n",
            "Accuracy: 0.895, Balanced accuracy: 0.889, F1: 0.871, Precision: 0.890, Recall: 0.853\n",
            "--------------------\n",
            "Bert: 0.45, Resnet: 0.30, Hashtag: 0.25\n",
            "Accuracy: 0.898, Balanced accuracy: 0.892, F1: 0.874, Precision: 0.897, Recall: 0.853\n",
            "--------------------\n",
            "Bert: 0.45, Resnet: 0.35, Hashtag: 0.20\n",
            "Accuracy: 0.902, Balanced accuracy: 0.896, F1: 0.880, Precision: 0.895, Recall: 0.865\n",
            "--------------------\n",
            "Bert: 0.45, Resnet: 0.40, Hashtag: 0.15\n",
            "Accuracy: 0.906, Balanced accuracy: 0.902, F1: 0.886, Precision: 0.897, Recall: 0.874\n",
            "--------------------\n",
            "Bert: 0.45, Resnet: 0.45, Hashtag: 0.10\n",
            "Accuracy: 0.907, Balanced accuracy: 0.903, F1: 0.887, Precision: 0.892, Recall: 0.882\n",
            "--------------------\n",
            "Bert: 0.45, Resnet: 0.50, Hashtag: 0.05\n",
            "Accuracy: 0.904, Balanced accuracy: 0.901, F1: 0.884, Precision: 0.886, Recall: 0.883\n",
            "--------------------\n",
            "Bert: 0.45, Resnet: 0.55, Hashtag: 0.00\n",
            "Accuracy: 0.898, Balanced accuracy: 0.896, F1: 0.877, Precision: 0.871, Recall: 0.884\n",
            "--------------------\n",
            "Bert: 0.50, Resnet: 0.00, Hashtag: 0.50\n",
            "Accuracy: 0.648, Balanced accuracy: 0.648, F1: 0.604, Precision: 0.567, Recall: 0.647\n",
            "--------------------\n",
            "Bert: 0.50, Resnet: 0.05, Hashtag: 0.45\n",
            "Accuracy: 0.875, Balanced accuracy: 0.866, F1: 0.844, Precision: 0.875, Recall: 0.814\n",
            "--------------------\n",
            "Bert: 0.50, Resnet: 0.10, Hashtag: 0.40\n",
            "Accuracy: 0.894, Balanced accuracy: 0.886, F1: 0.868, Precision: 0.900, Recall: 0.838\n",
            "--------------------\n",
            "Bert: 0.50, Resnet: 0.15, Hashtag: 0.35\n",
            "Accuracy: 0.902, Balanced accuracy: 0.895, F1: 0.878, Precision: 0.907, Recall: 0.851\n",
            "--------------------\n",
            "Bert: 0.50, Resnet: 0.20, Hashtag: 0.30\n",
            "Accuracy: 0.902, Balanced accuracy: 0.896, F1: 0.879, Precision: 0.905, Recall: 0.855\n",
            "--------------------\n",
            "Bert: 0.50, Resnet: 0.25, Hashtag: 0.25\n",
            "Accuracy: 0.907, Balanced accuracy: 0.900, F1: 0.885, Precision: 0.908, Recall: 0.862\n",
            "--------------------\n",
            "Bert: 0.50, Resnet: 0.30, Hashtag: 0.20\n",
            "Accuracy: 0.905, Balanced accuracy: 0.899, F1: 0.883, Precision: 0.900, Recall: 0.867\n",
            "--------------------\n",
            "Bert: 0.50, Resnet: 0.35, Hashtag: 0.15\n",
            "Accuracy: 0.907, Balanced accuracy: 0.903, F1: 0.887, Precision: 0.899, Recall: 0.875\n",
            "--------------------\n",
            "Bert: 0.50, Resnet: 0.40, Hashtag: 0.10\n",
            "Accuracy: 0.907, Balanced accuracy: 0.902, F1: 0.886, Precision: 0.895, Recall: 0.878\n",
            "--------------------\n",
            "Bert: 0.50, Resnet: 0.45, Hashtag: 0.05\n",
            "Accuracy: 0.905, Balanced accuracy: 0.902, F1: 0.885, Precision: 0.888, Recall: 0.882\n",
            "--------------------\n",
            "Bert: 0.50, Resnet: 0.50, Hashtag: 0.00\n",
            "Accuracy: 0.905, Balanced accuracy: 0.903, F1: 0.886, Precision: 0.884, Recall: 0.889\n",
            "--------------------\n",
            "Bert: 0.55, Resnet: 0.00, Hashtag: 0.45\n",
            "Accuracy: 0.888, Balanced accuracy: 0.878, F1: 0.859, Precision: 0.897, Recall: 0.823\n",
            "--------------------\n",
            "Bert: 0.55, Resnet: 0.05, Hashtag: 0.40\n",
            "Accuracy: 0.898, Balanced accuracy: 0.889, F1: 0.872, Precision: 0.905, Recall: 0.841\n",
            "--------------------\n",
            "Bert: 0.55, Resnet: 0.10, Hashtag: 0.35\n",
            "Accuracy: 0.904, Balanced accuracy: 0.896, F1: 0.880, Precision: 0.910, Recall: 0.852\n",
            "--------------------\n",
            "Bert: 0.55, Resnet: 0.15, Hashtag: 0.30\n",
            "Accuracy: 0.903, Balanced accuracy: 0.897, F1: 0.880, Precision: 0.902, Recall: 0.859\n",
            "--------------------\n",
            "Bert: 0.55, Resnet: 0.20, Hashtag: 0.25\n",
            "Accuracy: 0.906, Balanced accuracy: 0.900, F1: 0.884, Precision: 0.906, Recall: 0.863\n",
            "--------------------\n",
            "Bert: 0.55, Resnet: 0.25, Hashtag: 0.20\n",
            "Accuracy: 0.906, Balanced accuracy: 0.900, F1: 0.884, Precision: 0.902, Recall: 0.867\n",
            "--------------------\n",
            "Bert: 0.55, Resnet: 0.30, Hashtag: 0.15\n",
            "Accuracy: 0.905, Balanced accuracy: 0.901, F1: 0.884, Precision: 0.897, Recall: 0.872\n",
            "--------------------\n",
            "Bert: 0.55, Resnet: 0.40, Hashtag: 0.05\n",
            "Accuracy: 0.902, Balanced accuracy: 0.897, F1: 0.881, Precision: 0.891, Recall: 0.870\n",
            "--------------------\n",
            "Bert: 0.55, Resnet: 0.45, Hashtag: 0.00\n",
            "Accuracy: 0.901, Balanced accuracy: 0.898, F1: 0.881, Precision: 0.883, Recall: 0.879\n",
            "--------------------\n",
            "Bert: 0.60, Resnet: 0.00, Hashtag: 0.40\n",
            "Accuracy: 0.898, Balanced accuracy: 0.890, F1: 0.873, Precision: 0.905, Recall: 0.844\n",
            "--------------------\n",
            "Bert: 0.60, Resnet: 0.10, Hashtag: 0.30\n",
            "Accuracy: 0.902, Balanced accuracy: 0.896, F1: 0.880, Precision: 0.901, Recall: 0.859\n",
            "--------------------\n",
            "Bert: 0.60, Resnet: 0.15, Hashtag: 0.25\n",
            "Accuracy: 0.905, Balanced accuracy: 0.898, F1: 0.882, Precision: 0.905, Recall: 0.860\n",
            "--------------------\n",
            "Bert: 0.60, Resnet: 0.20, Hashtag: 0.20\n",
            "Accuracy: 0.901, Balanced accuracy: 0.895, F1: 0.878, Precision: 0.900, Recall: 0.857\n",
            "--------------------\n",
            "Bert: 0.60, Resnet: 0.25, Hashtag: 0.15\n",
            "Accuracy: 0.900, Balanced accuracy: 0.895, F1: 0.878, Precision: 0.893, Recall: 0.863\n",
            "--------------------\n",
            "Bert: 0.60, Resnet: 0.40, Hashtag: 0.00\n",
            "Accuracy: 0.901, Balanced accuracy: 0.897, F1: 0.880, Precision: 0.885, Recall: 0.875\n",
            "--------------------\n",
            "Bert: 0.65, Resnet: 0.00, Hashtag: 0.35\n",
            "Accuracy: 0.900, Balanced accuracy: 0.893, F1: 0.876, Precision: 0.903, Recall: 0.850\n",
            "--------------------\n",
            "Bert: 0.65, Resnet: 0.05, Hashtag: 0.30\n",
            "Accuracy: 0.901, Balanced accuracy: 0.894, F1: 0.877, Precision: 0.903, Recall: 0.853\n",
            "--------------------\n",
            "Bert: 0.65, Resnet: 0.10, Hashtag: 0.25\n",
            "Accuracy: 0.901, Balanced accuracy: 0.894, F1: 0.878, Precision: 0.903, Recall: 0.854\n",
            "--------------------\n",
            "Bert: 0.65, Resnet: 0.15, Hashtag: 0.20\n",
            "Accuracy: 0.900, Balanced accuracy: 0.894, F1: 0.877, Precision: 0.899, Recall: 0.856\n",
            "--------------------\n",
            "Bert: 0.65, Resnet: 0.20, Hashtag: 0.15\n",
            "Accuracy: 0.899, Balanced accuracy: 0.893, F1: 0.876, Precision: 0.893, Recall: 0.860\n",
            "--------------------\n",
            "Bert: 0.65, Resnet: 0.25, Hashtag: 0.10\n",
            "Accuracy: 0.901, Balanced accuracy: 0.896, F1: 0.879, Precision: 0.891, Recall: 0.867\n",
            "--------------------\n",
            "Bert: 0.65, Resnet: 0.30, Hashtag: 0.05\n",
            "Accuracy: 0.900, Balanced accuracy: 0.896, F1: 0.879, Precision: 0.889, Recall: 0.868\n",
            "--------------------\n",
            "Bert: 0.65, Resnet: 0.35, Hashtag: 0.00\n",
            "Accuracy: 0.898, Balanced accuracy: 0.893, F1: 0.875, Precision: 0.884, Recall: 0.867\n",
            "--------------------\n",
            "Bert: 0.70, Resnet: 0.00, Hashtag: 0.30\n",
            "Accuracy: 0.899, Balanced accuracy: 0.892, F1: 0.874, Precision: 0.900, Recall: 0.850\n",
            "--------------------\n",
            "Bert: 0.70, Resnet: 0.05, Hashtag: 0.25\n",
            "Accuracy: 0.899, Balanced accuracy: 0.892, F1: 0.875, Precision: 0.897, Recall: 0.854\n",
            "--------------------\n",
            "Bert: 0.70, Resnet: 0.10, Hashtag: 0.20\n",
            "Accuracy: 0.900, Balanced accuracy: 0.893, F1: 0.876, Precision: 0.898, Recall: 0.855\n",
            "--------------------\n",
            "Bert: 0.70, Resnet: 0.15, Hashtag: 0.15\n",
            "Accuracy: 0.899, Balanced accuracy: 0.893, F1: 0.876, Precision: 0.894, Recall: 0.859\n",
            "--------------------\n",
            "Bert: 0.70, Resnet: 0.25, Hashtag: 0.05\n",
            "Accuracy: 0.900, Balanced accuracy: 0.896, F1: 0.879, Precision: 0.889, Recall: 0.868\n",
            "--------------------\n",
            "Bert: 0.70, Resnet: 0.30, Hashtag: 0.00\n",
            "Accuracy: 0.898, Balanced accuracy: 0.893, F1: 0.876, Precision: 0.886, Recall: 0.865\n",
            "--------------------\n",
            "Bert: 0.75, Resnet: 0.00, Hashtag: 0.25\n",
            "Accuracy: 0.897, Balanced accuracy: 0.890, F1: 0.873, Precision: 0.896, Recall: 0.851\n",
            "--------------------\n",
            "Bert: 0.75, Resnet: 0.05, Hashtag: 0.20\n",
            "Accuracy: 0.900, Balanced accuracy: 0.894, F1: 0.877, Precision: 0.897, Recall: 0.857\n",
            "--------------------\n",
            "Bert: 0.75, Resnet: 0.10, Hashtag: 0.15\n",
            "Accuracy: 0.899, Balanced accuracy: 0.893, F1: 0.875, Precision: 0.895, Recall: 0.856\n",
            "--------------------\n",
            "Bert: 0.75, Resnet: 0.15, Hashtag: 0.10\n",
            "Accuracy: 0.899, Balanced accuracy: 0.893, F1: 0.876, Precision: 0.892, Recall: 0.860\n",
            "--------------------\n",
            "Bert: 0.75, Resnet: 0.20, Hashtag: 0.05\n",
            "Accuracy: 0.899, Balanced accuracy: 0.894, F1: 0.877, Precision: 0.890, Recall: 0.864\n",
            "--------------------\n",
            "Bert: 0.75, Resnet: 0.25, Hashtag: 0.00\n",
            "Accuracy: 0.896, Balanced accuracy: 0.891, F1: 0.873, Precision: 0.884, Recall: 0.862\n",
            "--------------------\n",
            "Bert: 0.80, Resnet: 0.00, Hashtag: 0.20\n",
            "Accuracy: 0.898, Balanced accuracy: 0.892, F1: 0.874, Precision: 0.898, Recall: 0.852\n",
            "--------------------\n",
            "Bert: 0.80, Resnet: 0.05, Hashtag: 0.15\n",
            "Accuracy: 0.897, Balanced accuracy: 0.890, F1: 0.873, Precision: 0.893, Recall: 0.853\n",
            "--------------------\n",
            "Bert: 0.80, Resnet: 0.10, Hashtag: 0.10\n",
            "Accuracy: 0.897, Balanced accuracy: 0.892, F1: 0.874, Precision: 0.889, Recall: 0.859\n",
            "--------------------\n",
            "Bert: 0.80, Resnet: 0.15, Hashtag: 0.05\n",
            "Accuracy: 0.897, Balanced accuracy: 0.891, F1: 0.873, Precision: 0.888, Recall: 0.859\n",
            "--------------------\n",
            "Bert: 0.80, Resnet: 0.20, Hashtag: 0.00\n",
            "Accuracy: 0.895, Balanced accuracy: 0.890, F1: 0.872, Precision: 0.884, Recall: 0.860\n",
            "--------------------\n",
            "Bert: 0.85, Resnet: 0.00, Hashtag: 0.15\n",
            "Accuracy: 0.895, Balanced accuracy: 0.888, F1: 0.870, Precision: 0.889, Recall: 0.852\n",
            "--------------------\n",
            "Bert: 0.85, Resnet: 0.10, Hashtag: 0.05\n",
            "Accuracy: 0.895, Balanced accuracy: 0.889, F1: 0.871, Precision: 0.887, Recall: 0.855\n",
            "--------------------\n",
            "Bert: 0.85, Resnet: 0.15, Hashtag: 0.00\n",
            "Accuracy: 0.894, Balanced accuracy: 0.889, F1: 0.871, Precision: 0.883, Recall: 0.859\n",
            "--------------------\n",
            "Bert: 0.90, Resnet: 0.00, Hashtag: 0.10\n",
            "Accuracy: 0.894, Balanced accuracy: 0.888, F1: 0.869, Precision: 0.888, Recall: 0.851\n",
            "--------------------\n",
            "Bert: 0.90, Resnet: 0.05, Hashtag: 0.05\n",
            "Accuracy: 0.893, Balanced accuracy: 0.887, F1: 0.869, Precision: 0.886, Recall: 0.853\n",
            "--------------------\n",
            "Bert: 0.90, Resnet: 0.10, Hashtag: 0.00\n",
            "Accuracy: 0.893, Balanced accuracy: 0.888, F1: 0.870, Precision: 0.883, Recall: 0.857\n",
            "--------------------\n",
            "Bert: 0.95, Resnet: 0.00, Hashtag: 0.05\n",
            "Accuracy: 0.893, Balanced accuracy: 0.887, F1: 0.869, Precision: 0.887, Recall: 0.852\n",
            "--------------------\n",
            "Bert: 0.95, Resnet: 0.05, Hashtag: 0.00\n",
            "Accuracy: 0.893, Balanced accuracy: 0.887, F1: 0.868, Precision: 0.883, Recall: 0.854\n",
            "--------------------\n",
            "Bert: 1.00, Resnet: 0.00, Hashtag: 0.00\n",
            "Accuracy: 0.890, Balanced accuracy: 0.884, F1: 0.865, Precision: 0.882, Recall: 0.849\n"
          ]
        }
      ]
    },
    {
      "cell_type": "markdown",
      "metadata": {
        "id": "JaH974cVOn1P"
      },
      "source": [
        "## Probabilistic hashtag model"
      ]
    },
    {
      "cell_type": "code",
      "metadata": {
        "colab": {
          "base_uri": "https://localhost:8080/",
          "height": 237
        },
        "id": "izYmAI5ZdO5G",
        "outputId": "617e3bce-8be0-4bae-e773-b672ab2ff53e"
      },
      "source": [
        "train_df_with_index = train_df.set_index('ID')\n",
        "train_df_with_index.head()"
      ],
      "execution_count": null,
      "outputs": [
        {
          "output_type": "execute_result",
          "data": {
            "text/html": [
              "<div>\n",
              "<style scoped>\n",
              "    .dataframe tbody tr th:only-of-type {\n",
              "        vertical-align: middle;\n",
              "    }\n",
              "\n",
              "    .dataframe tbody tr th {\n",
              "        vertical-align: top;\n",
              "    }\n",
              "\n",
              "    .dataframe thead th {\n",
              "        text-align: right;\n",
              "    }\n",
              "</style>\n",
              "<table border=\"1\" class=\"dataframe\">\n",
              "  <thead>\n",
              "    <tr style=\"text-align: right;\">\n",
              "      <th></th>\n",
              "      <th>Text</th>\n",
              "      <th>Sarcastic</th>\n",
              "    </tr>\n",
              "    <tr>\n",
              "      <th>ID</th>\n",
              "      <th></th>\n",
              "      <th></th>\n",
              "    </tr>\n",
              "  </thead>\n",
              "  <tbody>\n",
              "    <tr>\n",
              "      <th>910308516510011393</th>\n",
              "      <td>most # funny quotes : 21 snarky and # funny qu...</td>\n",
              "      <td>True</td>\n",
              "    </tr>\n",
              "    <tr>\n",
              "      <th>725333760762363905</th>\n",
              "      <td>spurs # creativethinking ! &lt;url&gt;</td>\n",
              "      <td>True</td>\n",
              "    </tr>\n",
              "    <tr>\n",
              "      <th>840006160660983809</th>\n",
              "      <td>&lt;user&gt; thanks for showing up for our appointme...</td>\n",
              "      <td>True</td>\n",
              "    </tr>\n",
              "    <tr>\n",
              "      <th>854334602516733952</th>\n",
              "      <td>only a hardcore fan of sir jonny sins will get...</td>\n",
              "      <td>True</td>\n",
              "    </tr>\n",
              "    <tr>\n",
              "      <th>908913372199915520</th>\n",
              "      <td>haha .  # lol</td>\n",
              "      <td>True</td>\n",
              "    </tr>\n",
              "  </tbody>\n",
              "</table>\n",
              "</div>"
            ],
            "text/plain": [
              "                                                                 Text  Sarcastic\n",
              "ID                                                                              \n",
              "910308516510011393  most # funny quotes : 21 snarky and # funny qu...       True\n",
              "725333760762363905                   spurs # creativethinking ! <url>       True\n",
              "840006160660983809  <user> thanks for showing up for our appointme...       True\n",
              "854334602516733952  only a hardcore fan of sir jonny sins will get...       True\n",
              "908913372199915520                                      haha .  # lol       True"
            ]
          },
          "metadata": {},
          "execution_count": 57
        }
      ]
    },
    {
      "cell_type": "code",
      "metadata": {
        "colab": {
          "base_uri": "https://localhost:8080/"
        },
        "id": "GFUxIJOHdNs5",
        "outputId": "800b0867-2a35-48d7-ebd1-b19f4751ad8f"
      },
      "source": [
        "train_hashtags = extract_regex_matches(HASHTAG_REGEX_PATTERN, train_df_with_index)\n",
        "train_hashtags.head()"
      ],
      "execution_count": null,
      "outputs": [
        {
          "output_type": "execute_result",
          "data": {
            "text/plain": [
              "ID\n",
              "910308516510011393    [funny, funny, funnyquotes, hilariousquotes, h...\n",
              "725333760762363905                                   [creativethinking]\n",
              "840006160660983809                                                   []\n",
              "854334602516733952                                                   []\n",
              "908913372199915520                                                [lol]\n",
              "Name: Text, dtype: object"
            ]
          },
          "metadata": {},
          "execution_count": 60
        }
      ]
    },
    {
      "cell_type": "code",
      "metadata": {
        "colab": {
          "base_uri": "https://localhost:8080/"
        },
        "id": "359VFHbLc7_7",
        "outputId": "cd6c2b90-518c-4c0a-c855-f37d6f16f835"
      },
      "source": [
        "train_hashtags_lengths = train_hashtags.apply(len).unique()\n",
        "train_hashtags_lengths"
      ],
      "execution_count": null,
      "outputs": [
        {
          "output_type": "execute_result",
          "data": {
            "text/plain": [
              "array([ 6,  1,  0,  4,  2,  7,  5,  3, 11,  9,  8, 20, 15, 12, 10, 21, 13,\n",
              "       28, 14, 19, 16, 23, 17, 22, 18, 25])"
            ]
          },
          "metadata": {},
          "execution_count": 66
        }
      ]
    },
    {
      "cell_type": "code",
      "metadata": {
        "colab": {
          "base_uri": "https://localhost:8080/"
        },
        "id": "IeXMnJXcdF7k",
        "outputId": "b8527266-f568-4813-8cae-a44d532e742a"
      },
      "source": [
        "train_hashtags_lengths.max()"
      ],
      "execution_count": null,
      "outputs": [
        {
          "output_type": "execute_result",
          "data": {
            "text/plain": [
              "28"
            ]
          },
          "metadata": {},
          "execution_count": 62
        }
      ]
    },
    {
      "cell_type": "code",
      "metadata": {
        "colab": {
          "base_uri": "https://localhost:8080/"
        },
        "id": "N49kNDMudmdt",
        "outputId": "f8048d94-513d-4f62-8367-356871f7058a"
      },
      "source": [
        "train_hashtags_lengths.min()"
      ],
      "execution_count": null,
      "outputs": [
        {
          "output_type": "execute_result",
          "data": {
            "text/plain": [
              "0"
            ]
          },
          "metadata": {},
          "execution_count": 63
        }
      ]
    },
    {
      "cell_type": "code",
      "metadata": {
        "colab": {
          "base_uri": "https://localhost:8080/",
          "height": 237
        },
        "id": "Pkk6n3YbAUm8",
        "outputId": "35ac1893-3885-41b7-a294-865b1cec72c0"
      },
      "source": [
        "train_df_with_hashtag_cnts = pd.concat([train_df_with_index,train_hashtags.apply(len).rename('Hashtag_cnt')], axis=1)\n",
        "train_df_with_hashtag_cnts.head()"
      ],
      "execution_count": null,
      "outputs": [
        {
          "output_type": "execute_result",
          "data": {
            "text/html": [
              "<div>\n",
              "<style scoped>\n",
              "    .dataframe tbody tr th:only-of-type {\n",
              "        vertical-align: middle;\n",
              "    }\n",
              "\n",
              "    .dataframe tbody tr th {\n",
              "        vertical-align: top;\n",
              "    }\n",
              "\n",
              "    .dataframe thead th {\n",
              "        text-align: right;\n",
              "    }\n",
              "</style>\n",
              "<table border=\"1\" class=\"dataframe\">\n",
              "  <thead>\n",
              "    <tr style=\"text-align: right;\">\n",
              "      <th></th>\n",
              "      <th>Text</th>\n",
              "      <th>Sarcastic</th>\n",
              "      <th>Hashtag_cnt</th>\n",
              "    </tr>\n",
              "    <tr>\n",
              "      <th>ID</th>\n",
              "      <th></th>\n",
              "      <th></th>\n",
              "      <th></th>\n",
              "    </tr>\n",
              "  </thead>\n",
              "  <tbody>\n",
              "    <tr>\n",
              "      <th>910308516510011393</th>\n",
              "      <td>most # funny quotes : 21 snarky and # funny qu...</td>\n",
              "      <td>True</td>\n",
              "      <td>6</td>\n",
              "    </tr>\n",
              "    <tr>\n",
              "      <th>725333760762363905</th>\n",
              "      <td>spurs # creativethinking ! &lt;url&gt;</td>\n",
              "      <td>True</td>\n",
              "      <td>1</td>\n",
              "    </tr>\n",
              "    <tr>\n",
              "      <th>840006160660983809</th>\n",
              "      <td>&lt;user&gt; thanks for showing up for our appointme...</td>\n",
              "      <td>True</td>\n",
              "      <td>0</td>\n",
              "    </tr>\n",
              "    <tr>\n",
              "      <th>854334602516733952</th>\n",
              "      <td>only a hardcore fan of sir jonny sins will get...</td>\n",
              "      <td>True</td>\n",
              "      <td>0</td>\n",
              "    </tr>\n",
              "    <tr>\n",
              "      <th>908913372199915520</th>\n",
              "      <td>haha .  # lol</td>\n",
              "      <td>True</td>\n",
              "      <td>1</td>\n",
              "    </tr>\n",
              "  </tbody>\n",
              "</table>\n",
              "</div>"
            ],
            "text/plain": [
              "                                                                 Text  ...  Hashtag_cnt\n",
              "ID                                                                     ...             \n",
              "910308516510011393  most # funny quotes : 21 snarky and # funny qu...  ...            6\n",
              "725333760762363905                   spurs # creativethinking ! <url>  ...            1\n",
              "840006160660983809  <user> thanks for showing up for our appointme...  ...            0\n",
              "854334602516733952  only a hardcore fan of sir jonny sins will get...  ...            0\n",
              "908913372199915520                                      haha .  # lol  ...            1\n",
              "\n",
              "[5 rows x 3 columns]"
            ]
          },
          "metadata": {},
          "execution_count": 72
        }
      ]
    },
    {
      "cell_type": "code",
      "metadata": {
        "colab": {
          "base_uri": "https://localhost:8080/",
          "height": 303
        },
        "id": "i6i59miiA47c",
        "outputId": "721e4245-7d9c-4295-a3c6-cb6465ac662d"
      },
      "source": [
        "train_df_with_hashtag_cnts.groupby('Hashtag_cnt').size().plot.bar()"
      ],
      "execution_count": null,
      "outputs": [
        {
          "output_type": "execute_result",
          "data": {
            "text/plain": [
              "<matplotlib.axes._subplots.AxesSubplot at 0x7f175a19d890>"
            ]
          },
          "metadata": {},
          "execution_count": 77
        },
        {
          "output_type": "display_data",
          "data": {
            "image/png": "[encoded data removed]",
            "text/plain": [
              "<Figure size 432x288 with 1 Axes>"
            ]
          },
          "metadata": {
            "needs_background": "light"
          }
        }
      ]
    },
    {
      "cell_type": "code",
      "metadata": {
        "id": "LZ1p6D0Sdpgv",
        "colab": {
          "base_uri": "https://localhost:8080/"
        },
        "outputId": "6da250cb-1fb1-4fb9-f498-3eb592aee2da"
      },
      "source": [
        "HASHTAG_PROB_CONTRIBUTIONS = 1 / train_hashtags_lengths.max()\n",
        "HASHTAG_PROB_CONTRIBUTION"
      ],
      "execution_count": null,
      "outputs": [
        {
          "output_type": "execute_result",
          "data": {
            "text/plain": [
              "0.03571428571428571"
            ]
          },
          "metadata": {},
          "execution_count": 64
        }
      ]
    },
    {
      "cell_type": "code",
      "metadata": {
        "id": "H5ZGjQLK_d9E"
      },
      "source": [
        ""
      ],
      "execution_count": null,
      "outputs": []
    }
  ]
}