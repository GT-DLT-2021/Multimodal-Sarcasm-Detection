{
  "cells": [
    {
      "cell_type": "code",
      "execution_count": null,
      "metadata": {
        "id": "b4074d1c"
      },
      "outputs": [],
      "source": [
        "%%capture\n",
        "!pip install pytorch_lightning #torch==1.3.1\n",
        "!pip install transformers\n",
        "!pip3 -q install emoji\n"
      ],
      "id": "b4074d1c"
    },
    {
      "cell_type": "code",
      "execution_count": null,
      "metadata": {
        "id": "117b4b8d"
      },
      "outputs": [],
      "source": [
        "%matplotlib inline\n",
        "\n",
        "import json\n",
        "import logging\n",
        "from pathlib import Path\n",
        "import random\n",
        "import tarfile\n",
        "import tempfile\n",
        "import warnings\n",
        "\n",
        "import matplotlib.pyplot as plt\n",
        "import numpy as np\n",
        "import pandas as pd\n",
        "# import pandas_path  # Path style access for pandas\n",
        "from tqdm import tqdm\n",
        "\n",
        "import torch                    \n",
        "import torchvision\n",
        "# import fasttext\n",
        "from torchvision import datasets, models, transforms\n",
        "import torch.nn as nn\n",
        "from torch.nn import functional as F\n",
        "import torch.optim as optim"
      ],
      "id": "117b4b8d"
    },
    {
      "cell_type": "code",
      "execution_count": null,
      "metadata": {
        "id": "22f227d7"
      },
      "outputs": [],
      "source": [
        "import ast\n",
        "import pandas as pd\n",
        "\n",
        "def load_data_lists(path):\n",
        "    data_points_lists = []\n",
        "    with open(path, encoding='utf-8') as f:\n",
        "        lines = f.readlines()\n",
        "\n",
        "        for line in lines:\n",
        "            try:\n",
        "                data_points_lists.append(ast.literal_eval(line))\n",
        "            except:\n",
        "                # Ignore lines with errors\n",
        "                pass\n",
        "\n",
        "    print('Found {} lines in \"{}\".'.format(len(lines), path))\n",
        "    print('Successfully loaded {} data points from \"{}\".'.format(len(data_points_lists), path))\n",
        "    \n",
        "    return data_points_lists\n",
        "\n",
        "COLUMN_NAMES = ['ID', 'Text', 'Sarcastic']\n",
        "\n",
        "def construct_df(data_points_lists, column_names=COLUMN_NAMES):\n",
        "    df = pd.DataFrame(data_points_lists, columns=column_names)\n",
        "    df['ID'] = pd.to_numeric(df['ID'])\n",
        "    df['Sarcastic'] = df['Sarcastic'].astype('bool')\n",
        "    \n",
        "    return df"
      ],
      "id": "22f227d7"
    },
    {
      "cell_type": "code",
      "execution_count": null,
      "metadata": {
        "colab": {
          "base_uri": "https://localhost:8080/",
          "height": 449
        },
        "id": "b1572ee0",
        "outputId": "c52965dd-0c52-4791-88b1-a182bae68c52"
      },
      "outputs": [
        {
          "name": "stdout",
          "output_type": "stream",
          "text": [
            "Found 29040 lines in \"train.txt\".\n",
            "Successfully loaded 29040 data points from \"train.txt\".\n",
            "(29040, 3)\n",
            "<class 'pandas.core.frame.DataFrame'>\n",
            "RangeIndex: 29040 entries, 0 to 29039\n",
            "Data columns (total 3 columns):\n",
            " #   Column     Non-Null Count  Dtype \n",
            "---  ------     --------------  ----- \n",
            " 0   ID         29040 non-null  int64 \n",
            " 1   Text       29040 non-null  object\n",
            " 2   Sarcastic  29040 non-null  bool  \n",
            "dtypes: bool(1), int64(1), object(1)\n",
            "memory usage: 482.2+ KB\n",
            "None\n"
          ]
        },
        {
          "data": {
            "text/html": [
              "<div>\n",
              "<style scoped>\n",
              "    .dataframe tbody tr th:only-of-type {\n",
              "        vertical-align: middle;\n",
              "    }\n",
              "\n",
              "    .dataframe tbody tr th {\n",
              "        vertical-align: top;\n",
              "    }\n",
              "\n",
              "    .dataframe thead th {\n",
              "        text-align: right;\n",
              "    }\n",
              "</style>\n",
              "<table border=\"1\" class=\"dataframe\">\n",
              "  <thead>\n",
              "    <tr style=\"text-align: right;\">\n",
              "      <th></th>\n",
              "      <th>ID</th>\n",
              "      <th>Text</th>\n",
              "      <th>Sarcastic</th>\n",
              "    </tr>\n",
              "  </thead>\n",
              "  <tbody>\n",
              "    <tr>\n",
              "      <th>0</th>\n",
              "      <td>910308516510011393</td>\n",
              "      <td>most # funny quotes : 21 snarky and # funny qu...</td>\n",
              "      <td>True</td>\n",
              "    </tr>\n",
              "    <tr>\n",
              "      <th>1</th>\n",
              "      <td>725333760762363905</td>\n",
              "      <td>spurs # creativethinking ! &lt;url&gt;</td>\n",
              "      <td>True</td>\n",
              "    </tr>\n",
              "    <tr>\n",
              "      <th>2</th>\n",
              "      <td>840006160660983809</td>\n",
              "      <td>&lt;user&gt; thanks for showing up for our appointme...</td>\n",
              "      <td>True</td>\n",
              "    </tr>\n",
              "    <tr>\n",
              "      <th>3</th>\n",
              "      <td>854334602516733952</td>\n",
              "      <td>only a hardcore fan of sir jonny sins will get...</td>\n",
              "      <td>True</td>\n",
              "    </tr>\n",
              "    <tr>\n",
              "      <th>4</th>\n",
              "      <td>908913372199915520</td>\n",
              "      <td>haha .  # lol</td>\n",
              "      <td>True</td>\n",
              "    </tr>\n",
              "  </tbody>\n",
              "</table>\n",
              "</div>"
            ],
            "text/plain": [
              "                   ID  ... Sarcastic\n",
              "0  910308516510011393  ...      True\n",
              "1  725333760762363905  ...      True\n",
              "2  840006160660983809  ...      True\n",
              "3  854334602516733952  ...      True\n",
              "4  908913372199915520  ...      True\n",
              "\n",
              "[5 rows x 3 columns]"
            ]
          },
          "metadata": {},
          "output_type": "display_data"
        }
      ],
      "source": [
        "df_train = construct_df(load_data_lists('train.txt'))\n",
        "\n",
        "print(df_train.shape)\n",
        "print(df_train.info())\n",
        "\n",
        "display(df_train.head())"
      ],
      "id": "b1572ee0"
    },
    {
      "cell_type": "code",
      "execution_count": null,
      "metadata": {
        "colab": {
          "base_uri": "https://localhost:8080/",
          "height": 466
        },
        "id": "0248226d",
        "outputId": "88a13ed5-59e5-40c4-809e-83a1ce33ff9f"
      },
      "outputs": [
        {
          "name": "stdout",
          "output_type": "stream",
          "text": [
            "Found 2410 lines in \"valid.txt\".\n",
            "Successfully loaded 2410 data points from \"valid.txt\".\n",
            "(2410, 4)\n",
            "<class 'pandas.core.frame.DataFrame'>\n",
            "RangeIndex: 2410 entries, 0 to 2409\n",
            "Data columns (total 4 columns):\n",
            " #   Column           Non-Null Count  Dtype \n",
            "---  ------           --------------  ----- \n",
            " 0   ID               2410 non-null   int64 \n",
            " 1   Text             2410 non-null   object\n",
            " 2   Sarcastic        2410 non-null   bool  \n",
            " 3   Sarcastic_human  2410 non-null   int64 \n",
            "dtypes: bool(1), int64(2), object(1)\n",
            "memory usage: 59.0+ KB\n",
            "None\n"
          ]
        },
        {
          "data": {
            "text/html": [
              "<div>\n",
              "<style scoped>\n",
              "    .dataframe tbody tr th:only-of-type {\n",
              "        vertical-align: middle;\n",
              "    }\n",
              "\n",
              "    .dataframe tbody tr th {\n",
              "        vertical-align: top;\n",
              "    }\n",
              "\n",
              "    .dataframe thead th {\n",
              "        text-align: right;\n",
              "    }\n",
              "</style>\n",
              "<table border=\"1\" class=\"dataframe\">\n",
              "  <thead>\n",
              "    <tr style=\"text-align: right;\">\n",
              "      <th></th>\n",
              "      <th>ID</th>\n",
              "      <th>Text</th>\n",
              "      <th>Sarcastic</th>\n",
              "      <th>Sarcastic_human</th>\n",
              "    </tr>\n",
              "  </thead>\n",
              "  <tbody>\n",
              "    <tr>\n",
              "      <th>0</th>\n",
              "      <td>915657464401580032</td>\n",
              "      <td>whew ... that extra &lt;num&gt; miles today to the g...</td>\n",
              "      <td>True</td>\n",
              "      <td>1</td>\n",
              "    </tr>\n",
              "    <tr>\n",
              "      <th>1</th>\n",
              "      <td>854678856724340736</td>\n",
              "      <td>\" oh , good . now no one will know we 're here...</td>\n",
              "      <td>True</td>\n",
              "      <td>1</td>\n",
              "    </tr>\n",
              "    <tr>\n",
              "      <th>2</th>\n",
              "      <td>904892917277274112</td>\n",
              "      <td>how much of it you think is true ? has this be...</td>\n",
              "      <td>True</td>\n",
              "      <td>1</td>\n",
              "    </tr>\n",
              "    <tr>\n",
              "      <th>3</th>\n",
              "      <td>855466461296504832</td>\n",
              "      <td>&lt;user&gt; finally found proof that the earth is f...</td>\n",
              "      <td>True</td>\n",
              "      <td>1</td>\n",
              "    </tr>\n",
              "    <tr>\n",
              "      <th>4</th>\n",
              "      <td>927373534652805120</td>\n",
              "      <td>many ways to overcome tension &amp; fear but nothi...</td>\n",
              "      <td>True</td>\n",
              "      <td>1</td>\n",
              "    </tr>\n",
              "  </tbody>\n",
              "</table>\n",
              "</div>"
            ],
            "text/plain": [
              "                   ID  ... Sarcastic_human\n",
              "0  915657464401580032  ...               1\n",
              "1  854678856724340736  ...               1\n",
              "2  904892917277274112  ...               1\n",
              "3  855466461296504832  ...               1\n",
              "4  927373534652805120  ...               1\n",
              "\n",
              "[5 rows x 4 columns]"
            ]
          },
          "metadata": {},
          "output_type": "display_data"
        }
      ],
      "source": [
        "df_val = construct_df(load_data_lists('valid.txt'), COLUMN_NAMES + ['Sarcastic_human'])\n",
        "print(df_val.shape)\n",
        "print(df_val.info())\n",
        "\n",
        "display(df_val.head())"
      ],
      "id": "0248226d"
    },
    {
      "cell_type": "code",
      "execution_count": null,
      "metadata": {
        "colab": {
          "base_uri": "https://localhost:8080/",
          "height": 466
        },
        "id": "4ac1aad0",
        "outputId": "71610e61-d3d5-4f32-aed5-e5213be8f735"
      },
      "outputs": [
        {
          "name": "stdout",
          "output_type": "stream",
          "text": [
            "Found 2409 lines in \"test.txt\".\n",
            "Successfully loaded 2409 data points from \"test.txt\".\n",
            "(2409, 4)\n",
            "<class 'pandas.core.frame.DataFrame'>\n",
            "RangeIndex: 2409 entries, 0 to 2408\n",
            "Data columns (total 4 columns):\n",
            " #   Column           Non-Null Count  Dtype \n",
            "---  ------           --------------  ----- \n",
            " 0   ID               2409 non-null   int64 \n",
            " 1   Text             2409 non-null   object\n",
            " 2   Sarcastic        2409 non-null   bool  \n",
            " 3   Sarcastic_human  2409 non-null   int64 \n",
            "dtypes: bool(1), int64(2), object(1)\n",
            "memory usage: 58.9+ KB\n",
            "None\n"
          ]
        },
        {
          "data": {
            "text/html": [
              "<div>\n",
              "<style scoped>\n",
              "    .dataframe tbody tr th:only-of-type {\n",
              "        vertical-align: middle;\n",
              "    }\n",
              "\n",
              "    .dataframe tbody tr th {\n",
              "        vertical-align: top;\n",
              "    }\n",
              "\n",
              "    .dataframe thead th {\n",
              "        text-align: right;\n",
              "    }\n",
              "</style>\n",
              "<table border=\"1\" class=\"dataframe\">\n",
              "  <thead>\n",
              "    <tr style=\"text-align: right;\">\n",
              "      <th></th>\n",
              "      <th>ID</th>\n",
              "      <th>Text</th>\n",
              "      <th>Sarcastic</th>\n",
              "      <th>Sarcastic_human</th>\n",
              "    </tr>\n",
              "  </thead>\n",
              "  <tbody>\n",
              "    <tr>\n",
              "      <th>0</th>\n",
              "      <td>862902619928506372</td>\n",
              "      <td>i am guessing # netflix no longer lets you gra...</td>\n",
              "      <td>True</td>\n",
              "      <td>1</td>\n",
              "    </tr>\n",
              "    <tr>\n",
              "      <th>1</th>\n",
              "      <td>892551658487631873</td>\n",
              "      <td>it 's the insensitive strikeouts at suntrust p...</td>\n",
              "      <td>True</td>\n",
              "      <td>1</td>\n",
              "    </tr>\n",
              "    <tr>\n",
              "      <th>2</th>\n",
              "      <td>853143461360480256</td>\n",
              "      <td>following the path of the river calder , so .....</td>\n",
              "      <td>True</td>\n",
              "      <td>1</td>\n",
              "    </tr>\n",
              "    <tr>\n",
              "      <th>3</th>\n",
              "      <td>918423568823840768</td>\n",
              "      <td># westernsahara # authority has no lessons 2ge...</td>\n",
              "      <td>True</td>\n",
              "      <td>1</td>\n",
              "    </tr>\n",
              "    <tr>\n",
              "      <th>4</th>\n",
              "      <td>731617467718610944</td>\n",
              "      <td>hey &lt;user&gt; great sale !</td>\n",
              "      <td>True</td>\n",
              "      <td>1</td>\n",
              "    </tr>\n",
              "  </tbody>\n",
              "</table>\n",
              "</div>"
            ],
            "text/plain": [
              "                   ID  ... Sarcastic_human\n",
              "0  862902619928506372  ...               1\n",
              "1  892551658487631873  ...               1\n",
              "2  853143461360480256  ...               1\n",
              "3  918423568823840768  ...               1\n",
              "4  731617467718610944  ...               1\n",
              "\n",
              "[5 rows x 4 columns]"
            ]
          },
          "metadata": {},
          "output_type": "display_data"
        }
      ],
      "source": [
        "df_test = construct_df(load_data_lists('test.txt'), COLUMN_NAMES + ['Sarcastic_human'])\n",
        "print(df_test.shape)\n",
        "print(df_test.info())\n",
        "\n",
        "display(df_test.head())"
      ],
      "id": "4ac1aad0"
    },
    {
      "cell_type": "code",
      "execution_count": null,
      "metadata": {
        "colab": {
          "base_uri": "https://localhost:8080/"
        },
        "id": "bcb72150",
        "outputId": "cea3c736-0837-4e60-a3a6-30aa70747547"
      },
      "outputs": [
        {
          "name": "stdout",
          "output_type": "stream",
          "text": [
            "Downloading...\n",
            "From: https://drive.google.com/uc?id=1dJERrVlp7DlNSXk-uvbbG6Rv7uvqTOKd\n",
            "To: /content/dataset_image.z01\n",
            "100% 734M/734M [00:03<00:00, 241MB/s]\n"
          ]
        }
      ],
      "source": [
        "!gdown --id 1dJERrVlp7DlNSXk-uvbbG6Rv7uvqTOKd\n"
      ],
      "id": "bcb72150"
    },
    {
      "cell_type": "code",
      "execution_count": null,
      "metadata": {
        "colab": {
          "base_uri": "https://localhost:8080/"
        },
        "id": "9b76ea76",
        "outputId": "caef0120-208c-45a2-d718-df672ae7b0d2"
      },
      "outputs": [
        {
          "name": "stdout",
          "output_type": "stream",
          "text": [
            "Downloading...\n",
            "From: https://drive.google.com/uc?id=1pODuKC4gP6-QDQonG8XTqI8w8ds68mE3\n",
            "To: /content/dataset_image.z02\n",
            "100% 734M/734M [00:03<00:00, 230MB/s]\n"
          ]
        }
      ],
      "source": [
        "!gdown --id 1pODuKC4gP6-QDQonG8XTqI8w8ds68mE3\n"
      ],
      "id": "9b76ea76"
    },
    {
      "cell_type": "code",
      "execution_count": null,
      "metadata": {
        "colab": {
          "base_uri": "https://localhost:8080/"
        },
        "id": "bc266e44",
        "outputId": "0617104e-3a34-4295-aa9b-930b1914f167"
      },
      "outputs": [
        {
          "name": "stdout",
          "output_type": "stream",
          "text": [
            "Downloading...\n",
            "From: https://drive.google.com/uc?id=1mK0Nf-jv_h2bgHUCRM4_EsdTiiitZ_Uj\n",
            "To: /content/dataset_image.z03\n",
            "100% 734M/734M [00:07<00:00, 97.1MB/s]\n"
          ]
        }
      ],
      "source": [
        "!gdown --id 1mK0Nf-jv_h2bgHUCRM4_EsdTiiitZ_Uj\n"
      ],
      "id": "bc266e44"
    },
    {
      "cell_type": "code",
      "execution_count": null,
      "metadata": {
        "colab": {
          "base_uri": "https://localhost:8080/"
        },
        "id": "f0ee9967",
        "outputId": "12caeef8-2656-40cd-d4a8-eb6f506daa1c"
      },
      "outputs": [
        {
          "name": "stdout",
          "output_type": "stream",
          "text": [
            "Downloading...\n",
            "From: https://drive.google.com/uc?id=1AOWzlOz5hmdO39dEmzhQ4z_nabgzi7Tu\n",
            "To: /content/dataset_image.zip\n",
            "100% 460M/460M [00:03<00:00, 132MB/s] \n"
          ]
        }
      ],
      "source": [
        "!gdown --id 1AOWzlOz5hmdO39dEmzhQ4z_nabgzi7Tu\n"
      ],
      "id": "f0ee9967"
    },
    {
      "cell_type": "code",
      "execution_count": null,
      "metadata": {
        "id": "20d6afb2"
      },
      "outputs": [],
      "source": [
        "%%capture\n",
        "!zip -FF dataset_image.zip --out dataset_image_full.zip\n",
        "!unzip -FF dataset_image_full.zip -d /content"
      ],
      "id": "20d6afb2"
    },
    {
      "cell_type": "code",
      "execution_count": null,
      "metadata": {
        "id": "0079d285"
      },
      "outputs": [],
      "source": [
        "# Create subdirectories\n",
        "import os\n",
        "import shutil\n",
        "\n",
        "train_dir = 'dataset_image/train/'\n",
        "val_dir = 'dataset_image/val/'\n",
        "test_dir = 'dataset_image/test/'\n",
        "\n",
        "os.mkdir(train_dir)\n",
        "os.mkdir(val_dir)\n",
        "os.mkdir(test_dir)"
      ],
      "id": "0079d285"
    },
    {
      "cell_type": "code",
      "execution_count": null,
      "metadata": {
        "id": "545777f7"
      },
      "outputs": [],
      "source": [
        "missing_ids = []\n",
        "\n",
        "for id in df_train['ID']:\n",
        "    img_path = 'dataset_image/{}.jpg'.format(id)\n",
        "    if os.path.isfile(img_path):\n",
        "      shutil.move(img_path, 'dataset_image/train/{}.jpg'.format(id))\n",
        "    else:\n",
        "        missing_ids.append(id)"
      ],
      "id": "545777f7"
    },
    {
      "cell_type": "code",
      "execution_count": null,
      "metadata": {
        "colab": {
          "base_uri": "https://localhost:8080/"
        },
        "id": "964b156c",
        "outputId": "f8afa8db-776b-4b4a-b8de-69c4a164fa9a"
      },
      "outputs": [
        {
          "data": {
            "text/plain": [
              "9224"
            ]
          },
          "execution_count": 14,
          "metadata": {},
          "output_type": "execute_result"
        }
      ],
      "source": [
        "len(missing_ids)\n"
      ],
      "id": "964b156c"
    },
    {
      "cell_type": "code",
      "execution_count": null,
      "metadata": {
        "colab": {
          "base_uri": "https://localhost:8080/"
        },
        "id": "b3d6eea6",
        "outputId": "b463ed80-80f2-4a66-f795-28c67c4a6713"
      },
      "outputs": [
        {
          "data": {
            "text/plain": [
              "(19816, 3)"
            ]
          },
          "execution_count": 15,
          "metadata": {},
          "output_type": "execute_result"
        }
      ],
      "source": [
        "df_train = df_train[~df_train['ID'].isin(missing_ids)]\n",
        "df_train.shape"
      ],
      "id": "b3d6eea6"
    },
    {
      "cell_type": "code",
      "execution_count": null,
      "metadata": {
        "id": "243a0b43"
      },
      "outputs": [],
      "source": [
        "for id in df_val['ID']:\n",
        "    img_path = 'dataset_image/{}.jpg'.format(id)\n",
        "    if os.path.isfile(img_path):\n",
        "      shutil.move(img_path, 'dataset_image/val/{}.jpg'.format(id))"
      ],
      "id": "243a0b43"
    },
    {
      "cell_type": "code",
      "execution_count": null,
      "metadata": {
        "id": "d0a17319"
      },
      "outputs": [],
      "source": [
        "for id in df_test['ID']:\n",
        "    img_path = 'dataset_image/{}.jpg'.format(id)\n",
        "    if os.path.isfile(img_path):\n",
        "      shutil.move(img_path, 'dataset_image/test/{}.jpg'.format(id))"
      ],
      "id": "d0a17319"
    },
    {
      "cell_type": "code",
      "execution_count": null,
      "metadata": {
        "id": "88d9e933"
      },
      "outputs": [],
      "source": [
        "os.mkdir('dataset_image/train/sarc/')\n",
        "os.mkdir('dataset_image/train/non-sarc/')\n",
        "os.mkdir('dataset_image/val/sarc/')\n",
        "os.mkdir('dataset_image/val/non-sarc/')\n",
        "os.mkdir('dataset_image/test/sarc/')\n",
        "os.mkdir('dataset_image/test/non-sarc/')"
      ],
      "id": "88d9e933"
    },
    {
      "cell_type": "code",
      "execution_count": null,
      "metadata": {
        "id": "a5272b4e"
      },
      "outputs": [],
      "source": [
        "class_foldername = {\n",
        "    True: 'sarc',\n",
        "    False: 'non-sarc'\n",
        "}"
      ],
      "id": "a5272b4e"
    },
    {
      "cell_type": "code",
      "execution_count": null,
      "metadata": {
        "id": "4669d1b4"
      },
      "outputs": [],
      "source": [
        "# Move images to subfolders\n",
        "for id,label in zip(df_train['ID'], df_train['Sarcastic']):\n",
        "    shutil.move('dataset_image/train/{}.jpg'.format(id), 'dataset_image/train/{}/{}.jpg'.format(class_foldername[label], id))"
      ],
      "id": "4669d1b4"
    },
    {
      "cell_type": "code",
      "execution_count": null,
      "metadata": {
        "id": "2c4bb97a"
      },
      "outputs": [],
      "source": [
        "# Move images to subfolders\n",
        "for id,label in zip(df_val['ID'], df_val['Sarcastic']):\n",
        "    shutil.move('dataset_image/val/{}.jpg'.format(id), 'dataset_image/val/{}/{}.jpg'.format(class_foldername[label], id))\n"
      ],
      "id": "2c4bb97a"
    },
    {
      "cell_type": "code",
      "execution_count": null,
      "metadata": {
        "id": "aeffa38c"
      },
      "outputs": [],
      "source": [
        "normalize = transforms.Normalize(mean=[0.485, 0.456, 0.406],\n",
        "                                 std=[0.229, 0.224, 0.225])\n",
        "\n",
        "data_transforms = {\n",
        "    'train':\n",
        "    transforms.Compose([\n",
        "        transforms.Resize((224,224)),\n",
        "        transforms.RandomAffine(0, shear=10, scale=(0.8,1.2)),\n",
        "        transforms.RandomHorizontalFlip(),\n",
        "        transforms.ToTensor(),\n",
        "        normalize\n",
        "    ]),\n",
        "    'validation':\n",
        "    transforms.Compose([\n",
        "        transforms.Resize((224,224)),\n",
        "        transforms.ToTensor(),\n",
        "        normalize\n",
        "    ]),\n",
        "}\n",
        "\n",
        "image_datasets = {\n",
        "    'train': \n",
        "    datasets.ImageFolder('dataset_image/train', data_transforms['train']),\n",
        "    'validation': \n",
        "    datasets.ImageFolder('dataset_image/val', data_transforms['validation'])\n",
        "}\n",
        "\n",
        "image_dataloaders = {\n",
        "    'train':\n",
        "    torch.utils.data.DataLoader(image_datasets['train'],\n",
        "                                batch_size=64,\n",
        "                                shuffle=True),\n",
        "    'validation':\n",
        "    torch.utils.data.DataLoader(image_datasets['validation'],\n",
        "                                batch_size=64,\n",
        "                                shuffle=False)\n",
        "}"
      ],
      "id": "aeffa38c"
    },
    {
      "cell_type": "code",
      "execution_count": null,
      "metadata": {
        "id": "d82f739d"
      },
      "outputs": [],
      "source": [
        "# dataloader for txt data\n",
        "from transformers import AutoModel, AutoTokenizer\n",
        "\n",
        "from sklearn.utils import shuffle\n",
        "from transformers import (get_linear_schedule_with_warmup,AdamW,AutoModel, AutoTokenizer,\n",
        "                            AutoModelForSequenceClassification)\n",
        "from torch.utils.data import (TensorDataset,DataLoader,\n",
        "                             RandomSampler, SequentialSampler, Dataset)\n",
        "\n",
        "\n",
        "train_df = shuffle(df_train, random_state=42)\n",
        "valid_df = shuffle(df_val, random_state=42)\n",
        "test_df = shuffle(df_test, random_state=42)"
      ],
      "id": "d82f739d"
    },
    {
      "cell_type": "code",
      "execution_count": null,
      "metadata": {
        "colab": {
          "base_uri": "https://localhost:8080/",
          "height": 321,
          "referenced_widgets": [
            "0a519ca62dd84d68be2c600ffa6c4f28",
            "256de6f8ddc54ebfb1e4acc451b458ca",
            "df6d12df396641a396da7ee9a51be088",
            "94e237c12aa1488fad93025f9f91f2d2",
            "fda967879a1046a0ba6f73115fbb7b4e",
            "84e45862642f4b099f2fd11c6e10500a",
            "5357a30033a54da2ab3e3fca290c41ba",
            "16a89eaf656d46f2bc2f22b5b4ae6900",
            "2d9397e95b0244a798ec732594411b4a",
            "5424c846ab874e53b8680c8260047bee",
            "d15f3e2a57c7476db016b8fa10f624a4",
            "c74d326477a849978db03d8e3fcf15fe",
            "f6742dfffbc64bb4afb7c3c967ded205",
            "a16565c060a04729bfa9d143d1a1b415",
            "1b2b4b4d3c19472e967b710dc7e6bccc",
            "a73b4d2580ad4431ae04033378ffc55e",
            "cb78dde0ada341f4a48b8cdcea7bfaa2",
            "4fde104cd8b34bce97d3383337ece4ef",
            "16b56d95333948ce8842cd181bcf19fb",
            "0c026a9756c04a52aec0d4268d4d1ef5",
            "35bbdc64f8c54f62a62d187e16b338da",
            "3bda15683ba9402b978a37e67176750e",
            "e498f4541b6741bab4df09af30d6e807",
            "3541a3ef3fc0452baefbf0b82a25cc38",
            "46287b9b2d7e4980a928b337f131a150",
            "ef3d0000e9f24b3f87f64626251bfe4d",
            "c6cc3b19470d4848abbce9c1f22356fc",
            "784bdf7830484c4784bd82eedb315d96",
            "642ffcb9f96b466581a988300889d397",
            "353c8e09dafe41a8b0d8466664a0d5b5",
            "e0741ba361b5430499bbc8e07b2d0b6f",
            "5c3e03f4541441a080654a25426ef61a",
            "609649c407704df588821b48819a3b7b",
            "b6aa91b2e78c4db193abfad4559519fa",
            "e83f91c6ebdb456a9c8f9919f0f68ff9",
            "33fbce7fca3b4cbea08917b28162a698",
            "2621219d644045bc947a031f12c69b69",
            "35a9c20a400749ffb90be6f8c0165f9a",
            "6d12f1d76e934874b68f1fb5fb396ff0",
            "72563aba14504c3eab2ea4a36558e588",
            "3419ed5f6d0d47ee88fc7a92d0f2139c",
            "b52b43b2d5c34283a75fce0ec165ad9e",
            "f3cc8ebc16e14d54888d16403ff11418",
            "b9b6865e0c624532a410d0ffc00924f4"
          ]
        },
        "id": "d69b2124",
        "outputId": "666d15ed-c982-41ac-9bc8-fd92239b4652"
      },
      "outputs": [
        {
          "data": {
            "application/vnd.jupyter.widget-view+json": {
              "model_id": "0a519ca62dd84d68be2c600ffa6c4f28",
              "version_major": 2,
              "version_minor": 0
            },
            "text/plain": [
              "Downloading:   0%|          | 0.00/558 [00:00<?, ?B/s]"
            ]
          },
          "metadata": {},
          "output_type": "display_data"
        },
        {
          "data": {
            "application/vnd.jupyter.widget-view+json": {
              "model_id": "c74d326477a849978db03d8e3fcf15fe",
              "version_major": 2,
              "version_minor": 0
            },
            "text/plain": [
              "Downloading:   0%|          | 0.00/517M [00:00<?, ?B/s]"
            ]
          },
          "metadata": {},
          "output_type": "display_data"
        },
        {
          "name": "stderr",
          "output_type": "stream",
          "text": [
            "Some weights of the model checkpoint at vinai/bertweet-base were not used when initializing RobertaModel: ['lm_head.dense.bias', 'lm_head.decoder.weight', 'lm_head.layer_norm.bias', 'lm_head.dense.weight', 'lm_head.layer_norm.weight', 'lm_head.decoder.bias', 'lm_head.bias']\n",
            "- This IS expected if you are initializing RobertaModel from the checkpoint of a model trained on another task or with another architecture (e.g. initializing a BertForSequenceClassification model from a BertForPreTraining model).\n",
            "- This IS NOT expected if you are initializing RobertaModel from the checkpoint of a model that you expect to be exactly identical (initializing a BertForSequenceClassification model from a BertForSequenceClassification model).\n"
          ]
        },
        {
          "data": {
            "application/vnd.jupyter.widget-view+json": {
              "model_id": "e498f4541b6741bab4df09af30d6e807",
              "version_major": 2,
              "version_minor": 0
            },
            "text/plain": [
              "Downloading:   0%|          | 0.00/824k [00:00<?, ?B/s]"
            ]
          },
          "metadata": {},
          "output_type": "display_data"
        },
        {
          "data": {
            "application/vnd.jupyter.widget-view+json": {
              "model_id": "b6aa91b2e78c4db193abfad4559519fa",
              "version_major": 2,
              "version_minor": 0
            },
            "text/plain": [
              "Downloading:   0%|          | 0.00/1.03M [00:00<?, ?B/s]"
            ]
          },
          "metadata": {},
          "output_type": "display_data"
        },
        {
          "name": "stderr",
          "output_type": "stream",
          "text": [
            "Special tokens have been added in the vocabulary, make sure the associated word embeddings are fine-tuned or trained.\n",
            "Some weights of the model checkpoint at vinai/bertweet-base were not used when initializing RobertaForSequenceClassification: ['lm_head.dense.bias', 'lm_head.layer_norm.bias', 'lm_head.decoder.weight', 'lm_head.dense.weight', 'lm_head.layer_norm.weight', 'lm_head.decoder.bias', 'lm_head.bias', 'roberta.pooler.dense.weight', 'roberta.pooler.dense.bias']\n",
            "- This IS expected if you are initializing RobertaForSequenceClassification from the checkpoint of a model trained on another task or with another architecture (e.g. initializing a BertForSequenceClassification model from a BertForPreTraining model).\n",
            "- This IS NOT expected if you are initializing RobertaForSequenceClassification from the checkpoint of a model that you expect to be exactly identical (initializing a BertForSequenceClassification model from a BertForSequenceClassification model).\n",
            "Some weights of RobertaForSequenceClassification were not initialized from the model checkpoint at vinai/bertweet-base and are newly initialized: ['classifier.dense.weight', 'classifier.dense.bias', 'classifier.out_proj.weight', 'classifier.out_proj.bias']\n",
            "You should probably TRAIN this model on a down-stream task to be able to use it for predictions and inference.\n"
          ]
        }
      ],
      "source": [
        "bertweet = AutoModel.from_pretrained(\"vinai/bertweet-base\")\n",
        "tokenizer = AutoTokenizer.from_pretrained(\"vinai/bertweet-base\", use_fast=False)\n",
        "\n",
        "text_model = AutoModelForSequenceClassification.from_pretrained(\n",
        "    \"vinai/bertweet-base\",\n",
        "        num_labels = 2,  \n",
        "        output_attentions = False, \n",
        "        output_hidden_states = True,\n",
        "    )"
      ],
      "id": "d69b2124"
    },
    {
      "cell_type": "code",
      "execution_count": null,
      "metadata": {
        "id": "86d8cd9a"
      },
      "outputs": [],
      "source": [
        "def bert_encode(df, tokenizer):\n",
        "    input_ids = []\n",
        "    attention_masks = []\n",
        "    # print(df)\n",
        "    for sent,obj in zip(df[['Text']].values,df[\"object\"].values):\n",
        "        sent = sent.item()\n",
        "        #print(\"sent\")\n",
        "        #print(sent)\n",
        "        #obj = obj.item()\n",
        "        #print(obj)\n",
        "        sent = obj+sent\n",
        "        # print(\"combined\")\n",
        "        # print(sent)\n",
        "        encoded_dict = tokenizer.encode_plus(\n",
        "                            sent,                      \n",
        "                            add_special_tokens = True, \n",
        "                            max_length = 128,           \n",
        "                            pad_to_max_length = True,\n",
        "                            truncation = True,\n",
        "                            return_attention_mask = True,   \n",
        "                            return_tensors = 'pt',    \n",
        "                    )\n",
        "           \n",
        "        input_ids.append(encoded_dict['input_ids'])\n",
        "        attention_masks.append(encoded_dict['attention_mask'])\n",
        "    input_ids = torch.cat(input_ids, dim=0)\n",
        "    attention_masks = torch.cat(attention_masks, dim=0)\n",
        "\n",
        "    inputs = {\n",
        "    'input_word_ids': input_ids,\n",
        "    'input_mask': attention_masks}\n",
        "\n",
        "    return inputs"
      ],
      "id": "86d8cd9a"
    },
    {
      "cell_type": "code",
      "execution_count": null,
      "metadata": {
        "id": "25b6d6c4"
      },
      "outputs": [],
      "source": [
        "from torch.utils.data import (TensorDataset,DataLoader,\n",
        "                             RandomSampler, SequentialSampler, Dataset)\n",
        "\n",
        "def prepare_dataloaders(train_df,test_df,batch_size=64):\n",
        "    # Load the AutoTokenizer with a normalization mode if the input Tweet is raw\n",
        "    \n",
        "    tokenizer = AutoTokenizer.from_pretrained(\"vinai/bertweet-base\", use_fast=False, normalization=True)\n",
        "    \n",
        "    tweet_train = bert_encode(train_df, tokenizer)\n",
        "    tweet_train_labels = train_df['Sarcastic'].astype(int)\n",
        "    \n",
        "    tweet_test = bert_encode(test_df, tokenizer)\n",
        "\n",
        "    input_ids, attention_masks = tweet_train.values()\n",
        "    labels = torch.tensor(tweet_train_labels.values)\n",
        "    train_dataset = TensorDataset(input_ids, attention_masks, labels)\n",
        "\n",
        "    \n",
        "    input_ids, attention_masks = tweet_test.values()\n",
        "    test_dataset = TensorDataset(input_ids, attention_masks)\n",
        "\n",
        "    \n",
        "    train_dataloader = DataLoader(\n",
        "                train_dataset,\n",
        "                sampler = RandomSampler(train_dataset), \n",
        "                batch_size = batch_size \n",
        "            )\n",
        "\n",
        "\n",
        "    test_dataloader = DataLoader(\n",
        "                test_dataset, \n",
        "                sampler = SequentialSampler(test_dataset), \n",
        "                batch_size = batch_size\n",
        "            )\n",
        "    return train_dataloader, test_dataloader"
      ],
      "id": "25b6d6c4"
    },
    {
      "cell_type": "code",
      "execution_count": null,
      "metadata": {
        "id": "9d89a5e5"
      },
      "outputs": [],
      "source": [
        "#text_train_dataloader,text_test_dataloader = prepare_dataloaders(train_df, test_df)\n",
        "#_,text_val_dataloader = prepare_dataloaders(train_df, valid_df)\n"
      ],
      "id": "9d89a5e5"
    },
    {
      "cell_type": "code",
      "execution_count": null,
      "metadata": {
        "colab": {
          "base_uri": "https://localhost:8080/"
        },
        "id": "39749b5a",
        "outputId": "c33d8eaf-d07c-4129-80df-0e89e63d52cd"
      },
      "outputs": [
        {
          "data": {
            "text/plain": [
              "device(type='cuda')"
            ]
          },
          "execution_count": 28,
          "metadata": {},
          "output_type": "execute_result"
        }
      ],
      "source": [
        "device = torch.device(\"cuda\" if torch.cuda.is_available() else \"cpu\")\n",
        "device"
      ],
      "id": "39749b5a"
    },
    {
      "cell_type": "code",
      "execution_count": null,
      "metadata": {
        "colab": {
          "base_uri": "https://localhost:8080/",
          "height": 362
        },
        "id": "TcXuzo_4wAIL",
        "outputId": "95cad8ef-3ee8-4eb0-a48a-5f334c7adbe6"
      },
      "outputs": [
        {
          "name": "stdout",
          "output_type": "stream",
          "text": [
            "<class 'pandas.core.frame.DataFrame'>\n",
            "RangeIndex: 19816 entries, 0 to 19815\n",
            "Data columns (total 2 columns):\n",
            " #   Column   Non-Null Count  Dtype \n",
            "---  ------   --------------  ----- \n",
            " 0   ID       19816 non-null  int64 \n",
            " 1   objects  19816 non-null  object\n",
            "dtypes: int64(1), object(1)\n",
            "memory usage: 309.8+ KB\n"
          ]
        },
        {
          "data": {
            "text/html": [
              "<div>\n",
              "<style scoped>\n",
              "    .dataframe tbody tr th:only-of-type {\n",
              "        vertical-align: middle;\n",
              "    }\n",
              "\n",
              "    .dataframe tbody tr th {\n",
              "        vertical-align: top;\n",
              "    }\n",
              "\n",
              "    .dataframe thead th {\n",
              "        text-align: right;\n",
              "    }\n",
              "</style>\n",
              "<table border=\"1\" class=\"dataframe\">\n",
              "  <thead>\n",
              "    <tr style=\"text-align: right;\">\n",
              "      <th></th>\n",
              "      <th>ID</th>\n",
              "      <th>objects</th>\n",
              "    </tr>\n",
              "  </thead>\n",
              "  <tbody>\n",
              "    <tr>\n",
              "      <th>0</th>\n",
              "      <td>840006160660983809</td>\n",
              "      <td>['tvmonitor']</td>\n",
              "    </tr>\n",
              "    <tr>\n",
              "      <th>1</th>\n",
              "      <td>908913372199915520</td>\n",
              "      <td>['zebra', 'cow']</td>\n",
              "    </tr>\n",
              "    <tr>\n",
              "      <th>2</th>\n",
              "      <td>916496521406726145</td>\n",
              "      <td>['train']</td>\n",
              "    </tr>\n",
              "    <tr>\n",
              "      <th>3</th>\n",
              "      <td>916364004129304576</td>\n",
              "      <td>[]</td>\n",
              "    </tr>\n",
              "    <tr>\n",
              "      <th>4</th>\n",
              "      <td>853866052589154304</td>\n",
              "      <td>[]</td>\n",
              "    </tr>\n",
              "  </tbody>\n",
              "</table>\n",
              "</div>"
            ],
            "text/plain": [
              "                   ID           objects\n",
              "0  840006160660983809     ['tvmonitor']\n",
              "1  908913372199915520  ['zebra', 'cow']\n",
              "2  916496521406726145         ['train']\n",
              "3  916364004129304576                []\n",
              "4  853866052589154304                []"
            ]
          },
          "execution_count": 29,
          "metadata": {},
          "output_type": "execute_result"
        }
      ],
      "source": [
        "import pandas as pd\n",
        "\n",
        "train_objects = pd.read_csv('object_image2.csv', header=None, names=['ID', 'objects'])\n",
        "\n",
        "train_objects.info()\n",
        "train_objects.head()"
      ],
      "id": "TcXuzo_4wAIL"
    },
    {
      "cell_type": "code",
      "execution_count": null,
      "metadata": {
        "colab": {
          "base_uri": "https://localhost:8080/",
          "height": 206
        },
        "id": "Kf91pwGfpot3",
        "outputId": "ee117b55-117b-4286-e8f7-1bf441b1c66d"
      },
      "outputs": [
        {
          "data": {
            "text/html": [
              "<div>\n",
              "<style scoped>\n",
              "    .dataframe tbody tr th:only-of-type {\n",
              "        vertical-align: middle;\n",
              "    }\n",
              "\n",
              "    .dataframe tbody tr th {\n",
              "        vertical-align: top;\n",
              "    }\n",
              "\n",
              "    .dataframe thead th {\n",
              "        text-align: right;\n",
              "    }\n",
              "</style>\n",
              "<table border=\"1\" class=\"dataframe\">\n",
              "  <thead>\n",
              "    <tr style=\"text-align: right;\">\n",
              "      <th></th>\n",
              "      <th>ID</th>\n",
              "      <th>Text</th>\n",
              "      <th>Sarcastic</th>\n",
              "      <th>object</th>\n",
              "    </tr>\n",
              "  </thead>\n",
              "  <tbody>\n",
              "    <tr>\n",
              "      <th>2456</th>\n",
              "      <td>818244815624302594</td>\n",
              "      <td>2 win a free pair of tickets to the rockets vs...</td>\n",
              "      <td>False</td>\n",
              "      <td>['bus']</td>\n",
              "    </tr>\n",
              "    <tr>\n",
              "      <th>847</th>\n",
              "      <td>709583015987445760</td>\n",
              "      <td>thanks &lt;user&gt; for all the pepper . i really en...</td>\n",
              "      <td>True</td>\n",
              "      <td>['sandwich']</td>\n",
              "    </tr>\n",
              "    <tr>\n",
              "      <th>26717</th>\n",
              "      <td>684979497074991104</td>\n",
              "      <td>these things go well together</td>\n",
              "      <td>True</td>\n",
              "      <td>[]</td>\n",
              "    </tr>\n",
              "    <tr>\n",
              "      <th>14159</th>\n",
              "      <td>820051629370052608</td>\n",
              "      <td>appreciate this evolution</td>\n",
              "      <td>False</td>\n",
              "      <td>['person']</td>\n",
              "    </tr>\n",
              "    <tr>\n",
              "      <th>16161</th>\n",
              "      <td>871151361047445504</td>\n",
              "      <td>this is what lambie is like ? i would never ha...</td>\n",
              "      <td>True</td>\n",
              "      <td>['refrigerator']</td>\n",
              "    </tr>\n",
              "  </tbody>\n",
              "</table>\n",
              "</div>"
            ],
            "text/plain": [
              "                       ID  ...            object\n",
              "2456   818244815624302594  ...           ['bus']\n",
              "847    709583015987445760  ...      ['sandwich']\n",
              "26717  684979497074991104  ...                []\n",
              "14159  820051629370052608  ...        ['person']\n",
              "16161  871151361047445504  ...  ['refrigerator']\n",
              "\n",
              "[5 rows x 4 columns]"
            ]
          },
          "execution_count": 30,
          "metadata": {},
          "output_type": "execute_result"
        }
      ],
      "source": [
        "for _, row in train_objects.iterrows():\n",
        "    train_df.loc[train_df[\"ID\"] == int(row['ID']),'object'] = row['objects']  \n",
        "\n",
        "train_df.head()"
      ],
      "id": "Kf91pwGfpot3"
    },
    {
      "cell_type": "code",
      "execution_count": null,
      "metadata": {
        "colab": {
          "base_uri": "https://localhost:8080/",
          "height": 206
        },
        "id": "ylWQ21Lfr2eA",
        "outputId": "bec45496-0952-4625-e2f2-b540af932f96"
      },
      "outputs": [
        {
          "data": {
            "text/html": [
              "<div>\n",
              "<style scoped>\n",
              "    .dataframe tbody tr th:only-of-type {\n",
              "        vertical-align: middle;\n",
              "    }\n",
              "\n",
              "    .dataframe tbody tr th {\n",
              "        vertical-align: top;\n",
              "    }\n",
              "\n",
              "    .dataframe thead th {\n",
              "        text-align: right;\n",
              "    }\n",
              "</style>\n",
              "<table border=\"1\" class=\"dataframe\">\n",
              "  <thead>\n",
              "    <tr style=\"text-align: right;\">\n",
              "      <th></th>\n",
              "      <th>ID</th>\n",
              "      <th>Text</th>\n",
              "      <th>Sarcastic</th>\n",
              "      <th>object</th>\n",
              "    </tr>\n",
              "  </thead>\n",
              "  <tbody>\n",
              "    <tr>\n",
              "      <th>2456</th>\n",
              "      <td>818244815624302594</td>\n",
              "      <td>2 win a free pair of tickets to the rockets vs...</td>\n",
              "      <td>False</td>\n",
              "      <td>'bus'</td>\n",
              "    </tr>\n",
              "    <tr>\n",
              "      <th>847</th>\n",
              "      <td>709583015987445760</td>\n",
              "      <td>thanks &lt;user&gt; for all the pepper . i really en...</td>\n",
              "      <td>True</td>\n",
              "      <td>'sandwich'</td>\n",
              "    </tr>\n",
              "    <tr>\n",
              "      <th>26717</th>\n",
              "      <td>684979497074991104</td>\n",
              "      <td>these things go well together</td>\n",
              "      <td>True</td>\n",
              "      <td></td>\n",
              "    </tr>\n",
              "    <tr>\n",
              "      <th>14159</th>\n",
              "      <td>820051629370052608</td>\n",
              "      <td>appreciate this evolution</td>\n",
              "      <td>False</td>\n",
              "      <td>'person'</td>\n",
              "    </tr>\n",
              "    <tr>\n",
              "      <th>16161</th>\n",
              "      <td>871151361047445504</td>\n",
              "      <td>this is what lambie is like ? i would never ha...</td>\n",
              "      <td>True</td>\n",
              "      <td>'refrigerator'</td>\n",
              "    </tr>\n",
              "  </tbody>\n",
              "</table>\n",
              "</div>"
            ],
            "text/plain": [
              "                       ID  ...          object\n",
              "2456   818244815624302594  ...           'bus'\n",
              "847    709583015987445760  ...      'sandwich'\n",
              "26717  684979497074991104  ...                \n",
              "14159  820051629370052608  ...        'person'\n",
              "16161  871151361047445504  ...  'refrigerator'\n",
              "\n",
              "[5 rows x 4 columns]"
            ]
          },
          "execution_count": 31,
          "metadata": {},
          "output_type": "execute_result"
        }
      ],
      "source": [
        "train_df['object'] = train_df['object'].apply(lambda x: x[1:-1])\n",
        "train_df.head()"
      ],
      "id": "ylWQ21Lfr2eA"
    },
    {
      "cell_type": "code",
      "execution_count": null,
      "metadata": {
        "colab": {
          "base_uri": "https://localhost:8080/",
          "height": 362
        },
        "id": "lDPrcv_gpKCk",
        "outputId": "eeccb885-11db-4bd8-c83b-8cd1e60738b8"
      },
      "outputs": [
        {
          "name": "stdout",
          "output_type": "stream",
          "text": [
            "<class 'pandas.core.frame.DataFrame'>\n",
            "RangeIndex: 2410 entries, 0 to 2409\n",
            "Data columns (total 2 columns):\n",
            " #   Column   Non-Null Count  Dtype \n",
            "---  ------   --------------  ----- \n",
            " 0   ID       2410 non-null   int64 \n",
            " 1   objects  2410 non-null   object\n",
            "dtypes: int64(1), object(1)\n",
            "memory usage: 37.8+ KB\n"
          ]
        },
        {
          "data": {
            "text/html": [
              "<div>\n",
              "<style scoped>\n",
              "    .dataframe tbody tr th:only-of-type {\n",
              "        vertical-align: middle;\n",
              "    }\n",
              "\n",
              "    .dataframe tbody tr th {\n",
              "        vertical-align: top;\n",
              "    }\n",
              "\n",
              "    .dataframe thead th {\n",
              "        text-align: right;\n",
              "    }\n",
              "</style>\n",
              "<table border=\"1\" class=\"dataframe\">\n",
              "  <thead>\n",
              "    <tr style=\"text-align: right;\">\n",
              "      <th></th>\n",
              "      <th>ID</th>\n",
              "      <th>objects</th>\n",
              "    </tr>\n",
              "  </thead>\n",
              "  <tbody>\n",
              "    <tr>\n",
              "      <th>0</th>\n",
              "      <td>915657464401580032</td>\n",
              "      <td>['bicycle', 'backpack']</td>\n",
              "    </tr>\n",
              "    <tr>\n",
              "      <th>1</th>\n",
              "      <td>854678856724340736</td>\n",
              "      <td>['person', 'handbag']</td>\n",
              "    </tr>\n",
              "    <tr>\n",
              "      <th>2</th>\n",
              "      <td>904892917277274112</td>\n",
              "      <td>['laptop', 'book', 'person']</td>\n",
              "    </tr>\n",
              "    <tr>\n",
              "      <th>3</th>\n",
              "      <td>855466461296504832</td>\n",
              "      <td>['chair']</td>\n",
              "    </tr>\n",
              "    <tr>\n",
              "      <th>4</th>\n",
              "      <td>927373534652805120</td>\n",
              "      <td>['book', 'pottedplant']</td>\n",
              "    </tr>\n",
              "  </tbody>\n",
              "</table>\n",
              "</div>"
            ],
            "text/plain": [
              "                   ID                       objects\n",
              "0  915657464401580032       ['bicycle', 'backpack']\n",
              "1  854678856724340736         ['person', 'handbag']\n",
              "2  904892917277274112  ['laptop', 'book', 'person']\n",
              "3  855466461296504832                     ['chair']\n",
              "4  927373534652805120       ['book', 'pottedplant']"
            ]
          },
          "execution_count": 32,
          "metadata": {},
          "output_type": "execute_result"
        }
      ],
      "source": [
        "val_objects = pd.read_csv('object_image_val.csv', header=None, names=['ID', 'objects'])\n",
        "\n",
        "val_objects.info()\n",
        "val_objects.head()"
      ],
      "id": "lDPrcv_gpKCk"
    },
    {
      "cell_type": "code",
      "execution_count": null,
      "metadata": {
        "colab": {
          "base_uri": "https://localhost:8080/",
          "height": 206
        },
        "id": "Dt5HJt3Ep9bf",
        "outputId": "8e04710a-5857-40c0-e2fe-f86f6aa72bd1"
      },
      "outputs": [
        {
          "data": {
            "text/html": [
              "<div>\n",
              "<style scoped>\n",
              "    .dataframe tbody tr th:only-of-type {\n",
              "        vertical-align: middle;\n",
              "    }\n",
              "\n",
              "    .dataframe tbody tr th {\n",
              "        vertical-align: top;\n",
              "    }\n",
              "\n",
              "    .dataframe thead th {\n",
              "        text-align: right;\n",
              "    }\n",
              "</style>\n",
              "<table border=\"1\" class=\"dataframe\">\n",
              "  <thead>\n",
              "    <tr style=\"text-align: right;\">\n",
              "      <th></th>\n",
              "      <th>ID</th>\n",
              "      <th>Text</th>\n",
              "      <th>Sarcastic</th>\n",
              "      <th>Sarcastic_human</th>\n",
              "      <th>object</th>\n",
              "    </tr>\n",
              "  </thead>\n",
              "  <tbody>\n",
              "    <tr>\n",
              "      <th>2009</th>\n",
              "      <td>819329815048241152</td>\n",
              "      <td>welcome to the the vitale 's , whose 2 daughte...</td>\n",
              "      <td>False</td>\n",
              "      <td>0</td>\n",
              "      <td>['person', 'pottedplant', 'bench']</td>\n",
              "    </tr>\n",
              "    <tr>\n",
              "      <th>2082</th>\n",
              "      <td>819692523094470656</td>\n",
              "      <td>im cryif i love you mkre than anything in the ...</td>\n",
              "      <td>False</td>\n",
              "      <td>0</td>\n",
              "      <td>['person']</td>\n",
              "    </tr>\n",
              "    <tr>\n",
              "      <th>1684</th>\n",
              "      <td>820054764733931520</td>\n",
              "      <td>the beauty of nature</td>\n",
              "      <td>False</td>\n",
              "      <td>0</td>\n",
              "      <td>[]</td>\n",
              "    </tr>\n",
              "    <tr>\n",
              "      <th>2301</th>\n",
              "      <td>820052946788515845</td>\n",
              "      <td>i just choked</td>\n",
              "      <td>False</td>\n",
              "      <td>0</td>\n",
              "      <td>['book']</td>\n",
              "    </tr>\n",
              "    <tr>\n",
              "      <th>792</th>\n",
              "      <td>794312091402436608</td>\n",
              "      <td>yup . nearly an hour later . moved about &lt;num&gt;...</td>\n",
              "      <td>True</td>\n",
              "      <td>1</td>\n",
              "      <td>['laptop', 'person']</td>\n",
              "    </tr>\n",
              "  </tbody>\n",
              "</table>\n",
              "</div>"
            ],
            "text/plain": [
              "                      ID  ...                              object\n",
              "2009  819329815048241152  ...  ['person', 'pottedplant', 'bench']\n",
              "2082  819692523094470656  ...                          ['person']\n",
              "1684  820054764733931520  ...                                  []\n",
              "2301  820052946788515845  ...                            ['book']\n",
              "792   794312091402436608  ...                ['laptop', 'person']\n",
              "\n",
              "[5 rows x 5 columns]"
            ]
          },
          "execution_count": 33,
          "metadata": {},
          "output_type": "execute_result"
        }
      ],
      "source": [
        "for _, row in val_objects.iterrows():\n",
        "    valid_df.loc[valid_df[\"ID\"] == int(row['ID']),'object'] = row['objects']  \n",
        "\n",
        "valid_df.head()"
      ],
      "id": "Dt5HJt3Ep9bf"
    },
    {
      "cell_type": "code",
      "execution_count": null,
      "metadata": {
        "colab": {
          "base_uri": "https://localhost:8080/",
          "height": 206
        },
        "id": "zNl0IHTisxNh",
        "outputId": "6c01e1fe-ef3f-4481-9ba5-12dea247e486"
      },
      "outputs": [
        {
          "data": {
            "text/html": [
              "<div>\n",
              "<style scoped>\n",
              "    .dataframe tbody tr th:only-of-type {\n",
              "        vertical-align: middle;\n",
              "    }\n",
              "\n",
              "    .dataframe tbody tr th {\n",
              "        vertical-align: top;\n",
              "    }\n",
              "\n",
              "    .dataframe thead th {\n",
              "        text-align: right;\n",
              "    }\n",
              "</style>\n",
              "<table border=\"1\" class=\"dataframe\">\n",
              "  <thead>\n",
              "    <tr style=\"text-align: right;\">\n",
              "      <th></th>\n",
              "      <th>ID</th>\n",
              "      <th>Text</th>\n",
              "      <th>Sarcastic</th>\n",
              "      <th>Sarcastic_human</th>\n",
              "      <th>object</th>\n",
              "    </tr>\n",
              "  </thead>\n",
              "  <tbody>\n",
              "    <tr>\n",
              "      <th>2009</th>\n",
              "      <td>819329815048241152</td>\n",
              "      <td>welcome to the the vitale 's , whose 2 daughte...</td>\n",
              "      <td>False</td>\n",
              "      <td>0</td>\n",
              "      <td>'person', 'pottedplant', 'bench'</td>\n",
              "    </tr>\n",
              "    <tr>\n",
              "      <th>2082</th>\n",
              "      <td>819692523094470656</td>\n",
              "      <td>im cryif i love you mkre than anything in the ...</td>\n",
              "      <td>False</td>\n",
              "      <td>0</td>\n",
              "      <td>'person'</td>\n",
              "    </tr>\n",
              "    <tr>\n",
              "      <th>1684</th>\n",
              "      <td>820054764733931520</td>\n",
              "      <td>the beauty of nature</td>\n",
              "      <td>False</td>\n",
              "      <td>0</td>\n",
              "      <td></td>\n",
              "    </tr>\n",
              "    <tr>\n",
              "      <th>2301</th>\n",
              "      <td>820052946788515845</td>\n",
              "      <td>i just choked</td>\n",
              "      <td>False</td>\n",
              "      <td>0</td>\n",
              "      <td>'book'</td>\n",
              "    </tr>\n",
              "    <tr>\n",
              "      <th>792</th>\n",
              "      <td>794312091402436608</td>\n",
              "      <td>yup . nearly an hour later . moved about &lt;num&gt;...</td>\n",
              "      <td>True</td>\n",
              "      <td>1</td>\n",
              "      <td>'laptop', 'person'</td>\n",
              "    </tr>\n",
              "  </tbody>\n",
              "</table>\n",
              "</div>"
            ],
            "text/plain": [
              "                      ID  ...                            object\n",
              "2009  819329815048241152  ...  'person', 'pottedplant', 'bench'\n",
              "2082  819692523094470656  ...                          'person'\n",
              "1684  820054764733931520  ...                                  \n",
              "2301  820052946788515845  ...                            'book'\n",
              "792   794312091402436608  ...                'laptop', 'person'\n",
              "\n",
              "[5 rows x 5 columns]"
            ]
          },
          "execution_count": 34,
          "metadata": {},
          "output_type": "execute_result"
        }
      ],
      "source": [
        "valid_df['object'] = valid_df['object'].apply(lambda x: x[1:-1])\n",
        "valid_df.head()"
      ],
      "id": "zNl0IHTisxNh"
    },
    {
      "cell_type": "code",
      "execution_count": null,
      "metadata": {
        "colab": {
          "base_uri": "https://localhost:8080/",
          "height": 362
        },
        "id": "BX5VGsK4pOvS",
        "outputId": "7ca2e5ae-2a32-4854-c5af-ea43ccee5de8"
      },
      "outputs": [
        {
          "name": "stdout",
          "output_type": "stream",
          "text": [
            "<class 'pandas.core.frame.DataFrame'>\n",
            "RangeIndex: 2409 entries, 0 to 2408\n",
            "Data columns (total 2 columns):\n",
            " #   Column   Non-Null Count  Dtype \n",
            "---  ------   --------------  ----- \n",
            " 0   ID       2409 non-null   int64 \n",
            " 1   objects  2409 non-null   object\n",
            "dtypes: int64(1), object(1)\n",
            "memory usage: 37.8+ KB\n"
          ]
        },
        {
          "data": {
            "text/html": [
              "<div>\n",
              "<style scoped>\n",
              "    .dataframe tbody tr th:only-of-type {\n",
              "        vertical-align: middle;\n",
              "    }\n",
              "\n",
              "    .dataframe tbody tr th {\n",
              "        vertical-align: top;\n",
              "    }\n",
              "\n",
              "    .dataframe thead th {\n",
              "        text-align: right;\n",
              "    }\n",
              "</style>\n",
              "<table border=\"1\" class=\"dataframe\">\n",
              "  <thead>\n",
              "    <tr style=\"text-align: right;\">\n",
              "      <th></th>\n",
              "      <th>ID</th>\n",
              "      <th>objects</th>\n",
              "    </tr>\n",
              "  </thead>\n",
              "  <tbody>\n",
              "    <tr>\n",
              "      <th>0</th>\n",
              "      <td>862902619928506372</td>\n",
              "      <td>[]</td>\n",
              "    </tr>\n",
              "    <tr>\n",
              "      <th>1</th>\n",
              "      <td>892551658487631873</td>\n",
              "      <td>['person']</td>\n",
              "    </tr>\n",
              "    <tr>\n",
              "      <th>2</th>\n",
              "      <td>853143461360480256</td>\n",
              "      <td>['cat']</td>\n",
              "    </tr>\n",
              "    <tr>\n",
              "      <th>3</th>\n",
              "      <td>918423568823840768</td>\n",
              "      <td>['traffic light', 'book']</td>\n",
              "    </tr>\n",
              "    <tr>\n",
              "      <th>4</th>\n",
              "      <td>731617467718610944</td>\n",
              "      <td>['laptop', 'person', 'bottle']</td>\n",
              "    </tr>\n",
              "  </tbody>\n",
              "</table>\n",
              "</div>"
            ],
            "text/plain": [
              "                   ID                         objects\n",
              "0  862902619928506372                              []\n",
              "1  892551658487631873                      ['person']\n",
              "2  853143461360480256                         ['cat']\n",
              "3  918423568823840768       ['traffic light', 'book']\n",
              "4  731617467718610944  ['laptop', 'person', 'bottle']"
            ]
          },
          "execution_count": 35,
          "metadata": {},
          "output_type": "execute_result"
        }
      ],
      "source": [
        "test_objects = pd.read_csv('object_image_test.csv', header=None, names=['ID', 'objects'])\n",
        "\n",
        "test_objects.info()\n",
        "test_objects.head()"
      ],
      "id": "BX5VGsK4pOvS"
    },
    {
      "cell_type": "code",
      "execution_count": null,
      "metadata": {
        "colab": {
          "base_uri": "https://localhost:8080/",
          "height": 206
        },
        "id": "AX4NTiyxqA_w",
        "outputId": "73fd098b-33f3-4440-e21b-b9336b0e8dd0"
      },
      "outputs": [
        {
          "data": {
            "text/html": [
              "<div>\n",
              "<style scoped>\n",
              "    .dataframe tbody tr th:only-of-type {\n",
              "        vertical-align: middle;\n",
              "    }\n",
              "\n",
              "    .dataframe tbody tr th {\n",
              "        vertical-align: top;\n",
              "    }\n",
              "\n",
              "    .dataframe thead th {\n",
              "        text-align: right;\n",
              "    }\n",
              "</style>\n",
              "<table border=\"1\" class=\"dataframe\">\n",
              "  <thead>\n",
              "    <tr style=\"text-align: right;\">\n",
              "      <th></th>\n",
              "      <th>ID</th>\n",
              "      <th>Text</th>\n",
              "      <th>Sarcastic</th>\n",
              "      <th>Sarcastic_human</th>\n",
              "      <th>object</th>\n",
              "    </tr>\n",
              "  </thead>\n",
              "  <tbody>\n",
              "    <tr>\n",
              "      <th>2009</th>\n",
              "      <td>822947223528869888</td>\n",
              "      <td>our signs in action at # womensmarchsanjose .</td>\n",
              "      <td>False</td>\n",
              "      <td>0</td>\n",
              "      <td>['person', 'backpack']</td>\n",
              "    </tr>\n",
              "    <tr>\n",
              "      <th>2082</th>\n",
              "      <td>822223962511843328</td>\n",
              "      <td>makeup i did on snap today , details will be l...</td>\n",
              "      <td>False</td>\n",
              "      <td>0</td>\n",
              "      <td>['person']</td>\n",
              "    </tr>\n",
              "    <tr>\n",
              "      <th>1684</th>\n",
              "      <td>822589093301391363</td>\n",
              "      <td>while in the workshop cleaning found the oppos...</td>\n",
              "      <td>False</td>\n",
              "      <td>0</td>\n",
              "      <td>['knife']</td>\n",
              "    </tr>\n",
              "    <tr>\n",
              "      <th>2301</th>\n",
              "      <td>819323165662965762</td>\n",
              "      <td>best 10 minutes of my day , god is good</td>\n",
              "      <td>False</td>\n",
              "      <td>0</td>\n",
              "      <td>[]</td>\n",
              "    </tr>\n",
              "    <tr>\n",
              "      <th>792</th>\n",
              "      <td>875868378698797056</td>\n",
              "      <td>it was nice enjoying this cooler weather for a...</td>\n",
              "      <td>True</td>\n",
              "      <td>1</td>\n",
              "      <td>[]</td>\n",
              "    </tr>\n",
              "  </tbody>\n",
              "</table>\n",
              "</div>"
            ],
            "text/plain": [
              "                      ID  ...                  object\n",
              "2009  822947223528869888  ...  ['person', 'backpack']\n",
              "2082  822223962511843328  ...              ['person']\n",
              "1684  822589093301391363  ...               ['knife']\n",
              "2301  819323165662965762  ...                      []\n",
              "792   875868378698797056  ...                      []\n",
              "\n",
              "[5 rows x 5 columns]"
            ]
          },
          "execution_count": 36,
          "metadata": {},
          "output_type": "execute_result"
        }
      ],
      "source": [
        "for _, row in test_objects.iterrows():\n",
        "    test_df.loc[test_df[\"ID\"] == int(row['ID']),'object'] = row['objects']  \n",
        "\n",
        "test_df.head()"
      ],
      "id": "AX4NTiyxqA_w"
    },
    {
      "cell_type": "code",
      "execution_count": null,
      "metadata": {
        "colab": {
          "base_uri": "https://localhost:8080/",
          "height": 206
        },
        "id": "dwWA7zU1s1JW",
        "outputId": "44164901-8073-418e-a94d-6d5012150592"
      },
      "outputs": [
        {
          "data": {
            "text/html": [
              "<div>\n",
              "<style scoped>\n",
              "    .dataframe tbody tr th:only-of-type {\n",
              "        vertical-align: middle;\n",
              "    }\n",
              "\n",
              "    .dataframe tbody tr th {\n",
              "        vertical-align: top;\n",
              "    }\n",
              "\n",
              "    .dataframe thead th {\n",
              "        text-align: right;\n",
              "    }\n",
              "</style>\n",
              "<table border=\"1\" class=\"dataframe\">\n",
              "  <thead>\n",
              "    <tr style=\"text-align: right;\">\n",
              "      <th></th>\n",
              "      <th>ID</th>\n",
              "      <th>Text</th>\n",
              "      <th>Sarcastic</th>\n",
              "      <th>Sarcastic_human</th>\n",
              "      <th>object</th>\n",
              "    </tr>\n",
              "  </thead>\n",
              "  <tbody>\n",
              "    <tr>\n",
              "      <th>2009</th>\n",
              "      <td>822947223528869888</td>\n",
              "      <td>our signs in action at # womensmarchsanjose .</td>\n",
              "      <td>False</td>\n",
              "      <td>0</td>\n",
              "      <td>'person', 'backpack'</td>\n",
              "    </tr>\n",
              "    <tr>\n",
              "      <th>2082</th>\n",
              "      <td>822223962511843328</td>\n",
              "      <td>makeup i did on snap today , details will be l...</td>\n",
              "      <td>False</td>\n",
              "      <td>0</td>\n",
              "      <td>'person'</td>\n",
              "    </tr>\n",
              "    <tr>\n",
              "      <th>1684</th>\n",
              "      <td>822589093301391363</td>\n",
              "      <td>while in the workshop cleaning found the oppos...</td>\n",
              "      <td>False</td>\n",
              "      <td>0</td>\n",
              "      <td>'knife'</td>\n",
              "    </tr>\n",
              "    <tr>\n",
              "      <th>2301</th>\n",
              "      <td>819323165662965762</td>\n",
              "      <td>best 10 minutes of my day , god is good</td>\n",
              "      <td>False</td>\n",
              "      <td>0</td>\n",
              "      <td></td>\n",
              "    </tr>\n",
              "    <tr>\n",
              "      <th>792</th>\n",
              "      <td>875868378698797056</td>\n",
              "      <td>it was nice enjoying this cooler weather for a...</td>\n",
              "      <td>True</td>\n",
              "      <td>1</td>\n",
              "      <td></td>\n",
              "    </tr>\n",
              "  </tbody>\n",
              "</table>\n",
              "</div>"
            ],
            "text/plain": [
              "                      ID  ...                object\n",
              "2009  822947223528869888  ...  'person', 'backpack'\n",
              "2082  822223962511843328  ...              'person'\n",
              "1684  822589093301391363  ...               'knife'\n",
              "2301  819323165662965762  ...                      \n",
              "792   875868378698797056  ...                      \n",
              "\n",
              "[5 rows x 5 columns]"
            ]
          },
          "execution_count": 37,
          "metadata": {},
          "output_type": "execute_result"
        }
      ],
      "source": [
        "test_df['object'] = test_df['object'].apply(lambda x: x[1:-1])\n",
        "test_df.head()"
      ],
      "id": "dwWA7zU1s1JW"
    },
    {
      "cell_type": "code",
      "execution_count": null,
      "metadata": {
        "id": "a4a0f5d4"
      },
      "outputs": [],
      "source": [
        "# import csv\n",
        "\n",
        "# with open('object_image2.csv') as csv_file:\n",
        "#     csv_reader = csv.reader(csv_file, delimiter=',')\n",
        "#     for row in csv_reader:\n",
        "#         ID = row[0]\n",
        "#         obj = row[1]\n",
        "        \n",
        "#         str_obj = obj.replace(\"[\",\"\")\n",
        "#         str_obj = str_obj.replace(\"]\",\"\")\n",
        "#         train_df.loc[train_df[\"ID\"] == int(row[0]),\"object\"] = str_obj        "
      ],
      "id": "a4a0f5d4"
    },
    {
      "cell_type": "code",
      "execution_count": null,
      "metadata": {
        "colab": {
          "base_uri": "https://localhost:8080/"
        },
        "id": "62adb17b",
        "outputId": "249bb5e2-66dd-4967-9740-af020e2d9255"
      },
      "outputs": [
        {
          "name": "stdout",
          "output_type": "stream",
          "text": [
            "ID           0\n",
            "Text         0\n",
            "Sarcastic    0\n",
            "object       0\n",
            "dtype: int64\n",
            "ID                 0\n",
            "Text               0\n",
            "Sarcastic          0\n",
            "Sarcastic_human    0\n",
            "object             0\n",
            "dtype: int64\n",
            "ID                 0\n",
            "Text               0\n",
            "Sarcastic          0\n",
            "Sarcastic_human    0\n",
            "object             0\n",
            "dtype: int64\n"
          ]
        }
      ],
      "source": [
        "\n",
        "#print(df_train[\"object\"])\n",
        "print(train_df.isna().sum())\n",
        "print(valid_df.isna().sum())\n",
        "print(test_df.isna().sum())\n",
        "# train_df = train_df.fillna(' ')\n",
        "# print(train_df[\"object\"])"
      ],
      "id": "62adb17b"
    },
    {
      "cell_type": "code",
      "execution_count": null,
      "metadata": {
        "colab": {
          "base_uri": "https://localhost:8080/"
        },
        "id": "a53bc76d",
        "outputId": "25dacd5c-a86d-4162-fb52-7cc2689d58a4"
      },
      "outputs": [
        {
          "name": "stderr",
          "output_type": "stream",
          "text": [
            "Special tokens have been added in the vocabulary, make sure the associated word embeddings are fine-tuned or trained.\n",
            "/usr/local/lib/python3.7/dist-packages/transformers/tokenization_utils_base.py:2218: FutureWarning: The `pad_to_max_length` argument is deprecated and will be removed in a future version, use `padding=True` or `padding='longest'` to pad to the longest sequence in the batch, or use `padding='max_length'` to pad to a max length. In this case, you can give a specific length with `max_length` (e.g. `max_length=45`) or leave max_length to None to pad to the maximal input size of the model (e.g. 512 for Bert).\n",
            "  FutureWarning,\n",
            "Special tokens have been added in the vocabulary, make sure the associated word embeddings are fine-tuned or trained.\n"
          ]
        }
      ],
      "source": [
        "text_train_dataloader,text_test_dataloader = prepare_dataloaders(train_df, test_df)\n",
        "_,text_val_dataloader = prepare_dataloaders(train_df, valid_df)"
      ],
      "id": "a53bc76d"
    },
    {
      "cell_type": "code",
      "execution_count": null,
      "metadata": {
        "id": "f3e123e4"
      },
      "outputs": [],
      "source": [
        "def prepare_model(model_class=\"vinai/bertweet-base\",num_classes=2,model_to_load=None,total_steps=-1):\n",
        "    \n",
        "    #model = AutoModel.from_pretrained(model_class)\n",
        "\n",
        "    model = AutoModelForSequenceClassification.from_pretrained(\n",
        "        model_class,\n",
        "        num_labels = num_classes,  \n",
        "        output_attentions = False, \n",
        "        output_hidden_states = True,\n",
        "    )\n",
        "\n",
        "    optimizer = AdamW(model.parameters(),\n",
        "                    lr = 5e-5,\n",
        "                    eps = 1e-8\n",
        "                    )\n",
        "    scheduler = get_linear_schedule_with_warmup(optimizer, \n",
        "                                                num_warmup_steps = 0, \n",
        "                                                num_training_steps = total_steps)\n",
        "\n",
        "    if model_to_load is not None:\n",
        "        try:\n",
        "            model.roberta.load_state_dict(torch.load(model_to_load))\n",
        "            print(\"LOADED MODEL\")\n",
        "        except:\n",
        "            pass\n",
        "    return model, optimizer, scheduler"
      ],
      "id": "f3e123e4"
    },
    {
      "cell_type": "code",
      "execution_count": null,
      "metadata": {
        "id": "4c0b5570"
      },
      "outputs": [],
      "source": [
        "# count = 0\n",
        "# for batch in text_train_dataloader:\n",
        "#     count+=1\n",
        "#     print(batch[0])\n",
        "#     if count==5:\n",
        "#         break"
      ],
      "id": "4c0b5570"
    },
    {
      "cell_type": "code",
      "execution_count": null,
      "metadata": {
        "id": "e4e8ddd3"
      },
      "outputs": [],
      "source": [
        "class MultiModel(nn.Module):\n",
        "    def __init__(self):\n",
        "        super(MultiModel, self).__init__()\n",
        "        #Resnet50 for image\n",
        "        self.text_model, _, _ = prepare_model(\"vinai/bertweet-base\" ,num_classes=2, model_to_load=None, total_steps = total_steps)\n",
        "        self.linear_1 = nn.Linear(768,300)\n",
        "        #self.text_model = AutoModelForSequenceClassification.from_pretrained(\n",
        "        #model_class = \"vinai/bertweet-base\",\n",
        "        #num_labels = 2,  \n",
        "        #output_attentions = False, \n",
        "        #output_hidden_states = False,)\n",
        "        \n",
        "        self.image_model = torchvision.models.resnet50(\n",
        "            pretrained=True\n",
        "        )\n",
        "        #resnet_output_feature_dim = 300\n",
        "        #bert_output_feature_dim = 300\n",
        "        #fusion_input_feature = 300+300 = 600\n",
        "        self.image_model.fc = nn.Sequential(\n",
        "               nn.Linear(2048, 128),\n",
        "               nn.ReLU(inplace=True),\n",
        "               nn.Linear(128, 300))\n",
        "        \n",
        "        \n",
        "        # Combined\n",
        "        \n",
        "        #fusion_input_feature = 300+300 = 600\n",
        "        #fusion_output_size = 128\n",
        "        self.combined_fc1 = nn.Linear(600, 256)\n",
        "        self.combined_fc2 = nn.Linear(256, 128)\n",
        "        \n",
        "        self.output_fc = nn.Linear(128, 2)\n",
        "       \n",
        "        #self.text_train_dataset = image_dataloaders[\"train\"]\n",
        "        #self.text_dev_dataset = image_dataloaders[\"validation\"]\n",
        "        #self.image_train_dataset = text_train_dataloader\n",
        "        #self.image_dev_dataset = text_val_dataloader\n",
        "\n",
        "    \n",
        "    def forward(self, text,text_mask,image):\n",
        "        text = text\n",
        "        bert_out = self.text_model(text)\n",
        "        #last_layer = bert_out.last_hidden_state[:,0,:]\n",
        "        #last_layer = self.linear_1(last_layer)\n",
        "        #print(len(bert_out))\n",
        "        \n",
        "        last_layer = bert_out.hidden_states[-1][:, 0, :]\n",
        "        #print(last_layer.shape)\n",
        "        image = image\n",
        "        resnet_out = self.image_model(image)\n",
        "        # print(\"resnet output\")\n",
        "        # print(resnet_out.shape)\n",
        "        last_layer= self.linear_1(last_layer)\n",
        "        combined_emb = torch.cat((resnet_out, last_layer), 1)\n",
        "        # print(\"combined_emb\")\n",
        "        # print(combined_emb.shape)\n",
        "        x_comb = F.relu(self.combined_fc1(combined_emb))\n",
        "        x_comb = F.dropout(x_comb, p=0.2, training=self.training)\n",
        "        x_comb = F.relu(self.combined_fc2(x_comb))\n",
        "        x_comb = F.dropout(x_comb, p=0.2, training=self.training)\n",
        "        out = torch.sigmoid(self.output_fc(x_comb))\n",
        "        #logits = self.output_fc(x_comb)\n",
        "        #pred = torch.nn.functional.softmax(logits)\n",
        "        return out\n"
      ],
      "id": "e4e8ddd3"
    },
    {
      "cell_type": "code",
      "execution_count": null,
      "metadata": {
        "id": "4bf902f0"
      },
      "outputs": [],
      "source": [
        "#count = 0\n",
        "#for batch, [image,label] in zip(text_train_dataloader,image_dataloaders[\"train\"]):\n",
        "#    count+=1\n",
        "#    print(\"text input shape\")\n",
        "#    print(batch[0].shape)\n",
        "#    print(batch[1].shape)\n",
        "#    print(batch[2].shape)\n",
        "#    print(\"image input shape\")\n",
        "#    print(image.shape)\n",
        "#    print(label.shape)\n",
        "#    if count==5:\n",
        "#        break"
      ],
      "id": "4bf902f0"
    },
    {
      "cell_type": "code",
      "execution_count": null,
      "metadata": {
        "id": "0e1e3974"
      },
      "outputs": [],
      "source": [
        "import gc\n",
        "\n",
        "def train_model(model, dataloaders, criterion, optimizer, num_epochs):\n",
        "    for epoch in range(num_epochs):\n",
        "        print('Epoch {}/{}'.format(epoch+1, num_epochs))\n",
        "        print('-' * 10)\n",
        "\n",
        "        for phase in ['train', 'validation']:\n",
        "            if phase == 'train':\n",
        "                model.train()\n",
        "            else:\n",
        "                model.eval()\n",
        "\n",
        "            running_loss = 0.0\n",
        "            running_corrects = 0\n",
        "\n",
        "            for image_inputs,text_inputs,text_masks,labels in dataloaders[phase]:\n",
        "                if phase != 'train':\n",
        "                    with torch.no_grad():\n",
        "                        text_inputs = text_inputs.to(device)\n",
        "                        image_inputs = image_inputs.to(device)\n",
        "                        labels = labels.to(device)\n",
        "\n",
        "                        outputs = model(text_inputs,text_masks,image_inputs)\n",
        "                        \n",
        "                        loss = criterion(outputs, labels)\n",
        "                        if phase == 'train':\n",
        "                            optimizer.zero_grad()\n",
        "                            loss.backward()\n",
        "                            optimizer.step()\n",
        "\n",
        "                        _, preds = torch.max(outputs.detach(), 1)\n",
        "                        running_loss += loss.detach().item() * image_inputs.size(0)\n",
        "                        running_corrects += torch.sum(preds == labels.data)\n",
        "                else:\n",
        "                    text_inputs = text_inputs.to(device)\n",
        "                    image_inputs = image_inputs.to(device)\n",
        "                    labels = labels.to(device)\n",
        "\n",
        "                    outputs = model(text_inputs,text_masks,image_inputs)\n",
        "                    \n",
        "                    loss = criterion(outputs, labels)\n",
        "                    if phase == 'train':\n",
        "                        optimizer.zero_grad()\n",
        "                        loss.backward()\n",
        "                        optimizer.step()\n",
        "\n",
        "                    _, preds = torch.max(outputs.detach(), 1)\n",
        "                    running_loss += loss.detach().item() * image_inputs.size(0)\n",
        "                    running_corrects += torch.sum(preds == labels.data)\n",
        "\n",
        "            epoch_loss = running_loss / len(image_datasets[phase])\n",
        "            epoch_acc = running_corrects.double() / len(image_datasets[phase])\n",
        "\n",
        "            print('{} loss: {:.4f}, acc: {:.4f}'.format(phase,\n",
        "                                                        epoch_loss,\n",
        "                                                        epoch_acc))\n",
        "            # print('Memory cached: {}'.format(torch.cuda.memory_cached()))\n",
        "            # print('-' * 10)\n",
        "            torch.cuda.empty_cache()\n",
        "            gc.collect()\n",
        "\n",
        "    return model"
      ],
      "id": "0e1e3974"
    },
    {
      "cell_type": "code",
      "execution_count": null,
      "metadata": {
        "colab": {
          "base_uri": "https://localhost:8080/"
        },
        "id": "9xoroZbA_WCK",
        "outputId": "d462731b-2d5f-42fa-dee5-3bee3ab7374a"
      },
      "outputs": [
        {
          "data": {
            "text/plain": [
              "50"
            ]
          },
          "execution_count": 46,
          "metadata": {},
          "output_type": "execute_result"
        }
      ],
      "source": [
        "torch.cuda.empty_cache()\n",
        "gc.collect()"
      ],
      "id": "9xoroZbA_WCK"
    },
    {
      "cell_type": "code",
      "execution_count": null,
      "metadata": {
        "colab": {
          "base_uri": "https://localhost:8080/"
        },
        "id": "Mt78lAbZ-yEq",
        "outputId": "c94efa08-920e-4a22-d282-59dc27383958"
      },
      "outputs": [
        {
          "name": "stderr",
          "output_type": "stream",
          "text": [
            "Special tokens have been added in the vocabulary, make sure the associated word embeddings are fine-tuned or trained.\n",
            "/usr/local/lib/python3.7/dist-packages/transformers/tokenization_utils_base.py:2218: FutureWarning: The `pad_to_max_length` argument is deprecated and will be removed in a future version, use `padding=True` or `padding='longest'` to pad to the longest sequence in the batch, or use `padding='max_length'` to pad to a max length. In this case, you can give a specific length with `max_length` (e.g. `max_length=45`) or leave max_length to None to pad to the maximal input size of the model (e.g. 512 for Bert).\n",
            "  FutureWarning,\n"
          ]
        }
      ],
      "source": [
        "from transformers import AutoModel, AutoTokenizer\n",
        "tokenizer = AutoTokenizer.from_pretrained(\"vinai/bertweet-base\", use_fast=False, normalization=True)\n",
        "\n",
        "tweet_train = bert_encode(train_df, tokenizer)\n",
        "\n",
        "input_ids, attention_masks = tweet_train.values()\n",
        "input_ids = list(input_ids)\n",
        "attention_masks = list(attention_masks)\n",
        "\n",
        "tweet_train_dict = {\n",
        "    id: (ids, masks) for id, ids, masks in zip(train_df['ID'], input_ids, attention_masks)\n",
        "}"
      ],
      "id": "Mt78lAbZ-yEq"
    },
    {
      "cell_type": "code",
      "execution_count": null,
      "metadata": {
        "colab": {
          "base_uri": "https://localhost:8080/"
        },
        "id": "4GwdmeHR-ztx",
        "outputId": "4b7ea954-c2ca-434f-9f91-17e472ede053"
      },
      "outputs": [
        {
          "name": "stderr",
          "output_type": "stream",
          "text": [
            "/usr/local/lib/python3.7/dist-packages/transformers/tokenization_utils_base.py:2218: FutureWarning: The `pad_to_max_length` argument is deprecated and will be removed in a future version, use `padding=True` or `padding='longest'` to pad to the longest sequence in the batch, or use `padding='max_length'` to pad to a max length. In this case, you can give a specific length with `max_length` (e.g. `max_length=45`) or leave max_length to None to pad to the maximal input size of the model (e.g. 512 for Bert).\n",
            "  FutureWarning,\n"
          ]
        }
      ],
      "source": [
        "tweet_valid = bert_encode(valid_df, tokenizer)\n",
        "\n",
        "input_ids, attention_masks = tweet_valid.values()\n",
        "\n",
        "input_ids = list(input_ids)\n",
        "attention_masks = list(attention_masks)\n",
        "\n",
        "tweet_valid_dict = {\n",
        "    id: (ids, masks) for id, ids, masks in zip(valid_df['ID'], input_ids, attention_masks)\n",
        "}"
      ],
      "id": "4GwdmeHR-ztx"
    },
    {
      "cell_type": "code",
      "execution_count": null,
      "metadata": {
        "id": "3lDFgHGG-2wR"
      },
      "outputs": [],
      "source": [
        "class ImageTextDataset(datasets.ImageFolder):\n",
        "    def __init__(self, img_path, data_transforms, text_data):\n",
        "        super().__init__(img_path, data_transforms)\n",
        "        self.text_data = text_data\n",
        "\n",
        "    def __getitem__(self, index):\n",
        "        # Image data\n",
        "        img, label = super(ImageTextDataset, self).__getitem__(index)\n",
        "        \n",
        "        # Image ID\n",
        "        id = int(os.path.basename(self.imgs[index][0]).split('.')[0])\n",
        "\n",
        "        # Text data\n",
        "        text_data_tuple = self.text_data[id]\n",
        "        \n",
        "        return ((img,)  + text_data_tuple + (label,))"
      ],
      "id": "3lDFgHGG-2wR"
    },
    {
      "cell_type": "code",
      "execution_count": null,
      "metadata": {
        "id": "aIZfWo7e-9Hw"
      },
      "outputs": [],
      "source": [
        "normalize = transforms.Normalize(mean=[0.485, 0.456, 0.406],\n",
        "                                 std=[0.229, 0.224, 0.225])\n",
        "\n",
        "data_transforms = {\n",
        "    'train':\n",
        "    transforms.Compose([\n",
        "        transforms.Resize((224,224)),\n",
        "        transforms.RandomAffine(0, shear=10, scale=(0.8,1.2)),\n",
        "        transforms.RandomHorizontalFlip(),\n",
        "        transforms.ToTensor(),\n",
        "        normalize\n",
        "    ]),\n",
        "    'validation':\n",
        "    transforms.Compose([\n",
        "        transforms.Resize((224,224)),\n",
        "        transforms.ToTensor(),\n",
        "        normalize\n",
        "    ]),\n",
        "}\n",
        "\n",
        "image_datasets = {\n",
        "    'train': \n",
        "    ImageTextDataset('dataset_image/train', data_transforms['train'], tweet_train_dict),\n",
        "    'validation': \n",
        "    ImageTextDataset('dataset_image/val', data_transforms['validation'], tweet_valid_dict)\n",
        "}\n",
        "\n",
        "\n",
        "BATCH_SIZE = 64\n",
        "dataloaders = {\n",
        "    'train':\n",
        "    torch.utils.data.DataLoader(image_datasets['train'],\n",
        "                                batch_size=BATCH_SIZE,\n",
        "                                shuffle=True),\n",
        "    'validation':\n",
        "    torch.utils.data.DataLoader(image_datasets['validation'],\n",
        "                                batch_size=BATCH_SIZE,\n",
        "                                shuffle=False)\n",
        "}"
      ],
      "id": "aIZfWo7e-9Hw"
    },
    {
      "cell_type": "code",
      "execution_count": null,
      "metadata": {
        "colab": {
          "base_uri": "https://localhost:8080/",
          "height": 173,
          "referenced_widgets": [
            "5b41a4b563b745c8820ae9586b9c15e2",
            "b1f8ab349aaa4fec90c7002167ac3e61",
            "43e0f0064a564c42a010878d258632e2",
            "b27cb49dc6174849ac8a86ad5f7225d5",
            "eb680a9130fd41939ee648cff319db62",
            "a21bbdd0286043f8bb82dda93a23002e",
            "eaaae3f55c2f447a9571bf4d21afa4db",
            "a11c33f29b4b417fbad52bdcd23e9eec",
            "48c20c6c11bd4364ae2552ae09e5d5d5",
            "4d2ab688baa24375b9027494ee00884e",
            "5550eaec9a99409dba415b346ded8677"
          ]
        },
        "id": "9fcfda52",
        "outputId": "ba0e4b5d-8220-41f9-8c7a-b3336f3b0b91"
      },
      "outputs": [
        {
          "name": "stderr",
          "output_type": "stream",
          "text": [
            "Some weights of the model checkpoint at vinai/bertweet-base were not used when initializing RobertaForSequenceClassification: ['lm_head.dense.bias', 'lm_head.layer_norm.bias', 'lm_head.decoder.weight', 'lm_head.dense.weight', 'lm_head.layer_norm.weight', 'lm_head.decoder.bias', 'lm_head.bias', 'roberta.pooler.dense.weight', 'roberta.pooler.dense.bias']\n",
            "- This IS expected if you are initializing RobertaForSequenceClassification from the checkpoint of a model trained on another task or with another architecture (e.g. initializing a BertForSequenceClassification model from a BertForPreTraining model).\n",
            "- This IS NOT expected if you are initializing RobertaForSequenceClassification from the checkpoint of a model that you expect to be exactly identical (initializing a BertForSequenceClassification model from a BertForSequenceClassification model).\n",
            "Some weights of RobertaForSequenceClassification were not initialized from the model checkpoint at vinai/bertweet-base and are newly initialized: ['classifier.dense.weight', 'classifier.dense.bias', 'classifier.out_proj.weight', 'classifier.out_proj.bias']\n",
            "You should probably TRAIN this model on a down-stream task to be able to use it for predictions and inference.\n",
            "Downloading: \"https://download.pytorch.org/models/resnet50-0676ba61.pth\" to /root/.cache/torch/hub/checkpoints/resnet50-0676ba61.pth\n"
          ]
        },
        {
          "data": {
            "application/vnd.jupyter.widget-view+json": {
              "model_id": "5b41a4b563b745c8820ae9586b9c15e2",
              "version_major": 2,
              "version_minor": 0
            },
            "text/plain": [
              "  0%|          | 0.00/97.8M [00:00<?, ?B/s]"
            ]
          },
          "metadata": {},
          "output_type": "display_data"
        }
      ],
      "source": [
        "epochs = 10\n",
        "total_steps = len(train_df) * epochs\n",
        "model = MultiModel().to(device)\n",
        "\n",
        "criterion = nn.CrossEntropyLoss()\n",
        "optimizer = AdamW(model.parameters(),\n",
        "                    lr = 5e-5,\n",
        "                    eps = 1e-8\n",
        "                    )\n",
        "\n",
        "#loss_func = nn.MSELoss()\n",
        "#optimizer = torch.optim.Adam(model.parameters(), lr=learning_rate)"
      ],
      "id": "9fcfda52"
    },
    {
      "cell_type": "code",
      "execution_count": null,
      "metadata": {
        "colab": {
          "background_save": true,
          "base_uri": "https://localhost:8080/"
        },
        "id": "59b1f85d",
        "outputId": "292091df-97b6-4cf8-f4cb-a478222d7e5b"
      },
      "outputs": [
        {
          "name": "stdout",
          "output_type": "stream",
          "text": [
            "Epoch 1/10\n",
            "----------\n",
            "train loss: 0.5904, acc: 0.7008\n",
            "validation loss: 0.5726, acc: 0.7187\n",
            "Epoch 2/10\n",
            "----------\n",
            "train loss: 0.5394, acc: 0.7617\n",
            "validation loss: 0.5752, acc: 0.7224\n",
            "Epoch 3/10\n",
            "----------\n",
            "train loss: 0.5286, acc: 0.7739\n",
            "validation loss: 0.5769, acc: 0.7174\n",
            "Epoch 4/10\n",
            "----------\n",
            "train loss: 0.5096, acc: 0.7923\n",
            "validation loss: 0.5731, acc: 0.7257\n",
            "Epoch 5/10\n",
            "----------\n",
            "train loss: 0.4956, acc: 0.8096\n",
            "validation loss: 0.5773, acc: 0.7220\n",
            "Epoch 6/10\n",
            "----------\n",
            "train loss: 0.4878, acc: 0.8204\n",
            "validation loss: 0.5818, acc: 0.7212\n",
            "Epoch 7/10\n",
            "----------\n",
            "train loss: 0.4792, acc: 0.8282\n",
            "validation loss: 0.5810, acc: 0.7232\n",
            "Epoch 8/10\n",
            "----------\n",
            "train loss: 0.4678, acc: 0.8387\n",
            "validation loss: 0.5857, acc: 0.7174\n",
            "Epoch 9/10\n",
            "----------\n",
            "train loss: 0.4605, acc: 0.8466\n",
            "validation loss: 0.5801, acc: 0.7228\n",
            "Epoch 10/10\n",
            "----------\n",
            "train loss: 0.4526, acc: 0.8553\n",
            "validation loss: 0.5794, acc: 0.7220\n"
          ]
        }
      ],
      "source": [
        "model_trained = train_model(model,dataloaders, criterion, optimizer, num_epochs=10)"
      ],
      "id": "59b1f85d"
    },
    {
      "cell_type": "code",
      "execution_count": null,
      "metadata": {
        "colab": {
          "base_uri": "https://localhost:8080/"
        },
        "id": "37228d18",
        "outputId": "aa5e86d7-9d29-459a-f0bc-264f6c22e99b"
      },
      "outputs": [
        {
          "name": "stdout",
          "output_type": "stream",
          "text": [
            "Mounted at /content/drive\n"
          ]
        }
      ],
      "source": [
        "from google.colab import drive\n",
        "drive.mount('/content/drive', force_remount=True)"
      ],
      "id": "37228d18"
    },
    {
      "cell_type": "code",
      "execution_count": null,
      "metadata": {
        "id": "83622d59"
      },
      "outputs": [],
      "source": [
        "torch.save(model, '/content/drive/MyDrive/CSE8803_DLT/yolo_res_bert_multimodal_10epoch.pt')"
      ],
      "id": "83622d59"
    },
    {
      "cell_type": "code",
      "execution_count": null,
      "metadata": {
        "colab": {
          "base_uri": "https://localhost:8080/"
        },
        "id": "lEl9xCptmTlb",
        "outputId": "8319c89b-1449-4e94-f6cb-c5d3966c4e9a"
      },
      "outputs": [
        {
          "name": "stdout",
          "output_type": "stream",
          "text": [
            "berttweet_2epoch.pt    Resnet50_10epoch.pt\n",
            "multimodal_epoch10.pt  yolo_res_bert_multimodal_10epoch.pt\n"
          ]
        }
      ],
      "source": [
        "%ls /content/drive/MyDrive/CSE8803_DLT/"
      ],
      "id": "lEl9xCptmTlb"
    },
    {
      "cell_type": "code",
      "execution_count": null,
      "metadata": {
        "colab": {
          "base_uri": "https://localhost:8080/"
        },
        "id": "lI2ckK_6mn6t",
        "outputId": "a14a41d9-e1e2-45cb-e9b0-f61d77838484"
      },
      "outputs": [
        {
          "name": "stdout",
          "output_type": "stream",
          "text": [
            "-rw------- 1 root root 636958487 Dec  6 07:17 /content/drive/MyDrive/CSE8803_DLT/yolo_res_bert_multimodal_10epoch.pt\n"
          ]
        }
      ],
      "source": [
        "%ls -la /content/drive/MyDrive/CSE8803_DLT/yolo_res_bert_multimodal_10epoch.pt"
      ],
      "id": "lI2ckK_6mn6t"
    },
    {
      "cell_type": "code",
      "execution_count": null,
      "metadata": {
        "id": "-xTzWF5dmtxP"
      },
      "outputs": [],
      "source": [
        ""
      ],
      "id": "-xTzWF5dmtxP"
    }
  ],
  "metadata": {
    "accelerator": "GPU",
    "colab": {
      "collapsed_sections": [],
      "name": "Multimodal_sarcasm-YOLO-Dropout.ipynb",
      "provenance": []
    },
    "kernelspec": {
      "display_name": "Python 3 (ipykernel)",
      "language": "python",
      "name": "python3"
    },
    "language_info": {
      "codemirror_mode": {
        "name": "ipython",
        "version": 3
      },
      "file_extension": ".py",
      "mimetype": "text/x-python",
      "name": "python",
      "nbconvert_exporter": "python",
      "pygments_lexer": "ipython3",
      "version": "3.8.12"
    },
    "widgets": {
      "application/vnd.jupyter.widget-state+json": {
        "0a519ca62dd84d68be2c600ffa6c4f28": {
          "model_module": "@jupyter-widgets/controls",
          "model_module_version": "1.5.0",
          "model_name": "HBoxModel",
          "state": {
            "_dom_classes": [],
            "_model_module": "@jupyter-widgets/controls",
            "_model_module_version": "1.5.0",
            "_model_name": "HBoxModel",
            "_view_count": null,
            "_view_module": "@jupyter-widgets/controls",
            "_view_module_version": "1.5.0",
            "_view_name": "HBoxView",
            "box_style": "",
            "children": [
              "IPY_MODEL_256de6f8ddc54ebfb1e4acc451b458ca",
              "IPY_MODEL_df6d12df396641a396da7ee9a51be088",
              "IPY_MODEL_94e237c12aa1488fad93025f9f91f2d2"
            ],
            "layout": "IPY_MODEL_fda967879a1046a0ba6f73115fbb7b4e"
          }
        },
        "0c026a9756c04a52aec0d4268d4d1ef5": {
          "model_module": "@jupyter-widgets/controls",
          "model_module_version": "1.5.0",
          "model_name": "ProgressStyleModel",
          "state": {
            "_model_module": "@jupyter-widgets/controls",
            "_model_module_version": "1.5.0",
            "_model_name": "ProgressStyleModel",
            "_view_count": null,
            "_view_module": "@jupyter-widgets/base",
            "_view_module_version": "1.2.0",
            "_view_name": "StyleView",
            "bar_color": null,
            "description_width": ""
          }
        },
        "16a89eaf656d46f2bc2f22b5b4ae6900": {
          "model_module": "@jupyter-widgets/base",
          "model_module_version": "1.2.0",
          "model_name": "LayoutModel",
          "state": {
            "_model_module": "@jupyter-widgets/base",
            "_model_module_version": "1.2.0",
            "_model_name": "LayoutModel",
            "_view_count": null,
            "_view_module": "@jupyter-widgets/base",
            "_view_module_version": "1.2.0",
            "_view_name": "LayoutView",
            "align_content": null,
            "align_items": null,
            "align_self": null,
            "border": null,
            "bottom": null,
            "display": null,
            "flex": null,
            "flex_flow": null,
            "grid_area": null,
            "grid_auto_columns": null,
            "grid_auto_flow": null,
            "grid_auto_rows": null,
            "grid_column": null,
            "grid_gap": null,
            "grid_row": null,
            "grid_template_areas": null,
            "grid_template_columns": null,
            "grid_template_rows": null,
            "height": null,
            "justify_content": null,
            "justify_items": null,
            "left": null,
            "margin": null,
            "max_height": null,
            "max_width": null,
            "min_height": null,
            "min_width": null,
            "object_fit": null,
            "object_position": null,
            "order": null,
            "overflow": null,
            "overflow_x": null,
            "overflow_y": null,
            "padding": null,
            "right": null,
            "top": null,
            "visibility": null,
            "width": null
          }
        },
        "16b56d95333948ce8842cd181bcf19fb": {
          "model_module": "@jupyter-widgets/base",
          "model_module_version": "1.2.0",
          "model_name": "LayoutModel",
          "state": {
            "_model_module": "@jupyter-widgets/base",
            "_model_module_version": "1.2.0",
            "_model_name": "LayoutModel",
            "_view_count": null,
            "_view_module": "@jupyter-widgets/base",
            "_view_module_version": "1.2.0",
            "_view_name": "LayoutView",
            "align_content": null,
            "align_items": null,
            "align_self": null,
            "border": null,
            "bottom": null,
            "display": null,
            "flex": null,
            "flex_flow": null,
            "grid_area": null,
            "grid_auto_columns": null,
            "grid_auto_flow": null,
            "grid_auto_rows": null,
            "grid_column": null,
            "grid_gap": null,
            "grid_row": null,
            "grid_template_areas": null,
            "grid_template_columns": null,
            "grid_template_rows": null,
            "height": null,
            "justify_content": null,
            "justify_items": null,
            "left": null,
            "margin": null,
            "max_height": null,
            "max_width": null,
            "min_height": null,
            "min_width": null,
            "object_fit": null,
            "object_position": null,
            "order": null,
            "overflow": null,
            "overflow_x": null,
            "overflow_y": null,
            "padding": null,
            "right": null,
            "top": null,
            "visibility": null,
            "width": null
          }
        },
        "1b2b4b4d3c19472e967b710dc7e6bccc": {
          "model_module": "@jupyter-widgets/controls",
          "model_module_version": "1.5.0",
          "model_name": "HTMLModel",
          "state": {
            "_dom_classes": [],
            "_model_module": "@jupyter-widgets/controls",
            "_model_module_version": "1.5.0",
            "_model_name": "HTMLModel",
            "_view_count": null,
            "_view_module": "@jupyter-widgets/controls",
            "_view_module_version": "1.5.0",
            "_view_name": "HTMLView",
            "description": "",
            "description_tooltip": null,
            "layout": "IPY_MODEL_35bbdc64f8c54f62a62d187e16b338da",
            "placeholder": "​",
            "style": "IPY_MODEL_3bda15683ba9402b978a37e67176750e",
            "value": " 517M/517M [00:11&lt;00:00, 44.2MB/s]"
          }
        },
        "256de6f8ddc54ebfb1e4acc451b458ca": {
          "model_module": "@jupyter-widgets/controls",
          "model_module_version": "1.5.0",
          "model_name": "HTMLModel",
          "state": {
            "_dom_classes": [],
            "_model_module": "@jupyter-widgets/controls",
            "_model_module_version": "1.5.0",
            "_model_name": "HTMLModel",
            "_view_count": null,
            "_view_module": "@jupyter-widgets/controls",
            "_view_module_version": "1.5.0",
            "_view_name": "HTMLView",
            "description": "",
            "description_tooltip": null,
            "layout": "IPY_MODEL_84e45862642f4b099f2fd11c6e10500a",
            "placeholder": "​",
            "style": "IPY_MODEL_5357a30033a54da2ab3e3fca290c41ba",
            "value": "Downloading: 100%"
          }
        },
        "2621219d644045bc947a031f12c69b69": {
          "model_module": "@jupyter-widgets/controls",
          "model_module_version": "1.5.0",
          "model_name": "HTMLModel",
          "state": {
            "_dom_classes": [],
            "_model_module": "@jupyter-widgets/controls",
            "_model_module_version": "1.5.0",
            "_model_name": "HTMLModel",
            "_view_count": null,
            "_view_module": "@jupyter-widgets/controls",
            "_view_module_version": "1.5.0",
            "_view_name": "HTMLView",
            "description": "",
            "description_tooltip": null,
            "layout": "IPY_MODEL_f3cc8ebc16e14d54888d16403ff11418",
            "placeholder": "​",
            "style": "IPY_MODEL_b9b6865e0c624532a410d0ffc00924f4",
            "value": " 1.03M/1.03M [00:00&lt;00:00, 2.68MB/s]"
          }
        },
        "2d9397e95b0244a798ec732594411b4a": {
          "model_module": "@jupyter-widgets/controls",
          "model_module_version": "1.5.0",
          "model_name": "ProgressStyleModel",
          "state": {
            "_model_module": "@jupyter-widgets/controls",
            "_model_module_version": "1.5.0",
            "_model_name": "ProgressStyleModel",
            "_view_count": null,
            "_view_module": "@jupyter-widgets/base",
            "_view_module_version": "1.2.0",
            "_view_name": "StyleView",
            "bar_color": null,
            "description_width": ""
          }
        },
        "33fbce7fca3b4cbea08917b28162a698": {
          "model_module": "@jupyter-widgets/controls",
          "model_module_version": "1.5.0",
          "model_name": "FloatProgressModel",
          "state": {
            "_dom_classes": [],
            "_model_module": "@jupyter-widgets/controls",
            "_model_module_version": "1.5.0",
            "_model_name": "FloatProgressModel",
            "_view_count": null,
            "_view_module": "@jupyter-widgets/controls",
            "_view_module_version": "1.5.0",
            "_view_name": "ProgressView",
            "bar_style": "success",
            "description": "",
            "description_tooltip": null,
            "layout": "IPY_MODEL_3419ed5f6d0d47ee88fc7a92d0f2139c",
            "max": 1078931,
            "min": 0,
            "orientation": "horizontal",
            "style": "IPY_MODEL_b52b43b2d5c34283a75fce0ec165ad9e",
            "value": 1078931
          }
        },
        "3419ed5f6d0d47ee88fc7a92d0f2139c": {
          "model_module": "@jupyter-widgets/base",
          "model_module_version": "1.2.0",
          "model_name": "LayoutModel",
          "state": {
            "_model_module": "@jupyter-widgets/base",
            "_model_module_version": "1.2.0",
            "_model_name": "LayoutModel",
            "_view_count": null,
            "_view_module": "@jupyter-widgets/base",
            "_view_module_version": "1.2.0",
            "_view_name": "LayoutView",
            "align_content": null,
            "align_items": null,
            "align_self": null,
            "border": null,
            "bottom": null,
            "display": null,
            "flex": null,
            "flex_flow": null,
            "grid_area": null,
            "grid_auto_columns": null,
            "grid_auto_flow": null,
            "grid_auto_rows": null,
            "grid_column": null,
            "grid_gap": null,
            "grid_row": null,
            "grid_template_areas": null,
            "grid_template_columns": null,
            "grid_template_rows": null,
            "height": null,
            "justify_content": null,
            "justify_items": null,
            "left": null,
            "margin": null,
            "max_height": null,
            "max_width": null,
            "min_height": null,
            "min_width": null,
            "object_fit": null,
            "object_position": null,
            "order": null,
            "overflow": null,
            "overflow_x": null,
            "overflow_y": null,
            "padding": null,
            "right": null,
            "top": null,
            "visibility": null,
            "width": null
          }
        },
        "353c8e09dafe41a8b0d8466664a0d5b5": {
          "model_module": "@jupyter-widgets/base",
          "model_module_version": "1.2.0",
          "model_name": "LayoutModel",
          "state": {
            "_model_module": "@jupyter-widgets/base",
            "_model_module_version": "1.2.0",
            "_model_name": "LayoutModel",
            "_view_count": null,
            "_view_module": "@jupyter-widgets/base",
            "_view_module_version": "1.2.0",
            "_view_name": "LayoutView",
            "align_content": null,
            "align_items": null,
            "align_self": null,
            "border": null,
            "bottom": null,
            "display": null,
            "flex": null,
            "flex_flow": null,
            "grid_area": null,
            "grid_auto_columns": null,
            "grid_auto_flow": null,
            "grid_auto_rows": null,
            "grid_column": null,
            "grid_gap": null,
            "grid_row": null,
            "grid_template_areas": null,
            "grid_template_columns": null,
            "grid_template_rows": null,
            "height": null,
            "justify_content": null,
            "justify_items": null,
            "left": null,
            "margin": null,
            "max_height": null,
            "max_width": null,
            "min_height": null,
            "min_width": null,
            "object_fit": null,
            "object_position": null,
            "order": null,
            "overflow": null,
            "overflow_x": null,
            "overflow_y": null,
            "padding": null,
            "right": null,
            "top": null,
            "visibility": null,
            "width": null
          }
        },
        "3541a3ef3fc0452baefbf0b82a25cc38": {
          "model_module": "@jupyter-widgets/controls",
          "model_module_version": "1.5.0",
          "model_name": "HTMLModel",
          "state": {
            "_dom_classes": [],
            "_model_module": "@jupyter-widgets/controls",
            "_model_module_version": "1.5.0",
            "_model_name": "HTMLModel",
            "_view_count": null,
            "_view_module": "@jupyter-widgets/controls",
            "_view_module_version": "1.5.0",
            "_view_name": "HTMLView",
            "description": "",
            "description_tooltip": null,
            "layout": "IPY_MODEL_784bdf7830484c4784bd82eedb315d96",
            "placeholder": "​",
            "style": "IPY_MODEL_642ffcb9f96b466581a988300889d397",
            "value": "Downloading: 100%"
          }
        },
        "35a9c20a400749ffb90be6f8c0165f9a": {
          "model_module": "@jupyter-widgets/base",
          "model_module_version": "1.2.0",
          "model_name": "LayoutModel",
          "state": {
            "_model_module": "@jupyter-widgets/base",
            "_model_module_version": "1.2.0",
            "_model_name": "LayoutModel",
            "_view_count": null,
            "_view_module": "@jupyter-widgets/base",
            "_view_module_version": "1.2.0",
            "_view_name": "LayoutView",
            "align_content": null,
            "align_items": null,
            "align_self": null,
            "border": null,
            "bottom": null,
            "display": null,
            "flex": null,
            "flex_flow": null,
            "grid_area": null,
            "grid_auto_columns": null,
            "grid_auto_flow": null,
            "grid_auto_rows": null,
            "grid_column": null,
            "grid_gap": null,
            "grid_row": null,
            "grid_template_areas": null,
            "grid_template_columns": null,
            "grid_template_rows": null,
            "height": null,
            "justify_content": null,
            "justify_items": null,
            "left": null,
            "margin": null,
            "max_height": null,
            "max_width": null,
            "min_height": null,
            "min_width": null,
            "object_fit": null,
            "object_position": null,
            "order": null,
            "overflow": null,
            "overflow_x": null,
            "overflow_y": null,
            "padding": null,
            "right": null,
            "top": null,
            "visibility": null,
            "width": null
          }
        },
        "35bbdc64f8c54f62a62d187e16b338da": {
          "model_module": "@jupyter-widgets/base",
          "model_module_version": "1.2.0",
          "model_name": "LayoutModel",
          "state": {
            "_model_module": "@jupyter-widgets/base",
            "_model_module_version": "1.2.0",
            "_model_name": "LayoutModel",
            "_view_count": null,
            "_view_module": "@jupyter-widgets/base",
            "_view_module_version": "1.2.0",
            "_view_name": "LayoutView",
            "align_content": null,
            "align_items": null,
            "align_self": null,
            "border": null,
            "bottom": null,
            "display": null,
            "flex": null,
            "flex_flow": null,
            "grid_area": null,
            "grid_auto_columns": null,
            "grid_auto_flow": null,
            "grid_auto_rows": null,
            "grid_column": null,
            "grid_gap": null,
            "grid_row": null,
            "grid_template_areas": null,
            "grid_template_columns": null,
            "grid_template_rows": null,
            "height": null,
            "justify_content": null,
            "justify_items": null,
            "left": null,
            "margin": null,
            "max_height": null,
            "max_width": null,
            "min_height": null,
            "min_width": null,
            "object_fit": null,
            "object_position": null,
            "order": null,
            "overflow": null,
            "overflow_x": null,
            "overflow_y": null,
            "padding": null,
            "right": null,
            "top": null,
            "visibility": null,
            "width": null
          }
        },
        "3bda15683ba9402b978a37e67176750e": {
          "model_module": "@jupyter-widgets/controls",
          "model_module_version": "1.5.0",
          "model_name": "DescriptionStyleModel",
          "state": {
            "_model_module": "@jupyter-widgets/controls",
            "_model_module_version": "1.5.0",
            "_model_name": "DescriptionStyleModel",
            "_view_count": null,
            "_view_module": "@jupyter-widgets/base",
            "_view_module_version": "1.2.0",
            "_view_name": "StyleView",
            "description_width": ""
          }
        },
        "43e0f0064a564c42a010878d258632e2": {
          "model_module": "@jupyter-widgets/controls",
          "model_module_version": "1.5.0",
          "model_name": "FloatProgressModel",
          "state": {
            "_dom_classes": [],
            "_model_module": "@jupyter-widgets/controls",
            "_model_module_version": "1.5.0",
            "_model_name": "FloatProgressModel",
            "_view_count": null,
            "_view_module": "@jupyter-widgets/controls",
            "_view_module_version": "1.5.0",
            "_view_name": "ProgressView",
            "bar_style": "success",
            "description": "",
            "description_tooltip": null,
            "layout": "IPY_MODEL_a11c33f29b4b417fbad52bdcd23e9eec",
            "max": 102530333,
            "min": 0,
            "orientation": "horizontal",
            "style": "IPY_MODEL_48c20c6c11bd4364ae2552ae09e5d5d5",
            "value": 102530333
          }
        },
        "46287b9b2d7e4980a928b337f131a150": {
          "model_module": "@jupyter-widgets/controls",
          "model_module_version": "1.5.0",
          "model_name": "FloatProgressModel",
          "state": {
            "_dom_classes": [],
            "_model_module": "@jupyter-widgets/controls",
            "_model_module_version": "1.5.0",
            "_model_name": "FloatProgressModel",
            "_view_count": null,
            "_view_module": "@jupyter-widgets/controls",
            "_view_module_version": "1.5.0",
            "_view_name": "ProgressView",
            "bar_style": "success",
            "description": "",
            "description_tooltip": null,
            "layout": "IPY_MODEL_353c8e09dafe41a8b0d8466664a0d5b5",
            "max": 843438,
            "min": 0,
            "orientation": "horizontal",
            "style": "IPY_MODEL_e0741ba361b5430499bbc8e07b2d0b6f",
            "value": 843438
          }
        },
        "48c20c6c11bd4364ae2552ae09e5d5d5": {
          "model_module": "@jupyter-widgets/controls",
          "model_module_version": "1.5.0",
          "model_name": "ProgressStyleModel",
          "state": {
            "_model_module": "@jupyter-widgets/controls",
            "_model_module_version": "1.5.0",
            "_model_name": "ProgressStyleModel",
            "_view_count": null,
            "_view_module": "@jupyter-widgets/base",
            "_view_module_version": "1.2.0",
            "_view_name": "StyleView",
            "bar_color": null,
            "description_width": ""
          }
        },
        "4d2ab688baa24375b9027494ee00884e": {
          "model_module": "@jupyter-widgets/base",
          "model_module_version": "1.2.0",
          "model_name": "LayoutModel",
          "state": {
            "_model_module": "@jupyter-widgets/base",
            "_model_module_version": "1.2.0",
            "_model_name": "LayoutModel",
            "_view_count": null,
            "_view_module": "@jupyter-widgets/base",
            "_view_module_version": "1.2.0",
            "_view_name": "LayoutView",
            "align_content": null,
            "align_items": null,
            "align_self": null,
            "border": null,
            "bottom": null,
            "display": null,
            "flex": null,
            "flex_flow": null,
            "grid_area": null,
            "grid_auto_columns": null,
            "grid_auto_flow": null,
            "grid_auto_rows": null,
            "grid_column": null,
            "grid_gap": null,
            "grid_row": null,
            "grid_template_areas": null,
            "grid_template_columns": null,
            "grid_template_rows": null,
            "height": null,
            "justify_content": null,
            "justify_items": null,
            "left": null,
            "margin": null,
            "max_height": null,
            "max_width": null,
            "min_height": null,
            "min_width": null,
            "object_fit": null,
            "object_position": null,
            "order": null,
            "overflow": null,
            "overflow_x": null,
            "overflow_y": null,
            "padding": null,
            "right": null,
            "top": null,
            "visibility": null,
            "width": null
          }
        },
        "4fde104cd8b34bce97d3383337ece4ef": {
          "model_module": "@jupyter-widgets/controls",
          "model_module_version": "1.5.0",
          "model_name": "DescriptionStyleModel",
          "state": {
            "_model_module": "@jupyter-widgets/controls",
            "_model_module_version": "1.5.0",
            "_model_name": "DescriptionStyleModel",
            "_view_count": null,
            "_view_module": "@jupyter-widgets/base",
            "_view_module_version": "1.2.0",
            "_view_name": "StyleView",
            "description_width": ""
          }
        },
        "5357a30033a54da2ab3e3fca290c41ba": {
          "model_module": "@jupyter-widgets/controls",
          "model_module_version": "1.5.0",
          "model_name": "DescriptionStyleModel",
          "state": {
            "_model_module": "@jupyter-widgets/controls",
            "_model_module_version": "1.5.0",
            "_model_name": "DescriptionStyleModel",
            "_view_count": null,
            "_view_module": "@jupyter-widgets/base",
            "_view_module_version": "1.2.0",
            "_view_name": "StyleView",
            "description_width": ""
          }
        },
        "5424c846ab874e53b8680c8260047bee": {
          "model_module": "@jupyter-widgets/base",
          "model_module_version": "1.2.0",
          "model_name": "LayoutModel",
          "state": {
            "_model_module": "@jupyter-widgets/base",
            "_model_module_version": "1.2.0",
            "_model_name": "LayoutModel",
            "_view_count": null,
            "_view_module": "@jupyter-widgets/base",
            "_view_module_version": "1.2.0",
            "_view_name": "LayoutView",
            "align_content": null,
            "align_items": null,
            "align_self": null,
            "border": null,
            "bottom": null,
            "display": null,
            "flex": null,
            "flex_flow": null,
            "grid_area": null,
            "grid_auto_columns": null,
            "grid_auto_flow": null,
            "grid_auto_rows": null,
            "grid_column": null,
            "grid_gap": null,
            "grid_row": null,
            "grid_template_areas": null,
            "grid_template_columns": null,
            "grid_template_rows": null,
            "height": null,
            "justify_content": null,
            "justify_items": null,
            "left": null,
            "margin": null,
            "max_height": null,
            "max_width": null,
            "min_height": null,
            "min_width": null,
            "object_fit": null,
            "object_position": null,
            "order": null,
            "overflow": null,
            "overflow_x": null,
            "overflow_y": null,
            "padding": null,
            "right": null,
            "top": null,
            "visibility": null,
            "width": null
          }
        },
        "5550eaec9a99409dba415b346ded8677": {
          "model_module": "@jupyter-widgets/controls",
          "model_module_version": "1.5.0",
          "model_name": "DescriptionStyleModel",
          "state": {
            "_model_module": "@jupyter-widgets/controls",
            "_model_module_version": "1.5.0",
            "_model_name": "DescriptionStyleModel",
            "_view_count": null,
            "_view_module": "@jupyter-widgets/base",
            "_view_module_version": "1.2.0",
            "_view_name": "StyleView",
            "description_width": ""
          }
        },
        "5b41a4b563b745c8820ae9586b9c15e2": {
          "model_module": "@jupyter-widgets/controls",
          "model_module_version": "1.5.0",
          "model_name": "HBoxModel",
          "state": {
            "_dom_classes": [],
            "_model_module": "@jupyter-widgets/controls",
            "_model_module_version": "1.5.0",
            "_model_name": "HBoxModel",
            "_view_count": null,
            "_view_module": "@jupyter-widgets/controls",
            "_view_module_version": "1.5.0",
            "_view_name": "HBoxView",
            "box_style": "",
            "children": [
              "IPY_MODEL_b1f8ab349aaa4fec90c7002167ac3e61",
              "IPY_MODEL_43e0f0064a564c42a010878d258632e2",
              "IPY_MODEL_b27cb49dc6174849ac8a86ad5f7225d5"
            ],
            "layout": "IPY_MODEL_eb680a9130fd41939ee648cff319db62"
          }
        },
        "5c3e03f4541441a080654a25426ef61a": {
          "model_module": "@jupyter-widgets/base",
          "model_module_version": "1.2.0",
          "model_name": "LayoutModel",
          "state": {
            "_model_module": "@jupyter-widgets/base",
            "_model_module_version": "1.2.0",
            "_model_name": "LayoutModel",
            "_view_count": null,
            "_view_module": "@jupyter-widgets/base",
            "_view_module_version": "1.2.0",
            "_view_name": "LayoutView",
            "align_content": null,
            "align_items": null,
            "align_self": null,
            "border": null,
            "bottom": null,
            "display": null,
            "flex": null,
            "flex_flow": null,
            "grid_area": null,
            "grid_auto_columns": null,
            "grid_auto_flow": null,
            "grid_auto_rows": null,
            "grid_column": null,
            "grid_gap": null,
            "grid_row": null,
            "grid_template_areas": null,
            "grid_template_columns": null,
            "grid_template_rows": null,
            "height": null,
            "justify_content": null,
            "justify_items": null,
            "left": null,
            "margin": null,
            "max_height": null,
            "max_width": null,
            "min_height": null,
            "min_width": null,
            "object_fit": null,
            "object_position": null,
            "order": null,
            "overflow": null,
            "overflow_x": null,
            "overflow_y": null,
            "padding": null,
            "right": null,
            "top": null,
            "visibility": null,
            "width": null
          }
        },
        "609649c407704df588821b48819a3b7b": {
          "model_module": "@jupyter-widgets/controls",
          "model_module_version": "1.5.0",
          "model_name": "DescriptionStyleModel",
          "state": {
            "_model_module": "@jupyter-widgets/controls",
            "_model_module_version": "1.5.0",
            "_model_name": "DescriptionStyleModel",
            "_view_count": null,
            "_view_module": "@jupyter-widgets/base",
            "_view_module_version": "1.2.0",
            "_view_name": "StyleView",
            "description_width": ""
          }
        },
        "642ffcb9f96b466581a988300889d397": {
          "model_module": "@jupyter-widgets/controls",
          "model_module_version": "1.5.0",
          "model_name": "DescriptionStyleModel",
          "state": {
            "_model_module": "@jupyter-widgets/controls",
            "_model_module_version": "1.5.0",
            "_model_name": "DescriptionStyleModel",
            "_view_count": null,
            "_view_module": "@jupyter-widgets/base",
            "_view_module_version": "1.2.0",
            "_view_name": "StyleView",
            "description_width": ""
          }
        },
        "6d12f1d76e934874b68f1fb5fb396ff0": {
          "model_module": "@jupyter-widgets/base",
          "model_module_version": "1.2.0",
          "model_name": "LayoutModel",
          "state": {
            "_model_module": "@jupyter-widgets/base",
            "_model_module_version": "1.2.0",
            "_model_name": "LayoutModel",
            "_view_count": null,
            "_view_module": "@jupyter-widgets/base",
            "_view_module_version": "1.2.0",
            "_view_name": "LayoutView",
            "align_content": null,
            "align_items": null,
            "align_self": null,
            "border": null,
            "bottom": null,
            "display": null,
            "flex": null,
            "flex_flow": null,
            "grid_area": null,
            "grid_auto_columns": null,
            "grid_auto_flow": null,
            "grid_auto_rows": null,
            "grid_column": null,
            "grid_gap": null,
            "grid_row": null,
            "grid_template_areas": null,
            "grid_template_columns": null,
            "grid_template_rows": null,
            "height": null,
            "justify_content": null,
            "justify_items": null,
            "left": null,
            "margin": null,
            "max_height": null,
            "max_width": null,
            "min_height": null,
            "min_width": null,
            "object_fit": null,
            "object_position": null,
            "order": null,
            "overflow": null,
            "overflow_x": null,
            "overflow_y": null,
            "padding": null,
            "right": null,
            "top": null,
            "visibility": null,
            "width": null
          }
        },
        "72563aba14504c3eab2ea4a36558e588": {
          "model_module": "@jupyter-widgets/controls",
          "model_module_version": "1.5.0",
          "model_name": "DescriptionStyleModel",
          "state": {
            "_model_module": "@jupyter-widgets/controls",
            "_model_module_version": "1.5.0",
            "_model_name": "DescriptionStyleModel",
            "_view_count": null,
            "_view_module": "@jupyter-widgets/base",
            "_view_module_version": "1.2.0",
            "_view_name": "StyleView",
            "description_width": ""
          }
        },
        "784bdf7830484c4784bd82eedb315d96": {
          "model_module": "@jupyter-widgets/base",
          "model_module_version": "1.2.0",
          "model_name": "LayoutModel",
          "state": {
            "_model_module": "@jupyter-widgets/base",
            "_model_module_version": "1.2.0",
            "_model_name": "LayoutModel",
            "_view_count": null,
            "_view_module": "@jupyter-widgets/base",
            "_view_module_version": "1.2.0",
            "_view_name": "LayoutView",
            "align_content": null,
            "align_items": null,
            "align_self": null,
            "border": null,
            "bottom": null,
            "display": null,
            "flex": null,
            "flex_flow": null,
            "grid_area": null,
            "grid_auto_columns": null,
            "grid_auto_flow": null,
            "grid_auto_rows": null,
            "grid_column": null,
            "grid_gap": null,
            "grid_row": null,
            "grid_template_areas": null,
            "grid_template_columns": null,
            "grid_template_rows": null,
            "height": null,
            "justify_content": null,
            "justify_items": null,
            "left": null,
            "margin": null,
            "max_height": null,
            "max_width": null,
            "min_height": null,
            "min_width": null,
            "object_fit": null,
            "object_position": null,
            "order": null,
            "overflow": null,
            "overflow_x": null,
            "overflow_y": null,
            "padding": null,
            "right": null,
            "top": null,
            "visibility": null,
            "width": null
          }
        },
        "84e45862642f4b099f2fd11c6e10500a": {
          "model_module": "@jupyter-widgets/base",
          "model_module_version": "1.2.0",
          "model_name": "LayoutModel",
          "state": {
            "_model_module": "@jupyter-widgets/base",
            "_model_module_version": "1.2.0",
            "_model_name": "LayoutModel",
            "_view_count": null,
            "_view_module": "@jupyter-widgets/base",
            "_view_module_version": "1.2.0",
            "_view_name": "LayoutView",
            "align_content": null,
            "align_items": null,
            "align_self": null,
            "border": null,
            "bottom": null,
            "display": null,
            "flex": null,
            "flex_flow": null,
            "grid_area": null,
            "grid_auto_columns": null,
            "grid_auto_flow": null,
            "grid_auto_rows": null,
            "grid_column": null,
            "grid_gap": null,
            "grid_row": null,
            "grid_template_areas": null,
            "grid_template_columns": null,
            "grid_template_rows": null,
            "height": null,
            "justify_content": null,
            "justify_items": null,
            "left": null,
            "margin": null,
            "max_height": null,
            "max_width": null,
            "min_height": null,
            "min_width": null,
            "object_fit": null,
            "object_position": null,
            "order": null,
            "overflow": null,
            "overflow_x": null,
            "overflow_y": null,
            "padding": null,
            "right": null,
            "top": null,
            "visibility": null,
            "width": null
          }
        },
        "94e237c12aa1488fad93025f9f91f2d2": {
          "model_module": "@jupyter-widgets/controls",
          "model_module_version": "1.5.0",
          "model_name": "HTMLModel",
          "state": {
            "_dom_classes": [],
            "_model_module": "@jupyter-widgets/controls",
            "_model_module_version": "1.5.0",
            "_model_name": "HTMLModel",
            "_view_count": null,
            "_view_module": "@jupyter-widgets/controls",
            "_view_module_version": "1.5.0",
            "_view_name": "HTMLView",
            "description": "",
            "description_tooltip": null,
            "layout": "IPY_MODEL_5424c846ab874e53b8680c8260047bee",
            "placeholder": "​",
            "style": "IPY_MODEL_d15f3e2a57c7476db016b8fa10f624a4",
            "value": " 558/558 [00:00&lt;00:00, 16.2kB/s]"
          }
        },
        "a11c33f29b4b417fbad52bdcd23e9eec": {
          "model_module": "@jupyter-widgets/base",
          "model_module_version": "1.2.0",
          "model_name": "LayoutModel",
          "state": {
            "_model_module": "@jupyter-widgets/base",
            "_model_module_version": "1.2.0",
            "_model_name": "LayoutModel",
            "_view_count": null,
            "_view_module": "@jupyter-widgets/base",
            "_view_module_version": "1.2.0",
            "_view_name": "LayoutView",
            "align_content": null,
            "align_items": null,
            "align_self": null,
            "border": null,
            "bottom": null,
            "display": null,
            "flex": null,
            "flex_flow": null,
            "grid_area": null,
            "grid_auto_columns": null,
            "grid_auto_flow": null,
            "grid_auto_rows": null,
            "grid_column": null,
            "grid_gap": null,
            "grid_row": null,
            "grid_template_areas": null,
            "grid_template_columns": null,
            "grid_template_rows": null,
            "height": null,
            "justify_content": null,
            "justify_items": null,
            "left": null,
            "margin": null,
            "max_height": null,
            "max_width": null,
            "min_height": null,
            "min_width": null,
            "object_fit": null,
            "object_position": null,
            "order": null,
            "overflow": null,
            "overflow_x": null,
            "overflow_y": null,
            "padding": null,
            "right": null,
            "top": null,
            "visibility": null,
            "width": null
          }
        },
        "a16565c060a04729bfa9d143d1a1b415": {
          "model_module": "@jupyter-widgets/controls",
          "model_module_version": "1.5.0",
          "model_name": "FloatProgressModel",
          "state": {
            "_dom_classes": [],
            "_model_module": "@jupyter-widgets/controls",
            "_model_module_version": "1.5.0",
            "_model_name": "FloatProgressModel",
            "_view_count": null,
            "_view_module": "@jupyter-widgets/controls",
            "_view_module_version": "1.5.0",
            "_view_name": "ProgressView",
            "bar_style": "success",
            "description": "",
            "description_tooltip": null,
            "layout": "IPY_MODEL_16b56d95333948ce8842cd181bcf19fb",
            "max": 542529064,
            "min": 0,
            "orientation": "horizontal",
            "style": "IPY_MODEL_0c026a9756c04a52aec0d4268d4d1ef5",
            "value": 542529064
          }
        },
        "a21bbdd0286043f8bb82dda93a23002e": {
          "model_module": "@jupyter-widgets/base",
          "model_module_version": "1.2.0",
          "model_name": "LayoutModel",
          "state": {
            "_model_module": "@jupyter-widgets/base",
            "_model_module_version": "1.2.0",
            "_model_name": "LayoutModel",
            "_view_count": null,
            "_view_module": "@jupyter-widgets/base",
            "_view_module_version": "1.2.0",
            "_view_name": "LayoutView",
            "align_content": null,
            "align_items": null,
            "align_self": null,
            "border": null,
            "bottom": null,
            "display": null,
            "flex": null,
            "flex_flow": null,
            "grid_area": null,
            "grid_auto_columns": null,
            "grid_auto_flow": null,
            "grid_auto_rows": null,
            "grid_column": null,
            "grid_gap": null,
            "grid_row": null,
            "grid_template_areas": null,
            "grid_template_columns": null,
            "grid_template_rows": null,
            "height": null,
            "justify_content": null,
            "justify_items": null,
            "left": null,
            "margin": null,
            "max_height": null,
            "max_width": null,
            "min_height": null,
            "min_width": null,
            "object_fit": null,
            "object_position": null,
            "order": null,
            "overflow": null,
            "overflow_x": null,
            "overflow_y": null,
            "padding": null,
            "right": null,
            "top": null,
            "visibility": null,
            "width": null
          }
        },
        "a73b4d2580ad4431ae04033378ffc55e": {
          "model_module": "@jupyter-widgets/base",
          "model_module_version": "1.2.0",
          "model_name": "LayoutModel",
          "state": {
            "_model_module": "@jupyter-widgets/base",
            "_model_module_version": "1.2.0",
            "_model_name": "LayoutModel",
            "_view_count": null,
            "_view_module": "@jupyter-widgets/base",
            "_view_module_version": "1.2.0",
            "_view_name": "LayoutView",
            "align_content": null,
            "align_items": null,
            "align_self": null,
            "border": null,
            "bottom": null,
            "display": null,
            "flex": null,
            "flex_flow": null,
            "grid_area": null,
            "grid_auto_columns": null,
            "grid_auto_flow": null,
            "grid_auto_rows": null,
            "grid_column": null,
            "grid_gap": null,
            "grid_row": null,
            "grid_template_areas": null,
            "grid_template_columns": null,
            "grid_template_rows": null,
            "height": null,
            "justify_content": null,
            "justify_items": null,
            "left": null,
            "margin": null,
            "max_height": null,
            "max_width": null,
            "min_height": null,
            "min_width": null,
            "object_fit": null,
            "object_position": null,
            "order": null,
            "overflow": null,
            "overflow_x": null,
            "overflow_y": null,
            "padding": null,
            "right": null,
            "top": null,
            "visibility": null,
            "width": null
          }
        },
        "b1f8ab349aaa4fec90c7002167ac3e61": {
          "model_module": "@jupyter-widgets/controls",
          "model_module_version": "1.5.0",
          "model_name": "HTMLModel",
          "state": {
            "_dom_classes": [],
            "_model_module": "@jupyter-widgets/controls",
            "_model_module_version": "1.5.0",
            "_model_name": "HTMLModel",
            "_view_count": null,
            "_view_module": "@jupyter-widgets/controls",
            "_view_module_version": "1.5.0",
            "_view_name": "HTMLView",
            "description": "",
            "description_tooltip": null,
            "layout": "IPY_MODEL_a21bbdd0286043f8bb82dda93a23002e",
            "placeholder": "​",
            "style": "IPY_MODEL_eaaae3f55c2f447a9571bf4d21afa4db",
            "value": "100%"
          }
        },
        "b27cb49dc6174849ac8a86ad5f7225d5": {
          "model_module": "@jupyter-widgets/controls",
          "model_module_version": "1.5.0",
          "model_name": "HTMLModel",
          "state": {
            "_dom_classes": [],
            "_model_module": "@jupyter-widgets/controls",
            "_model_module_version": "1.5.0",
            "_model_name": "HTMLModel",
            "_view_count": null,
            "_view_module": "@jupyter-widgets/controls",
            "_view_module_version": "1.5.0",
            "_view_name": "HTMLView",
            "description": "",
            "description_tooltip": null,
            "layout": "IPY_MODEL_4d2ab688baa24375b9027494ee00884e",
            "placeholder": "​",
            "style": "IPY_MODEL_5550eaec9a99409dba415b346ded8677",
            "value": " 97.8M/97.8M [00:00&lt;00:00, 176MB/s]"
          }
        },
        "b52b43b2d5c34283a75fce0ec165ad9e": {
          "model_module": "@jupyter-widgets/controls",
          "model_module_version": "1.5.0",
          "model_name": "ProgressStyleModel",
          "state": {
            "_model_module": "@jupyter-widgets/controls",
            "_model_module_version": "1.5.0",
            "_model_name": "ProgressStyleModel",
            "_view_count": null,
            "_view_module": "@jupyter-widgets/base",
            "_view_module_version": "1.2.0",
            "_view_name": "StyleView",
            "bar_color": null,
            "description_width": ""
          }
        },
        "b6aa91b2e78c4db193abfad4559519fa": {
          "model_module": "@jupyter-widgets/controls",
          "model_module_version": "1.5.0",
          "model_name": "HBoxModel",
          "state": {
            "_dom_classes": [],
            "_model_module": "@jupyter-widgets/controls",
            "_model_module_version": "1.5.0",
            "_model_name": "HBoxModel",
            "_view_count": null,
            "_view_module": "@jupyter-widgets/controls",
            "_view_module_version": "1.5.0",
            "_view_name": "HBoxView",
            "box_style": "",
            "children": [
              "IPY_MODEL_e83f91c6ebdb456a9c8f9919f0f68ff9",
              "IPY_MODEL_33fbce7fca3b4cbea08917b28162a698",
              "IPY_MODEL_2621219d644045bc947a031f12c69b69"
            ],
            "layout": "IPY_MODEL_35a9c20a400749ffb90be6f8c0165f9a"
          }
        },
        "b9b6865e0c624532a410d0ffc00924f4": {
          "model_module": "@jupyter-widgets/controls",
          "model_module_version": "1.5.0",
          "model_name": "DescriptionStyleModel",
          "state": {
            "_model_module": "@jupyter-widgets/controls",
            "_model_module_version": "1.5.0",
            "_model_name": "DescriptionStyleModel",
            "_view_count": null,
            "_view_module": "@jupyter-widgets/base",
            "_view_module_version": "1.2.0",
            "_view_name": "StyleView",
            "description_width": ""
          }
        },
        "c6cc3b19470d4848abbce9c1f22356fc": {
          "model_module": "@jupyter-widgets/base",
          "model_module_version": "1.2.0",
          "model_name": "LayoutModel",
          "state": {
            "_model_module": "@jupyter-widgets/base",
            "_model_module_version": "1.2.0",
            "_model_name": "LayoutModel",
            "_view_count": null,
            "_view_module": "@jupyter-widgets/base",
            "_view_module_version": "1.2.0",
            "_view_name": "LayoutView",
            "align_content": null,
            "align_items": null,
            "align_self": null,
            "border": null,
            "bottom": null,
            "display": null,
            "flex": null,
            "flex_flow": null,
            "grid_area": null,
            "grid_auto_columns": null,
            "grid_auto_flow": null,
            "grid_auto_rows": null,
            "grid_column": null,
            "grid_gap": null,
            "grid_row": null,
            "grid_template_areas": null,
            "grid_template_columns": null,
            "grid_template_rows": null,
            "height": null,
            "justify_content": null,
            "justify_items": null,
            "left": null,
            "margin": null,
            "max_height": null,
            "max_width": null,
            "min_height": null,
            "min_width": null,
            "object_fit": null,
            "object_position": null,
            "order": null,
            "overflow": null,
            "overflow_x": null,
            "overflow_y": null,
            "padding": null,
            "right": null,
            "top": null,
            "visibility": null,
            "width": null
          }
        },
        "c74d326477a849978db03d8e3fcf15fe": {
          "model_module": "@jupyter-widgets/controls",
          "model_module_version": "1.5.0",
          "model_name": "HBoxModel",
          "state": {
            "_dom_classes": [],
            "_model_module": "@jupyter-widgets/controls",
            "_model_module_version": "1.5.0",
            "_model_name": "HBoxModel",
            "_view_count": null,
            "_view_module": "@jupyter-widgets/controls",
            "_view_module_version": "1.5.0",
            "_view_name": "HBoxView",
            "box_style": "",
            "children": [
              "IPY_MODEL_f6742dfffbc64bb4afb7c3c967ded205",
              "IPY_MODEL_a16565c060a04729bfa9d143d1a1b415",
              "IPY_MODEL_1b2b4b4d3c19472e967b710dc7e6bccc"
            ],
            "layout": "IPY_MODEL_a73b4d2580ad4431ae04033378ffc55e"
          }
        },
        "cb78dde0ada341f4a48b8cdcea7bfaa2": {
          "model_module": "@jupyter-widgets/base",
          "model_module_version": "1.2.0",
          "model_name": "LayoutModel",
          "state": {
            "_model_module": "@jupyter-widgets/base",
            "_model_module_version": "1.2.0",
            "_model_name": "LayoutModel",
            "_view_count": null,
            "_view_module": "@jupyter-widgets/base",
            "_view_module_version": "1.2.0",
            "_view_name": "LayoutView",
            "align_content": null,
            "align_items": null,
            "align_self": null,
            "border": null,
            "bottom": null,
            "display": null,
            "flex": null,
            "flex_flow": null,
            "grid_area": null,
            "grid_auto_columns": null,
            "grid_auto_flow": null,
            "grid_auto_rows": null,
            "grid_column": null,
            "grid_gap": null,
            "grid_row": null,
            "grid_template_areas": null,
            "grid_template_columns": null,
            "grid_template_rows": null,
            "height": null,
            "justify_content": null,
            "justify_items": null,
            "left": null,
            "margin": null,
            "max_height": null,
            "max_width": null,
            "min_height": null,
            "min_width": null,
            "object_fit": null,
            "object_position": null,
            "order": null,
            "overflow": null,
            "overflow_x": null,
            "overflow_y": null,
            "padding": null,
            "right": null,
            "top": null,
            "visibility": null,
            "width": null
          }
        },
        "d15f3e2a57c7476db016b8fa10f624a4": {
          "model_module": "@jupyter-widgets/controls",
          "model_module_version": "1.5.0",
          "model_name": "DescriptionStyleModel",
          "state": {
            "_model_module": "@jupyter-widgets/controls",
            "_model_module_version": "1.5.0",
            "_model_name": "DescriptionStyleModel",
            "_view_count": null,
            "_view_module": "@jupyter-widgets/base",
            "_view_module_version": "1.2.0",
            "_view_name": "StyleView",
            "description_width": ""
          }
        },
        "df6d12df396641a396da7ee9a51be088": {
          "model_module": "@jupyter-widgets/controls",
          "model_module_version": "1.5.0",
          "model_name": "FloatProgressModel",
          "state": {
            "_dom_classes": [],
            "_model_module": "@jupyter-widgets/controls",
            "_model_module_version": "1.5.0",
            "_model_name": "FloatProgressModel",
            "_view_count": null,
            "_view_module": "@jupyter-widgets/controls",
            "_view_module_version": "1.5.0",
            "_view_name": "ProgressView",
            "bar_style": "success",
            "description": "",
            "description_tooltip": null,
            "layout": "IPY_MODEL_16a89eaf656d46f2bc2f22b5b4ae6900",
            "max": 558,
            "min": 0,
            "orientation": "horizontal",
            "style": "IPY_MODEL_2d9397e95b0244a798ec732594411b4a",
            "value": 558
          }
        },
        "e0741ba361b5430499bbc8e07b2d0b6f": {
          "model_module": "@jupyter-widgets/controls",
          "model_module_version": "1.5.0",
          "model_name": "ProgressStyleModel",
          "state": {
            "_model_module": "@jupyter-widgets/controls",
            "_model_module_version": "1.5.0",
            "_model_name": "ProgressStyleModel",
            "_view_count": null,
            "_view_module": "@jupyter-widgets/base",
            "_view_module_version": "1.2.0",
            "_view_name": "StyleView",
            "bar_color": null,
            "description_width": ""
          }
        },
        "e498f4541b6741bab4df09af30d6e807": {
          "model_module": "@jupyter-widgets/controls",
          "model_module_version": "1.5.0",
          "model_name": "HBoxModel",
          "state": {
            "_dom_classes": [],
            "_model_module": "@jupyter-widgets/controls",
            "_model_module_version": "1.5.0",
            "_model_name": "HBoxModel",
            "_view_count": null,
            "_view_module": "@jupyter-widgets/controls",
            "_view_module_version": "1.5.0",
            "_view_name": "HBoxView",
            "box_style": "",
            "children": [
              "IPY_MODEL_3541a3ef3fc0452baefbf0b82a25cc38",
              "IPY_MODEL_46287b9b2d7e4980a928b337f131a150",
              "IPY_MODEL_ef3d0000e9f24b3f87f64626251bfe4d"
            ],
            "layout": "IPY_MODEL_c6cc3b19470d4848abbce9c1f22356fc"
          }
        },
        "e83f91c6ebdb456a9c8f9919f0f68ff9": {
          "model_module": "@jupyter-widgets/controls",
          "model_module_version": "1.5.0",
          "model_name": "HTMLModel",
          "state": {
            "_dom_classes": [],
            "_model_module": "@jupyter-widgets/controls",
            "_model_module_version": "1.5.0",
            "_model_name": "HTMLModel",
            "_view_count": null,
            "_view_module": "@jupyter-widgets/controls",
            "_view_module_version": "1.5.0",
            "_view_name": "HTMLView",
            "description": "",
            "description_tooltip": null,
            "layout": "IPY_MODEL_6d12f1d76e934874b68f1fb5fb396ff0",
            "placeholder": "​",
            "style": "IPY_MODEL_72563aba14504c3eab2ea4a36558e588",
            "value": "Downloading: 100%"
          }
        },
        "eaaae3f55c2f447a9571bf4d21afa4db": {
          "model_module": "@jupyter-widgets/controls",
          "model_module_version": "1.5.0",
          "model_name": "DescriptionStyleModel",
          "state": {
            "_model_module": "@jupyter-widgets/controls",
            "_model_module_version": "1.5.0",
            "_model_name": "DescriptionStyleModel",
            "_view_count": null,
            "_view_module": "@jupyter-widgets/base",
            "_view_module_version": "1.2.0",
            "_view_name": "StyleView",
            "description_width": ""
          }
        },
        "eb680a9130fd41939ee648cff319db62": {
          "model_module": "@jupyter-widgets/base",
          "model_module_version": "1.2.0",
          "model_name": "LayoutModel",
          "state": {
            "_model_module": "@jupyter-widgets/base",
            "_model_module_version": "1.2.0",
            "_model_name": "LayoutModel",
            "_view_count": null,
            "_view_module": "@jupyter-widgets/base",
            "_view_module_version": "1.2.0",
            "_view_name": "LayoutView",
            "align_content": null,
            "align_items": null,
            "align_self": null,
            "border": null,
            "bottom": null,
            "display": null,
            "flex": null,
            "flex_flow": null,
            "grid_area": null,
            "grid_auto_columns": null,
            "grid_auto_flow": null,
            "grid_auto_rows": null,
            "grid_column": null,
            "grid_gap": null,
            "grid_row": null,
            "grid_template_areas": null,
            "grid_template_columns": null,
            "grid_template_rows": null,
            "height": null,
            "justify_content": null,
            "justify_items": null,
            "left": null,
            "margin": null,
            "max_height": null,
            "max_width": null,
            "min_height": null,
            "min_width": null,
            "object_fit": null,
            "object_position": null,
            "order": null,
            "overflow": null,
            "overflow_x": null,
            "overflow_y": null,
            "padding": null,
            "right": null,
            "top": null,
            "visibility": null,
            "width": null
          }
        },
        "ef3d0000e9f24b3f87f64626251bfe4d": {
          "model_module": "@jupyter-widgets/controls",
          "model_module_version": "1.5.0",
          "model_name": "HTMLModel",
          "state": {
            "_dom_classes": [],
            "_model_module": "@jupyter-widgets/controls",
            "_model_module_version": "1.5.0",
            "_model_name": "HTMLModel",
            "_view_count": null,
            "_view_module": "@jupyter-widgets/controls",
            "_view_module_version": "1.5.0",
            "_view_name": "HTMLView",
            "description": "",
            "description_tooltip": null,
            "layout": "IPY_MODEL_5c3e03f4541441a080654a25426ef61a",
            "placeholder": "​",
            "style": "IPY_MODEL_609649c407704df588821b48819a3b7b",
            "value": " 824k/824k [00:00&lt;00:00, 953kB/s]"
          }
        },
        "f3cc8ebc16e14d54888d16403ff11418": {
          "model_module": "@jupyter-widgets/base",
          "model_module_version": "1.2.0",
          "model_name": "LayoutModel",
          "state": {
            "_model_module": "@jupyter-widgets/base",
            "_model_module_version": "1.2.0",
            "_model_name": "LayoutModel",
            "_view_count": null,
            "_view_module": "@jupyter-widgets/base",
            "_view_module_version": "1.2.0",
            "_view_name": "LayoutView",
            "align_content": null,
            "align_items": null,
            "align_self": null,
            "border": null,
            "bottom": null,
            "display": null,
            "flex": null,
            "flex_flow": null,
            "grid_area": null,
            "grid_auto_columns": null,
            "grid_auto_flow": null,
            "grid_auto_rows": null,
            "grid_column": null,
            "grid_gap": null,
            "grid_row": null,
            "grid_template_areas": null,
            "grid_template_columns": null,
            "grid_template_rows": null,
            "height": null,
            "justify_content": null,
            "justify_items": null,
            "left": null,
            "margin": null,
            "max_height": null,
            "max_width": null,
            "min_height": null,
            "min_width": null,
            "object_fit": null,
            "object_position": null,
            "order": null,
            "overflow": null,
            "overflow_x": null,
            "overflow_y": null,
            "padding": null,
            "right": null,
            "top": null,
            "visibility": null,
            "width": null
          }
        },
        "f6742dfffbc64bb4afb7c3c967ded205": {
          "model_module": "@jupyter-widgets/controls",
          "model_module_version": "1.5.0",
          "model_name": "HTMLModel",
          "state": {
            "_dom_classes": [],
            "_model_module": "@jupyter-widgets/controls",
            "_model_module_version": "1.5.0",
            "_model_name": "HTMLModel",
            "_view_count": null,
            "_view_module": "@jupyter-widgets/controls",
            "_view_module_version": "1.5.0",
            "_view_name": "HTMLView",
            "description": "",
            "description_tooltip": null,
            "layout": "IPY_MODEL_cb78dde0ada341f4a48b8cdcea7bfaa2",
            "placeholder": "​",
            "style": "IPY_MODEL_4fde104cd8b34bce97d3383337ece4ef",
            "value": "Downloading: 100%"
          }
        },
        "fda967879a1046a0ba6f73115fbb7b4e": {
          "model_module": "@jupyter-widgets/base",
          "model_module_version": "1.2.0",
          "model_name": "LayoutModel",
          "state": {
            "_model_module": "@jupyter-widgets/base",
            "_model_module_version": "1.2.0",
            "_model_name": "LayoutModel",
            "_view_count": null,
            "_view_module": "@jupyter-widgets/base",
            "_view_module_version": "1.2.0",
            "_view_name": "LayoutView",
            "align_content": null,
            "align_items": null,
            "align_self": null,
            "border": null,
            "bottom": null,
            "display": null,
            "flex": null,
            "flex_flow": null,
            "grid_area": null,
            "grid_auto_columns": null,
            "grid_auto_flow": null,
            "grid_auto_rows": null,
            "grid_column": null,
            "grid_gap": null,
            "grid_row": null,
            "grid_template_areas": null,
            "grid_template_columns": null,
            "grid_template_rows": null,
            "height": null,
            "justify_content": null,
            "justify_items": null,
            "left": null,
            "margin": null,
            "max_height": null,
            "max_width": null,
            "min_height": null,
            "min_width": null,
            "object_fit": null,
            "object_position": null,
            "order": null,
            "overflow": null,
            "overflow_x": null,
            "overflow_y": null,
            "padding": null,
            "right": null,
            "top": null,
            "visibility": null,
            "width": null
          }
        }
      }
    }
  },
  "nbformat": 4,
  "nbformat_minor": 5
}