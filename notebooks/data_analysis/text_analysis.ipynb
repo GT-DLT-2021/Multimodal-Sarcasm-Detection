{
 "cells": [
  {
   "cell_type": "markdown",
   "id": "0ee3d554-e964-4f5a-95ac-f82b665f457d",
   "metadata": {},
   "source": [
    "# Training text data analysis"
   ]
  },
  {
   "cell_type": "code",
   "execution_count": 24,
   "id": "99ae92f8-dfb6-4bc3-a0c6-bd658d790664",
   "metadata": {},
   "outputs": [],
   "source": [
    "# Retina quality plots\n",
    "%config InlineBackend.figure_format = 'retina'"
   ]
  },
  {
   "cell_type": "markdown",
   "id": "8e058320-3ebd-46c8-b8a4-d72a27692453",
   "metadata": {},
   "source": [
    "## Load data"
   ]
  },
  {
   "cell_type": "code",
   "execution_count": 7,
   "id": "3e1d1295-1e00-4b4b-a561-8eab3656d734",
   "metadata": {},
   "outputs": [],
   "source": [
    "TRAIN_DATA_PATH = '../../data/text_data/train.txt'"
   ]
  },
  {
   "cell_type": "code",
   "execution_count": 162,
   "id": "ed7a7bcd-f8ce-4152-92ac-795a0488ab1e",
   "metadata": {},
   "outputs": [],
   "source": [
    "import ast\n",
    "\n",
    "def load_data_lists(path):\n",
    "    data_points_lists = []\n",
    "    with open(path, encoding='utf-8') as f:\n",
    "        lines = f.readlines()\n",
    "\n",
    "        for line in lines:\n",
    "            try:\n",
    "                data_points_lists.append(ast.literal_eval(line))\n",
    "            except:\n",
    "                # Ignore lines with errors\n",
    "                pass\n",
    "\n",
    "    print('Found {} lines in \"{}\".'.format(len(lines), TRAIN_DATA_PATH))\n",
    "    print('Successfully loaded {} data points from \"{}\".'.format(len(data_points_lists), path))\n",
    "    \n",
    "    return data_points_lists"
   ]
  },
  {
   "cell_type": "code",
   "execution_count": 163,
   "id": "c835521e-df1c-4052-90ad-89250abd5ca6",
   "metadata": {},
   "outputs": [
    {
     "name": "stdout",
     "output_type": "stream",
     "text": [
      "Found 29040 lines in \"../../data/text_data/train.txt\".\n",
      "Successfully loaded 29040 data points from \"../../data/text_data/train.txt\".\n"
     ]
    }
   ],
   "source": [
    "data_points_lists = load_data_lists(TRAIN_DATA_PATH)"
   ]
  },
  {
   "cell_type": "code",
   "execution_count": 165,
   "id": "1f1d7c02-0edf-43a3-970d-3e723d65e4e4",
   "metadata": {},
   "outputs": [],
   "source": [
    "import pandas as pd\n",
    "\n",
    "COLUMN_NAMES = ['ID', 'Text', 'Sarcastic']\n",
    "\n",
    "def construct_df(data_points_lists, column_names=COLUMN_NAMES):\n",
    "    df = pd.DataFrame(data_points_lists, columns=column_names)\n",
    "    df['ID'] = pd.to_numeric(df['ID'])\n",
    "    df['Sarcastic'] = df['Sarcastic'].astype('bool')\n",
    "    \n",
    "    return df"
   ]
  },
  {
   "cell_type": "code",
   "execution_count": 166,
   "id": "9c33fd7e-610a-47d7-bd47-f4d72e5bb742",
   "metadata": {},
   "outputs": [
    {
     "name": "stdout",
     "output_type": "stream",
     "text": [
      "<class 'pandas.core.frame.DataFrame'>\n",
      "RangeIndex: 29040 entries, 0 to 29039\n",
      "Data columns (total 3 columns):\n",
      " #   Column     Non-Null Count  Dtype \n",
      "---  ------     --------------  ----- \n",
      " 0   ID         29040 non-null  int64 \n",
      " 1   Text       29040 non-null  object\n",
      " 2   Sarcastic  29040 non-null  bool  \n",
      "dtypes: bool(1), int64(1), object(1)\n",
      "memory usage: 482.2+ KB\n"
     ]
    },
    {
     "data": {
      "text/html": [
       "<div>\n",
       "<style scoped>\n",
       "    .dataframe tbody tr th:only-of-type {\n",
       "        vertical-align: middle;\n",
       "    }\n",
       "\n",
       "    .dataframe tbody tr th {\n",
       "        vertical-align: top;\n",
       "    }\n",
       "\n",
       "    .dataframe thead th {\n",
       "        text-align: right;\n",
       "    }\n",
       "</style>\n",
       "<table border=\"1\" class=\"dataframe\">\n",
       "  <thead>\n",
       "    <tr style=\"text-align: right;\">\n",
       "      <th></th>\n",
       "      <th>ID</th>\n",
       "      <th>Text</th>\n",
       "      <th>Sarcastic</th>\n",
       "    </tr>\n",
       "  </thead>\n",
       "  <tbody>\n",
       "    <tr>\n",
       "      <th>0</th>\n",
       "      <td>910308516510011393</td>\n",
       "      <td>most # funny quotes : 21 snarky and # funny qu...</td>\n",
       "      <td>True</td>\n",
       "    </tr>\n",
       "    <tr>\n",
       "      <th>1</th>\n",
       "      <td>725333760762363905</td>\n",
       "      <td>spurs # creativethinking ! &lt;url&gt;</td>\n",
       "      <td>True</td>\n",
       "    </tr>\n",
       "    <tr>\n",
       "      <th>2</th>\n",
       "      <td>840006160660983809</td>\n",
       "      <td>&lt;user&gt; thanks for showing up for our appointme...</td>\n",
       "      <td>True</td>\n",
       "    </tr>\n",
       "    <tr>\n",
       "      <th>3</th>\n",
       "      <td>854334602516733952</td>\n",
       "      <td>only a hardcore fan of sir jonny sins will get...</td>\n",
       "      <td>True</td>\n",
       "    </tr>\n",
       "    <tr>\n",
       "      <th>4</th>\n",
       "      <td>908913372199915520</td>\n",
       "      <td>haha .  # lol</td>\n",
       "      <td>True</td>\n",
       "    </tr>\n",
       "  </tbody>\n",
       "</table>\n",
       "</div>"
      ],
      "text/plain": [
       "                   ID                                               Text  \\\n",
       "0  910308516510011393  most # funny quotes : 21 snarky and # funny qu...   \n",
       "1  725333760762363905                   spurs # creativethinking ! <url>   \n",
       "2  840006160660983809  <user> thanks for showing up for our appointme...   \n",
       "3  854334602516733952  only a hardcore fan of sir jonny sins will get...   \n",
       "4  908913372199915520                                      haha .  # lol   \n",
       "\n",
       "   Sarcastic  \n",
       "0       True  \n",
       "1       True  \n",
       "2       True  \n",
       "3       True  \n",
       "4       True  "
      ]
     },
     "execution_count": 166,
     "metadata": {},
     "output_type": "execute_result"
    }
   ],
   "source": [
    "train_df = construct_df(data_points_lists)\n",
    "\n",
    "train_df.info()\n",
    "train_df.head()"
   ]
  },
  {
   "cell_type": "markdown",
   "id": "1f9b9685-dec4-4111-97a8-875e99a0513e",
   "metadata": {},
   "source": [
    "## ID"
   ]
  },
  {
   "cell_type": "code",
   "execution_count": 27,
   "id": "db3e924f-cc8d-4243-8578-e4cf36817f18",
   "metadata": {},
   "outputs": [
    {
     "name": "stdout",
     "output_type": "stream",
     "text": [
      "Number of unique IDs - 29040 - out of total 29040.\n"
     ]
    }
   ],
   "source": [
    "print('Number of unique IDs - {} - out of total {}.'.format(train_df['ID'].nunique(), len(train_df)))"
   ]
  },
  {
   "cell_type": "markdown",
   "id": "bc42e0db-3740-489d-9fbd-61d227a91e64",
   "metadata": {},
   "source": [
    "## Sarcasm distribution"
   ]
  },
  {
   "cell_type": "code",
   "execution_count": 29,
   "id": "14dddf79-5204-4dbe-8c27-f9cd95a92e7a",
   "metadata": {},
   "outputs": [
    {
     "data": {
      "text/plain": [
       "Sarcastic\n",
       "False    14784\n",
       "True     14256\n",
       "dtype: int64"
      ]
     },
     "execution_count": 29,
     "metadata": {},
     "output_type": "execute_result"
    }
   ],
   "source": [
    "import seaborn as sns\n",
    "\n",
    "train_df.groupby('Sarcastic').size()"
   ]
  },
  {
   "cell_type": "markdown",
   "id": "50eca8a6-706d-47b5-bc6c-0b9b6dc5ec1f",
   "metadata": {},
   "source": [
    "## Text"
   ]
  },
  {
   "cell_type": "code",
   "execution_count": 57,
   "id": "d375bd75-8dda-47d7-bed9-984f51c9072e",
   "metadata": {},
   "outputs": [],
   "source": [
    "import seaborn as sns\n",
    "import matplotlib.pyplot as plt\n",
    "import numpy as np\n",
    "\n",
    "def lengths_plot(data, target, title):\n",
    "    lengths = data[target].str.len()\n",
    "\n",
    "    ax = sns.displot(lengths)\n",
    "    plt.title(title)\n",
    "    ax.set(xlabel='Length')"
   ]
  },
  {
   "cell_type": "code",
   "execution_count": 58,
   "id": "663147c9-2784-4c36-a0ab-d446dd1453b5",
   "metadata": {},
   "outputs": [
    {
     "data": {
      "image/png": "[encoded data removed]",
      "text/plain": [
       "<Figure size 360x360 with 1 Axes>"
      ]
     },
     "metadata": {
      "image/png": {
       "height": 367,
       "width": 352
      },
      "needs_background": "light"
     },
     "output_type": "display_data"
    }
   ],
   "source": [
    "lengths_plot(train_df, 'Text', 'Tweets char lengths')"
   ]
  },
  {
   "cell_type": "code",
   "execution_count": 60,
   "id": "47912fd3-64d1-47ee-b2ac-41d7e7933f8b",
   "metadata": {},
   "outputs": [
    {
     "name": "stdout",
     "output_type": "stream",
     "text": [
      "Tweets char lengths:\n"
     ]
    },
    {
     "data": {
      "text/plain": [
       "count    29040.000000\n",
       "mean        84.193629\n",
       "std         40.424313\n",
       "min          4.000000\n",
       "25%         54.000000\n",
       "50%         85.000000\n",
       "75%        112.000000\n",
       "max        665.000000\n",
       "Name: Text, dtype: float64"
      ]
     },
     "execution_count": 60,
     "metadata": {},
     "output_type": "execute_result"
    }
   ],
   "source": [
    "print('Tweets char lengths:')\n",
    "train_df['Text'].str.len().describe()"
   ]
  },
  {
   "cell_type": "code",
   "execution_count": 182,
   "id": "d6f26616-43f5-4bf0-9ea8-ac42deaccef1",
   "metadata": {},
   "outputs": [
    {
     "name": "stdout",
     "output_type": "stream",
     "text": [
      "Correlation of char lenghts with the target label (\"Sarcastic\"): 0.12704800798608906\n"
     ]
    }
   ],
   "source": [
    "print('Correlation of char lenghts with the target label (\"Sarcastic\"): {}'\n",
    "      .format(train_df['Text'].str.len().corr(train_df['Sarcastic'])))"
   ]
  },
  {
   "cell_type": "code",
   "execution_count": 186,
   "id": "cc5ac00d-db0d-4ffd-a449-6baf1e2e173a",
   "metadata": {},
   "outputs": [
    {
     "data": {
      "text/plain": [
       "<seaborn.axisgrid.FacetGrid at 0x1f02b8b8160>"
      ]
     },
     "execution_count": 186,
     "metadata": {},
     "output_type": "execute_result"
    },
    {
     "data": {
      "image/png": "[encoded data removed]",
      "text/plain": [
       "<Figure size 360x360 with 1 Axes>"
      ]
     },
     "metadata": {
      "image/png": {
       "height": 366,
       "width": 352
      },
      "needs_background": "light"
     },
     "output_type": "display_data"
    }
   ],
   "source": [
    "words = train_df['Text'].str.split('\\\\s+')\n",
    "word_cnts = words.apply(len)\n",
    "\n",
    "ax = sns.displot(word_cnts)\n",
    "plt.title('Tweets word count')\n",
    "ax.set(xlabel='Word count')"
   ]
  },
  {
   "cell_type": "code",
   "execution_count": 68,
   "id": "a094fbdd-7182-4d4a-89d5-a171ef0f47f1",
   "metadata": {},
   "outputs": [
    {
     "name": "stdout",
     "output_type": "stream",
     "text": [
      "Tweets word counts:\n"
     ]
    },
    {
     "data": {
      "text/plain": [
       "count    29040.000000\n",
       "mean        16.687844\n",
       "std          8.059311\n",
       "min          1.000000\n",
       "25%         10.000000\n",
       "50%         16.000000\n",
       "75%         22.000000\n",
       "max         70.000000\n",
       "Name: Text, dtype: float64"
      ]
     },
     "execution_count": 68,
     "metadata": {},
     "output_type": "execute_result"
    }
   ],
   "source": [
    "print('Tweets word counts:')\n",
    "word_cnts.describe()"
   ]
  },
  {
   "cell_type": "code",
   "execution_count": 185,
   "id": "7a610adf-2101-455c-8062-2691672e2b71",
   "metadata": {},
   "outputs": [
    {
     "name": "stdout",
     "output_type": "stream",
     "text": [
      "Correlation of word counts with the target label (\"Sarcastic\"): 0.1530693723971331\n"
     ]
    }
   ],
   "source": [
    "print('Correlation of word counts with the target label (\"Sarcastic\"): {}'\n",
    "      .format(word_cnts.corr(train_df['Sarcastic'])))"
   ]
  },
  {
   "cell_type": "markdown",
   "id": "05d28d96-5873-4e67-86b4-c4496584c7f8",
   "metadata": {},
   "source": [
    "### Special tags"
   ]
  },
  {
   "cell_type": "code",
   "execution_count": 84,
   "id": "17f2a2c8-04b7-414f-b51e-9cbfc8ac2c08",
   "metadata": {},
   "outputs": [],
   "source": [
    "import re"
   ]
  },
  {
   "cell_type": "code",
   "execution_count": 111,
   "id": "4e06cdf4-c840-42ed-a0aa-348d89dc173f",
   "metadata": {},
   "outputs": [],
   "source": [
    "def extract_regex_matches(regex_pattern, data):\n",
    "    extracted_data = data['Text'].apply(lambda txt: re.findall(regex_pattern, txt))\n",
    "    return extracted_data"
   ]
  },
  {
   "cell_type": "code",
   "execution_count": 117,
   "id": "ac150d38-dfee-439b-a0cc-9e2238a39fda",
   "metadata": {},
   "outputs": [
    {
     "data": {
      "text/plain": [
       "0           [<url>]\n",
       "1           [<url>]\n",
       "2          [<user>]\n",
       "3    [<url>, <url>]\n",
       "4                []\n",
       "Name: Text, dtype: object"
      ]
     },
     "execution_count": 117,
     "metadata": {},
     "output_type": "execute_result"
    }
   ],
   "source": [
    "SPECIAL_TAG_REGEX_PATTERN = r'\\<.*?\\>'\n",
    "\n",
    "special_tags = extract_regex_matches(SPECIAL_TAG_REGEX_PATTERN, train_df)\n",
    "special_tags.head()"
   ]
  },
  {
   "cell_type": "code",
   "execution_count": null,
   "id": "c1477efc-c7b9-491d-8337-a69866c17d11",
   "metadata": {},
   "outputs": [],
   "source": []
  },
  {
   "cell_type": "code",
   "execution_count": 118,
   "id": "a325e597-2225-4900-b08e-1f9cd46dda18",
   "metadata": {},
   "outputs": [],
   "source": [
    "def flatten_and_unique(data, data_name='values'):\n",
    "    flatten_data = data.apply(pd.Series).stack()\n",
    "    unique_data = flatten_data.unique()\n",
    "\n",
    "    print('Found {} unique {} out of total {}:'.format(len(unique_special_tags), data_name, len(flatten_data)))\n",
    "    \n",
    "    return flatten_data, unique_data"
   ]
  },
  {
   "cell_type": "code",
   "execution_count": 119,
   "id": "ae27553d-96c4-4f1b-91b4-6456f10ab23b",
   "metadata": {},
   "outputs": [
    {
     "name": "stdout",
     "output_type": "stream",
     "text": [
      "Found 15 unique special tags out of total 17984:\n"
     ]
    },
    {
     "data": {
      "text/plain": [
       "array(['<url>', '<user>', '<num>', '<- <url>', '<3 check out <url>',\n",
       "       '<<url>', '< url >',\n",
       "       '<input id=\"password\" ..snip.. maxlength=\"6\">', '<>', '<<# lwt<o>',\n",
       "       '< marshmello looks so adorable, and lele looks so beautiful. both of you two mesmerizing me. <user>',\n",
       "       '<= <num>', '<confidential assignment>', '<facepalm>', '<3 <url>'],\n",
       "      dtype=object)"
      ]
     },
     "execution_count": 119,
     "metadata": {},
     "output_type": "execute_result"
    }
   ],
   "source": [
    "all_special_tags, unique_special_tags = flatten_and_unique(special_tags, 'special tags')\n",
    "unique_special_tags"
   ]
  },
  {
   "cell_type": "code",
   "execution_count": 108,
   "id": "20716114-2224-4c2d-905f-154cf8d416e3",
   "metadata": {},
   "outputs": [
    {
     "name": "stdout",
     "output_type": "stream",
     "text": [
      "Most common special tags:\n"
     ]
    },
    {
     "data": {
      "text/plain": [
       "<user>                                                                                                 9246\n",
       "<url>                                                                                                  8083\n",
       "<num>                                                                                                   640\n",
       "<>                                                                                                        3\n",
       "< url >                                                                                                   2\n",
       "<- <url>                                                                                                  1\n",
       "<3 check out <url>                                                                                        1\n",
       "<<url>                                                                                                    1\n",
       "<input id=\"password\" ..snip.. maxlength=\"6\">                                                              1\n",
       "<<# lwt<o>                                                                                                1\n",
       "< marshmello looks so adorable, and lele looks so beautiful. both of you two mesmerizing me. <user>       1\n",
       "<= <num>                                                                                                  1\n",
       "<confidential assignment>                                                                                 1\n",
       "<facepalm>                                                                                                1\n",
       "<3 <url>                                                                                                  1\n",
       "dtype: int64"
      ]
     },
     "execution_count": 108,
     "metadata": {},
     "output_type": "execute_result"
    }
   ],
   "source": [
    "print('Most common special tags:')\n",
    "all_special_tags.value_counts()"
   ]
  },
  {
   "cell_type": "code",
   "execution_count": 148,
   "id": "0a17562e-d789-4ec8-be42-fea163b0327f",
   "metadata": {},
   "outputs": [
    {
     "name": "stdout",
     "output_type": "stream",
     "text": [
      "Correlation of number of special tags with the target label (\"Sarcastic\"): 0.016877533604066432\n"
     ]
    }
   ],
   "source": [
    "print('Correlation of number of special tags with the target label (\"Sarcastic\"): {}'\n",
    "      .format(special_tags.apply(len).corr(train_df['Sarcastic'])))"
   ]
  },
  {
   "cell_type": "markdown",
   "id": "dbda76ef-d0d7-4b82-b066-2695c325b16e",
   "metadata": {},
   "source": [
    "### Hashtags"
   ]
  },
  {
   "cell_type": "code",
   "execution_count": 121,
   "id": "f1308975-1ecd-4e8e-ab14-21222503455e",
   "metadata": {},
   "outputs": [
    {
     "data": {
      "text/plain": [
       "0    [funny, funny, funnyquotes, hilariousquotes, h...\n",
       "1                                   [creativethinking]\n",
       "2                                                   []\n",
       "3                                                   []\n",
       "4                                                [lol]\n",
       "Name: Text, dtype: object"
      ]
     },
     "execution_count": 121,
     "metadata": {},
     "output_type": "execute_result"
    }
   ],
   "source": [
    "HASHTAG_REGEX_PATTERN = r'# (\\w+)'\n",
    "\n",
    "hashtags = extract_regex_matches(HASHTAG_REGEX_PATTERN, train_df)\n",
    "hashtags.head()"
   ]
  },
  {
   "cell_type": "code",
   "execution_count": 123,
   "id": "33def8ec-966d-4a34-bf09-58a0b4c9d1d6",
   "metadata": {},
   "outputs": [
    {
     "name": "stdout",
     "output_type": "stream",
     "text": [
      "Found 15 unique hashtags out of total 44066:\n"
     ]
    },
    {
     "data": {
      "text/plain": [
       "array(['funny', 'funnyquotes', 'hilariousquotes', ...,\n",
       "       'olsenwpmoychallenge', 'gocamels', 'lgbtqiap'], dtype=object)"
      ]
     },
     "execution_count": 123,
     "metadata": {},
     "output_type": "execute_result"
    }
   ],
   "source": [
    "all_hashtags, unique_hashtags = flatten_and_unique(hashtags, 'hashtags')\n",
    "unique_hashtags"
   ]
  },
  {
   "cell_type": "code",
   "execution_count": 125,
   "id": "7bb23f37-0b43-4d8f-a473-e12fa9dc9c96",
   "metadata": {},
   "outputs": [
    {
     "name": "stdout",
     "output_type": "stream",
     "text": [
      "20 most common hashtags:\n"
     ]
    },
    {
     "data": {
      "text/plain": [
       "funny            1722\n",
       "lol              1005\n",
       "humor            1004\n",
       "humour            681\n",
       "memes             420\n",
       "witticismsrus     407\n",
       "meme              383\n",
       "funnyquotes       380\n",
       "jokes             366\n",
       "joke              306\n",
       "womensmarch       273\n",
       "funnysayings      269\n",
       "exgag             268\n",
       "relatable         267\n",
       "comedy            243\n",
       "fun               242\n",
       "funnygift         235\n",
       "hilarious         232\n",
       "goldenglobes      223\n",
       "quotes            210\n",
       "dtype: int64"
      ]
     },
     "execution_count": 125,
     "metadata": {},
     "output_type": "execute_result"
    }
   ],
   "source": [
    "top_n = 20\n",
    "print('{} most common hashtags:'.format(top_n))\n",
    "all_hashtags.value_counts()[:top_n]"
   ]
  },
  {
   "cell_type": "code",
   "execution_count": 145,
   "id": "78c07b8f-afa8-400a-ad13-7200577c7e91",
   "metadata": {},
   "outputs": [
    {
     "name": "stdout",
     "output_type": "stream",
     "text": [
      "Correlation of number of hashtags with the target label (\"Sarcastic\"): 0.42931976390627097\n"
     ]
    }
   ],
   "source": [
    "print('Correlation of number of hashtags with the target label (\"Sarcastic\"): {}'\n",
    "      .format(hashtags.apply(len).corr(train_df['Sarcastic'])))"
   ]
  },
  {
   "cell_type": "markdown",
   "id": "0b8d4e5f-8fbc-4117-b617-d8b75a5b402b",
   "metadata": {},
   "source": [
    "### Emojis"
   ]
  },
  {
   "cell_type": "code",
   "execution_count": 126,
   "id": "61e92605-6ce8-409c-9b20-f9fbc5432e95",
   "metadata": {},
   "outputs": [
    {
     "data": {
      "text/plain": [
       "0    []\n",
       "1    []\n",
       "2    []\n",
       "3    []\n",
       "4    []\n",
       "Name: Text, dtype: object"
      ]
     },
     "execution_count": 126,
     "metadata": {},
     "output_type": "execute_result"
    }
   ],
   "source": [
    "EMOJI_REGEX_PATTERN = r'(emoji_\\w+)'\n",
    "\n",
    "emojis = extract_regex_matches(EMOJI_REGEX_PATTERN, train_df)\n",
    "emojis.head()"
   ]
  },
  {
   "cell_type": "code",
   "execution_count": 132,
   "id": "74b819da-e9f7-4afd-a8e6-4920d5834f15",
   "metadata": {},
   "outputs": [
    {
     "name": "stdout",
     "output_type": "stream",
     "text": [
      "Found 15 unique emojis out of total 9973:\n"
     ]
    },
    {
     "data": {
      "text/plain": [
       "array(['emoji_689', 'emoji_156', 'emoji_3762', ..., 'emoji_6790',\n",
       "       'emoji_1798', 'emoji_7810'], dtype=object)"
      ]
     },
     "execution_count": 132,
     "metadata": {},
     "output_type": "execute_result"
    }
   ],
   "source": [
    "all_emojis, unique_emojis = flatten_and_unique(emojis, 'emojis')\n",
    "unique_emojis"
   ]
  },
  {
   "cell_type": "code",
   "execution_count": 133,
   "id": "3513cbe0-e4c7-4838-a5ec-c3ad750159f1",
   "metadata": {},
   "outputs": [
    {
     "name": "stdout",
     "output_type": "stream",
     "text": [
      "20 most common emojis:\n"
     ]
    },
    {
     "data": {
      "text/plain": [
       "emoji_15      857\n",
       "emoji_19      484\n",
       "emoji_623     374\n",
       "emoji_238     363\n",
       "emoji_2       158\n",
       "emoji_590     131\n",
       "emoji_8       121\n",
       "emoji_3526    120\n",
       "emoji_32      112\n",
       "emoji_53      110\n",
       "emoji_156     106\n",
       "emoji_1495    102\n",
       "emoji_958      96\n",
       "emoji_1486     89\n",
       "emoji_70       78\n",
       "emoji_744      78\n",
       "emoji_202      77\n",
       "emoji_92       71\n",
       "emoji_1930     71\n",
       "emoji_381      66\n",
       "dtype: int64"
      ]
     },
     "execution_count": 133,
     "metadata": {},
     "output_type": "execute_result"
    }
   ],
   "source": [
    "top_n = 20\n",
    "print('{} most common emojis:'.format(top_n))\n",
    "all_emojis.value_counts()[:top_n]"
   ]
  },
  {
   "cell_type": "code",
   "execution_count": 147,
   "id": "25442c2a-9e9b-4387-8a12-794cc46a3aff",
   "metadata": {},
   "outputs": [
    {
     "name": "stdout",
     "output_type": "stream",
     "text": [
      "Correlation of number of emojis with the target label (\"Sarcastic\"): -0.04870704633071883\n"
     ]
    }
   ],
   "source": [
    "print('Correlation of number of emojis with the target label (\"Sarcastic\"): {}'\n",
    "      .format(emojis.apply(len).corr(train_df['Sarcastic'])))"
   ]
  },
  {
   "cell_type": "markdown",
   "id": "4ca8539d-8ca3-49ac-9cde-87c8bf3ba5af",
   "metadata": {},
   "source": [
    "### Words"
   ]
  },
  {
   "cell_type": "code",
   "execution_count": 197,
   "id": "d7edebb8-0730-4bb6-92db-513d049e3704",
   "metadata": {},
   "outputs": [
    {
     "data": {
      "text/plain": [
       "#         10866\n",
       ".          4678\n",
       "           4489\n",
       "<url>      3900\n",
       "the        3287\n",
       "<user>     3114\n",
       ",          3049\n",
       "!          2871\n",
       "i          2632\n",
       "to         2456\n",
       "a          2391\n",
       "funny      2211\n",
       "is         1937\n",
       "…          1910\n",
       "this       1843\n",
       "of         1800\n",
       "you        1761\n",
       "for        1668\n",
       "in         1478\n",
       "and        1478\n",
       "?          1455\n",
       "...        1391\n",
       "it         1353\n",
       "my         1230\n",
       ":          1166\n",
       "'s         1166\n",
       "lol        1129\n",
       "humor      1078\n",
       "that       1021\n",
       "on          985\n",
       "dtype: int64"
      ]
     },
     "execution_count": 197,
     "metadata": {},
     "output_type": "execute_result"
    }
   ],
   "source": [
    "words[train_df['Sarcastic']].apply(pd.unique).apply(pd.Series).stack().value_counts()[:30]"
   ]
  },
  {
   "cell_type": "markdown",
   "id": "f8d2a1ff-467d-4042-b270-8550250a00b2",
   "metadata": {},
   "source": [
    "### Baseline ideas"
   ]
  },
  {
   "cell_type": "code",
   "execution_count": 160,
   "id": "25b7db06-5266-45a7-9ab8-17a52c32b373",
   "metadata": {},
   "outputs": [
    {
     "data": {
      "text/plain": [
       "0.7176997245179063"
      ]
     },
     "execution_count": 160,
     "metadata": {},
     "output_type": "execute_result"
    }
   ],
   "source": [
    "from sklearn.metrics import accuracy_score\n",
    "\n",
    "accuracy_score((hashtags.apply(len) > 0), train_df['Sarcastic'])"
   ]
  },
  {
   "cell_type": "code",
   "execution_count": 174,
   "id": "b8cd8984-9f96-4996-995d-556bd8ba86a4",
   "metadata": {},
   "outputs": [
    {
     "name": "stdout",
     "output_type": "stream",
     "text": [
      "Found 2410 lines in \"../../data/text_data/train.txt\".\n",
      "Successfully loaded 2410 data points from \"../../data/text_data/valid.txt\".\n",
      "<class 'pandas.core.frame.DataFrame'>\n",
      "RangeIndex: 2410 entries, 0 to 2409\n",
      "Data columns (total 4 columns):\n",
      " #   Column       Non-Null Count  Dtype \n",
      "---  ------       --------------  ----- \n",
      " 0   ID           2410 non-null   int64 \n",
      " 1   Text         2410 non-null   object\n",
      " 2   Sarcastic    2410 non-null   bool  \n",
      " 3   Sarcastic_1  2410 non-null   int64 \n",
      "dtypes: bool(1), int64(2), object(1)\n",
      "memory usage: 59.0+ KB\n"
     ]
    },
    {
     "data": {
      "text/plain": [
       "87"
      ]
     },
     "execution_count": 174,
     "metadata": {},
     "output_type": "execute_result"
    }
   ],
   "source": [
    "valid_df = construct_df(load_data_lists('../../data/text_data/valid.txt'), COLUMN_NAMES + ['Sarcastic_1'])\n",
    "\n",
    "valid_df.info()\n",
    "\n",
    "(valid_df['Sarcastic'] != valid_df['Sarcastic_1']).sum() "
   ]
  },
  {
   "cell_type": "code",
   "execution_count": 175,
   "id": "4a670ab0-c4cc-441b-a8c7-3e479743e75f",
   "metadata": {},
   "outputs": [
    {
     "name": "stdout",
     "output_type": "stream",
     "text": [
      "0.6481327800829876\n",
      "0.6344398340248962\n"
     ]
    }
   ],
   "source": [
    "valid_hashtags = extract_regex_matches(HASHTAG_REGEX_PATTERN, valid_df)\n",
    "\n",
    "print(accuracy_score((valid_hashtags.apply(len) > 0), valid_df['Sarcastic']))\n",
    "print(accuracy_score((valid_hashtags.apply(len) > 0), valid_df['Sarcastic_1']))"
   ]
  },
  {
   "cell_type": "code",
   "execution_count": 176,
   "id": "498caa0d-6fc8-4480-b6ba-8696609e98f4",
   "metadata": {},
   "outputs": [
    {
     "name": "stdout",
     "output_type": "stream",
     "text": [
      "Found 2409 lines in \"../../data/text_data/train.txt\".\n",
      "Successfully loaded 2409 data points from \"../../data/text_data/test.txt\".\n",
      "<class 'pandas.core.frame.DataFrame'>\n",
      "RangeIndex: 2409 entries, 0 to 2408\n",
      "Data columns (total 4 columns):\n",
      " #   Column       Non-Null Count  Dtype \n",
      "---  ------       --------------  ----- \n",
      " 0   ID           2409 non-null   int64 \n",
      " 1   Text         2409 non-null   object\n",
      " 2   Sarcastic    2409 non-null   bool  \n",
      " 3   Sarcastic_1  2409 non-null   int64 \n",
      "dtypes: bool(1), int64(2), object(1)\n",
      "memory usage: 58.9+ KB\n"
     ]
    },
    {
     "data": {
      "text/plain": [
       "144"
      ]
     },
     "execution_count": 176,
     "metadata": {},
     "output_type": "execute_result"
    }
   ],
   "source": [
    "test_df = construct_df(load_data_lists('../../data/text_data/test.txt'), COLUMN_NAMES + ['Sarcastic_1'])\n",
    "\n",
    "test_df.info()\n",
    "\n",
    "(test_df['Sarcastic'] != test_df['Sarcastic_1']).sum() "
   ]
  },
  {
   "cell_type": "code",
   "execution_count": 177,
   "id": "a7d1b344-0288-445e-b0ff-88d4dd04b6b9",
   "metadata": {},
   "outputs": [
    {
     "name": "stdout",
     "output_type": "stream",
     "text": [
      "0.6608551266085513\n",
      "0.6359485263594853\n"
     ]
    }
   ],
   "source": [
    "test_hashtags = extract_regex_matches(HASHTAG_REGEX_PATTERN, test_df)\n",
    "\n",
    "print(accuracy_score((test_hashtags.apply(len) > 0), test_df['Sarcastic']))\n",
    "print(accuracy_score((test_hashtags.apply(len) > 0), test_df['Sarcastic_1']))"
   ]
  },
  {
   "cell_type": "code",
   "execution_count": null,
   "id": "5f47e0fe-f191-43f1-8d17-293863c8ccb4",
   "metadata": {},
   "outputs": [],
   "source": []
  }
 ],
 "metadata": {
  "kernelspec": {
   "display_name": "Python 3 (ipykernel)",
   "language": "python",
   "name": "python3"
  },
  "language_info": {
   "codemirror_mode": {
    "name": "ipython",
    "version": 3
   },
   "file_extension": ".py",
   "mimetype": "text/x-python",
   "name": "python",
   "nbconvert_exporter": "python",
   "pygments_lexer": "ipython3",
   "version": "3.9.7"
  }
 },
 "nbformat": 4,
 "nbformat_minor": 5
}
